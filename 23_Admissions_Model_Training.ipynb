{
 "cells": [
  {
   "cell_type": "markdown",
   "metadata": {},
   "source": [
    "# 23. GRADUATE ADMISSION: MODEL TRAINING 1\n",
    "---"
   ]
  },
  {
   "cell_type": "markdown",
   "metadata": {},
   "source": [
    "## 1. Presenting Our Objectives\n",
    "\n",
    "- We will training 4 different models to find the best:\n",
    "    - OLS Linear Regression\n",
    "    - ElasticNet Linear Regression\n",
    "    - K-Nearest Neighbors Regression\n",
    "    - Random Forest Regression\n",
    "    \n",
    "- We will build prediction models in 2 different ways:\n",
    "    - Manual: design one feature that will be used for a univariate model\n",
    "    - Traditional: design models as it is usually done (train all features and see the results)\n",
    "    \n",
    "- We will work on 3 different variations of our data\n",
    "    - Data 1: No changes to the dataset\n",
    "    - Data 2: Continuous features are discretized (binned)\n",
    "    - Data 3: Remove target outliers and \n",
    "        - bin continous features if `Data 2` were better than `Data 1`, \n",
    "        - no binning if `Data 2` were worse than `Data 1`\n",
    "        \n",
    "- We could end up training 3x2x4=`24 variations of models`\n",
    "\n",
    "## 2. Introducing the Data\n",
    "#### `No changes to the dataset`"
   ]
  },
  {
   "cell_type": "code",
   "execution_count": null,
   "metadata": {},
   "outputs": [],
   "source": []
  }
 ],
 "metadata": {
  "kernelspec": {
   "display_name": "Python 3",
   "language": "python",
   "name": "python3"
  },
  "language_info": {
   "codemirror_mode": {
    "name": "ipython",
    "version": 3
   },
   "file_extension": ".py",
   "mimetype": "text/x-python",
   "name": "python",
   "nbconvert_exporter": "python",
   "pygments_lexer": "ipython3",
   "version": "3.7.7"
  }
 },
 "nbformat": 4,
 "nbformat_minor": 4
}
