{
 "cells": [
  {
   "cell_type": "markdown",
   "metadata": {},
   "source": [
    "# 15. AMES HOUSING: FEATURE ENGINEERING\n",
    "---"
   ]
  },
  {
   "cell_type": "markdown",
   "metadata": {},
   "source": [
    "The goal of this chapter is to:\n",
    "- deal with missing values\n",
    "- create new features\n",
    "- scale numerical features\n",
    "- encode categorical features\n",
    "- create a preprocessing pipeline ready for model testing\n",
    "\n",
    "## 1. Introducing the Data"
   ]
  },
  {
   "cell_type": "code",
   "execution_count": 1,
   "metadata": {},
   "outputs": [
    {
     "name": "stdout",
     "output_type": "stream",
     "text": [
      "(2344, 80)\n"
     ]
    },
    {
     "data": {
      "text/html": [
       "<div>\n",
       "<style scoped>\n",
       "    .dataframe tbody tr th:only-of-type {\n",
       "        vertical-align: middle;\n",
       "    }\n",
       "\n",
       "    .dataframe tbody tr th {\n",
       "        vertical-align: top;\n",
       "    }\n",
       "\n",
       "    .dataframe thead th {\n",
       "        text-align: right;\n",
       "    }\n",
       "</style>\n",
       "<table border=\"1\" class=\"dataframe\">\n",
       "  <thead>\n",
       "    <tr style=\"text-align: right;\">\n",
       "      <th></th>\n",
       "      <th>MS SubClass</th>\n",
       "      <th>MS Zoning</th>\n",
       "      <th>Lot Frontage</th>\n",
       "      <th>Lot Area</th>\n",
       "      <th>Street</th>\n",
       "      <th>Alley</th>\n",
       "      <th>Lot Shape</th>\n",
       "      <th>Land Contour</th>\n",
       "      <th>Utilities</th>\n",
       "      <th>Lot Config</th>\n",
       "      <th>Land Slope</th>\n",
       "      <th>Neighborhood</th>\n",
       "      <th>Condition 1</th>\n",
       "      <th>Condition 2</th>\n",
       "      <th>Bldg Type</th>\n",
       "      <th>House Style</th>\n",
       "      <th>Overall Qual</th>\n",
       "      <th>Overall Cond</th>\n",
       "      <th>Year Built</th>\n",
       "      <th>Year Remod/Add</th>\n",
       "      <th>Roof Style</th>\n",
       "      <th>Roof Matl</th>\n",
       "      <th>Exterior 1st</th>\n",
       "      <th>Exterior 2nd</th>\n",
       "      <th>Mas Vnr Type</th>\n",
       "      <th>Mas Vnr Area</th>\n",
       "      <th>Exter Qual</th>\n",
       "      <th>Exter Cond</th>\n",
       "      <th>Foundation</th>\n",
       "      <th>Bsmt Qual</th>\n",
       "      <th>Bsmt Cond</th>\n",
       "      <th>Bsmt Exposure</th>\n",
       "      <th>BsmtFin Type 1</th>\n",
       "      <th>BsmtFin SF 1</th>\n",
       "      <th>BsmtFin Type 2</th>\n",
       "      <th>BsmtFin SF 2</th>\n",
       "      <th>Bsmt Unf SF</th>\n",
       "      <th>Total Bsmt SF</th>\n",
       "      <th>Heating</th>\n",
       "      <th>Heating QC</th>\n",
       "      <th>Central Air</th>\n",
       "      <th>Electrical</th>\n",
       "      <th>1st Flr SF</th>\n",
       "      <th>2nd Flr SF</th>\n",
       "      <th>Low Qual Fin SF</th>\n",
       "      <th>Gr Liv Area</th>\n",
       "      <th>Bsmt Full Bath</th>\n",
       "      <th>Bsmt Half Bath</th>\n",
       "      <th>Full Bath</th>\n",
       "      <th>Half Bath</th>\n",
       "      <th>Bedroom AbvGr</th>\n",
       "      <th>Kitchen AbvGr</th>\n",
       "      <th>Kitchen Qual</th>\n",
       "      <th>TotRms AbvGrd</th>\n",
       "      <th>Functional</th>\n",
       "      <th>Fireplaces</th>\n",
       "      <th>Fireplace Qu</th>\n",
       "      <th>Garage Type</th>\n",
       "      <th>Garage Yr Blt</th>\n",
       "      <th>Garage Finish</th>\n",
       "      <th>Garage Cars</th>\n",
       "      <th>Garage Area</th>\n",
       "      <th>Garage Qual</th>\n",
       "      <th>Garage Cond</th>\n",
       "      <th>Paved Drive</th>\n",
       "      <th>Wood Deck SF</th>\n",
       "      <th>Open Porch SF</th>\n",
       "      <th>Enclosed Porch</th>\n",
       "      <th>3Ssn Porch</th>\n",
       "      <th>Screen Porch</th>\n",
       "      <th>Pool Area</th>\n",
       "      <th>Pool QC</th>\n",
       "      <th>Fence</th>\n",
       "      <th>Misc Feature</th>\n",
       "      <th>Misc Val</th>\n",
       "      <th>Mo Sold</th>\n",
       "      <th>Yr Sold</th>\n",
       "      <th>Sale Type</th>\n",
       "      <th>Sale Condition</th>\n",
       "      <th>SalePrice</th>\n",
       "    </tr>\n",
       "  </thead>\n",
       "  <tbody>\n",
       "    <tr>\n",
       "      <th>0</th>\n",
       "      <td>20</td>\n",
       "      <td>RL</td>\n",
       "      <td>80.0</td>\n",
       "      <td>10400.0</td>\n",
       "      <td>Pave</td>\n",
       "      <td>NaN</td>\n",
       "      <td>Reg</td>\n",
       "      <td>Lvl</td>\n",
       "      <td>AllPub</td>\n",
       "      <td>Inside</td>\n",
       "      <td>Gtl</td>\n",
       "      <td>NWAmes</td>\n",
       "      <td>Norm</td>\n",
       "      <td>Norm</td>\n",
       "      <td>1Fam</td>\n",
       "      <td>1Story</td>\n",
       "      <td>7</td>\n",
       "      <td>5</td>\n",
       "      <td>1976</td>\n",
       "      <td>1976</td>\n",
       "      <td>Gable</td>\n",
       "      <td>CompShg</td>\n",
       "      <td>HdBoard</td>\n",
       "      <td>HdBoard</td>\n",
       "      <td>BrkFace</td>\n",
       "      <td>189.0</td>\n",
       "      <td>TA</td>\n",
       "      <td>TA</td>\n",
       "      <td>CBlock</td>\n",
       "      <td>Gd</td>\n",
       "      <td>TA</td>\n",
       "      <td>No</td>\n",
       "      <td>Unf</td>\n",
       "      <td>0.0</td>\n",
       "      <td>Unf</td>\n",
       "      <td>0.0</td>\n",
       "      <td>1090.0</td>\n",
       "      <td>1090.0</td>\n",
       "      <td>GasA</td>\n",
       "      <td>TA</td>\n",
       "      <td>Y</td>\n",
       "      <td>SBrkr</td>\n",
       "      <td>1370.0</td>\n",
       "      <td>0.0</td>\n",
       "      <td>0.0</td>\n",
       "      <td>1370.0</td>\n",
       "      <td>0.0</td>\n",
       "      <td>0.0</td>\n",
       "      <td>2</td>\n",
       "      <td>0</td>\n",
       "      <td>3</td>\n",
       "      <td>1</td>\n",
       "      <td>TA</td>\n",
       "      <td>6</td>\n",
       "      <td>Typ</td>\n",
       "      <td>1</td>\n",
       "      <td>TA</td>\n",
       "      <td>Attchd</td>\n",
       "      <td>1976.0</td>\n",
       "      <td>RFn</td>\n",
       "      <td>2.0</td>\n",
       "      <td>479.0</td>\n",
       "      <td>TA</td>\n",
       "      <td>TA</td>\n",
       "      <td>Y</td>\n",
       "      <td>0.0</td>\n",
       "      <td>0.0</td>\n",
       "      <td>0.0</td>\n",
       "      <td>0.0</td>\n",
       "      <td>0.0</td>\n",
       "      <td>0.0</td>\n",
       "      <td>NaN</td>\n",
       "      <td>MnPrv</td>\n",
       "      <td>NaN</td>\n",
       "      <td>0.0</td>\n",
       "      <td>6</td>\n",
       "      <td>2009</td>\n",
       "      <td>WD</td>\n",
       "      <td>Family</td>\n",
       "      <td>152000.0</td>\n",
       "    </tr>\n",
       "    <tr>\n",
       "      <th>1</th>\n",
       "      <td>60</td>\n",
       "      <td>RL</td>\n",
       "      <td>NaN</td>\n",
       "      <td>28698.0</td>\n",
       "      <td>Pave</td>\n",
       "      <td>NaN</td>\n",
       "      <td>IR2</td>\n",
       "      <td>Low</td>\n",
       "      <td>AllPub</td>\n",
       "      <td>CulDSac</td>\n",
       "      <td>Sev</td>\n",
       "      <td>ClearCr</td>\n",
       "      <td>Norm</td>\n",
       "      <td>Norm</td>\n",
       "      <td>1Fam</td>\n",
       "      <td>2Story</td>\n",
       "      <td>5</td>\n",
       "      <td>5</td>\n",
       "      <td>1967</td>\n",
       "      <td>1967</td>\n",
       "      <td>Flat</td>\n",
       "      <td>Tar&amp;Grv</td>\n",
       "      <td>Plywood</td>\n",
       "      <td>Plywood</td>\n",
       "      <td>None</td>\n",
       "      <td>0.0</td>\n",
       "      <td>TA</td>\n",
       "      <td>TA</td>\n",
       "      <td>PConc</td>\n",
       "      <td>TA</td>\n",
       "      <td>Gd</td>\n",
       "      <td>Gd</td>\n",
       "      <td>LwQ</td>\n",
       "      <td>249.0</td>\n",
       "      <td>ALQ</td>\n",
       "      <td>764.0</td>\n",
       "      <td>0.0</td>\n",
       "      <td>1013.0</td>\n",
       "      <td>GasA</td>\n",
       "      <td>TA</td>\n",
       "      <td>Y</td>\n",
       "      <td>SBrkr</td>\n",
       "      <td>1160.0</td>\n",
       "      <td>966.0</td>\n",
       "      <td>0.0</td>\n",
       "      <td>2126.0</td>\n",
       "      <td>0.0</td>\n",
       "      <td>1.0</td>\n",
       "      <td>2</td>\n",
       "      <td>1</td>\n",
       "      <td>3</td>\n",
       "      <td>1</td>\n",
       "      <td>TA</td>\n",
       "      <td>7</td>\n",
       "      <td>Min2</td>\n",
       "      <td>0</td>\n",
       "      <td>NaN</td>\n",
       "      <td>Attchd</td>\n",
       "      <td>1967.0</td>\n",
       "      <td>Fin</td>\n",
       "      <td>2.0</td>\n",
       "      <td>538.0</td>\n",
       "      <td>TA</td>\n",
       "      <td>TA</td>\n",
       "      <td>Y</td>\n",
       "      <td>486.0</td>\n",
       "      <td>0.0</td>\n",
       "      <td>0.0</td>\n",
       "      <td>0.0</td>\n",
       "      <td>225.0</td>\n",
       "      <td>0.0</td>\n",
       "      <td>NaN</td>\n",
       "      <td>NaN</td>\n",
       "      <td>NaN</td>\n",
       "      <td>0.0</td>\n",
       "      <td>6</td>\n",
       "      <td>2009</td>\n",
       "      <td>WD</td>\n",
       "      <td>Abnorml</td>\n",
       "      <td>185000.0</td>\n",
       "    </tr>\n",
       "    <tr>\n",
       "      <th>2</th>\n",
       "      <td>90</td>\n",
       "      <td>RL</td>\n",
       "      <td>70.0</td>\n",
       "      <td>9842.0</td>\n",
       "      <td>Pave</td>\n",
       "      <td>NaN</td>\n",
       "      <td>Reg</td>\n",
       "      <td>Lvl</td>\n",
       "      <td>AllPub</td>\n",
       "      <td>FR2</td>\n",
       "      <td>Gtl</td>\n",
       "      <td>NAmes</td>\n",
       "      <td>Norm</td>\n",
       "      <td>Norm</td>\n",
       "      <td>Duplex</td>\n",
       "      <td>1Story</td>\n",
       "      <td>4</td>\n",
       "      <td>5</td>\n",
       "      <td>1962</td>\n",
       "      <td>1962</td>\n",
       "      <td>Gable</td>\n",
       "      <td>CompShg</td>\n",
       "      <td>HdBoard</td>\n",
       "      <td>HdBoard</td>\n",
       "      <td>None</td>\n",
       "      <td>0.0</td>\n",
       "      <td>TA</td>\n",
       "      <td>TA</td>\n",
       "      <td>Slab</td>\n",
       "      <td>NaN</td>\n",
       "      <td>NaN</td>\n",
       "      <td>NaN</td>\n",
       "      <td>NaN</td>\n",
       "      <td>0.0</td>\n",
       "      <td>NaN</td>\n",
       "      <td>0.0</td>\n",
       "      <td>0.0</td>\n",
       "      <td>0.0</td>\n",
       "      <td>GasA</td>\n",
       "      <td>TA</td>\n",
       "      <td>Y</td>\n",
       "      <td>SBrkr</td>\n",
       "      <td>1224.0</td>\n",
       "      <td>0.0</td>\n",
       "      <td>0.0</td>\n",
       "      <td>1224.0</td>\n",
       "      <td>0.0</td>\n",
       "      <td>0.0</td>\n",
       "      <td>2</td>\n",
       "      <td>0</td>\n",
       "      <td>2</td>\n",
       "      <td>2</td>\n",
       "      <td>TA</td>\n",
       "      <td>6</td>\n",
       "      <td>Typ</td>\n",
       "      <td>0</td>\n",
       "      <td>NaN</td>\n",
       "      <td>CarPort</td>\n",
       "      <td>1962.0</td>\n",
       "      <td>Unf</td>\n",
       "      <td>2.0</td>\n",
       "      <td>462.0</td>\n",
       "      <td>TA</td>\n",
       "      <td>TA</td>\n",
       "      <td>Y</td>\n",
       "      <td>0.0</td>\n",
       "      <td>0.0</td>\n",
       "      <td>0.0</td>\n",
       "      <td>0.0</td>\n",
       "      <td>0.0</td>\n",
       "      <td>0.0</td>\n",
       "      <td>NaN</td>\n",
       "      <td>NaN</td>\n",
       "      <td>NaN</td>\n",
       "      <td>0.0</td>\n",
       "      <td>3</td>\n",
       "      <td>2007</td>\n",
       "      <td>WD</td>\n",
       "      <td>Normal</td>\n",
       "      <td>101800.0</td>\n",
       "    </tr>\n",
       "    <tr>\n",
       "      <th>3</th>\n",
       "      <td>90</td>\n",
       "      <td>RL</td>\n",
       "      <td>60.0</td>\n",
       "      <td>7200.0</td>\n",
       "      <td>Pave</td>\n",
       "      <td>NaN</td>\n",
       "      <td>Reg</td>\n",
       "      <td>Lvl</td>\n",
       "      <td>AllPub</td>\n",
       "      <td>Inside</td>\n",
       "      <td>Gtl</td>\n",
       "      <td>NAmes</td>\n",
       "      <td>Norm</td>\n",
       "      <td>Norm</td>\n",
       "      <td>Duplex</td>\n",
       "      <td>1Story</td>\n",
       "      <td>4</td>\n",
       "      <td>5</td>\n",
       "      <td>1949</td>\n",
       "      <td>1950</td>\n",
       "      <td>Gable</td>\n",
       "      <td>CompShg</td>\n",
       "      <td>BrkFace</td>\n",
       "      <td>Stone</td>\n",
       "      <td>None</td>\n",
       "      <td>0.0</td>\n",
       "      <td>TA</td>\n",
       "      <td>TA</td>\n",
       "      <td>Slab</td>\n",
       "      <td>NaN</td>\n",
       "      <td>NaN</td>\n",
       "      <td>NaN</td>\n",
       "      <td>NaN</td>\n",
       "      <td>0.0</td>\n",
       "      <td>NaN</td>\n",
       "      <td>0.0</td>\n",
       "      <td>0.0</td>\n",
       "      <td>0.0</td>\n",
       "      <td>Wall</td>\n",
       "      <td>Fa</td>\n",
       "      <td>N</td>\n",
       "      <td>FuseF</td>\n",
       "      <td>1040.0</td>\n",
       "      <td>0.0</td>\n",
       "      <td>0.0</td>\n",
       "      <td>1040.0</td>\n",
       "      <td>0.0</td>\n",
       "      <td>0.0</td>\n",
       "      <td>2</td>\n",
       "      <td>0</td>\n",
       "      <td>2</td>\n",
       "      <td>2</td>\n",
       "      <td>TA</td>\n",
       "      <td>6</td>\n",
       "      <td>Typ</td>\n",
       "      <td>0</td>\n",
       "      <td>NaN</td>\n",
       "      <td>Detchd</td>\n",
       "      <td>1956.0</td>\n",
       "      <td>Unf</td>\n",
       "      <td>2.0</td>\n",
       "      <td>420.0</td>\n",
       "      <td>TA</td>\n",
       "      <td>TA</td>\n",
       "      <td>Y</td>\n",
       "      <td>0.0</td>\n",
       "      <td>0.0</td>\n",
       "      <td>0.0</td>\n",
       "      <td>0.0</td>\n",
       "      <td>0.0</td>\n",
       "      <td>0.0</td>\n",
       "      <td>NaN</td>\n",
       "      <td>NaN</td>\n",
       "      <td>NaN</td>\n",
       "      <td>0.0</td>\n",
       "      <td>6</td>\n",
       "      <td>2009</td>\n",
       "      <td>WD</td>\n",
       "      <td>Normal</td>\n",
       "      <td>90000.0</td>\n",
       "    </tr>\n",
       "    <tr>\n",
       "      <th>4</th>\n",
       "      <td>190</td>\n",
       "      <td>RM</td>\n",
       "      <td>63.0</td>\n",
       "      <td>7627.0</td>\n",
       "      <td>Pave</td>\n",
       "      <td>NaN</td>\n",
       "      <td>Reg</td>\n",
       "      <td>Lvl</td>\n",
       "      <td>AllPub</td>\n",
       "      <td>Corner</td>\n",
       "      <td>Gtl</td>\n",
       "      <td>OldTown</td>\n",
       "      <td>Artery</td>\n",
       "      <td>Norm</td>\n",
       "      <td>2fmCon</td>\n",
       "      <td>2Story</td>\n",
       "      <td>4</td>\n",
       "      <td>6</td>\n",
       "      <td>1920</td>\n",
       "      <td>1950</td>\n",
       "      <td>Gable</td>\n",
       "      <td>CompShg</td>\n",
       "      <td>AsbShng</td>\n",
       "      <td>AsbShng</td>\n",
       "      <td>None</td>\n",
       "      <td>0.0</td>\n",
       "      <td>Fa</td>\n",
       "      <td>TA</td>\n",
       "      <td>BrkTil</td>\n",
       "      <td>Fa</td>\n",
       "      <td>Po</td>\n",
       "      <td>No</td>\n",
       "      <td>Unf</td>\n",
       "      <td>0.0</td>\n",
       "      <td>Unf</td>\n",
       "      <td>0.0</td>\n",
       "      <td>600.0</td>\n",
       "      <td>600.0</td>\n",
       "      <td>GasA</td>\n",
       "      <td>Gd</td>\n",
       "      <td>N</td>\n",
       "      <td>SBrkr</td>\n",
       "      <td>1101.0</td>\n",
       "      <td>600.0</td>\n",
       "      <td>0.0</td>\n",
       "      <td>1701.0</td>\n",
       "      <td>0.0</td>\n",
       "      <td>0.0</td>\n",
       "      <td>2</td>\n",
       "      <td>0</td>\n",
       "      <td>4</td>\n",
       "      <td>2</td>\n",
       "      <td>Fa</td>\n",
       "      <td>8</td>\n",
       "      <td>Typ</td>\n",
       "      <td>0</td>\n",
       "      <td>NaN</td>\n",
       "      <td>NaN</td>\n",
       "      <td>NaN</td>\n",
       "      <td>NaN</td>\n",
       "      <td>0.0</td>\n",
       "      <td>0.0</td>\n",
       "      <td>NaN</td>\n",
       "      <td>NaN</td>\n",
       "      <td>N</td>\n",
       "      <td>0.0</td>\n",
       "      <td>0.0</td>\n",
       "      <td>148.0</td>\n",
       "      <td>0.0</td>\n",
       "      <td>0.0</td>\n",
       "      <td>0.0</td>\n",
       "      <td>NaN</td>\n",
       "      <td>NaN</td>\n",
       "      <td>NaN</td>\n",
       "      <td>0.0</td>\n",
       "      <td>10</td>\n",
       "      <td>2009</td>\n",
       "      <td>WD</td>\n",
       "      <td>Normal</td>\n",
       "      <td>94550.0</td>\n",
       "    </tr>\n",
       "  </tbody>\n",
       "</table>\n",
       "</div>"
      ],
      "text/plain": [
       "   MS SubClass MS Zoning  Lot Frontage  Lot Area Street Alley Lot Shape  \\\n",
       "0           20        RL          80.0   10400.0   Pave   NaN       Reg   \n",
       "1           60        RL           NaN   28698.0   Pave   NaN       IR2   \n",
       "2           90        RL          70.0    9842.0   Pave   NaN       Reg   \n",
       "3           90        RL          60.0    7200.0   Pave   NaN       Reg   \n",
       "4          190        RM          63.0    7627.0   Pave   NaN       Reg   \n",
       "\n",
       "  Land Contour Utilities Lot Config Land Slope Neighborhood Condition 1  \\\n",
       "0          Lvl    AllPub     Inside        Gtl       NWAmes        Norm   \n",
       "1          Low    AllPub    CulDSac        Sev      ClearCr        Norm   \n",
       "2          Lvl    AllPub        FR2        Gtl        NAmes        Norm   \n",
       "3          Lvl    AllPub     Inside        Gtl        NAmes        Norm   \n",
       "4          Lvl    AllPub     Corner        Gtl      OldTown      Artery   \n",
       "\n",
       "  Condition 2 Bldg Type House Style  Overall Qual  Overall Cond  Year Built  \\\n",
       "0        Norm      1Fam      1Story             7             5        1976   \n",
       "1        Norm      1Fam      2Story             5             5        1967   \n",
       "2        Norm    Duplex      1Story             4             5        1962   \n",
       "3        Norm    Duplex      1Story             4             5        1949   \n",
       "4        Norm    2fmCon      2Story             4             6        1920   \n",
       "\n",
       "   Year Remod/Add Roof Style Roof Matl Exterior 1st Exterior 2nd Mas Vnr Type  \\\n",
       "0            1976      Gable   CompShg      HdBoard      HdBoard      BrkFace   \n",
       "1            1967       Flat   Tar&Grv      Plywood      Plywood         None   \n",
       "2            1962      Gable   CompShg      HdBoard      HdBoard         None   \n",
       "3            1950      Gable   CompShg      BrkFace        Stone         None   \n",
       "4            1950      Gable   CompShg      AsbShng      AsbShng         None   \n",
       "\n",
       "   Mas Vnr Area Exter Qual Exter Cond Foundation Bsmt Qual Bsmt Cond  \\\n",
       "0         189.0         TA         TA     CBlock        Gd        TA   \n",
       "1           0.0         TA         TA      PConc        TA        Gd   \n",
       "2           0.0         TA         TA       Slab       NaN       NaN   \n",
       "3           0.0         TA         TA       Slab       NaN       NaN   \n",
       "4           0.0         Fa         TA     BrkTil        Fa        Po   \n",
       "\n",
       "  Bsmt Exposure BsmtFin Type 1  BsmtFin SF 1 BsmtFin Type 2  BsmtFin SF 2  \\\n",
       "0            No            Unf           0.0            Unf           0.0   \n",
       "1            Gd            LwQ         249.0            ALQ         764.0   \n",
       "2           NaN            NaN           0.0            NaN           0.0   \n",
       "3           NaN            NaN           0.0            NaN           0.0   \n",
       "4            No            Unf           0.0            Unf           0.0   \n",
       "\n",
       "   Bsmt Unf SF  Total Bsmt SF Heating Heating QC Central Air Electrical  \\\n",
       "0       1090.0         1090.0    GasA         TA           Y      SBrkr   \n",
       "1          0.0         1013.0    GasA         TA           Y      SBrkr   \n",
       "2          0.0            0.0    GasA         TA           Y      SBrkr   \n",
       "3          0.0            0.0    Wall         Fa           N      FuseF   \n",
       "4        600.0          600.0    GasA         Gd           N      SBrkr   \n",
       "\n",
       "   1st Flr SF  2nd Flr SF  Low Qual Fin SF  Gr Liv Area  Bsmt Full Bath  \\\n",
       "0      1370.0         0.0              0.0       1370.0             0.0   \n",
       "1      1160.0       966.0              0.0       2126.0             0.0   \n",
       "2      1224.0         0.0              0.0       1224.0             0.0   \n",
       "3      1040.0         0.0              0.0       1040.0             0.0   \n",
       "4      1101.0       600.0              0.0       1701.0             0.0   \n",
       "\n",
       "   Bsmt Half Bath  Full Bath  Half Bath  Bedroom AbvGr  Kitchen AbvGr  \\\n",
       "0             0.0          2          0              3              1   \n",
       "1             1.0          2          1              3              1   \n",
       "2             0.0          2          0              2              2   \n",
       "3             0.0          2          0              2              2   \n",
       "4             0.0          2          0              4              2   \n",
       "\n",
       "  Kitchen Qual  TotRms AbvGrd Functional  Fireplaces Fireplace Qu Garage Type  \\\n",
       "0           TA              6        Typ           1           TA      Attchd   \n",
       "1           TA              7       Min2           0          NaN      Attchd   \n",
       "2           TA              6        Typ           0          NaN     CarPort   \n",
       "3           TA              6        Typ           0          NaN      Detchd   \n",
       "4           Fa              8        Typ           0          NaN         NaN   \n",
       "\n",
       "   Garage Yr Blt Garage Finish  Garage Cars  Garage Area Garage Qual  \\\n",
       "0         1976.0           RFn          2.0        479.0          TA   \n",
       "1         1967.0           Fin          2.0        538.0          TA   \n",
       "2         1962.0           Unf          2.0        462.0          TA   \n",
       "3         1956.0           Unf          2.0        420.0          TA   \n",
       "4            NaN           NaN          0.0          0.0         NaN   \n",
       "\n",
       "  Garage Cond Paved Drive  Wood Deck SF  Open Porch SF  Enclosed Porch  \\\n",
       "0          TA           Y           0.0            0.0             0.0   \n",
       "1          TA           Y         486.0            0.0             0.0   \n",
       "2          TA           Y           0.0            0.0             0.0   \n",
       "3          TA           Y           0.0            0.0             0.0   \n",
       "4         NaN           N           0.0            0.0           148.0   \n",
       "\n",
       "   3Ssn Porch  Screen Porch  Pool Area Pool QC  Fence Misc Feature  Misc Val  \\\n",
       "0         0.0           0.0        0.0     NaN  MnPrv          NaN       0.0   \n",
       "1         0.0         225.0        0.0     NaN    NaN          NaN       0.0   \n",
       "2         0.0           0.0        0.0     NaN    NaN          NaN       0.0   \n",
       "3         0.0           0.0        0.0     NaN    NaN          NaN       0.0   \n",
       "4         0.0           0.0        0.0     NaN    NaN          NaN       0.0   \n",
       "\n",
       "   Mo Sold  Yr Sold Sale Type Sale Condition  SalePrice  \n",
       "0        6     2009       WD          Family   152000.0  \n",
       "1        6     2009       WD         Abnorml   185000.0  \n",
       "2        3     2007       WD          Normal   101800.0  \n",
       "3        6     2009       WD          Normal    90000.0  \n",
       "4       10     2009       WD          Normal    94550.0  "
      ]
     },
     "execution_count": 1,
     "metadata": {},
     "output_type": "execute_result"
    }
   ],
   "source": [
    "import pandas as pd\n",
    "import numpy as np\n",
    "pd.set_option(\"display.max_columns\", 99)\n",
    "pd.set_option(\"display.max_rows\", 999)\n",
    "pd.set_option('precision', 3)\n",
    "\n",
    "ames = pd.read_csv('data/Ames_Housing1_train')\n",
    "print(ames.shape)\n",
    "ames.head()"
   ]
  },
  {
   "cell_type": "markdown",
   "metadata": {},
   "source": [
    "## 2. Creating a Function Returning Null Columns "
   ]
  },
  {
   "cell_type": "code",
   "execution_count": 2,
   "metadata": {},
   "outputs": [
    {
     "data": {
      "text/plain": [
       "Total Bsmt SF        1\n",
       "Garage Area          1\n",
       "Bsmt Half Bath       1\n",
       "Bsmt Full Bath       1\n",
       "Bsmt Unf SF          1\n",
       "BsmtFin SF 2         1\n",
       "BsmtFin SF 1         1\n",
       "Garage Cars          1\n",
       "Mas Vnr Area        19\n",
       "Mas Vnr Type        19\n",
       "Bsmt Cond           61\n",
       "Bsmt Qual           61\n",
       "BsmtFin Type 1      61\n",
       "BsmtFin Type 2      62\n",
       "Bsmt Exposure       63\n",
       "Garage Type        120\n",
       "Garage Finish      122\n",
       "Garage Qual        122\n",
       "Garage Cond        122\n",
       "Garage Yr Blt      122\n",
       "Lot Frontage       393\n",
       "Fireplace Qu      1144\n",
       "Fence             1874\n",
       "Alley             2182\n",
       "Misc Feature      2250\n",
       "Pool QC           2332\n",
       "dtype: int64"
      ]
     },
     "execution_count": 2,
     "metadata": {},
     "output_type": "execute_result"
    }
   ],
   "source": [
    "def cols_with_nulls(df):\n",
    "    df = df.copy()\n",
    "    null_count = df.isnull().sum()\n",
    "    null = null_count!=0\n",
    "    null_only = df[null_count[null].index]\n",
    "    null_only = null_only.isnull().sum().sort_values()\n",
    "    return null_only\n",
    "\n",
    "ames_nulls = cols_with_nulls(ames)\n",
    "ames_nulls"
   ]
  },
  {
   "cell_type": "markdown",
   "metadata": {},
   "source": [
    "## 3. Dealing with Continuous Missing Values"
   ]
  },
  {
   "cell_type": "code",
   "execution_count": 3,
   "metadata": {},
   "outputs": [
    {
     "data": {
      "text/plain": [
       "BsmtFin SF 1       1\n",
       "BsmtFin SF 2       1\n",
       "Bsmt Unf SF        1\n",
       "Total Bsmt SF      1\n",
       "Garage Area        1\n",
       "Mas Vnr Area      19\n",
       "Lot Frontage     393\n",
       "dtype: int64"
      ]
     },
     "execution_count": 3,
     "metadata": {},
     "output_type": "execute_result"
    }
   ],
   "source": [
    "continuous = ['Lot Frontage', 'Lot Area', 'Mas Vnr Area', 'BsmtFin SF 1', 'BsmtFin SF 2',\n",
    "              'Bsmt Unf SF', 'Total Bsmt SF', '1st Flr SF', '2nd Flr SF', 'Gr Liv Area',\n",
    "              'Garage Area', 'Wood Deck SF', 'Open Porch SF', 'Low Qual Fin SF', 'Enclosed Porch', \n",
    "              '3Ssn Porch', 'Screen Porch', 'Pool Area', 'Misc Val', 'SalePrice']\n",
    "cont_df = ames[continuous].copy()\n",
    "cols_with_nulls(cont_df)"
   ]
  },
  {
   "cell_type": "code",
   "execution_count": 4,
   "metadata": {
    "scrolled": false
   },
   "outputs": [
    {
     "name": "stdout",
     "output_type": "stream",
     "text": [
      "69.2075858534085\n"
     ]
    },
    {
     "data": {
      "text/plain": [
       "MS SubClass\n",
       "20     77.476\n",
       "30     60.874\n",
       "40     53.000\n",
       "45     57.286\n",
       "50     63.883\n",
       "60     78.693\n",
       "70     64.010\n",
       "75     75.789\n",
       "80     78.657\n",
       "85     72.296\n",
       "90     71.425\n",
       "120    44.248\n",
       "150       NaN\n",
       "160    27.556\n",
       "180    27.000\n",
       "190    68.935\n",
       "Name: Lot Frontage, dtype: float64"
      ]
     },
     "execution_count": 4,
     "metadata": {},
     "output_type": "execute_result"
    }
   ],
   "source": [
    "print(ames['Lot Frontage'].mean())\n",
    "ames.groupby(['MS SubClass'])['Lot Frontage'].mean()"
   ]
  },
  {
   "cell_type": "markdown",
   "metadata": {},
   "source": [
    "We want to group by `MS SubClass` and then fill in the mean of the group into missing values. If the group mean doesn't exist, we will fill in the mean of the entire column!"
   ]
  },
  {
   "cell_type": "code",
   "execution_count": 5,
   "metadata": {},
   "outputs": [
    {
     "data": {
      "text/plain": [
       "0"
      ]
     },
     "execution_count": 5,
     "metadata": {},
     "output_type": "execute_result"
    }
   ],
   "source": [
    "cont_miss_cols = ['BsmtFin SF 1', 'BsmtFin SF 2', 'Bsmt Unf SF',\n",
    "                 'Total Bsmt SF', 'Garage Area', 'Mas Vnr Area']\n",
    "for col in cont_miss_cols:\n",
    "    cont_df[col] = cont_df[col].fillna(cont_df[col].mean())\n",
    "    \n",
    "cont_df[cont_miss_cols].isnull().sum().sum()"
   ]
  },
  {
   "cell_type": "code",
   "execution_count": 6,
   "metadata": {},
   "outputs": [
    {
     "data": {
      "text/plain": [
       "0"
      ]
     },
     "execution_count": 6,
     "metadata": {},
     "output_type": "execute_result"
    }
   ],
   "source": [
    "cont_df['Lot Frontage'] = ames.groupby(['MS SubClass'])['Lot Frontage'].apply(\n",
    "lambda x:x.fillna(x.mean()))\n",
    "cont_df['Lot Frontage'] = cont_df['Lot Frontage'].fillna(\n",
    "    cont_df['Lot Frontage'].mean())\n",
    "cont_df['Lot Frontage'].isnull().sum()"
   ]
  },
  {
   "cell_type": "markdown",
   "metadata": {},
   "source": [
    "## 4. Continuous Missing Values Transformers"
   ]
  },
  {
   "cell_type": "code",
   "execution_count": 7,
   "metadata": {},
   "outputs": [],
   "source": [
    "from sklearn.base import BaseEstimator, TransformerMixin\n",
    "\n",
    "class ContMissFiller(BaseEstimator, TransformerMixin):    \n",
    "    def __init__(self):\n",
    "        self    \n",
    "        \n",
    "    def fit(self, df, y = None):               \n",
    "        return self\n",
    "\n",
    "    def transform(self, df):        \n",
    "        df = df.copy()\n",
    "        miss_cols = ['BsmtFin SF 1', 'BsmtFin SF 2', 'Bsmt Unf SF',\n",
    "                 'Total Bsmt SF', 'Garage Area', 'Mas Vnr Area']\n",
    "        for col in miss_cols:\n",
    "            df[col] = df[col].fillna(df[col].mean())        \n",
    "        return df\n",
    "    \n",
    "class LotFrontFiller(BaseEstimator, TransformerMixin):    \n",
    "    def __init__(self):\n",
    "        self    \n",
    "        \n",
    "    def fit(self, df, y = None):               \n",
    "        return self\n",
    "\n",
    "    def transform(self, df):        \n",
    "        df = df.copy()\n",
    "        mean = df['Lot Frontage'].mean()\n",
    "        df['Lot Frontage'] = df.groupby(['MS SubClass'])['Lot Frontage'].apply(\n",
    "            lambda x:x.fillna(x.mean()))\n",
    "        df['Lot Frontage'] = df['Lot Frontage'].fillna(mean)\n",
    "        return df"
   ]
  },
  {
   "cell_type": "code",
   "execution_count": 8,
   "metadata": {},
   "outputs": [
    {
     "name": "stdout",
     "output_type": "stream",
     "text": [
      "0\n"
     ]
    },
    {
     "data": {
      "text/plain": [
       "Series([], dtype: float64)"
      ]
     },
     "execution_count": 8,
     "metadata": {},
     "output_type": "execute_result"
    }
   ],
   "source": [
    "# pipeline and testing\n",
    "from sklearn.pipeline import Pipeline\n",
    "\n",
    "test_pipe1 = Pipeline(steps = [\n",
    "    ('filler1', ContMissFiller()),\n",
    "    ('filler2', LotFrontFiller())\n",
    "])\n",
    "test_df1 = ames[continuous + ['MS SubClass']]\n",
    "test_df1_ = test_pipe1.fit_transform(test_df1)\n",
    "print(test_df1_.isnull().sum().sum())\n",
    "cols_with_nulls(test_df1_)"
   ]
  },
  {
   "cell_type": "markdown",
   "metadata": {},
   "source": [
    "## 5. Dealing with Discrete Missing Values"
   ]
  },
  {
   "cell_type": "code",
   "execution_count": 9,
   "metadata": {},
   "outputs": [
    {
     "data": {
      "text/plain": [
       "Garage Cars         1\n",
       "Bsmt Full Bath      1\n",
       "Bsmt Half Bath      1\n",
       "Garage Yr Blt     122\n",
       "dtype: int64"
      ]
     },
     "execution_count": 9,
     "metadata": {},
     "output_type": "execute_result"
    }
   ],
   "source": [
    "discrete = ['Year Built', 'Year Remod/Add', 'Garage Yr Blt', 'Garage Cars', 'Bsmt Full Bath',\n",
    "           'Bsmt Half Bath', 'Full Bath', 'Half Bath', 'Bedroom AbvGr', 'Kitchen AbvGr',\n",
    "           'TotRms AbvGrd', 'Fireplaces', 'Mo Sold', 'Yr Sold']\n",
    "disc_df = ames[discrete].copy()\n",
    "cols_with_nulls(disc_df)"
   ]
  },
  {
   "cell_type": "markdown",
   "metadata": {},
   "source": [
    "For the 3 columns missing just one value, we can simply fill in the median. But for the `Garage Yr Built`, we can group by house type, `MS SubClass`, and then fill in the median of each class. Let's first see what the data looks like:"
   ]
  },
  {
   "cell_type": "code",
   "execution_count": 10,
   "metadata": {},
   "outputs": [
    {
     "data": {
      "text/html": [
       "<div>\n",
       "<style scoped>\n",
       "    .dataframe tbody tr th:only-of-type {\n",
       "        vertical-align: middle;\n",
       "    }\n",
       "\n",
       "    .dataframe tbody tr th {\n",
       "        vertical-align: top;\n",
       "    }\n",
       "\n",
       "    .dataframe thead th {\n",
       "        text-align: right;\n",
       "    }\n",
       "</style>\n",
       "<table border=\"1\" class=\"dataframe\">\n",
       "  <thead>\n",
       "    <tr style=\"text-align: right;\">\n",
       "      <th></th>\n",
       "      <th>MS_SC_Classes</th>\n",
       "      <th>GYB_median</th>\n",
       "      <th>GYB_Count</th>\n",
       "      <th>GYB_Null_Count</th>\n",
       "      <th>GYB_%Null</th>\n",
       "    </tr>\n",
       "  </thead>\n",
       "  <tbody>\n",
       "    <tr>\n",
       "      <th>0</th>\n",
       "      <td>20</td>\n",
       "      <td>1975</td>\n",
       "      <td>849</td>\n",
       "      <td>22</td>\n",
       "      <td>0.026</td>\n",
       "    </tr>\n",
       "    <tr>\n",
       "      <th>1</th>\n",
       "      <td>30</td>\n",
       "      <td>1938</td>\n",
       "      <td>92</td>\n",
       "      <td>21</td>\n",
       "      <td>0.228</td>\n",
       "    </tr>\n",
       "    <tr>\n",
       "      <th>2</th>\n",
       "      <td>40</td>\n",
       "      <td>1949</td>\n",
       "      <td>5</td>\n",
       "      <td>0</td>\n",
       "      <td>0.000</td>\n",
       "    </tr>\n",
       "    <tr>\n",
       "      <th>3</th>\n",
       "      <td>45</td>\n",
       "      <td>1950</td>\n",
       "      <td>11</td>\n",
       "      <td>3</td>\n",
       "      <td>0.273</td>\n",
       "    </tr>\n",
       "    <tr>\n",
       "      <th>4</th>\n",
       "      <td>50</td>\n",
       "      <td>1950</td>\n",
       "      <td>210</td>\n",
       "      <td>15</td>\n",
       "      <td>0.071</td>\n",
       "    </tr>\n",
       "    <tr>\n",
       "      <th>5</th>\n",
       "      <td>60</td>\n",
       "      <td>1999</td>\n",
       "      <td>445</td>\n",
       "      <td>1</td>\n",
       "      <td>0.002</td>\n",
       "    </tr>\n",
       "    <tr>\n",
       "      <th>6</th>\n",
       "      <td>70</td>\n",
       "      <td>1932</td>\n",
       "      <td>104</td>\n",
       "      <td>8</td>\n",
       "      <td>0.077</td>\n",
       "    </tr>\n",
       "    <tr>\n",
       "      <th>7</th>\n",
       "      <td>75</td>\n",
       "      <td>1941</td>\n",
       "      <td>19</td>\n",
       "      <td>2</td>\n",
       "      <td>0.105</td>\n",
       "    </tr>\n",
       "    <tr>\n",
       "      <th>8</th>\n",
       "      <td>80</td>\n",
       "      <td>1976</td>\n",
       "      <td>94</td>\n",
       "      <td>0</td>\n",
       "      <td>0.000</td>\n",
       "    </tr>\n",
       "    <tr>\n",
       "      <th>9</th>\n",
       "      <td>85</td>\n",
       "      <td>1977</td>\n",
       "      <td>39</td>\n",
       "      <td>2</td>\n",
       "      <td>0.051</td>\n",
       "    </tr>\n",
       "    <tr>\n",
       "      <th>10</th>\n",
       "      <td>90</td>\n",
       "      <td>1976</td>\n",
       "      <td>60</td>\n",
       "      <td>23</td>\n",
       "      <td>0.383</td>\n",
       "    </tr>\n",
       "    <tr>\n",
       "      <th>11</th>\n",
       "      <td>120</td>\n",
       "      <td>2003</td>\n",
       "      <td>151</td>\n",
       "      <td>0</td>\n",
       "      <td>0.000</td>\n",
       "    </tr>\n",
       "    <tr>\n",
       "      <th>12</th>\n",
       "      <td>150</td>\n",
       "      <td>1980</td>\n",
       "      <td>1</td>\n",
       "      <td>0</td>\n",
       "      <td>0.000</td>\n",
       "    </tr>\n",
       "    <tr>\n",
       "      <th>13</th>\n",
       "      <td>160</td>\n",
       "      <td>1982</td>\n",
       "      <td>96</td>\n",
       "      <td>6</td>\n",
       "      <td>0.062</td>\n",
       "    </tr>\n",
       "    <tr>\n",
       "      <th>14</th>\n",
       "      <td>180</td>\n",
       "      <td>1989</td>\n",
       "      <td>12</td>\n",
       "      <td>3</td>\n",
       "      <td>0.250</td>\n",
       "    </tr>\n",
       "    <tr>\n",
       "      <th>15</th>\n",
       "      <td>190</td>\n",
       "      <td>1960</td>\n",
       "      <td>34</td>\n",
       "      <td>16</td>\n",
       "      <td>0.471</td>\n",
       "    </tr>\n",
       "  </tbody>\n",
       "</table>\n",
       "</div>"
      ],
      "text/plain": [
       "    MS_SC_Classes  GYB_median  GYB_Count  GYB_Null_Count  GYB_%Null\n",
       "0              20        1975        849              22      0.026\n",
       "1              30        1938         92              21      0.228\n",
       "2              40        1949          5               0      0.000\n",
       "3              45        1950         11               3      0.273\n",
       "4              50        1950        210              15      0.071\n",
       "5              60        1999        445               1      0.002\n",
       "6              70        1932        104               8      0.077\n",
       "7              75        1941         19               2      0.105\n",
       "8              80        1976         94               0      0.000\n",
       "9              85        1977         39               2      0.051\n",
       "10             90        1976         60              23      0.383\n",
       "11            120        2003        151               0      0.000\n",
       "12            150        1980          1               0      0.000\n",
       "13            160        1982         96               6      0.062\n",
       "14            180        1989         12               3      0.250\n",
       "15            190        1960         34              16      0.471"
      ]
     },
     "execution_count": 10,
     "metadata": {},
     "output_type": "execute_result"
    }
   ],
   "source": [
    "df_GYB = pd.DataFrame()\n",
    "df_GYB['MS_SC_Classes'] = ames.groupby(['MS SubClass'])['Garage Yr Blt'].median().astype(int).index\n",
    "df_GYB['GYB_median'] = ames.groupby(['MS SubClass'])['Garage Yr Blt'].median().astype(int).values\n",
    "df_GYB['GYB_Count'] = ames.groupby(['MS SubClass'])['Garage Yr Blt'].count().values\n",
    "df_GYB['GYB_Null_Count'] = ames['Garage Yr Blt'].isnull().groupby(ames['MS SubClass']).sum().astype(int).values\n",
    "df_GYB['GYB_%Null'] = df_GYB['GYB_Null_Count'] / df_GYB['GYB_Count']\n",
    "df_GYB"
   ]
  },
  {
   "cell_type": "code",
   "execution_count": 11,
   "metadata": {
    "scrolled": true
   },
   "outputs": [
    {
     "name": "stdout",
     "output_type": "stream",
     "text": [
      "1975.5\n",
      "1978.0\n"
     ]
    }
   ],
   "source": [
    "print(df_GYB['GYB_median'].median())\n",
    "print(ames['Garage Yr Blt'].median())"
   ]
  },
  {
   "cell_type": "markdown",
   "metadata": {},
   "source": [
    "- First of all, it's important to notice that the two medians above aren't the same as expected. This is due to the fact that the presence of null values affect the median. \n",
    "- Second, if we were to impute the median of the entire `Garage Yr Blt` column, `1978`, into null values we would be altering the data in a bigger way than if we did by class. For example, look at `MS SubClass=30`. The subclass is missing more than 20% of the values and replacing them with `1978`, the column median, would not be as well as replacing them with `1938`, the subclass median."
   ]
  },
  {
   "cell_type": "code",
   "execution_count": 12,
   "metadata": {},
   "outputs": [
    {
     "name": "stdout",
     "output_type": "stream",
     "text": [
      "1978.0 1977.4296075085324\n",
      "1938.5 1944.4823008849557\n"
     ]
    }
   ],
   "source": [
    "df_1 = ames[['MS SubClass', 'Garage Yr Blt']].copy()\n",
    "df_1a = df_1['Garage Yr Blt'].fillna(df_1['Garage Yr Blt'].median())\n",
    "print(df_1a.median(), df_1a.mean())\n",
    "\n",
    "df_2 = ames[ames['MS SubClass']==30]\n",
    "df_2a = df_2['Garage Yr Blt'].fillna(df_2['Garage Yr Blt'].median())\n",
    "print(df_2a.median(), df_2a.mean())"
   ]
  },
  {
   "cell_type": "markdown",
   "metadata": {},
   "source": [
    "**Fixing missing discrete values**"
   ]
  },
  {
   "cell_type": "code",
   "execution_count": 13,
   "metadata": {},
   "outputs": [
    {
     "data": {
      "text/plain": [
       "0"
      ]
     },
     "execution_count": 13,
     "metadata": {},
     "output_type": "execute_result"
    }
   ],
   "source": [
    "disc_miss_cols = ['Garage Cars', 'Bsmt Full Bath', 'Bsmt Half Bath']\n",
    "for col in disc_miss_cols:\n",
    "    disc_df[col] = disc_df[col].fillna(disc_df[col].median())\n",
    "    disc_df[col] = disc_df[col].astype(int)\n",
    "    \n",
    "disc_df[disc_miss_cols].isnull().sum().sum()"
   ]
  },
  {
   "cell_type": "code",
   "execution_count": 14,
   "metadata": {},
   "outputs": [
    {
     "data": {
      "text/plain": [
       "0"
      ]
     },
     "execution_count": 14,
     "metadata": {},
     "output_type": "execute_result"
    }
   ],
   "source": [
    "disc_df['Garage Yr Blt'] = ames.groupby(['MS SubClass'])['Garage Yr Blt'].apply(\n",
    "    lambda x:x.fillna(x.median()))\n",
    "disc_df['Garage Yr Blt'] = disc_df['Garage Yr Blt'].fillna(\n",
    "    disc_df['Garage Yr Blt'].median())\n",
    "disc_df['Garage Yr Blt'] = disc_df['Garage Yr Blt'].astype(int)\n",
    "\n",
    "disc_df.isnull().sum().sum()"
   ]
  },
  {
   "cell_type": "markdown",
   "metadata": {},
   "source": [
    "## 6. Discrete Missing Values Transfromers\n",
    "Let's now put what we just did into custom transformers so that we can put them in a pipeline"
   ]
  },
  {
   "cell_type": "code",
   "execution_count": 15,
   "metadata": {},
   "outputs": [],
   "source": [
    "class DiscMissFiller(BaseEstimator, TransformerMixin):    \n",
    "    def __init__(self):\n",
    "        self    \n",
    "        \n",
    "    def fit(self, df, y = None):               \n",
    "        return self\n",
    "\n",
    "    def transform(self, df):        \n",
    "        df = df.copy()\n",
    "        miss_cols = ['Garage Cars', 'Bsmt Full Bath', 'Bsmt Half Bath']\n",
    "        for col in miss_cols:\n",
    "            df[col] = df[col].fillna(df[col].median()) \n",
    "            df[col] = df[col].astype(int)\n",
    "        return df\n",
    "    \n",
    "class GYBFiller(BaseEstimator, TransformerMixin):    \n",
    "    def __init__(self):\n",
    "        self    \n",
    "        \n",
    "    def fit(self, df, y = None):               \n",
    "        return self\n",
    "\n",
    "    def transform(self, df):          \n",
    "        df = df.copy()\n",
    "        df['Garage Yr Blt'] = ames.groupby(['MS SubClass'])['Garage Yr Blt'].apply(\n",
    "            lambda x:x.fillna(x.median()))\n",
    "        df['Garage Yr Blt'] = df['Garage Yr Blt'].fillna(\n",
    "            df['Garage Yr Blt'].median())\n",
    "        df['Garage Yr Blt'] = df['Garage Yr Blt'].astype(int)\n",
    "        return df"
   ]
  },
  {
   "cell_type": "markdown",
   "metadata": {},
   "source": [
    "**Let's test our transformers**"
   ]
  },
  {
   "cell_type": "code",
   "execution_count": 16,
   "metadata": {},
   "outputs": [
    {
     "name": "stdout",
     "output_type": "stream",
     "text": [
      "542\n"
     ]
    },
    {
     "data": {
      "text/plain": [
       "0"
      ]
     },
     "execution_count": 16,
     "metadata": {},
     "output_type": "execute_result"
    }
   ],
   "source": [
    "test_pipe2 = Pipeline(steps = [\n",
    "    ('cont_filler1', ContMissFiller()),\n",
    "    ('cont_filler2', LotFrontFiller()),\n",
    "    ('disc_filler1', DiscMissFiller()),\n",
    "    ('disc_filler2', GYBFiller())\n",
    "])\n",
    "test_df2 = ames[continuous + ['MS SubClass'] + discrete]\n",
    "print(test_df2.isnull().sum().sum())\n",
    "test_df2_ = test_pipe2.fit_transform(test_df2)\n",
    "test_df2_.isnull().sum().sum()"
   ]
  },
  {
   "cell_type": "markdown",
   "metadata": {},
   "source": [
    "## 7. Understanding Ordinal Columns' Missing Data"
   ]
  },
  {
   "cell_type": "code",
   "execution_count": 17,
   "metadata": {},
   "outputs": [
    {
     "name": "stdout",
     "output_type": "stream",
     "text": [
      "23\n"
     ]
    },
    {
     "data": {
      "text/plain": [
       "Bsmt Qual           61\n",
       "Bsmt Cond           61\n",
       "BsmtFin Type 1      61\n",
       "BsmtFin Type 2      62\n",
       "Bsmt Exposure       63\n",
       "Garage Finish      122\n",
       "Garage Qual        122\n",
       "Garage Cond        122\n",
       "Fireplace Qu      1144\n",
       "Fence             1874\n",
       "Pool QC           2332\n",
       "dtype: int64"
      ]
     },
     "execution_count": 17,
     "metadata": {},
     "output_type": "execute_result"
    }
   ],
   "source": [
    "ordinal = ['Lot Shape', 'Land Slope', 'Overall Qual', 'Overall Cond', 'Exter Qual', 'Exter Cond',\n",
    "           'Bsmt Qual', 'Bsmt Cond', 'Bsmt Exposure', 'BsmtFin Type 1', 'BsmtFin Type 2', 'Heating QC', \n",
    "           'Kitchen Qual', 'Functional', 'Fireplace Qu', 'Garage Finish', 'Garage Qual', 'Garage Cond',\n",
    "           'Pool QC', 'Central Air', 'Paved Drive', 'Fence', 'Sale Condition']\n",
    "print(len(ordinal))\n",
    "ord_df = ames[ordinal].copy()\n",
    "cols_with_nulls(ord_df)"
   ]
  },
  {
   "cell_type": "code",
   "execution_count": 18,
   "metadata": {},
   "outputs": [
    {
     "data": {
      "text/plain": [
       "TA     1057\n",
       "Gd      970\n",
       "Ex      187\n",
       "Fa       67\n",
       "NaN      61\n",
       "Po        2\n",
       "Name: Bsmt Qual, dtype: int64"
      ]
     },
     "execution_count": 18,
     "metadata": {},
     "output_type": "execute_result"
    }
   ],
   "source": [
    "ames['Bsmt Qual'].value_counts(dropna=False)"
   ]
  },
  {
   "cell_type": "markdown",
   "metadata": {},
   "source": [
    "It is important to understand what the NaN values represent before we fix them. For example, if we look again at our data description, this is what we find on `Bsmt Qual`:\n",
    "- Bsmt Qual: Evaluates the height of the basement\n",
    "    - Ex: Excellent (100+ inches)\n",
    "    - Gd: Good (90-99 inches)\n",
    "    - TA: Typical (80-89 inches)\n",
    "    - Fa: Fair (70-79 inches)\n",
    "    - Po: Poor (<70 inches\n",
    "    - NA: No Basement\n",
    "- This means that we can't do things like replacing missing values here with the most frequent value (`TA`), that would be suggesting that the houses with NA have a typical basement when they actually don't have a basement.\n",
    "- Before we do anything about the missing data, we need to encode our ordinal data into numbers to make it easier for us to understand the information they are giving us.\n",
    "\n",
    "## 8. Likert_Scale-Encoding of Some Ordinal Columns"
   ]
  },
  {
   "cell_type": "code",
   "execution_count": 19,
   "metadata": {},
   "outputs": [
    {
     "data": {
      "text/html": [
       "<div>\n",
       "<style scoped>\n",
       "    .dataframe tbody tr th:only-of-type {\n",
       "        vertical-align: middle;\n",
       "    }\n",
       "\n",
       "    .dataframe tbody tr th {\n",
       "        vertical-align: top;\n",
       "    }\n",
       "\n",
       "    .dataframe thead th {\n",
       "        text-align: right;\n",
       "    }\n",
       "</style>\n",
       "<table border=\"1\" class=\"dataframe\">\n",
       "  <thead>\n",
       "    <tr style=\"text-align: right;\">\n",
       "      <th></th>\n",
       "      <th>Lot Shape</th>\n",
       "      <th>Land Slope</th>\n",
       "      <th>Overall Qual</th>\n",
       "      <th>Overall Cond</th>\n",
       "      <th>Exter Qual</th>\n",
       "      <th>Exter Cond</th>\n",
       "      <th>Bsmt Qual</th>\n",
       "      <th>Bsmt Cond</th>\n",
       "      <th>Bsmt Exposure</th>\n",
       "      <th>BsmtFin Type 1</th>\n",
       "      <th>BsmtFin Type 2</th>\n",
       "      <th>Heating QC</th>\n",
       "      <th>Kitchen Qual</th>\n",
       "      <th>Functional</th>\n",
       "      <th>Fireplace Qu</th>\n",
       "      <th>Garage Finish</th>\n",
       "      <th>Garage Qual</th>\n",
       "      <th>Garage Cond</th>\n",
       "      <th>Pool QC</th>\n",
       "      <th>Central Air</th>\n",
       "      <th>Paved Drive</th>\n",
       "      <th>Fence</th>\n",
       "      <th>Sale Condition</th>\n",
       "    </tr>\n",
       "  </thead>\n",
       "  <tbody>\n",
       "    <tr>\n",
       "      <th>0</th>\n",
       "      <td>Reg</td>\n",
       "      <td>Gtl</td>\n",
       "      <td>7</td>\n",
       "      <td>5</td>\n",
       "      <td>TA</td>\n",
       "      <td>TA</td>\n",
       "      <td>Gd</td>\n",
       "      <td>TA</td>\n",
       "      <td>No</td>\n",
       "      <td>Unf</td>\n",
       "      <td>Unf</td>\n",
       "      <td>TA</td>\n",
       "      <td>TA</td>\n",
       "      <td>Typ</td>\n",
       "      <td>TA</td>\n",
       "      <td>RFn</td>\n",
       "      <td>TA</td>\n",
       "      <td>TA</td>\n",
       "      <td>NaN</td>\n",
       "      <td>Y</td>\n",
       "      <td>Y</td>\n",
       "      <td>MnPrv</td>\n",
       "      <td>Family</td>\n",
       "    </tr>\n",
       "    <tr>\n",
       "      <th>1</th>\n",
       "      <td>IR2</td>\n",
       "      <td>Sev</td>\n",
       "      <td>5</td>\n",
       "      <td>5</td>\n",
       "      <td>TA</td>\n",
       "      <td>TA</td>\n",
       "      <td>TA</td>\n",
       "      <td>Gd</td>\n",
       "      <td>Gd</td>\n",
       "      <td>LwQ</td>\n",
       "      <td>ALQ</td>\n",
       "      <td>TA</td>\n",
       "      <td>TA</td>\n",
       "      <td>Min2</td>\n",
       "      <td>NaN</td>\n",
       "      <td>Fin</td>\n",
       "      <td>TA</td>\n",
       "      <td>TA</td>\n",
       "      <td>NaN</td>\n",
       "      <td>Y</td>\n",
       "      <td>Y</td>\n",
       "      <td>NaN</td>\n",
       "      <td>Abnorml</td>\n",
       "    </tr>\n",
       "    <tr>\n",
       "      <th>2</th>\n",
       "      <td>Reg</td>\n",
       "      <td>Gtl</td>\n",
       "      <td>4</td>\n",
       "      <td>5</td>\n",
       "      <td>TA</td>\n",
       "      <td>TA</td>\n",
       "      <td>NaN</td>\n",
       "      <td>NaN</td>\n",
       "      <td>NaN</td>\n",
       "      <td>NaN</td>\n",
       "      <td>NaN</td>\n",
       "      <td>TA</td>\n",
       "      <td>TA</td>\n",
       "      <td>Typ</td>\n",
       "      <td>NaN</td>\n",
       "      <td>Unf</td>\n",
       "      <td>TA</td>\n",
       "      <td>TA</td>\n",
       "      <td>NaN</td>\n",
       "      <td>Y</td>\n",
       "      <td>Y</td>\n",
       "      <td>NaN</td>\n",
       "      <td>Normal</td>\n",
       "    </tr>\n",
       "    <tr>\n",
       "      <th>3</th>\n",
       "      <td>Reg</td>\n",
       "      <td>Gtl</td>\n",
       "      <td>4</td>\n",
       "      <td>5</td>\n",
       "      <td>TA</td>\n",
       "      <td>TA</td>\n",
       "      <td>NaN</td>\n",
       "      <td>NaN</td>\n",
       "      <td>NaN</td>\n",
       "      <td>NaN</td>\n",
       "      <td>NaN</td>\n",
       "      <td>Fa</td>\n",
       "      <td>TA</td>\n",
       "      <td>Typ</td>\n",
       "      <td>NaN</td>\n",
       "      <td>Unf</td>\n",
       "      <td>TA</td>\n",
       "      <td>TA</td>\n",
       "      <td>NaN</td>\n",
       "      <td>N</td>\n",
       "      <td>Y</td>\n",
       "      <td>NaN</td>\n",
       "      <td>Normal</td>\n",
       "    </tr>\n",
       "    <tr>\n",
       "      <th>4</th>\n",
       "      <td>Reg</td>\n",
       "      <td>Gtl</td>\n",
       "      <td>4</td>\n",
       "      <td>6</td>\n",
       "      <td>Fa</td>\n",
       "      <td>TA</td>\n",
       "      <td>Fa</td>\n",
       "      <td>Po</td>\n",
       "      <td>No</td>\n",
       "      <td>Unf</td>\n",
       "      <td>Unf</td>\n",
       "      <td>Gd</td>\n",
       "      <td>Fa</td>\n",
       "      <td>Typ</td>\n",
       "      <td>NaN</td>\n",
       "      <td>NaN</td>\n",
       "      <td>NaN</td>\n",
       "      <td>NaN</td>\n",
       "      <td>NaN</td>\n",
       "      <td>N</td>\n",
       "      <td>N</td>\n",
       "      <td>NaN</td>\n",
       "      <td>Normal</td>\n",
       "    </tr>\n",
       "  </tbody>\n",
       "</table>\n",
       "</div>"
      ],
      "text/plain": [
       "  Lot Shape Land Slope  Overall Qual  Overall Cond Exter Qual Exter Cond  \\\n",
       "0       Reg        Gtl             7             5         TA         TA   \n",
       "1       IR2        Sev             5             5         TA         TA   \n",
       "2       Reg        Gtl             4             5         TA         TA   \n",
       "3       Reg        Gtl             4             5         TA         TA   \n",
       "4       Reg        Gtl             4             6         Fa         TA   \n",
       "\n",
       "  Bsmt Qual Bsmt Cond Bsmt Exposure BsmtFin Type 1 BsmtFin Type 2 Heating QC  \\\n",
       "0        Gd        TA            No            Unf            Unf         TA   \n",
       "1        TA        Gd            Gd            LwQ            ALQ         TA   \n",
       "2       NaN       NaN           NaN            NaN            NaN         TA   \n",
       "3       NaN       NaN           NaN            NaN            NaN         Fa   \n",
       "4        Fa        Po            No            Unf            Unf         Gd   \n",
       "\n",
       "  Kitchen Qual Functional Fireplace Qu Garage Finish Garage Qual Garage Cond  \\\n",
       "0           TA        Typ           TA           RFn          TA          TA   \n",
       "1           TA       Min2          NaN           Fin          TA          TA   \n",
       "2           TA        Typ          NaN           Unf          TA          TA   \n",
       "3           TA        Typ          NaN           Unf          TA          TA   \n",
       "4           Fa        Typ          NaN           NaN         NaN         NaN   \n",
       "\n",
       "  Pool QC Central Air Paved Drive  Fence Sale Condition  \n",
       "0     NaN           Y           Y  MnPrv         Family  \n",
       "1     NaN           Y           Y    NaN        Abnorml  \n",
       "2     NaN           Y           Y    NaN         Normal  \n",
       "3     NaN           N           Y    NaN         Normal  \n",
       "4     NaN           N           N    NaN         Normal  "
      ]
     },
     "execution_count": 19,
     "metadata": {},
     "output_type": "execute_result"
    }
   ],
   "source": [
    "ord_df.head()"
   ]
  },
  {
   "cell_type": "code",
   "execution_count": 20,
   "metadata": {},
   "outputs": [
    {
     "data": {
      "text/plain": [
       "5     675\n",
       "6     613\n",
       "7     465\n",
       "8     267\n",
       "4     177\n",
       "9      81\n",
       "3      30\n",
       "10     22\n",
       "2      10\n",
       "1       4\n",
       "Name: Overall Qual, dtype: int64"
      ]
     },
     "execution_count": 20,
     "metadata": {},
     "output_type": "execute_result"
    }
   ],
   "source": [
    "ord_df['Overall Qual'].value_counts()"
   ]
  },
  {
   "cell_type": "code",
   "execution_count": 21,
   "metadata": {},
   "outputs": [
    {
     "data": {
      "text/plain": [
       "5    1305\n",
       "6     448\n",
       "7     317\n",
       "8     112\n",
       "4      78\n",
       "3      36\n",
       "9      35\n",
       "2       8\n",
       "1       5\n",
       "Name: Overall Cond, dtype: int64"
      ]
     },
     "execution_count": 21,
     "metadata": {},
     "output_type": "execute_result"
    }
   ],
   "source": [
    "ord_df['Overall Cond'].value_counts()"
   ]
  },
  {
   "cell_type": "code",
   "execution_count": 22,
   "metadata": {},
   "outputs": [
    {
     "name": "stdout",
     "output_type": "stream",
     "text": [
      "0\n",
      "0\n"
     ]
    }
   ],
   "source": [
    "print(ord_df['Overall Qual'].isnull().sum())\n",
    "print(ord_df['Overall Cond'].isnull().sum())"
   ]
  },
  {
   "cell_type": "markdown",
   "metadata": {},
   "source": [
    "So `Overall Qual` and `Overall Cond` are already encoded into numbers 1 through 10 where `1=Very Poor` and `10=Very Excellent`:\n",
    "\n",
    "    - 10  Very Excellent\n",
    "    - 9\tExcellent\n",
    "    - 8\tVery Good\n",
    "    - 7\tGood\n",
    "    - 6\tAbove Average\n",
    "    - 5\tAverage\n",
    "    - 4\tBelow Average\n",
    "    - 3\tFair\n",
    "    - 2\tPoor\n",
    "    - 1\tVery Poor\n",
    "We can use this scale for other columns that use `very_poor-to-very_excellent` Likert Scale (or similar)"
   ]
  },
  {
   "cell_type": "code",
   "execution_count": 23,
   "metadata": {},
   "outputs": [
    {
     "name": "stdout",
     "output_type": "stream",
     "text": [
      "10\n"
     ]
    },
    {
     "data": {
      "text/html": [
       "<div>\n",
       "<style scoped>\n",
       "    .dataframe tbody tr th:only-of-type {\n",
       "        vertical-align: middle;\n",
       "    }\n",
       "\n",
       "    .dataframe tbody tr th {\n",
       "        vertical-align: top;\n",
       "    }\n",
       "\n",
       "    .dataframe thead th {\n",
       "        text-align: right;\n",
       "    }\n",
       "</style>\n",
       "<table border=\"1\" class=\"dataframe\">\n",
       "  <thead>\n",
       "    <tr style=\"text-align: right;\">\n",
       "      <th></th>\n",
       "      <th>Exter Qual</th>\n",
       "      <th>Exter Cond</th>\n",
       "      <th>Bsmt Qual</th>\n",
       "      <th>Bsmt Cond</th>\n",
       "      <th>Heating QC</th>\n",
       "      <th>Kitchen Qual</th>\n",
       "      <th>Fireplace Qu</th>\n",
       "      <th>Garage Qual</th>\n",
       "      <th>Garage Cond</th>\n",
       "      <th>Pool QC</th>\n",
       "    </tr>\n",
       "  </thead>\n",
       "  <tbody>\n",
       "    <tr>\n",
       "      <th>0</th>\n",
       "      <td>TA</td>\n",
       "      <td>TA</td>\n",
       "      <td>Gd</td>\n",
       "      <td>TA</td>\n",
       "      <td>TA</td>\n",
       "      <td>TA</td>\n",
       "      <td>TA</td>\n",
       "      <td>TA</td>\n",
       "      <td>TA</td>\n",
       "      <td>NaN</td>\n",
       "    </tr>\n",
       "    <tr>\n",
       "      <th>1</th>\n",
       "      <td>TA</td>\n",
       "      <td>TA</td>\n",
       "      <td>TA</td>\n",
       "      <td>Gd</td>\n",
       "      <td>TA</td>\n",
       "      <td>TA</td>\n",
       "      <td>NaN</td>\n",
       "      <td>TA</td>\n",
       "      <td>TA</td>\n",
       "      <td>NaN</td>\n",
       "    </tr>\n",
       "    <tr>\n",
       "      <th>2</th>\n",
       "      <td>TA</td>\n",
       "      <td>TA</td>\n",
       "      <td>NaN</td>\n",
       "      <td>NaN</td>\n",
       "      <td>TA</td>\n",
       "      <td>TA</td>\n",
       "      <td>NaN</td>\n",
       "      <td>TA</td>\n",
       "      <td>TA</td>\n",
       "      <td>NaN</td>\n",
       "    </tr>\n",
       "    <tr>\n",
       "      <th>3</th>\n",
       "      <td>TA</td>\n",
       "      <td>TA</td>\n",
       "      <td>NaN</td>\n",
       "      <td>NaN</td>\n",
       "      <td>Fa</td>\n",
       "      <td>TA</td>\n",
       "      <td>NaN</td>\n",
       "      <td>TA</td>\n",
       "      <td>TA</td>\n",
       "      <td>NaN</td>\n",
       "    </tr>\n",
       "    <tr>\n",
       "      <th>4</th>\n",
       "      <td>Fa</td>\n",
       "      <td>TA</td>\n",
       "      <td>Fa</td>\n",
       "      <td>Po</td>\n",
       "      <td>Gd</td>\n",
       "      <td>Fa</td>\n",
       "      <td>NaN</td>\n",
       "      <td>NaN</td>\n",
       "      <td>NaN</td>\n",
       "      <td>NaN</td>\n",
       "    </tr>\n",
       "  </tbody>\n",
       "</table>\n",
       "</div>"
      ],
      "text/plain": [
       "  Exter Qual Exter Cond Bsmt Qual Bsmt Cond Heating QC Kitchen Qual  \\\n",
       "0         TA         TA        Gd        TA         TA           TA   \n",
       "1         TA         TA        TA        Gd         TA           TA   \n",
       "2         TA         TA       NaN       NaN         TA           TA   \n",
       "3         TA         TA       NaN       NaN         Fa           TA   \n",
       "4         Fa         TA        Fa        Po         Gd           Fa   \n",
       "\n",
       "  Fireplace Qu Garage Qual Garage Cond Pool QC  \n",
       "0           TA          TA          TA     NaN  \n",
       "1          NaN          TA          TA     NaN  \n",
       "2          NaN          TA          TA     NaN  \n",
       "3          NaN          TA          TA     NaN  \n",
       "4          NaN         NaN         NaN     NaN  "
      ]
     },
     "execution_count": 23,
     "metadata": {},
     "output_type": "execute_result"
    }
   ],
   "source": [
    "likert_cols = ['Exter Qual', 'Exter Cond', 'Bsmt Qual', 'Bsmt Cond', 'Heating QC', \n",
    "               'Kitchen Qual', 'Fireplace Qu', 'Garage Qual', 'Garage Cond', 'Pool QC']\n",
    "print(len(likert_cols))\n",
    "likert_df = ames[likert_cols].copy()\n",
    "likert_df.head()"
   ]
  },
  {
   "cell_type": "code",
   "execution_count": 24,
   "metadata": {},
   "outputs": [
    {
     "name": "stdout",
     "output_type": "stream",
     "text": [
      "['TA', 'Gd', 'Ex', 'Fa', 'Po', nan]\n"
     ]
    }
   ],
   "source": [
    "likert_cat = []\n",
    "for col in likert_cols: \n",
    "    col_vc = likert_df[col].value_counts(dropna=False).index\n",
    "    for vc in col_vc:\n",
    "        if vc not in likert_cat:\n",
    "            likert_cat.append(vc)\n",
    "print(likert_cat)"
   ]
  },
  {
   "cell_type": "markdown",
   "metadata": {},
   "source": [
    "So we have 6 categories, including `NaN`. We can look up our `very_poor-to-very_excellent` scale to match each category with the corresponding number on the scale:\n",
    "- Ex = Excellent = 9\n",
    "- Gd = Good = 7\n",
    "- TA = Typical/Average = 5\n",
    "- Fa = Fair = 3\n",
    "- Po = Poor = 2\n",
    "- nan = no value = 0"
   ]
  },
  {
   "cell_type": "code",
   "execution_count": 25,
   "metadata": {},
   "outputs": [
    {
     "name": "stdout",
     "output_type": "stream",
     "text": [
      "0\n"
     ]
    },
    {
     "data": {
      "text/html": [
       "<div>\n",
       "<style scoped>\n",
       "    .dataframe tbody tr th:only-of-type {\n",
       "        vertical-align: middle;\n",
       "    }\n",
       "\n",
       "    .dataframe tbody tr th {\n",
       "        vertical-align: top;\n",
       "    }\n",
       "\n",
       "    .dataframe thead th {\n",
       "        text-align: right;\n",
       "    }\n",
       "</style>\n",
       "<table border=\"1\" class=\"dataframe\">\n",
       "  <thead>\n",
       "    <tr style=\"text-align: right;\">\n",
       "      <th></th>\n",
       "      <th>Exter Qual</th>\n",
       "      <th>Exter Cond</th>\n",
       "      <th>Bsmt Qual</th>\n",
       "      <th>Bsmt Cond</th>\n",
       "      <th>Heating QC</th>\n",
       "      <th>Kitchen Qual</th>\n",
       "      <th>Fireplace Qu</th>\n",
       "      <th>Garage Qual</th>\n",
       "      <th>Garage Cond</th>\n",
       "      <th>Pool QC</th>\n",
       "    </tr>\n",
       "  </thead>\n",
       "  <tbody>\n",
       "    <tr>\n",
       "      <th>0</th>\n",
       "      <td>5</td>\n",
       "      <td>5</td>\n",
       "      <td>7</td>\n",
       "      <td>5</td>\n",
       "      <td>5</td>\n",
       "      <td>5</td>\n",
       "      <td>5</td>\n",
       "      <td>5</td>\n",
       "      <td>5</td>\n",
       "      <td>0</td>\n",
       "    </tr>\n",
       "    <tr>\n",
       "      <th>1</th>\n",
       "      <td>5</td>\n",
       "      <td>5</td>\n",
       "      <td>5</td>\n",
       "      <td>7</td>\n",
       "      <td>5</td>\n",
       "      <td>5</td>\n",
       "      <td>0</td>\n",
       "      <td>5</td>\n",
       "      <td>5</td>\n",
       "      <td>0</td>\n",
       "    </tr>\n",
       "    <tr>\n",
       "      <th>2</th>\n",
       "      <td>5</td>\n",
       "      <td>5</td>\n",
       "      <td>0</td>\n",
       "      <td>0</td>\n",
       "      <td>5</td>\n",
       "      <td>5</td>\n",
       "      <td>0</td>\n",
       "      <td>5</td>\n",
       "      <td>5</td>\n",
       "      <td>0</td>\n",
       "    </tr>\n",
       "    <tr>\n",
       "      <th>3</th>\n",
       "      <td>5</td>\n",
       "      <td>5</td>\n",
       "      <td>0</td>\n",
       "      <td>0</td>\n",
       "      <td>3</td>\n",
       "      <td>5</td>\n",
       "      <td>0</td>\n",
       "      <td>5</td>\n",
       "      <td>5</td>\n",
       "      <td>0</td>\n",
       "    </tr>\n",
       "    <tr>\n",
       "      <th>4</th>\n",
       "      <td>3</td>\n",
       "      <td>5</td>\n",
       "      <td>3</td>\n",
       "      <td>2</td>\n",
       "      <td>7</td>\n",
       "      <td>3</td>\n",
       "      <td>0</td>\n",
       "      <td>0</td>\n",
       "      <td>0</td>\n",
       "      <td>0</td>\n",
       "    </tr>\n",
       "  </tbody>\n",
       "</table>\n",
       "</div>"
      ],
      "text/plain": [
       "   Exter Qual  Exter Cond  Bsmt Qual  Bsmt Cond  Heating QC  Kitchen Qual  \\\n",
       "0           5           5          7          5           5             5   \n",
       "1           5           5          5          7           5             5   \n",
       "2           5           5          0          0           5             5   \n",
       "3           5           5          0          0           3             5   \n",
       "4           3           5          3          2           7             3   \n",
       "\n",
       "   Fireplace Qu  Garage Qual  Garage Cond  Pool QC  \n",
       "0             5            5            5        0  \n",
       "1             0            5            5        0  \n",
       "2             0            5            5        0  \n",
       "3             0            5            5        0  \n",
       "4             0            0            0        0  "
      ]
     },
     "execution_count": 25,
     "metadata": {},
     "output_type": "execute_result"
    }
   ],
   "source": [
    "likert_dict = {'Ex': 9, 'Gd': 7, 'TA': 5, 'Fa': 3, 'Po': 2, np.nan: 0}\n",
    "likert_df_ = likert_df.copy()\n",
    "for col in likert_cols:\n",
    "    likert_df_[col] = [likert_dict[item] for item in likert_df_[col]]\n",
    "print(likert_df_.isnull().sum().sum())    \n",
    "likert_df_.head()"
   ]
  },
  {
   "cell_type": "markdown",
   "metadata": {},
   "source": [
    "## 9. Custom Transformer for Likert_Scale Encoding"
   ]
  },
  {
   "cell_type": "code",
   "execution_count": 26,
   "metadata": {},
   "outputs": [],
   "source": [
    "class NaNExEncoder(BaseEstimator, TransformerMixin):    \n",
    "    def __init__(self):\n",
    "        self    \n",
    "        \n",
    "    def fit(self, df, y = None):               \n",
    "        return self\n",
    "\n",
    "    def transform(self, df):        \n",
    "        df = df.copy()\n",
    "        likert_cols = ['Exter Qual', 'Exter Cond', 'Bsmt Qual', 'Bsmt Cond', \n",
    "                       'Heating QC', 'Kitchen Qual', 'Fireplace Qu', 'Garage Qual', \n",
    "                       'Garage Cond', 'Pool QC']\n",
    "        likert_dict = {'Ex': 9, 'Gd': 7, 'TA': 5, 'Fa': 3, 'Po': 2, np.nan: 0}\n",
    "        for col in likert_cols:\n",
    "            df[col] = [likert_dict[item] for item in df[col]]\n",
    "            df[col] = df[col].astype(int)\n",
    "        return df"
   ]
  },
  {
   "cell_type": "code",
   "execution_count": 27,
   "metadata": {},
   "outputs": [
    {
     "name": "stdout",
     "output_type": "stream",
     "text": [
      "6566\n",
      "2182\n"
     ]
    },
    {
     "data": {
      "text/plain": [
       "BsmtFin Type 1      61\n",
       "BsmtFin Type 2      62\n",
       "Bsmt Exposure       63\n",
       "Garage Finish      122\n",
       "Fence             1874\n",
       "dtype: int64"
      ]
     },
     "execution_count": 27,
     "metadata": {},
     "output_type": "execute_result"
    }
   ],
   "source": [
    "# testing our NaNExEncoder\n",
    "test_pipe3 = Pipeline(steps = [\n",
    "    ('cont_filler1', ContMissFiller()),\n",
    "    ('cont_filler2', LotFrontFiller()),\n",
    "    ('disc_filler1', DiscMissFiller()),\n",
    "    ('disc_filler2', GYBFiller()),\n",
    "    ('likert_encoder', NaNExEncoder())\n",
    "])\n",
    "test_df3 = ames[continuous + ['MS SubClass'] + discrete + ordinal]\n",
    "print(test_df3.isnull().sum().sum())\n",
    "test_df3_ = test_pipe3.fit_transform(test_df3)\n",
    "print(test_df3_.isnull().sum().sum())\n",
    "cols_with_nulls(test_df3_)"
   ]
  },
  {
   "cell_type": "markdown",
   "metadata": {},
   "source": [
    "## 10. Encoding the Rest of Ordinal Columns"
   ]
  },
  {
   "cell_type": "code",
   "execution_count": 28,
   "metadata": {},
   "outputs": [
    {
     "name": "stdout",
     "output_type": "stream",
     "text": [
      "13\n",
      "(2344, 11)\n"
     ]
    },
    {
     "data": {
      "text/html": [
       "<div>\n",
       "<style scoped>\n",
       "    .dataframe tbody tr th:only-of-type {\n",
       "        vertical-align: middle;\n",
       "    }\n",
       "\n",
       "    .dataframe tbody tr th {\n",
       "        vertical-align: top;\n",
       "    }\n",
       "\n",
       "    .dataframe thead th {\n",
       "        text-align: right;\n",
       "    }\n",
       "</style>\n",
       "<table border=\"1\" class=\"dataframe\">\n",
       "  <thead>\n",
       "    <tr style=\"text-align: right;\">\n",
       "      <th></th>\n",
       "      <th>Lot Shape</th>\n",
       "      <th>Land Slope</th>\n",
       "      <th>Bsmt Exposure</th>\n",
       "      <th>BsmtFin Type 1</th>\n",
       "      <th>BsmtFin Type 2</th>\n",
       "      <th>Functional</th>\n",
       "      <th>Garage Finish</th>\n",
       "      <th>Central Air</th>\n",
       "      <th>Paved Drive</th>\n",
       "      <th>Fence</th>\n",
       "      <th>Sale Condition</th>\n",
       "    </tr>\n",
       "  </thead>\n",
       "  <tbody>\n",
       "    <tr>\n",
       "      <th>0</th>\n",
       "      <td>Reg</td>\n",
       "      <td>Gtl</td>\n",
       "      <td>No</td>\n",
       "      <td>Unf</td>\n",
       "      <td>Unf</td>\n",
       "      <td>Typ</td>\n",
       "      <td>RFn</td>\n",
       "      <td>Y</td>\n",
       "      <td>Y</td>\n",
       "      <td>MnPrv</td>\n",
       "      <td>Family</td>\n",
       "    </tr>\n",
       "    <tr>\n",
       "      <th>1</th>\n",
       "      <td>IR2</td>\n",
       "      <td>Sev</td>\n",
       "      <td>Gd</td>\n",
       "      <td>LwQ</td>\n",
       "      <td>ALQ</td>\n",
       "      <td>Min2</td>\n",
       "      <td>Fin</td>\n",
       "      <td>Y</td>\n",
       "      <td>Y</td>\n",
       "      <td>NaN</td>\n",
       "      <td>Abnorml</td>\n",
       "    </tr>\n",
       "    <tr>\n",
       "      <th>2</th>\n",
       "      <td>Reg</td>\n",
       "      <td>Gtl</td>\n",
       "      <td>NaN</td>\n",
       "      <td>NaN</td>\n",
       "      <td>NaN</td>\n",
       "      <td>Typ</td>\n",
       "      <td>Unf</td>\n",
       "      <td>Y</td>\n",
       "      <td>Y</td>\n",
       "      <td>NaN</td>\n",
       "      <td>Normal</td>\n",
       "    </tr>\n",
       "    <tr>\n",
       "      <th>3</th>\n",
       "      <td>Reg</td>\n",
       "      <td>Gtl</td>\n",
       "      <td>NaN</td>\n",
       "      <td>NaN</td>\n",
       "      <td>NaN</td>\n",
       "      <td>Typ</td>\n",
       "      <td>Unf</td>\n",
       "      <td>N</td>\n",
       "      <td>Y</td>\n",
       "      <td>NaN</td>\n",
       "      <td>Normal</td>\n",
       "    </tr>\n",
       "    <tr>\n",
       "      <th>4</th>\n",
       "      <td>Reg</td>\n",
       "      <td>Gtl</td>\n",
       "      <td>No</td>\n",
       "      <td>Unf</td>\n",
       "      <td>Unf</td>\n",
       "      <td>Typ</td>\n",
       "      <td>NaN</td>\n",
       "      <td>N</td>\n",
       "      <td>N</td>\n",
       "      <td>NaN</td>\n",
       "      <td>Normal</td>\n",
       "    </tr>\n",
       "  </tbody>\n",
       "</table>\n",
       "</div>"
      ],
      "text/plain": [
       "  Lot Shape Land Slope Bsmt Exposure BsmtFin Type 1 BsmtFin Type 2 Functional  \\\n",
       "0       Reg        Gtl            No            Unf            Unf        Typ   \n",
       "1       IR2        Sev            Gd            LwQ            ALQ       Min2   \n",
       "2       Reg        Gtl           NaN            NaN            NaN        Typ   \n",
       "3       Reg        Gtl           NaN            NaN            NaN        Typ   \n",
       "4       Reg        Gtl            No            Unf            Unf        Typ   \n",
       "\n",
       "  Garage Finish Central Air Paved Drive  Fence Sale Condition  \n",
       "0           RFn           Y           Y  MnPrv         Family  \n",
       "1           Fin           Y           Y    NaN        Abnorml  \n",
       "2           Unf           Y           Y    NaN         Normal  \n",
       "3           Unf           N           Y    NaN         Normal  \n",
       "4           NaN           N           N    NaN         Normal  "
      ]
     },
     "execution_count": 28,
     "metadata": {},
     "output_type": "execute_result"
    }
   ],
   "source": [
    "other_ord_cols = []\n",
    "for col in ord_df.columns:\n",
    "    if col not in likert_cols:\n",
    "        other_ord_cols.append(col)\n",
    "print(len(other_ord_cols))\n",
    "other_ord = ames[other_ord_cols].copy()\n",
    "other_ord = other_ord.drop(['Overall Qual', 'Overall Cond'], axis=1)\n",
    "print(other_ord.shape)\n",
    "other_ord.head()"
   ]
  },
  {
   "cell_type": "code",
   "execution_count": 29,
   "metadata": {},
   "outputs": [
    {
     "name": "stdout",
     "output_type": "stream",
     "text": [
      "['Reg', 'IR2', 'IR1', 'IR3', 'Gtl', 'Sev', 'Mod', 'No', 'Gd', nan, 'Av', 'Mn', 'Unf', 'LwQ', 'GLQ', 'BLQ', 'ALQ', 'Rec', 'Typ', 'Min2', 'Min1', 'Maj2', 'Maj1', 'Sal', 'RFn', 'Fin', 'Y', 'N', 'P', 'MnPrv', 'GdWo', 'GdPrv', 'MnWw', 'Family', 'Abnorml', 'Normal', 'Partial', 'AdjLand', 'Alloca']\n"
     ]
    }
   ],
   "source": [
    "other_ord_cats = []\n",
    "for col in other_ord.columns:\n",
    "    col_unique = other_ord[col].unique()\n",
    "    for i in col_unique: \n",
    "        if i not in other_ord_cats:\n",
    "            other_ord_cats.append(i)\n",
    "            \n",
    "print(other_ord_cats)"
   ]
  },
  {
   "cell_type": "code",
   "execution_count": 30,
   "metadata": {
    "scrolled": false
   },
   "outputs": [
    {
     "data": {
      "text/plain": [
       "Index(['Lot Shape', 'Land Slope', 'Bsmt Exposure', 'BsmtFin Type 1',\n",
       "       'BsmtFin Type 2', 'Functional', 'Garage Finish', 'Central Air',\n",
       "       'Paved Drive', 'Fence', 'Sale Condition'],\n",
       "      dtype='object')"
      ]
     },
     "execution_count": 30,
     "metadata": {},
     "output_type": "execute_result"
    }
   ],
   "source": [
    "other_ord.nunique(dropna=False).index"
   ]
  },
  {
   "cell_type": "markdown",
   "metadata": {},
   "source": [
    "Since we won't scale the integers that represent the categories of ordinal columns, we are going to try to keep them on a similar scale as those we did above, that were on a Likert scale. This will be done manually like this:\n",
    "- the distance between neighboring values is 10 divided by the number of unique categories in each column (including NaN), rounded down. Example: Lot Shape: 4 unique categories, delta = 10/4 rounded down to 2\n",
    "- the max value is the distance times n unique values; the next value is at times n-1, and so on\n",
    "- the min value is at times n-(n-1) or, if it is NaN it is 0\n",
    "\n",
    "The problem: some columns have the same category that needs to have different values depending on the column it's in, we will split the columns into two list to avoid this problem. That way, one category or key can be present in both lists and have different values"
   ]
  },
  {
   "cell_type": "code",
   "execution_count": 31,
   "metadata": {},
   "outputs": [
    {
     "data": {
      "text/plain": [
       "0"
      ]
     },
     "execution_count": 31,
     "metadata": {},
     "output_type": "execute_result"
    }
   ],
   "source": [
    "ord2_cols = ['Lot Shape', 'Land Slope', 'Bsmt Exposure', 'BsmtFin Type 1',             \n",
    "             'BsmtFin Type 2', 'Central Air', 'Fence', 'Sale Condition']\n",
    "\n",
    "ord2_dict = {'Reg':8, 'IR1':6, 'IR2':4, 'IR3':2,  # Lot Shape\n",
    "             'Gtl':9, 'Mod':6, 'Sev':3,           # Land Slope\n",
    "             'Gd':8, 'Av':6, 'Mn':4, 'No':2,     # Bsmt Exposure\n",
    "             'GLQ':7, 'ALQ':6, 'BLQ':5, 'Rec':4, 'LwQ':3, 'Unf':2, # BsmtFin Type 1 & 2\n",
    "             'Y':10, 'N':5, # Central Air\n",
    "             'GdPrv':8, 'MnPrv':6, 'GdWo':4, 'MnWw':2,   # Fence\n",
    "             'Normal':8, 'Abnorml':6, 'AdjLand':5, 'Alloca':4, 'Family':3, 'Partial':2, # Sale Condition\n",
    "             np.nan:0\n",
    "            }\n",
    "ord2_df = ames[ord2_cols].copy()\n",
    "for col2 in ord2_cols:\n",
    "    ord2_df[col2] = [ord2_dict[item] for item in ord2_df[col2]]\n",
    "    \n",
    "ord2_df.isnull().sum().sum()"
   ]
  },
  {
   "cell_type": "code",
   "execution_count": 32,
   "metadata": {},
   "outputs": [
    {
     "data": {
      "text/plain": [
       "0"
      ]
     },
     "execution_count": 32,
     "metadata": {},
     "output_type": "execute_result"
    }
   ],
   "source": [
    "ord3_cols = ['Functional', 'Garage Finish', 'Paved Drive']\n",
    "\n",
    "ord3_dict = {'Typ':8, 'Min1':7, 'Min2':6, 'Mod':5, 'Maj1':4, 'Maj2':3, 'Sev':2, 'Sal':1, # Functional\n",
    "             'Fin':9, 'RFn':6, 'Unf':3,  # Garage Finish\n",
    "             'Y':9, 'P':6, 'N':3,    # Paved Drive\n",
    "             np.nan:0\n",
    "            }\n",
    "ord3_df = ames[ord3_cols].copy()\n",
    "for col3 in ord3_cols:\n",
    "    ord3_df[col3] = [ord3_dict[item] for item in ord3_df[col3]]\n",
    "    \n",
    "ord3_df.isnull().sum().sum()"
   ]
  },
  {
   "cell_type": "markdown",
   "metadata": {},
   "source": [
    "## 11. Custom Transformers for Rest of Ordinal Columns"
   ]
  },
  {
   "cell_type": "code",
   "execution_count": 33,
   "metadata": {},
   "outputs": [],
   "source": [
    "class Ord2Encoder(BaseEstimator, TransformerMixin):    \n",
    "    def __init__(self):\n",
    "        self    \n",
    "        \n",
    "    def fit(self, df, y = None):               \n",
    "        return self\n",
    "\n",
    "    def transform(self, df):        \n",
    "        df = df.copy()\n",
    "        ord2_cols = ['Lot Shape', 'Land Slope', 'Bsmt Exposure', 'BsmtFin Type 1',             \n",
    "             'BsmtFin Type 2', 'Central Air', 'Fence', 'Sale Condition']\n",
    "\n",
    "        ord2_dict = {'Reg':8, 'IR1':6, 'IR2':4, 'IR3':2, 'Gtl':9, 'Mod':6, 'Sev':3,\n",
    "                     'Gd':8, 'Av':6, 'Mn':4, 'No':2, 'GLQ':7, 'ALQ':6, 'BLQ':5, \n",
    "                     'Rec':4, 'LwQ':3, 'Unf':2, 'Y':10, 'N':5, 'GdPrv':8, 'MnPrv':6, \n",
    "                     'GdWo':4, 'MnWw':2, 'Normal':8, 'Abnorml':6, 'AdjLand':5, 'Alloca':4, \n",
    "                     'Family':3, 'Partial':2, np.nan:0\n",
    "                    }\n",
    "        for col2 in ord2_cols:\n",
    "            df[col2] = [ord2_dict[item] for item in df[col2]]\n",
    "        return df\n",
    "\n",
    "class Ord3Encoder(BaseEstimator, TransformerMixin):    \n",
    "    def __init__(self):\n",
    "        self    \n",
    "        \n",
    "    def fit(self, df, y = None):               \n",
    "        return self\n",
    "\n",
    "    def transform(self, df):        \n",
    "        df = df.copy()\n",
    "        ord3_cols = ['Functional', 'Garage Finish', 'Paved Drive']\n",
    "\n",
    "        ord3_dict = {'Typ':8, 'Min1':7, 'Min2':6, 'Mod':5, 'Maj1':4, 'Maj2':3, 'Sev':2, \n",
    "                     'Sal':1, 'Fin':9, 'RFn':6, 'Unf':3, 'Y':9, 'P':6, 'N':3, np.nan:0\n",
    "                    }        \n",
    "        for col3 in ord3_cols:\n",
    "            df[col3] = [ord3_dict[item] for item in df[col3]]\n",
    "        return df"
   ]
  },
  {
   "cell_type": "code",
   "execution_count": 34,
   "metadata": {},
   "outputs": [
    {
     "name": "stdout",
     "output_type": "stream",
     "text": [
      "6566\n",
      "0\n"
     ]
    },
    {
     "data": {
      "text/plain": [
       "Series([], dtype: float64)"
      ]
     },
     "execution_count": 34,
     "metadata": {},
     "output_type": "execute_result"
    }
   ],
   "source": [
    "# pipeline testing\n",
    "test_pipe4 = Pipeline(steps = [\n",
    "    ('cont_filler1', ContMissFiller()),\n",
    "    ('cont_filler2', LotFrontFiller()),\n",
    "    ('disc_filler1', DiscMissFiller()),\n",
    "    ('disc_filler2', GYBFiller()),\n",
    "    ('likert_encoder', NaNExEncoder()),\n",
    "    ('ord2_encoder', Ord2Encoder()),\n",
    "    ('ord3_encoder', Ord3Encoder())\n",
    "])\n",
    "test_df4 = ames[continuous + ['MS SubClass'] + discrete + ordinal]\n",
    "print(test_df4.isnull().sum().sum())\n",
    "test_df4_ = test_pipe4.fit_transform(test_df4)\n",
    "print(test_df4_.isnull().sum().sum())\n",
    "cols_with_nulls(test_df4_)"
   ]
  },
  {
   "cell_type": "markdown",
   "metadata": {},
   "source": [
    "## 12. Fixing Missing Data in Nominal Columns"
   ]
  },
  {
   "cell_type": "code",
   "execution_count": 35,
   "metadata": {},
   "outputs": [
    {
     "data": {
      "text/plain": [
       "Mas Vnr Type      19\n",
       "Garage Type      120\n",
       "Alley           2182\n",
       "Misc Feature    2250\n",
       "dtype: int64"
      ]
     },
     "execution_count": 35,
     "metadata": {},
     "output_type": "execute_result"
    }
   ],
   "source": [
    "nominal = ['MS SubClass', 'MS Zoning', 'Street', 'Alley', 'Lot Shape', 'Land Contour', 'Utilities',\n",
    "          'Lot Config', 'Neighborhood', 'Condition 1', 'Condition 2', 'Bldg Type', 'House Style',\n",
    "          'Roof Style', 'Roof Matl', 'Exterior 1st', 'Exterior 2nd', 'Mas Vnr Type', 'Foundation',\n",
    "          'Electrical', 'Garage Type', 'Misc Feature', 'Sale Type']\n",
    "cols_with_nulls(ames[nominal])"
   ]
  },
  {
   "cell_type": "code",
   "execution_count": 36,
   "metadata": {},
   "outputs": [
    {
     "name": "stdout",
     "output_type": "stream",
     "text": [
      "None       1407\n",
      "BrkFace     714\n",
      "Stone       182\n",
      "BrkCmn       21\n",
      "NaN          19\n",
      "CBlock        1\n",
      "Name: Mas Vnr Type, dtype: int64\n",
      "Attchd     1397\n",
      "Detchd      631\n",
      "BuiltIn     138\n",
      "NaN         120\n",
      "Basment      30\n",
      "2Types       18\n",
      "CarPort      10\n",
      "Name: Garage Type, dtype: int64\n",
      "NaN     2182\n",
      "Grvl     100\n",
      "Pave      62\n",
      "Name: Alley, dtype: int64\n",
      "NaN     2250\n",
      "Shed      84\n",
      "Gar2       5\n",
      "Othr       4\n",
      "Elev       1\n",
      "Name: Misc Feature, dtype: int64\n"
     ]
    }
   ],
   "source": [
    "nom_cols = cols_with_nulls(ames[nominal]).index\n",
    "for col in nom_cols:\n",
    "    nom_df = ames[nom_cols].copy()\n",
    "    col_vc = nom_df[col].value_counts(dropna=False)\n",
    "    print(col_vc)"
   ]
  },
  {
   "cell_type": "markdown",
   "metadata": {},
   "source": [
    "Except for `Mas Vnr Type`, we can create a `Missing` category, which should take care of all NaN values. However, insted of doing that, we can set all the missing values to `None` which would take care of all the 4 columns. The 19 missing values in `Mas Vnr Type` would be added to the `None` category, which is already there and is the most frequent. "
   ]
  },
  {
   "cell_type": "code",
   "execution_count": 37,
   "metadata": {
    "scrolled": true
   },
   "outputs": [
    {
     "data": {
      "text/plain": [
       "Mas Vnr Type    0\n",
       "Garage Type     0\n",
       "Alley           0\n",
       "Misc Feature    0\n",
       "dtype: int64"
      ]
     },
     "execution_count": 37,
     "metadata": {},
     "output_type": "execute_result"
    }
   ],
   "source": [
    "nom_df = nom_df.fillna('None')\n",
    "nom_df.isnull().sum()"
   ]
  },
  {
   "cell_type": "code",
   "execution_count": 38,
   "metadata": {},
   "outputs": [
    {
     "name": "stdout",
     "output_type": "stream",
     "text": [
      "None       1426\n",
      "BrkFace     714\n",
      "Stone       182\n",
      "BrkCmn       21\n",
      "CBlock        1\n",
      "Name: Mas Vnr Type, dtype: int64\n",
      "Attchd     1397\n",
      "Detchd      631\n",
      "BuiltIn     138\n",
      "None        120\n",
      "Basment      30\n",
      "2Types       18\n",
      "CarPort      10\n",
      "Name: Garage Type, dtype: int64\n",
      "None    2182\n",
      "Grvl     100\n",
      "Pave      62\n",
      "Name: Alley, dtype: int64\n",
      "None    2250\n",
      "Shed      84\n",
      "Gar2       5\n",
      "Othr       4\n",
      "Elev       1\n",
      "Name: Misc Feature, dtype: int64\n"
     ]
    }
   ],
   "source": [
    "for col in nom_cols:    \n",
    "    col_vc = nom_df[col].value_counts(dropna=False)\n",
    "    print(col_vc)"
   ]
  },
  {
   "cell_type": "markdown",
   "metadata": {},
   "source": [
    "## 13. Custom Transformer for Nominal Missing Values"
   ]
  },
  {
   "cell_type": "code",
   "execution_count": 39,
   "metadata": {},
   "outputs": [
    {
     "data": {
      "text/plain": [
       "Index(['Mas Vnr Type', 'Garage Type', 'Alley', 'Misc Feature'], dtype='object')"
      ]
     },
     "execution_count": 39,
     "metadata": {},
     "output_type": "execute_result"
    }
   ],
   "source": [
    "nom_cols"
   ]
  },
  {
   "cell_type": "code",
   "execution_count": 40,
   "metadata": {},
   "outputs": [],
   "source": [
    "class NominalFiller(BaseEstimator, TransformerMixin):    \n",
    "    def __init__(self):\n",
    "        self    \n",
    "        \n",
    "    def fit(self, df, y = None):               \n",
    "        return self\n",
    "\n",
    "    def transform(self, df):        \n",
    "        df = df.copy()\n",
    "        nom_cols = ['Mas Vnr Type', 'Garage Type', 'Alley', 'Misc Feature']              \n",
    "        for col in nom_cols:\n",
    "            df[col] = df[col].fillna('None')\n",
    "        return df"
   ]
  },
  {
   "cell_type": "code",
   "execution_count": 41,
   "metadata": {},
   "outputs": [
    {
     "name": "stdout",
     "output_type": "stream",
     "text": [
      "Missing Values Before: 11137\n",
      "Missing Values After: 0\n"
     ]
    },
    {
     "data": {
      "text/plain": [
       "(2344, 80)"
      ]
     },
     "execution_count": 41,
     "metadata": {},
     "output_type": "execute_result"
    }
   ],
   "source": [
    "# pipeline testing\n",
    "test_pipe5 = Pipeline(steps = [\n",
    "    ('cont_filler1', ContMissFiller()),\n",
    "    ('cont_filler2', LotFrontFiller()),\n",
    "    ('disc_filler1', DiscMissFiller()),\n",
    "    ('disc_filler2', GYBFiller()),\n",
    "    ('likert_encoder', NaNExEncoder()),\n",
    "    ('ord2_encoder', Ord2Encoder()),\n",
    "    ('ord3_encoder', Ord3Encoder()),\n",
    "    ('nom_filler', NominalFiller())\n",
    "])\n",
    "test_df5 = ames.copy()\n",
    "print('Missing Values Before:', test_df5.isnull().sum().sum())\n",
    "test_df5_ = test_pipe5.fit_transform(test_df5)\n",
    "print('Missing Values After:', test_df5_.isnull().sum().sum())\n",
    "test_df5_.shape"
   ]
  },
  {
   "cell_type": "code",
   "execution_count": null,
   "metadata": {},
   "outputs": [],
   "source": []
  }
 ],
 "metadata": {
  "kernelspec": {
   "display_name": "Python 3",
   "language": "python",
   "name": "python3"
  },
  "language_info": {
   "codemirror_mode": {
    "name": "ipython",
    "version": 3
   },
   "file_extension": ".py",
   "mimetype": "text/x-python",
   "name": "python",
   "nbconvert_exporter": "python",
   "pygments_lexer": "ipython3",
   "version": "3.7.7"
  }
 },
 "nbformat": 4,
 "nbformat_minor": 4
}
