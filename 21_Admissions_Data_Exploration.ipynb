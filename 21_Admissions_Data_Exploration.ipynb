{
 "cells": [
  {
   "cell_type": "markdown",
   "metadata": {},
   "source": [
    "# 21. GRADUATE ADMISSIONS: DATA EXPLORATION\n",
    "---"
   ]
  },
  {
   "cell_type": "markdown",
   "metadata": {},
   "source": [
    "## 1. Introducing the Data\n",
    "- **Source**: [Kaggle](https://www.kaggle.com/mohansacharya/graduate-admissions)\n",
    "- **Context**: Prediction of Graduate Admissions from important parameters\n",
    "- **Content**: The dataset contains the following parameters:\n",
    "    - GRE Scores ( out of 340 )\n",
    "    - TOEFL Scores ( out of 120 )\n",
    "    - University Rating ( out of 5 )\n",
    "    - Statement of Purpose and Letter of Recommendation Strength ( out of 5 )\n",
    "    - Undergraduate GPA ( out of 10 )\n",
    "    - Research Experience ( either 0 or 1 )\n",
    "    - Chance of Admit ( ranging from 0 to 1 )\n",
    "- **Citation**: *Mohan S Acharya, Asfia Armaan, Aneeta S Antony : A Comparison of Regression Models for Prediction of Graduate Admissions, IEEE International Conference on Computational Intelligence in Data Science 2019*\n",
    "- **License**: CC0: Public Domain\n",
    "- **Dataset**:\n",
    "    - Source file: `Admission_Predict_Ver1.1.csv`\n",
    "    - Saved as: `Admission_1.1`"
   ]
  },
  {
   "cell_type": "code",
   "execution_count": 1,
   "metadata": {},
   "outputs": [
    {
     "name": "stdout",
     "output_type": "stream",
     "text": [
      "(500, 9)\n",
      "Index(['Serial No.', 'GRE Score', 'TOEFL Score', 'University Rating', 'SOP',\n",
      "       'LOR ', 'CGPA', 'Research', 'Chance of Admit '],\n",
      "      dtype='object')\n"
     ]
    },
    {
     "data": {
      "text/html": [
       "<div>\n",
       "<style scoped>\n",
       "    .dataframe tbody tr th:only-of-type {\n",
       "        vertical-align: middle;\n",
       "    }\n",
       "\n",
       "    .dataframe tbody tr th {\n",
       "        vertical-align: top;\n",
       "    }\n",
       "\n",
       "    .dataframe thead th {\n",
       "        text-align: right;\n",
       "    }\n",
       "</style>\n",
       "<table border=\"1\" class=\"dataframe\">\n",
       "  <thead>\n",
       "    <tr style=\"text-align: right;\">\n",
       "      <th></th>\n",
       "      <th>Serial No.</th>\n",
       "      <th>GRE Score</th>\n",
       "      <th>TOEFL Score</th>\n",
       "      <th>University Rating</th>\n",
       "      <th>SOP</th>\n",
       "      <th>LOR</th>\n",
       "      <th>CGPA</th>\n",
       "      <th>Research</th>\n",
       "      <th>Chance of Admit</th>\n",
       "    </tr>\n",
       "  </thead>\n",
       "  <tbody>\n",
       "    <tr>\n",
       "      <th>0</th>\n",
       "      <td>1</td>\n",
       "      <td>337</td>\n",
       "      <td>118</td>\n",
       "      <td>4</td>\n",
       "      <td>4.5</td>\n",
       "      <td>4.5</td>\n",
       "      <td>9.65</td>\n",
       "      <td>1</td>\n",
       "      <td>0.92</td>\n",
       "    </tr>\n",
       "    <tr>\n",
       "      <th>1</th>\n",
       "      <td>2</td>\n",
       "      <td>324</td>\n",
       "      <td>107</td>\n",
       "      <td>4</td>\n",
       "      <td>4.0</td>\n",
       "      <td>4.5</td>\n",
       "      <td>8.87</td>\n",
       "      <td>1</td>\n",
       "      <td>0.76</td>\n",
       "    </tr>\n",
       "    <tr>\n",
       "      <th>2</th>\n",
       "      <td>3</td>\n",
       "      <td>316</td>\n",
       "      <td>104</td>\n",
       "      <td>3</td>\n",
       "      <td>3.0</td>\n",
       "      <td>3.5</td>\n",
       "      <td>8.00</td>\n",
       "      <td>1</td>\n",
       "      <td>0.72</td>\n",
       "    </tr>\n",
       "    <tr>\n",
       "      <th>3</th>\n",
       "      <td>4</td>\n",
       "      <td>322</td>\n",
       "      <td>110</td>\n",
       "      <td>3</td>\n",
       "      <td>3.5</td>\n",
       "      <td>2.5</td>\n",
       "      <td>8.67</td>\n",
       "      <td>1</td>\n",
       "      <td>0.80</td>\n",
       "    </tr>\n",
       "    <tr>\n",
       "      <th>4</th>\n",
       "      <td>5</td>\n",
       "      <td>314</td>\n",
       "      <td>103</td>\n",
       "      <td>2</td>\n",
       "      <td>2.0</td>\n",
       "      <td>3.0</td>\n",
       "      <td>8.21</td>\n",
       "      <td>0</td>\n",
       "      <td>0.65</td>\n",
       "    </tr>\n",
       "  </tbody>\n",
       "</table>\n",
       "</div>"
      ],
      "text/plain": [
       "   Serial No.  GRE Score  TOEFL Score  University Rating  SOP  LOR   CGPA  \\\n",
       "0           1        337          118                  4  4.5   4.5  9.65   \n",
       "1           2        324          107                  4  4.0   4.5  8.87   \n",
       "2           3        316          104                  3  3.0   3.5  8.00   \n",
       "3           4        322          110                  3  3.5   2.5  8.67   \n",
       "4           5        314          103                  2  2.0   3.0  8.21   \n",
       "\n",
       "   Research  Chance of Admit   \n",
       "0         1              0.92  \n",
       "1         1              0.76  \n",
       "2         1              0.72  \n",
       "3         1              0.80  \n",
       "4         0              0.65  "
      ]
     },
     "execution_count": 1,
     "metadata": {},
     "output_type": "execute_result"
    }
   ],
   "source": [
    "import pandas as pd\n",
    "import numpy as np\n",
    "pd.set_option(\"display.max_columns\", 99)\n",
    "pd.set_option(\"display.max_rows\", 999)\n",
    "pd.set_option('precision', 3)\n",
    "\n",
    "admission = pd.read_csv('data/Admission_1.1.csv')\n",
    "print(admission.shape)\n",
    "print(admission.columns)\n",
    "admission.head()"
   ]
  },
  {
   "cell_type": "markdown",
   "metadata": {},
   "source": [
    "Before we proceed, let's do a couple things:\n",
    "- The `Serial No.` is not useful for our purpose, we will drop it\n",
    "- The `LOR` column has a space at the end, we will remove it. "
   ]
  },
  {
   "cell_type": "code",
   "execution_count": 2,
   "metadata": {},
   "outputs": [
    {
     "name": "stdout",
     "output_type": "stream",
     "text": [
      "(500, 8)\n"
     ]
    },
    {
     "data": {
      "text/plain": [
       "Index(['GRE Score', 'TOEFL Score', 'University Rating', 'SOP', 'CGPA',\n",
       "       'Research', 'Chance of Admit ', 'LOR'],\n",
       "      dtype='object')"
      ]
     },
     "execution_count": 2,
     "metadata": {},
     "output_type": "execute_result"
    }
   ],
   "source": [
    "admission['LOR'] = admission['LOR ']\n",
    "admission_1 = admission.drop(['Serial No.', 'LOR '], axis=1)\n",
    "print(admission_1.shape)\n",
    "admission_1.columns"
   ]
  },
  {
   "cell_type": "markdown",
   "metadata": {},
   "source": [
    "## 2. Train-Test Splitting"
   ]
  },
  {
   "cell_type": "code",
   "execution_count": 3,
   "metadata": {},
   "outputs": [
    {
     "name": "stdout",
     "output_type": "stream",
     "text": [
      "Train: (400, 8) \n",
      " Test: (100, 8)\n"
     ]
    }
   ],
   "source": [
    "from sklearn.model_selection import train_test_split\n",
    "\n",
    "train, test = train_test_split(admission_1, test_size=0.2, random_state=42)\n",
    "print('Train:', train.shape, '\\n', 'Test:', test.shape)"
   ]
  },
  {
   "cell_type": "markdown",
   "metadata": {},
   "source": [
    "## 3. Understanding the Data Types\n",
    "From sampling the first 5 rows above, it doesn't look like we have any columns in string form. They are in either `integer` or `float`"
   ]
  },
  {
   "cell_type": "code",
   "execution_count": 4,
   "metadata": {},
   "outputs": [
    {
     "data": {
      "text/plain": [
       "float64    4\n",
       "int64      4\n",
       "dtype: int64"
      ]
     },
     "execution_count": 4,
     "metadata": {},
     "output_type": "execute_result"
    }
   ],
   "source": [
    "train.dtypes.value_counts()"
   ]
  },
  {
   "cell_type": "code",
   "execution_count": 5,
   "metadata": {},
   "outputs": [
    {
     "data": {
      "image/png": "[encoded data removed]",
      "text/plain": [
       "<Figure size 1152x864 with 9 Axes>"
      ]
     },
     "metadata": {
      "needs_background": "light"
     },
     "output_type": "display_data"
    }
   ],
   "source": [
    "import matplotlib.pyplot as plt\n",
    "\n",
    "train.hist(bins=30, figsize=(16,12))\n",
    "plt.show()"
   ]
  },
  {
   "cell_type": "markdown",
   "metadata": {},
   "source": [
    "- From the histograms above, we can see that there are 4 `continuous` attributes:\n",
    "    - `GRE Score`\n",
    "    - `TOEFL Score`\n",
    "    - `CGPA`\n",
    "    - `Chance of Admit`\n",
    "- The other 4 attributes are `ordinal`:\n",
    "    - `University Rating` - 5 scales: 1-5\n",
    "    - `SOP` - 9 scales: 1-5\n",
    "    - `LOR` - 8 scales: 1.5-5.0\n",
    "    - `Research` - 2 scales = binary: 0-1\n",
    "    \n",
    "    \n",
    "## 4. Exploring Ordinal Data"
   ]
  },
  {
   "cell_type": "code",
   "execution_count": 6,
   "metadata": {},
   "outputs": [
    {
     "name": "stdout",
     "output_type": "stream",
     "text": [
      "3    132\n",
      "2    101\n",
      "4     80\n",
      "5     60\n",
      "1     27\n",
      "Name: University Rating, dtype: int64\n",
      "4.0    75\n",
      "3.5    73\n",
      "3.0    59\n",
      "2.5    52\n",
      "4.5    47\n",
      "2.0    36\n",
      "5.0    34\n",
      "1.5    20\n",
      "1.0     4\n",
      "Name: SOP, dtype: int64\n",
      "3.0    81\n",
      "4.0    75\n",
      "3.5    69\n",
      "4.5    49\n",
      "2.5    40\n",
      "5.0    40\n",
      "2.0    36\n",
      "1.5    10\n",
      "Name: LOR, dtype: int64\n",
      "1    222\n",
      "0    178\n",
      "Name: Research, dtype: int64\n"
     ]
    }
   ],
   "source": [
    "ord_cols = ['University Rating', 'SOP', 'LOR', 'Research']\n",
    "for col in ord_cols: \n",
    "    print(train[col].value_counts())"
   ]
  },
  {
   "cell_type": "markdown",
   "metadata": {},
   "source": [
    "## 5. Exploring Basic Stats"
   ]
  },
  {
   "cell_type": "code",
   "execution_count": 9,
   "metadata": {},
   "outputs": [
    {
     "data": {
      "text/html": [
       "<div>\n",
       "<style scoped>\n",
       "    .dataframe tbody tr th:only-of-type {\n",
       "        vertical-align: middle;\n",
       "    }\n",
       "\n",
       "    .dataframe tbody tr th {\n",
       "        vertical-align: top;\n",
       "    }\n",
       "\n",
       "    .dataframe thead th {\n",
       "        text-align: right;\n",
       "    }\n",
       "</style>\n",
       "<table border=\"1\" class=\"dataframe\">\n",
       "  <thead>\n",
       "    <tr style=\"text-align: right;\">\n",
       "      <th></th>\n",
       "      <th>count</th>\n",
       "      <th>mean</th>\n",
       "      <th>std</th>\n",
       "      <th>min</th>\n",
       "      <th>25%</th>\n",
       "      <th>50%</th>\n",
       "      <th>75%</th>\n",
       "      <th>max</th>\n",
       "      <th>max-min</th>\n",
       "    </tr>\n",
       "  </thead>\n",
       "  <tbody>\n",
       "    <tr>\n",
       "      <th>GRE Score</th>\n",
       "      <td>400.0</td>\n",
       "      <td>316.728</td>\n",
       "      <td>10.969</td>\n",
       "      <td>290.00</td>\n",
       "      <td>309.000</td>\n",
       "      <td>317.000</td>\n",
       "      <td>324.25</td>\n",
       "      <td>340.00</td>\n",
       "      <td>50.00</td>\n",
       "    </tr>\n",
       "    <tr>\n",
       "      <th>TOEFL Score</th>\n",
       "      <td>400.0</td>\n",
       "      <td>107.335</td>\n",
       "      <td>6.091</td>\n",
       "      <td>92.00</td>\n",
       "      <td>103.000</td>\n",
       "      <td>107.000</td>\n",
       "      <td>112.00</td>\n",
       "      <td>120.00</td>\n",
       "      <td>28.00</td>\n",
       "    </tr>\n",
       "    <tr>\n",
       "      <th>University Rating</th>\n",
       "      <td>400.0</td>\n",
       "      <td>3.112</td>\n",
       "      <td>1.146</td>\n",
       "      <td>1.00</td>\n",
       "      <td>2.000</td>\n",
       "      <td>3.000</td>\n",
       "      <td>4.00</td>\n",
       "      <td>5.00</td>\n",
       "      <td>4.00</td>\n",
       "    </tr>\n",
       "    <tr>\n",
       "      <th>SOP</th>\n",
       "      <td>400.0</td>\n",
       "      <td>3.375</td>\n",
       "      <td>0.987</td>\n",
       "      <td>1.00</td>\n",
       "      <td>2.500</td>\n",
       "      <td>3.500</td>\n",
       "      <td>4.00</td>\n",
       "      <td>5.00</td>\n",
       "      <td>4.00</td>\n",
       "    </tr>\n",
       "    <tr>\n",
       "      <th>CGPA</th>\n",
       "      <td>400.0</td>\n",
       "      <td>8.581</td>\n",
       "      <td>0.601</td>\n",
       "      <td>6.80</td>\n",
       "      <td>8.138</td>\n",
       "      <td>8.565</td>\n",
       "      <td>9.04</td>\n",
       "      <td>9.92</td>\n",
       "      <td>3.12</td>\n",
       "    </tr>\n",
       "    <tr>\n",
       "      <th>Research</th>\n",
       "      <td>400.0</td>\n",
       "      <td>0.555</td>\n",
       "      <td>0.498</td>\n",
       "      <td>0.00</td>\n",
       "      <td>0.000</td>\n",
       "      <td>1.000</td>\n",
       "      <td>1.00</td>\n",
       "      <td>1.00</td>\n",
       "      <td>1.00</td>\n",
       "    </tr>\n",
       "    <tr>\n",
       "      <th>Chance of Admit</th>\n",
       "      <td>400.0</td>\n",
       "      <td>0.724</td>\n",
       "      <td>0.141</td>\n",
       "      <td>0.34</td>\n",
       "      <td>0.637</td>\n",
       "      <td>0.730</td>\n",
       "      <td>0.82</td>\n",
       "      <td>0.97</td>\n",
       "      <td>0.63</td>\n",
       "    </tr>\n",
       "    <tr>\n",
       "      <th>LOR</th>\n",
       "      <td>400.0</td>\n",
       "      <td>3.480</td>\n",
       "      <td>0.922</td>\n",
       "      <td>1.50</td>\n",
       "      <td>3.000</td>\n",
       "      <td>3.500</td>\n",
       "      <td>4.00</td>\n",
       "      <td>5.00</td>\n",
       "      <td>3.50</td>\n",
       "    </tr>\n",
       "  </tbody>\n",
       "</table>\n",
       "</div>"
      ],
      "text/plain": [
       "                   count     mean     std     min      25%      50%     75%  \\\n",
       "GRE Score          400.0  316.728  10.969  290.00  309.000  317.000  324.25   \n",
       "TOEFL Score        400.0  107.335   6.091   92.00  103.000  107.000  112.00   \n",
       "University Rating  400.0    3.112   1.146    1.00    2.000    3.000    4.00   \n",
       "SOP                400.0    3.375   0.987    1.00    2.500    3.500    4.00   \n",
       "CGPA               400.0    8.581   0.601    6.80    8.138    8.565    9.04   \n",
       "Research           400.0    0.555   0.498    0.00    0.000    1.000    1.00   \n",
       "Chance of Admit    400.0    0.724   0.141    0.34    0.637    0.730    0.82   \n",
       "LOR                400.0    3.480   0.922    1.50    3.000    3.500    4.00   \n",
       "\n",
       "                      max  max-min  \n",
       "GRE Score          340.00    50.00  \n",
       "TOEFL Score        120.00    28.00  \n",
       "University Rating    5.00     4.00  \n",
       "SOP                  5.00     4.00  \n",
       "CGPA                 9.92     3.12  \n",
       "Research             1.00     1.00  \n",
       "Chance of Admit      0.97     0.63  \n",
       "LOR                  5.00     3.50  "
      ]
     },
     "execution_count": 9,
     "metadata": {},
     "output_type": "execute_result"
    }
   ],
   "source": [
    "stats = train.describe().T\n",
    "stats['max-min'] = train.max()-train.min()\n",
    "stats"
   ]
  },
  {
   "cell_type": "markdown",
   "metadata": {},
   "source": [
    "The max-min range is small for pretty much all of the attributes. We might have to scale GRE and TOEFL score, though, or we can discretize all of the continuous attributes and put them on the same scale as some of the ordinal attributes. \n",
    "\n",
    "## 6. Visualizing Outliers"
   ]
  },
  {
   "cell_type": "code",
   "execution_count": 10,
   "metadata": {},
   "outputs": [
    {
     "data": {
      "text/html": [
       "<div>\n",
       "<style scoped>\n",
       "    .dataframe tbody tr th:only-of-type {\n",
       "        vertical-align: middle;\n",
       "    }\n",
       "\n",
       "    .dataframe tbody tr th {\n",
       "        vertical-align: top;\n",
       "    }\n",
       "\n",
       "    .dataframe thead th {\n",
       "        text-align: right;\n",
       "    }\n",
       "</style>\n",
       "<table border=\"1\" class=\"dataframe\">\n",
       "  <thead>\n",
       "    <tr style=\"text-align: right;\">\n",
       "      <th></th>\n",
       "      <th>count</th>\n",
       "      <th>mean</th>\n",
       "      <th>std</th>\n",
       "      <th>min</th>\n",
       "      <th>25%</th>\n",
       "      <th>50%</th>\n",
       "      <th>75%</th>\n",
       "      <th>max</th>\n",
       "      <th>max_min</th>\n",
       "    </tr>\n",
       "  </thead>\n",
       "  <tbody>\n",
       "    <tr>\n",
       "      <th>GRE Score</th>\n",
       "      <td>400.0</td>\n",
       "      <td>-1.928e-15</td>\n",
       "      <td>1.001</td>\n",
       "      <td>-2.440</td>\n",
       "      <td>-0.705</td>\n",
       "      <td>0.025</td>\n",
       "      <td>0.687</td>\n",
       "      <td>2.124</td>\n",
       "      <td>4.564</td>\n",
       "    </tr>\n",
       "    <tr>\n",
       "      <th>TOEFL Score</th>\n",
       "      <td>400.0</td>\n",
       "      <td>1.020e-15</td>\n",
       "      <td>1.001</td>\n",
       "      <td>-2.521</td>\n",
       "      <td>-0.713</td>\n",
       "      <td>-0.055</td>\n",
       "      <td>0.767</td>\n",
       "      <td>2.082</td>\n",
       "      <td>4.602</td>\n",
       "    </tr>\n",
       "    <tr>\n",
       "      <th>University Rating</th>\n",
       "      <td>400.0</td>\n",
       "      <td>1.704e-16</td>\n",
       "      <td>1.001</td>\n",
       "      <td>-1.846</td>\n",
       "      <td>-0.972</td>\n",
       "      <td>-0.098</td>\n",
       "      <td>0.775</td>\n",
       "      <td>1.649</td>\n",
       "      <td>3.495</td>\n",
       "    </tr>\n",
       "    <tr>\n",
       "      <th>SOP</th>\n",
       "      <td>400.0</td>\n",
       "      <td>-6.939e-17</td>\n",
       "      <td>1.001</td>\n",
       "      <td>-2.409</td>\n",
       "      <td>-0.888</td>\n",
       "      <td>0.127</td>\n",
       "      <td>0.634</td>\n",
       "      <td>1.648</td>\n",
       "      <td>4.057</td>\n",
       "    </tr>\n",
       "    <tr>\n",
       "      <th>CGPA</th>\n",
       "      <td>400.0</td>\n",
       "      <td>-2.545e-16</td>\n",
       "      <td>1.001</td>\n",
       "      <td>-2.965</td>\n",
       "      <td>-0.738</td>\n",
       "      <td>-0.026</td>\n",
       "      <td>0.765</td>\n",
       "      <td>2.230</td>\n",
       "      <td>5.195</td>\n",
       "    </tr>\n",
       "    <tr>\n",
       "      <th>Research</th>\n",
       "      <td>400.0</td>\n",
       "      <td>1.532e-16</td>\n",
       "      <td>1.001</td>\n",
       "      <td>-1.117</td>\n",
       "      <td>-1.117</td>\n",
       "      <td>0.895</td>\n",
       "      <td>0.895</td>\n",
       "      <td>0.895</td>\n",
       "      <td>2.012</td>\n",
       "    </tr>\n",
       "    <tr>\n",
       "      <th>Chance of Admit</th>\n",
       "      <td>400.0</td>\n",
       "      <td>6.678e-16</td>\n",
       "      <td>1.001</td>\n",
       "      <td>-2.737</td>\n",
       "      <td>-0.617</td>\n",
       "      <td>0.041</td>\n",
       "      <td>0.683</td>\n",
       "      <td>1.751</td>\n",
       "      <td>4.488</td>\n",
       "    </tr>\n",
       "    <tr>\n",
       "      <th>LOR</th>\n",
       "      <td>400.0</td>\n",
       "      <td>-6.592e-18</td>\n",
       "      <td>1.001</td>\n",
       "      <td>-2.151</td>\n",
       "      <td>-0.522</td>\n",
       "      <td>0.022</td>\n",
       "      <td>0.565</td>\n",
       "      <td>1.651</td>\n",
       "      <td>3.803</td>\n",
       "    </tr>\n",
       "  </tbody>\n",
       "</table>\n",
       "</div>"
      ],
      "text/plain": [
       "                   count       mean    std    min    25%    50%    75%    max  \\\n",
       "GRE Score          400.0 -1.928e-15  1.001 -2.440 -0.705  0.025  0.687  2.124   \n",
       "TOEFL Score        400.0  1.020e-15  1.001 -2.521 -0.713 -0.055  0.767  2.082   \n",
       "University Rating  400.0  1.704e-16  1.001 -1.846 -0.972 -0.098  0.775  1.649   \n",
       "SOP                400.0 -6.939e-17  1.001 -2.409 -0.888  0.127  0.634  1.648   \n",
       "CGPA               400.0 -2.545e-16  1.001 -2.965 -0.738 -0.026  0.765  2.230   \n",
       "Research           400.0  1.532e-16  1.001 -1.117 -1.117  0.895  0.895  0.895   \n",
       "Chance of Admit    400.0  6.678e-16  1.001 -2.737 -0.617  0.041  0.683  1.751   \n",
       "LOR                400.0 -6.592e-18  1.001 -2.151 -0.522  0.022  0.565  1.651   \n",
       "\n",
       "                   max_min  \n",
       "GRE Score            4.564  \n",
       "TOEFL Score          4.602  \n",
       "University Rating    3.495  \n",
       "SOP                  4.057  \n",
       "CGPA                 5.195  \n",
       "Research             2.012  \n",
       "Chance of Admit      4.488  \n",
       "LOR                  3.803  "
      ]
     },
     "execution_count": 10,
     "metadata": {},
     "output_type": "execute_result"
    }
   ],
   "source": [
    "from sklearn.preprocessing import StandardScaler\n",
    "\n",
    "scaler = StandardScaler()\n",
    "train_1 = scaler.fit_transform(train)\n",
    "train_1 = pd.DataFrame(train_1, \n",
    "                             columns=train.columns)\n",
    "train_1_ = train_1.describe().T\n",
    "train_1_['max_min'] = train_1.max() - train_1.min()\n",
    "train_1_"
   ]
  },
  {
   "cell_type": "code",
   "execution_count": 11,
   "metadata": {},
   "outputs": [
    {
     "data": {
      "image/png": "[encoded data removed]",
      "text/plain": [
       "<Figure size 720x720 with 1 Axes>"
      ]
     },
     "metadata": {
      "needs_background": "light"
     },
     "output_type": "display_data"
    }
   ],
   "source": [
    "import seaborn as sns\n",
    "\n",
    "plt.figure(figsize=(10,10))\n",
    "ax = sns.boxplot(data=train_1, orient=\"h\", palette=\"husl\")"
   ]
  },
  {
   "cell_type": "markdown",
   "metadata": {},
   "source": [
    "So there are virtually no outliers in our dataset, except for a couple "
   ]
  }
 ],
 "metadata": {
  "kernelspec": {
   "display_name": "Python 3",
   "language": "python",
   "name": "python3"
  },
  "language_info": {
   "codemirror_mode": {
    "name": "ipython",
    "version": 3
   },
   "file_extension": ".py",
   "mimetype": "text/x-python",
   "name": "python",
   "nbconvert_exporter": "python",
   "pygments_lexer": "ipython3",
   "version": "3.7.7"
  }
 },
 "nbformat": 4,
 "nbformat_minor": 4
}
