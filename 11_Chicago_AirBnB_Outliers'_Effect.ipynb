{
 "cells": [
  {
   "cell_type": "markdown",
   "metadata": {},
   "source": [
    "# 11. CHICAGO AIRBNB: OUTLIERS' EFFECT\n",
    "---"
   ]
  },
  {
   "cell_type": "markdown",
   "metadata": {},
   "source": [
    "## 1. The Data"
   ]
  },
  {
   "cell_type": "code",
   "execution_count": 5,
   "metadata": {
    "scrolled": false
   },
   "outputs": [
    {
     "name": "stdout",
     "output_type": "stream",
     "text": [
      "(6550, 8)\n"
     ]
    },
    {
     "data": {
      "text/html": [
       "<div>\n",
       "<style scoped>\n",
       "    .dataframe tbody tr th:only-of-type {\n",
       "        vertical-align: middle;\n",
       "    }\n",
       "\n",
       "    .dataframe tbody tr th {\n",
       "        vertical-align: top;\n",
       "    }\n",
       "\n",
       "    .dataframe thead th {\n",
       "        text-align: right;\n",
       "    }\n",
       "</style>\n",
       "<table border=\"1\" class=\"dataframe\">\n",
       "  <thead>\n",
       "    <tr style=\"text-align: right;\">\n",
       "      <th></th>\n",
       "      <th>accommodates</th>\n",
       "      <th>bedrooms</th>\n",
       "      <th>baths</th>\n",
       "      <th>beds</th>\n",
       "      <th>min_nights</th>\n",
       "      <th>max_nights</th>\n",
       "      <th>n_reviews</th>\n",
       "      <th>price</th>\n",
       "    </tr>\n",
       "  </thead>\n",
       "  <tbody>\n",
       "    <tr>\n",
       "      <th>0</th>\n",
       "      <td>1</td>\n",
       "      <td>1.0</td>\n",
       "      <td>0.5</td>\n",
       "      <td>1.0</td>\n",
       "      <td>2</td>\n",
       "      <td>90</td>\n",
       "      <td>178</td>\n",
       "      <td>66.0</td>\n",
       "    </tr>\n",
       "    <tr>\n",
       "      <th>1</th>\n",
       "      <td>7</td>\n",
       "      <td>3.0</td>\n",
       "      <td>1.0</td>\n",
       "      <td>5.0</td>\n",
       "      <td>2</td>\n",
       "      <td>60</td>\n",
       "      <td>395</td>\n",
       "      <td>94.0</td>\n",
       "    </tr>\n",
       "    <tr>\n",
       "      <th>2</th>\n",
       "      <td>2</td>\n",
       "      <td>1.0</td>\n",
       "      <td>1.0</td>\n",
       "      <td>1.0</td>\n",
       "      <td>2</td>\n",
       "      <td>60</td>\n",
       "      <td>384</td>\n",
       "      <td>61.0</td>\n",
       "    </tr>\n",
       "    <tr>\n",
       "      <th>3</th>\n",
       "      <td>4</td>\n",
       "      <td>1.0</td>\n",
       "      <td>1.0</td>\n",
       "      <td>0.0</td>\n",
       "      <td>4</td>\n",
       "      <td>180</td>\n",
       "      <td>49</td>\n",
       "      <td>67.0</td>\n",
       "    </tr>\n",
       "    <tr>\n",
       "      <th>4</th>\n",
       "      <td>2</td>\n",
       "      <td>1.0</td>\n",
       "      <td>0.5</td>\n",
       "      <td>1.0</td>\n",
       "      <td>1</td>\n",
       "      <td>1125</td>\n",
       "      <td>44</td>\n",
       "      <td>22.0</td>\n",
       "    </tr>\n",
       "  </tbody>\n",
       "</table>\n",
       "</div>"
      ],
      "text/plain": [
       "   accommodates  bedrooms  baths  beds  min_nights  max_nights  n_reviews  \\\n",
       "0             1       1.0    0.5   1.0           2          90        178   \n",
       "1             7       3.0    1.0   5.0           2          60        395   \n",
       "2             2       1.0    1.0   1.0           2          60        384   \n",
       "3             4       1.0    1.0   0.0           4         180         49   \n",
       "4             2       1.0    0.5   1.0           1        1125         44   \n",
       "\n",
       "   price  \n",
       "0   66.0  \n",
       "1   94.0  \n",
       "2   61.0  \n",
       "3   67.0  \n",
       "4   22.0  "
      ]
     },
     "execution_count": 5,
     "metadata": {},
     "output_type": "execute_result"
    }
   ],
   "source": [
    "import pandas as pd\n",
    "import numpy as np\n",
    "pd.set_option(\"display.max_columns\", 99)\n",
    "pd.set_option(\"display.max_rows\", 999)\n",
    "pd.set_option('precision', 3)\n",
    "\n",
    "chic_cols = ['accommodates', 'bedrooms', 'baths', 'beds', \n",
    "             'min_nights', 'max_nights', 'n_reviews', 'price']\n",
    "chicago = pd.read_csv('data/chicago_airbnb1')\n",
    "chicago = chicago[chic_cols].copy()\n",
    "print(chicago.shape)\n",
    "chicago.head()"
   ]
  },
  {
   "cell_type": "code",
   "execution_count": 6,
   "metadata": {},
   "outputs": [
    {
     "data": {
      "text/plain": [
       "accommodates      0\n",
       "bedrooms        522\n",
       "baths             6\n",
       "beds             37\n",
       "min_nights        0\n",
       "max_nights        0\n",
       "n_reviews         0\n",
       "price             0\n",
       "dtype: int64"
      ]
     },
     "execution_count": 6,
     "metadata": {},
     "output_type": "execute_result"
    }
   ],
   "source": [
    "chicago.isnull().sum()"
   ]
  },
  {
   "cell_type": "markdown",
   "metadata": {},
   "source": [
    "## 2. Handling Missing Data"
   ]
  },
  {
   "cell_type": "code",
   "execution_count": 7,
   "metadata": {},
   "outputs": [
    {
     "data": {
      "text/plain": [
       "accommodates  baths\n",
       "0             NaN         1\n",
       "1             0.50      202\n",
       "              1.00      163\n",
       "              0.75       30\n",
       "              2.00       14\n",
       "              1.50       12\n",
       "              1.25        4\n",
       "              11.00       3\n",
       "              0.00        2\n",
       "              0.25        2\n",
       "              2.50        2\n",
       "2             1.00     1392\n",
       "Name: baths, dtype: int64"
      ]
     },
     "execution_count": 7,
     "metadata": {},
     "output_type": "execute_result"
    }
   ],
   "source": [
    "chicago.groupby(['accommodates'])['baths'].value_counts(dropna=False).head(12)"
   ]
  },
  {
   "cell_type": "code",
   "execution_count": 8,
   "metadata": {},
   "outputs": [
    {
     "data": {
      "text/plain": [
       "0"
      ]
     },
     "execution_count": 8,
     "metadata": {},
     "output_type": "execute_result"
    }
   ],
   "source": [
    "mode = chicago['baths'].mode()[0]\n",
    "chicago['baths'] = chicago.groupby(['accommodates'])['baths'].\\\n",
    "apply(lambda x:x.fillna(x.value_counts().idxmax() \n",
    "                        if x.value_counts().max() >=1\n",
    "                       else mode , inplace = False\n",
    "                       )\n",
    "     )\n",
    "chicago['baths'].isnull().sum()"
   ]
  },
  {
   "cell_type": "code",
   "execution_count": 9,
   "metadata": {},
   "outputs": [
    {
     "data": {
      "text/plain": [
       "accommodates  baths  beds\n",
       "0             1.00   NaN       1\n",
       "1             0.00   1.0       1\n",
       "                     2.0       1\n",
       "              0.25   0.0       1\n",
       "                     1.0       1\n",
       "              0.50   1.0     186\n",
       "                     2.0       7\n",
       "                     0.0       6\n",
       "                     NaN       1\n",
       "                     3.0       1\n",
       "                     4.0       1\n",
       "              0.75   1.0      27\n",
       "Name: beds, dtype: int64"
      ]
     },
     "execution_count": 9,
     "metadata": {},
     "output_type": "execute_result"
    }
   ],
   "source": [
    "chicago.groupby(['accommodates', 'baths'])['beds'].value_counts(dropna=False).head(12)"
   ]
  },
  {
   "cell_type": "code",
   "execution_count": 10,
   "metadata": {},
   "outputs": [
    {
     "data": {
      "text/plain": [
       "0"
      ]
     },
     "execution_count": 10,
     "metadata": {},
     "output_type": "execute_result"
    }
   ],
   "source": [
    "mode = chicago['beds'].mode()[0]\n",
    "chicago['beds'] = chicago.groupby(['accommodates', 'baths'])['beds'].\\\n",
    "apply(lambda x:x.fillna(x.value_counts().idxmax() \n",
    "                        if x.value_counts().max() >=1\n",
    "                       else mode , inplace = False\n",
    "                       )\n",
    "     )\n",
    "chicago['beds'].isnull().sum()"
   ]
  },
  {
   "cell_type": "code",
   "execution_count": 11,
   "metadata": {},
   "outputs": [
    {
     "data": {
      "text/plain": [
       "0"
      ]
     },
     "execution_count": 11,
     "metadata": {},
     "output_type": "execute_result"
    }
   ],
   "source": [
    "mode = chicago['bedrooms'].mode()[0]\n",
    "chicago['bedrooms'] = chicago.groupby(['accommodates', 'beds', 'baths'])['bedrooms'].\\\n",
    "apply(lambda x:x.fillna(x.value_counts().idxmax() \n",
    "                        if x.value_counts().max() >=1\n",
    "                       else mode , inplace = False\n",
    "                       )\n",
    "     )\n",
    "chicago['bedrooms'].isnull().sum()"
   ]
  },
  {
   "cell_type": "code",
   "execution_count": 12,
   "metadata": {},
   "outputs": [
    {
     "data": {
      "text/plain": [
       "accommodates    0\n",
       "bedrooms        0\n",
       "baths           0\n",
       "beds            0\n",
       "min_nights      0\n",
       "max_nights      0\n",
       "n_reviews       0\n",
       "price           0\n",
       "dtype: int64"
      ]
     },
     "execution_count": 12,
     "metadata": {},
     "output_type": "execute_result"
    }
   ],
   "source": [
    "chicago.isnull().sum()"
   ]
  },
  {
   "cell_type": "markdown",
   "metadata": {},
   "source": [
    "## 3. Exploring Outliers"
   ]
  },
  {
   "cell_type": "code",
   "execution_count": 13,
   "metadata": {},
   "outputs": [
    {
     "data": {
      "text/plain": [
       "accommodates       16.0\n",
       "bedrooms           11.0\n",
       "baths              12.5\n",
       "beds               30.0\n",
       "min_nights        499.0\n",
       "max_nights       8999.0\n",
       "n_reviews         627.0\n",
       "price           10000.0\n",
       "dtype: float64"
      ]
     },
     "execution_count": 13,
     "metadata": {},
     "output_type": "execute_result"
    }
   ],
   "source": [
    "chicago.max() - chicago.min()"
   ]
  },
  {
   "cell_type": "markdown",
   "metadata": {},
   "source": [
    "While it's tempting to leave our target attribute (`price`) untached, it's important to know that if we do it, it will lead to our model wanting reproduce the outlier effect. So let's first normalize the data and cap outliers and then observe the difference"
   ]
  },
  {
   "cell_type": "code",
   "execution_count": 16,
   "metadata": {},
   "outputs": [
    {
     "data": {
      "text/html": [
       "<div>\n",
       "<style scoped>\n",
       "    .dataframe tbody tr th:only-of-type {\n",
       "        vertical-align: middle;\n",
       "    }\n",
       "\n",
       "    .dataframe tbody tr th {\n",
       "        vertical-align: top;\n",
       "    }\n",
       "\n",
       "    .dataframe thead th {\n",
       "        text-align: right;\n",
       "    }\n",
       "</style>\n",
       "<table border=\"1\" class=\"dataframe\">\n",
       "  <thead>\n",
       "    <tr style=\"text-align: right;\">\n",
       "      <th></th>\n",
       "      <th>accommodates</th>\n",
       "      <th>bedrooms</th>\n",
       "      <th>baths</th>\n",
       "      <th>beds</th>\n",
       "      <th>min_nights</th>\n",
       "      <th>max_nights</th>\n",
       "      <th>n_reviews</th>\n",
       "      <th>price</th>\n",
       "    </tr>\n",
       "  </thead>\n",
       "  <tbody>\n",
       "    <tr>\n",
       "      <th>0</th>\n",
       "      <td>0.062</td>\n",
       "      <td>0.000</td>\n",
       "      <td>0.04</td>\n",
       "      <td>0.033</td>\n",
       "      <td>0.002</td>\n",
       "      <td>0.010</td>\n",
       "      <td>0.284</td>\n",
       "      <td>0.007</td>\n",
       "    </tr>\n",
       "    <tr>\n",
       "      <th>1</th>\n",
       "      <td>0.438</td>\n",
       "      <td>0.182</td>\n",
       "      <td>0.08</td>\n",
       "      <td>0.167</td>\n",
       "      <td>0.002</td>\n",
       "      <td>0.007</td>\n",
       "      <td>0.630</td>\n",
       "      <td>0.009</td>\n",
       "    </tr>\n",
       "    <tr>\n",
       "      <th>2</th>\n",
       "      <td>0.125</td>\n",
       "      <td>0.000</td>\n",
       "      <td>0.08</td>\n",
       "      <td>0.033</td>\n",
       "      <td>0.002</td>\n",
       "      <td>0.007</td>\n",
       "      <td>0.612</td>\n",
       "      <td>0.006</td>\n",
       "    </tr>\n",
       "    <tr>\n",
       "      <th>3</th>\n",
       "      <td>0.250</td>\n",
       "      <td>0.000</td>\n",
       "      <td>0.08</td>\n",
       "      <td>0.000</td>\n",
       "      <td>0.006</td>\n",
       "      <td>0.020</td>\n",
       "      <td>0.078</td>\n",
       "      <td>0.007</td>\n",
       "    </tr>\n",
       "    <tr>\n",
       "      <th>4</th>\n",
       "      <td>0.125</td>\n",
       "      <td>0.000</td>\n",
       "      <td>0.04</td>\n",
       "      <td>0.033</td>\n",
       "      <td>0.000</td>\n",
       "      <td>0.125</td>\n",
       "      <td>0.070</td>\n",
       "      <td>0.002</td>\n",
       "    </tr>\n",
       "  </tbody>\n",
       "</table>\n",
       "</div>"
      ],
      "text/plain": [
       "   accommodates  bedrooms  baths   beds  min_nights  max_nights  n_reviews  \\\n",
       "0         0.062     0.000   0.04  0.033       0.002       0.010      0.284   \n",
       "1         0.438     0.182   0.08  0.167       0.002       0.007      0.630   \n",
       "2         0.125     0.000   0.08  0.033       0.002       0.007      0.612   \n",
       "3         0.250     0.000   0.08  0.000       0.006       0.020      0.078   \n",
       "4         0.125     0.000   0.04  0.033       0.000       0.125      0.070   \n",
       "\n",
       "   price  \n",
       "0  0.007  \n",
       "1  0.009  \n",
       "2  0.006  \n",
       "3  0.007  \n",
       "4  0.002  "
      ]
     },
     "execution_count": 16,
     "metadata": {},
     "output_type": "execute_result"
    }
   ],
   "source": [
    "from sklearn.preprocessing import MinMaxScaler\n",
    "\n",
    "normalizer = MinMaxScaler()\n",
    "chicago_1 = normalizer.fit_transform(chicago)\n",
    "chicago_1 = pd.DataFrame(chicago_1)\n",
    "chicago_1.columns = chic_cols\n",
    "chicago_1.head()"
   ]
  },
  {
   "cell_type": "code",
   "execution_count": 18,
   "metadata": {},
   "outputs": [
    {
     "data": {
      "image/png": "[encoded data removed]",
      "text/plain": [
       "<Figure size 720x504 with 1 Axes>"
      ]
     },
     "metadata": {
      "needs_background": "light"
     },
     "output_type": "display_data"
    }
   ],
   "source": [
    "import matplotlib.pyplot as plt\n",
    "import seaborn as sns\n",
    "\n",
    "plt.figure(figsize=(10,7))\n",
    "ax = sns.boxplot(data=chicago_1, orient=\"h\", palette=\"husl\")"
   ]
  },
  {
   "cell_type": "markdown",
   "metadata": {},
   "source": [
    "## 4. Capping Outliers"
   ]
  },
  {
   "cell_type": "code",
   "execution_count": 23,
   "metadata": {},
   "outputs": [
    {
     "data": {
      "text/html": [
       "<div>\n",
       "<style scoped>\n",
       "    .dataframe tbody tr th:only-of-type {\n",
       "        vertical-align: middle;\n",
       "    }\n",
       "\n",
       "    .dataframe tbody tr th {\n",
       "        vertical-align: top;\n",
       "    }\n",
       "\n",
       "    .dataframe thead th {\n",
       "        text-align: right;\n",
       "    }\n",
       "</style>\n",
       "<table border=\"1\" class=\"dataframe\">\n",
       "  <thead>\n",
       "    <tr style=\"text-align: right;\">\n",
       "      <th></th>\n",
       "      <th>accommodates</th>\n",
       "      <th>bedrooms</th>\n",
       "      <th>baths</th>\n",
       "      <th>beds</th>\n",
       "      <th>min_nights</th>\n",
       "      <th>max_nights</th>\n",
       "      <th>n_reviews</th>\n",
       "      <th>price</th>\n",
       "    </tr>\n",
       "  </thead>\n",
       "  <tbody>\n",
       "    <tr>\n",
       "      <th>0</th>\n",
       "      <td>1.0</td>\n",
       "      <td>1.0</td>\n",
       "      <td>0.5</td>\n",
       "      <td>1.0</td>\n",
       "      <td>2.0</td>\n",
       "      <td>90.0</td>\n",
       "      <td>137.0</td>\n",
       "      <td>66.0</td>\n",
       "    </tr>\n",
       "    <tr>\n",
       "      <th>1</th>\n",
       "      <td>7.0</td>\n",
       "      <td>3.0</td>\n",
       "      <td>1.0</td>\n",
       "      <td>5.0</td>\n",
       "      <td>2.0</td>\n",
       "      <td>60.0</td>\n",
       "      <td>137.0</td>\n",
       "      <td>94.0</td>\n",
       "    </tr>\n",
       "    <tr>\n",
       "      <th>2</th>\n",
       "      <td>2.0</td>\n",
       "      <td>1.0</td>\n",
       "      <td>1.0</td>\n",
       "      <td>1.0</td>\n",
       "      <td>2.0</td>\n",
       "      <td>60.0</td>\n",
       "      <td>137.0</td>\n",
       "      <td>61.0</td>\n",
       "    </tr>\n",
       "    <tr>\n",
       "      <th>3</th>\n",
       "      <td>4.0</td>\n",
       "      <td>1.0</td>\n",
       "      <td>1.0</td>\n",
       "      <td>0.0</td>\n",
       "      <td>4.0</td>\n",
       "      <td>180.0</td>\n",
       "      <td>49.0</td>\n",
       "      <td>67.0</td>\n",
       "    </tr>\n",
       "    <tr>\n",
       "      <th>4</th>\n",
       "      <td>2.0</td>\n",
       "      <td>1.0</td>\n",
       "      <td>0.5</td>\n",
       "      <td>1.0</td>\n",
       "      <td>1.0</td>\n",
       "      <td>1125.0</td>\n",
       "      <td>44.0</td>\n",
       "      <td>22.0</td>\n",
       "    </tr>\n",
       "  </tbody>\n",
       "</table>\n",
       "</div>"
      ],
      "text/plain": [
       "   accommodates  bedrooms  baths  beds  min_nights  max_nights  n_reviews  \\\n",
       "0           1.0       1.0    0.5   1.0         2.0        90.0      137.0   \n",
       "1           7.0       3.0    1.0   5.0         2.0        60.0      137.0   \n",
       "2           2.0       1.0    1.0   1.0         2.0        60.0      137.0   \n",
       "3           4.0       1.0    1.0   0.0         4.0       180.0       49.0   \n",
       "4           2.0       1.0    0.5   1.0         1.0      1125.0       44.0   \n",
       "\n",
       "   price  \n",
       "0   66.0  \n",
       "1   94.0  \n",
       "2   61.0  \n",
       "3   67.0  \n",
       "4   22.0  "
      ]
     },
     "execution_count": 23,
     "metadata": {},
     "output_type": "execute_result"
    }
   ],
   "source": [
    "def cap_outliers(df, cols):\n",
    "    df = df.copy()\n",
    "    IQR = df.quantile(0.75) - df.quantile(0.25)\n",
    "    LB = df.quantile(0.25) - (IQR*1.5)\n",
    "    UB = df.quantile(0.75) + (IQR*1.5)\n",
    "    df = np.where(df > UB, UB,\n",
    "                 np.where(df < LB, LB, df))\n",
    "    df = pd.DataFrame(df)\n",
    "    df.columns = cols\n",
    "    return df\n",
    "\n",
    "chicago_2 = cap_outliers(chicago, chic_cols)\n",
    "chicago_2.head()"
   ]
  },
  {
   "cell_type": "code",
   "execution_count": 24,
   "metadata": {},
   "outputs": [
    {
     "data": {
      "text/html": [
       "<div>\n",
       "<style scoped>\n",
       "    .dataframe tbody tr th:only-of-type {\n",
       "        vertical-align: middle;\n",
       "    }\n",
       "\n",
       "    .dataframe tbody tr th {\n",
       "        vertical-align: top;\n",
       "    }\n",
       "\n",
       "    .dataframe thead th {\n",
       "        text-align: right;\n",
       "    }\n",
       "</style>\n",
       "<table border=\"1\" class=\"dataframe\">\n",
       "  <thead>\n",
       "    <tr style=\"text-align: right;\">\n",
       "      <th></th>\n",
       "      <th>accommodates</th>\n",
       "      <th>bedrooms</th>\n",
       "      <th>baths</th>\n",
       "      <th>beds</th>\n",
       "      <th>min_nights</th>\n",
       "      <th>max_nights</th>\n",
       "      <th>n_reviews</th>\n",
       "      <th>price</th>\n",
       "    </tr>\n",
       "  </thead>\n",
       "  <tbody>\n",
       "    <tr>\n",
       "      <th>0</th>\n",
       "      <td>0.083</td>\n",
       "      <td>0.0</td>\n",
       "      <td>0.125</td>\n",
       "      <td>0.167</td>\n",
       "      <td>0.2</td>\n",
       "      <td>0.032</td>\n",
       "      <td>1.000</td>\n",
       "      <td>0.220</td>\n",
       "    </tr>\n",
       "    <tr>\n",
       "      <th>1</th>\n",
       "      <td>0.583</td>\n",
       "      <td>0.8</td>\n",
       "      <td>0.375</td>\n",
       "      <td>0.833</td>\n",
       "      <td>0.2</td>\n",
       "      <td>0.021</td>\n",
       "      <td>1.000</td>\n",
       "      <td>0.314</td>\n",
       "    </tr>\n",
       "    <tr>\n",
       "      <th>2</th>\n",
       "      <td>0.167</td>\n",
       "      <td>0.0</td>\n",
       "      <td>0.375</td>\n",
       "      <td>0.167</td>\n",
       "      <td>0.2</td>\n",
       "      <td>0.021</td>\n",
       "      <td>1.000</td>\n",
       "      <td>0.204</td>\n",
       "    </tr>\n",
       "    <tr>\n",
       "      <th>3</th>\n",
       "      <td>0.333</td>\n",
       "      <td>0.0</td>\n",
       "      <td>0.375</td>\n",
       "      <td>0.000</td>\n",
       "      <td>0.6</td>\n",
       "      <td>0.065</td>\n",
       "      <td>0.358</td>\n",
       "      <td>0.224</td>\n",
       "    </tr>\n",
       "    <tr>\n",
       "      <th>4</th>\n",
       "      <td>0.167</td>\n",
       "      <td>0.0</td>\n",
       "      <td>0.125</td>\n",
       "      <td>0.167</td>\n",
       "      <td>0.0</td>\n",
       "      <td>0.407</td>\n",
       "      <td>0.321</td>\n",
       "      <td>0.073</td>\n",
       "    </tr>\n",
       "  </tbody>\n",
       "</table>\n",
       "</div>"
      ],
      "text/plain": [
       "   accommodates  bedrooms  baths   beds  min_nights  max_nights  n_reviews  \\\n",
       "0         0.083       0.0  0.125  0.167         0.2       0.032      1.000   \n",
       "1         0.583       0.8  0.375  0.833         0.2       0.021      1.000   \n",
       "2         0.167       0.0  0.375  0.167         0.2       0.021      1.000   \n",
       "3         0.333       0.0  0.375  0.000         0.6       0.065      0.358   \n",
       "4         0.167       0.0  0.125  0.167         0.0       0.407      0.321   \n",
       "\n",
       "   price  \n",
       "0  0.220  \n",
       "1  0.314  \n",
       "2  0.204  \n",
       "3  0.224  \n",
       "4  0.073  "
      ]
     },
     "execution_count": 24,
     "metadata": {},
     "output_type": "execute_result"
    }
   ],
   "source": [
    "normalizer = MinMaxScaler()\n",
    "chicago_2n = normalizer.fit_transform(chicago_2)\n",
    "chicago_2n = pd.DataFrame(chicago_2n)\n",
    "chicago_2n.columns = chic_cols\n",
    "chicago_2n.head()"
   ]
  },
  {
   "cell_type": "code",
   "execution_count": 25,
   "metadata": {},
   "outputs": [
    {
     "data": {
      "image/png": "[encoded data removed]",
      "text/plain": [
       "<Figure size 720x504 with 1 Axes>"
      ]
     },
     "metadata": {
      "needs_background": "light"
     },
     "output_type": "display_data"
    }
   ],
   "source": [
    "plt.figure(figsize=(10,7))\n",
    "ax = sns.boxplot(data=chicago_2n, orient=\"h\", palette=\"husl\")"
   ]
  },
  {
   "cell_type": "markdown",
   "metadata": {},
   "source": [
    "## 5. The Effect of Capping the Target Attribute"
   ]
  },
  {
   "cell_type": "code",
   "execution_count": 26,
   "metadata": {},
   "outputs": [
    {
     "data": {
      "image/png": "[encoded data removed]",
      "text/plain": [
       "<Figure size 1152x288 with 3 Axes>"
      ]
     },
     "metadata": {
      "needs_background": "light"
     },
     "output_type": "display_data"
    }
   ],
   "source": [
    "import scipy.stats as stats\n",
    "\n",
    "def diagnostic_plots(df, variable):   \n",
    "    plt.figure(figsize=(16, 4))\n",
    "   \n",
    "    plt.subplot(1, 3, 1)\n",
    "    sns.distplot(df[variable], bins=30)\n",
    "    plt.title('Histogram')\n",
    "   \n",
    "    plt.subplot(1, 3, 2)\n",
    "    stats.probplot(df[variable], dist=\"norm\", plot=plt)\n",
    "    plt.ylabel('Price Quantiles')\n",
    "    \n",
    "    plt.subplot(1, 3, 3)\n",
    "    sns.boxplot(y=df[variable])\n",
    "    plt.title('Boxplot')\n",
    "\n",
    "    plt.show()\n",
    "\n",
    "# before capping outliers\n",
    "diagnostic_plots(chicago, 'price')"
   ]
  },
  {
   "cell_type": "code",
   "execution_count": 27,
   "metadata": {},
   "outputs": [
    {
     "data": {
      "image/png": "[encoded data removed]",
      "text/plain": [
       "<Figure size 1152x288 with 3 Axes>"
      ]
     },
     "metadata": {
      "needs_background": "light"
     },
     "output_type": "display_data"
    }
   ],
   "source": [
    "# after capping outliers\n",
    "diagnostic_plots(chicago_2, 'price')"
   ]
  },
  {
   "cell_type": "code",
   "execution_count": 31,
   "metadata": {},
   "outputs": [
    {
     "data": {
      "text/plain": [
       "299.375    597\n",
       "75.000     143\n",
       "80.000     134\n",
       "50.000     132\n",
       "150.000    125\n",
       "Name: price, dtype: int64"
      ]
     },
     "execution_count": 31,
     "metadata": {},
     "output_type": "execute_result"
    }
   ],
   "source": [
    "chicago_2['price'].value_counts().head()"
   ]
  },
  {
   "cell_type": "code",
   "execution_count": 30,
   "metadata": {},
   "outputs": [
    {
     "data": {
      "text/plain": [
       "299.375"
      ]
     },
     "execution_count": 30,
     "metadata": {},
     "output_type": "execute_result"
    }
   ],
   "source": [
    "IQR = chicago['price'].quantile(0.75) - chicago['price'].quantile(0.25)\n",
    "UB = chicago['price'].quantile(0.75) + (IQR*1.5)\n",
    "UB"
   ]
  },
  {
   "cell_type": "code",
   "execution_count": null,
   "metadata": {},
   "outputs": [],
   "source": []
  }
 ],
 "metadata": {
  "kernelspec": {
   "display_name": "Python 3",
   "language": "python",
   "name": "python3"
  },
  "language_info": {
   "codemirror_mode": {
    "name": "ipython",
    "version": 3
   },
   "file_extension": ".py",
   "mimetype": "text/x-python",
   "name": "python",
   "nbconvert_exporter": "python",
   "pygments_lexer": "ipython3",
   "version": "3.7.7"
  }
 },
 "nbformat": 4,
 "nbformat_minor": 4
}
