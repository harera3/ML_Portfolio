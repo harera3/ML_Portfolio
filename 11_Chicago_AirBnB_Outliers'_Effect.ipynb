{
 "cells": [
  {
   "cell_type": "markdown",
   "metadata": {},
   "source": [
    "# 11. CHICAGO AIRBNB: OUTLIERS' EFFECT\n",
    "---"
   ]
  },
  {
   "cell_type": "markdown",
   "metadata": {},
   "source": [
    "## 1. The Data"
   ]
  },
  {
   "cell_type": "code",
   "execution_count": 5,
   "metadata": {
    "scrolled": false
   },
   "outputs": [
    {
     "name": "stdout",
     "output_type": "stream",
     "text": [
      "(6550, 8)\n"
     ]
    },
    {
     "data": {
      "text/html": [
       "<div>\n",
       "<style scoped>\n",
       "    .dataframe tbody tr th:only-of-type {\n",
       "        vertical-align: middle;\n",
       "    }\n",
       "\n",
       "    .dataframe tbody tr th {\n",
       "        vertical-align: top;\n",
       "    }\n",
       "\n",
       "    .dataframe thead th {\n",
       "        text-align: right;\n",
       "    }\n",
       "</style>\n",
       "<table border=\"1\" class=\"dataframe\">\n",
       "  <thead>\n",
       "    <tr style=\"text-align: right;\">\n",
       "      <th></th>\n",
       "      <th>accommodates</th>\n",
       "      <th>bedrooms</th>\n",
       "      <th>baths</th>\n",
       "      <th>beds</th>\n",
       "      <th>min_nights</th>\n",
       "      <th>max_nights</th>\n",
       "      <th>n_reviews</th>\n",
       "      <th>price</th>\n",
       "    </tr>\n",
       "  </thead>\n",
       "  <tbody>\n",
       "    <tr>\n",
       "      <th>0</th>\n",
       "      <td>1</td>\n",
       "      <td>1.0</td>\n",
       "      <td>0.5</td>\n",
       "      <td>1.0</td>\n",
       "      <td>2</td>\n",
       "      <td>90</td>\n",
       "      <td>178</td>\n",
       "      <td>66.0</td>\n",
       "    </tr>\n",
       "    <tr>\n",
       "      <th>1</th>\n",
       "      <td>7</td>\n",
       "      <td>3.0</td>\n",
       "      <td>1.0</td>\n",
       "      <td>5.0</td>\n",
       "      <td>2</td>\n",
       "      <td>60</td>\n",
       "      <td>395</td>\n",
       "      <td>94.0</td>\n",
       "    </tr>\n",
       "    <tr>\n",
       "      <th>2</th>\n",
       "      <td>2</td>\n",
       "      <td>1.0</td>\n",
       "      <td>1.0</td>\n",
       "      <td>1.0</td>\n",
       "      <td>2</td>\n",
       "      <td>60</td>\n",
       "      <td>384</td>\n",
       "      <td>61.0</td>\n",
       "    </tr>\n",
       "    <tr>\n",
       "      <th>3</th>\n",
       "      <td>4</td>\n",
       "      <td>1.0</td>\n",
       "      <td>1.0</td>\n",
       "      <td>0.0</td>\n",
       "      <td>4</td>\n",
       "      <td>180</td>\n",
       "      <td>49</td>\n",
       "      <td>67.0</td>\n",
       "    </tr>\n",
       "    <tr>\n",
       "      <th>4</th>\n",
       "      <td>2</td>\n",
       "      <td>1.0</td>\n",
       "      <td>0.5</td>\n",
       "      <td>1.0</td>\n",
       "      <td>1</td>\n",
       "      <td>1125</td>\n",
       "      <td>44</td>\n",
       "      <td>22.0</td>\n",
       "    </tr>\n",
       "  </tbody>\n",
       "</table>\n",
       "</div>"
      ],
      "text/plain": [
       "   accommodates  bedrooms  baths  beds  min_nights  max_nights  n_reviews  \\\n",
       "0             1       1.0    0.5   1.0           2          90        178   \n",
       "1             7       3.0    1.0   5.0           2          60        395   \n",
       "2             2       1.0    1.0   1.0           2          60        384   \n",
       "3             4       1.0    1.0   0.0           4         180         49   \n",
       "4             2       1.0    0.5   1.0           1        1125         44   \n",
       "\n",
       "   price  \n",
       "0   66.0  \n",
       "1   94.0  \n",
       "2   61.0  \n",
       "3   67.0  \n",
       "4   22.0  "
      ]
     },
     "execution_count": 5,
     "metadata": {},
     "output_type": "execute_result"
    }
   ],
   "source": [
    "import pandas as pd\n",
    "import numpy as np\n",
    "pd.set_option(\"display.max_columns\", 99)\n",
    "pd.set_option(\"display.max_rows\", 999)\n",
    "pd.set_option('precision', 3)\n",
    "\n",
    "chic_cols = ['accommodates', 'bedrooms', 'baths', 'beds', \n",
    "             'min_nights', 'max_nights', 'n_reviews', 'price']\n",
    "chicago = pd.read_csv('data/chicago_airbnb1')\n",
    "chicago = chicago[chic_cols].copy()\n",
    "print(chicago.shape)\n",
    "chicago.head()"
   ]
  },
  {
   "cell_type": "code",
   "execution_count": 6,
   "metadata": {},
   "outputs": [
    {
     "data": {
      "text/plain": [
       "accommodates      0\n",
       "bedrooms        522\n",
       "baths             6\n",
       "beds             37\n",
       "min_nights        0\n",
       "max_nights        0\n",
       "n_reviews         0\n",
       "price             0\n",
       "dtype: int64"
      ]
     },
     "execution_count": 6,
     "metadata": {},
     "output_type": "execute_result"
    }
   ],
   "source": [
    "chicago.isnull().sum()"
   ]
  },
  {
   "cell_type": "markdown",
   "metadata": {},
   "source": [
    "## 2. Handling Missing Data"
   ]
  },
  {
   "cell_type": "code",
   "execution_count": 7,
   "metadata": {},
   "outputs": [
    {
     "data": {
      "text/plain": [
       "accommodates  baths\n",
       "0             NaN         1\n",
       "1             0.50      202\n",
       "              1.00      163\n",
       "              0.75       30\n",
       "              2.00       14\n",
       "              1.50       12\n",
       "              1.25        4\n",
       "              11.00       3\n",
       "              0.00        2\n",
       "              0.25        2\n",
       "              2.50        2\n",
       "2             1.00     1392\n",
       "Name: baths, dtype: int64"
      ]
     },
     "execution_count": 7,
     "metadata": {},
     "output_type": "execute_result"
    }
   ],
   "source": [
    "chicago.groupby(['accommodates'])['baths'].value_counts(dropna=False).head(12)"
   ]
  },
  {
   "cell_type": "code",
   "execution_count": 8,
   "metadata": {},
   "outputs": [
    {
     "data": {
      "text/plain": [
       "0"
      ]
     },
     "execution_count": 8,
     "metadata": {},
     "output_type": "execute_result"
    }
   ],
   "source": [
    "mode = chicago['baths'].mode()[0]\n",
    "chicago['baths'] = chicago.groupby(['accommodates'])['baths'].\\\n",
    "apply(lambda x:x.fillna(x.value_counts().idxmax() \n",
    "                        if x.value_counts().max() >=1\n",
    "                       else mode , inplace = False\n",
    "                       )\n",
    "     )\n",
    "chicago['baths'].isnull().sum()"
   ]
  },
  {
   "cell_type": "code",
   "execution_count": 9,
   "metadata": {},
   "outputs": [
    {
     "data": {
      "text/plain": [
       "accommodates  baths  beds\n",
       "0             1.00   NaN       1\n",
       "1             0.00   1.0       1\n",
       "                     2.0       1\n",
       "              0.25   0.0       1\n",
       "                     1.0       1\n",
       "              0.50   1.0     186\n",
       "                     2.0       7\n",
       "                     0.0       6\n",
       "                     NaN       1\n",
       "                     3.0       1\n",
       "                     4.0       1\n",
       "              0.75   1.0      27\n",
       "Name: beds, dtype: int64"
      ]
     },
     "execution_count": 9,
     "metadata": {},
     "output_type": "execute_result"
    }
   ],
   "source": [
    "chicago.groupby(['accommodates', 'baths'])['beds'].value_counts(dropna=False).head(12)"
   ]
  },
  {
   "cell_type": "code",
   "execution_count": 10,
   "metadata": {},
   "outputs": [
    {
     "data": {
      "text/plain": [
       "0"
      ]
     },
     "execution_count": 10,
     "metadata": {},
     "output_type": "execute_result"
    }
   ],
   "source": [
    "mode = chicago['beds'].mode()[0]\n",
    "chicago['beds'] = chicago.groupby(['accommodates', 'baths'])['beds'].\\\n",
    "apply(lambda x:x.fillna(x.value_counts().idxmax() \n",
    "                        if x.value_counts().max() >=1\n",
    "                       else mode , inplace = False\n",
    "                       )\n",
    "     )\n",
    "chicago['beds'].isnull().sum()"
   ]
  },
  {
   "cell_type": "code",
   "execution_count": 11,
   "metadata": {},
   "outputs": [
    {
     "data": {
      "text/plain": [
       "0"
      ]
     },
     "execution_count": 11,
     "metadata": {},
     "output_type": "execute_result"
    }
   ],
   "source": [
    "mode = chicago['bedrooms'].mode()[0]\n",
    "chicago['bedrooms'] = chicago.groupby(['accommodates', 'beds', 'baths'])['bedrooms'].\\\n",
    "apply(lambda x:x.fillna(x.value_counts().idxmax() \n",
    "                        if x.value_counts().max() >=1\n",
    "                       else mode , inplace = False\n",
    "                       )\n",
    "     )\n",
    "chicago['bedrooms'].isnull().sum()"
   ]
  },
  {
   "cell_type": "code",
   "execution_count": 12,
   "metadata": {},
   "outputs": [
    {
     "data": {
      "text/plain": [
       "accommodates    0\n",
       "bedrooms        0\n",
       "baths           0\n",
       "beds            0\n",
       "min_nights      0\n",
       "max_nights      0\n",
       "n_reviews       0\n",
       "price           0\n",
       "dtype: int64"
      ]
     },
     "execution_count": 12,
     "metadata": {},
     "output_type": "execute_result"
    }
   ],
   "source": [
    "chicago.isnull().sum()"
   ]
  },
  {
   "cell_type": "markdown",
   "metadata": {},
   "source": [
    "## 3. Capping Outliers"
   ]
  },
  {
   "cell_type": "code",
   "execution_count": 13,
   "metadata": {},
   "outputs": [
    {
     "data": {
      "text/plain": [
       "accommodates       16.0\n",
       "bedrooms           11.0\n",
       "baths              12.5\n",
       "beds               30.0\n",
       "min_nights        499.0\n",
       "max_nights       8999.0\n",
       "n_reviews         627.0\n",
       "price           10000.0\n",
       "dtype: float64"
      ]
     },
     "execution_count": 13,
     "metadata": {},
     "output_type": "execute_result"
    }
   ],
   "source": [
    "chicago.max() - chicago.min()"
   ]
  },
  {
   "cell_type": "markdown",
   "metadata": {},
   "source": [
    "While it's tempting to leave our target attribute (`price`) untached, it's important to know that if we do it, it will lead to our model wanting reproduce the outlier effect. So let's first normalize the data and cap outliers and then observe the difference"
   ]
  },
  {
   "cell_type": "code",
   "execution_count": 15,
   "metadata": {},
   "outputs": [
    {
     "ename": "SyntaxError",
     "evalue": "invalid syntax (<ipython-input-15-b24f89298f3f>, line 1)",
     "output_type": "error",
     "traceback": [
      "\u001b[1;36m  File \u001b[1;32m\"<ipython-input-15-b24f89298f3f>\"\u001b[1;36m, line \u001b[1;32m1\u001b[0m\n\u001b[1;33m    from sklearn.preprocessing import MinMaxScaler()\u001b[0m\n\u001b[1;37m                                                  ^\u001b[0m\n\u001b[1;31mSyntaxError\u001b[0m\u001b[1;31m:\u001b[0m invalid syntax\n"
     ]
    }
   ],
   "source": [
    "from sklearn.preprocessing import MinMaxScaler\n",
    "\n",
    "normalizer = MinMaxScaler()\n",
    "chicago_1 = normalizer.fit_transform(chicago)\n",
    "chicago_1 = pd.DataFrame(chicago_1)\n",
    "chicago_1.columns = chic_cols\n",
    "chicago_1.head()"
   ]
  },
  {
   "cell_type": "code",
   "execution_count": null,
   "metadata": {},
   "outputs": [],
   "source": []
  }
 ],
 "metadata": {
  "kernelspec": {
   "display_name": "Python 3",
   "language": "python",
   "name": "python3"
  },
  "language_info": {
   "codemirror_mode": {
    "name": "ipython",
    "version": 3
   },
   "file_extension": ".py",
   "mimetype": "text/x-python",
   "name": "python",
   "nbconvert_exporter": "python",
   "pygments_lexer": "ipython3",
   "version": "3.7.7"
  }
 },
 "nbformat": 4,
 "nbformat_minor": 4
}
