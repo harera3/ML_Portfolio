{
 "cells": [
  {
   "cell_type": "markdown",
   "metadata": {},
   "source": [
    "# 1. PREDICTING CAR PRICES\n",
    "---"
   ]
  },
  {
   "cell_type": "markdown",
   "metadata": {},
   "source": [
    "## 1. Introducing the Data\n",
    "\n",
    "Source: [UCI Machine Learning Repository](https://archive.ics.uci.edu/ml/datasets/automobile)\n",
    "\n",
    "**Dataset information:** three types of entities in the dataset\n",
    "- the specification of an auto in terms of various characteristics, \n",
    "- its assigned insurance risk rating, \n",
    "- its normalized losses in use as compared to other cars.\n",
    "\n",
    "**Attribute information:**\n",
    "1. `symboling`:  -3, -2, -1, 0, 1, 2, 3.\n",
    "    - A cars is initially assigned a risk factor symbol associated with its price. Then, if it is more risky (or less), this symbol is adjusted by moving it up (or down) the scale. \n",
    "    - Actuarians call this process \"symboling\". \n",
    "    - A value of +3 indicates that the auto is risky, -3 that it is probably pretty safe.\n",
    "2. `normalized-losses`: continuous from 65 to 256.\n",
    "    - Another factor is the relative average loss payment per insured vehicle year. \n",
    "    - This value is normalized for all autos within a particular size classification (two-door small, station wagons, sports/speciality, etc...), and represents the average loss per car per year.\n",
    "3. `make`: alfa-romero, audi, bmw, chevrolet, dodge, honda, isuzu, jaguar, mazda, mercedes-benz, mercury, mitsubishi, nissan, peugot, plymouth, porsche, renault, saab, subaru, toyota, volkswagen, volvo\n",
    "4. `fuel-type`: diesel, gas.\n",
    "5. `aspiration`: std, turbo.\n",
    "6. `num-of-doors`: four, two.\n",
    "7. `body-style`: hardtop, wagon, sedan, hatchback, convertible.\n",
    "8. `drive-wheels`: 4wd, fwd, rwd.\n",
    "9. `engine-location`: front, rear.\n",
    "10. `wheel-base`: continuous from 86.6 120.9.\n",
    "11. `length`: continuous from 141.1 to 208.1.\n",
    "12. `width`: continuous from 60.3 to 72.3.\n",
    "13. `height`: continuous from 47.8 to 59.8.\n",
    "14. `curb-weight`: continuous from 1488 to 4066.\n",
    "15. `engine-type`: dohc, dohcv, l, ohc, ohcf, ohcv, rotor.\n",
    "16. `num-of-cylinders`: eight, five, four, six, three, twelve, two.\n",
    "17. `engine-size`: continuous from 61 to 326.\n",
    "18. `fuel-system`: 1bbl, 2bbl, 4bbl, idi, mfi, mpfi, spdi, spfi.\n",
    "19. `bore`: continuous from 2.54 to 3.94.\n",
    "20. `stroke`: continuous from 2.07 to 4.17.\n",
    "21. `compression-ratio`: continuous from 7 to 23.\n",
    "22. `horsepower`: continuous from 48 to 288.\n",
    "23. `peak-rpm`: continuous from 4150 to 6600.\n",
    "24. `city-mpg`: continuous from 13 to 49.\n",
    "25. `highway-mpg`: continuous from 16 to 54.\n",
    "26. `price`: continuous from 5118 to 45400.\n",
    "    - This is likely the target attribute that we will be trying to predict"
   ]
  },
  {
   "cell_type": "code",
   "execution_count": 1,
   "metadata": {},
   "outputs": [
    {
     "data": {
      "text/html": [
       "<div>\n",
       "<style scoped>\n",
       "    .dataframe tbody tr th:only-of-type {\n",
       "        vertical-align: middle;\n",
       "    }\n",
       "\n",
       "    .dataframe tbody tr th {\n",
       "        vertical-align: top;\n",
       "    }\n",
       "\n",
       "    .dataframe thead th {\n",
       "        text-align: right;\n",
       "    }\n",
       "</style>\n",
       "<table border=\"1\" class=\"dataframe\">\n",
       "  <thead>\n",
       "    <tr style=\"text-align: right;\">\n",
       "      <th></th>\n",
       "      <th>symboling</th>\n",
       "      <th>normalized_losses</th>\n",
       "      <th>make</th>\n",
       "      <th>fuel_type</th>\n",
       "      <th>aspiration</th>\n",
       "      <th>num_doors</th>\n",
       "      <th>body_style</th>\n",
       "      <th>drive_wheels</th>\n",
       "      <th>engine_location</th>\n",
       "      <th>wheel_base</th>\n",
       "      <th>length</th>\n",
       "      <th>width</th>\n",
       "      <th>height</th>\n",
       "      <th>curb_weight</th>\n",
       "      <th>engine_type</th>\n",
       "      <th>num_cylinders</th>\n",
       "      <th>engine_size</th>\n",
       "      <th>fuel_system</th>\n",
       "      <th>bore</th>\n",
       "      <th>stroke</th>\n",
       "      <th>compression_ratio</th>\n",
       "      <th>horsepower</th>\n",
       "      <th>peak_rpm</th>\n",
       "      <th>city_mpg</th>\n",
       "      <th>highway_mpg</th>\n",
       "      <th>price</th>\n",
       "    </tr>\n",
       "  </thead>\n",
       "  <tbody>\n",
       "    <tr>\n",
       "      <th>0</th>\n",
       "      <td>3</td>\n",
       "      <td>?</td>\n",
       "      <td>alfa-romero</td>\n",
       "      <td>gas</td>\n",
       "      <td>std</td>\n",
       "      <td>two</td>\n",
       "      <td>convertible</td>\n",
       "      <td>rwd</td>\n",
       "      <td>front</td>\n",
       "      <td>88.6</td>\n",
       "      <td>168.8</td>\n",
       "      <td>64.1</td>\n",
       "      <td>48.8</td>\n",
       "      <td>2548</td>\n",
       "      <td>dohc</td>\n",
       "      <td>four</td>\n",
       "      <td>130</td>\n",
       "      <td>mpfi</td>\n",
       "      <td>3.47</td>\n",
       "      <td>2.68</td>\n",
       "      <td>9.0</td>\n",
       "      <td>111</td>\n",
       "      <td>5000</td>\n",
       "      <td>21</td>\n",
       "      <td>27</td>\n",
       "      <td>16500</td>\n",
       "    </tr>\n",
       "    <tr>\n",
       "      <th>1</th>\n",
       "      <td>1</td>\n",
       "      <td>?</td>\n",
       "      <td>alfa-romero</td>\n",
       "      <td>gas</td>\n",
       "      <td>std</td>\n",
       "      <td>two</td>\n",
       "      <td>hatchback</td>\n",
       "      <td>rwd</td>\n",
       "      <td>front</td>\n",
       "      <td>94.5</td>\n",
       "      <td>171.2</td>\n",
       "      <td>65.5</td>\n",
       "      <td>52.4</td>\n",
       "      <td>2823</td>\n",
       "      <td>ohcv</td>\n",
       "      <td>six</td>\n",
       "      <td>152</td>\n",
       "      <td>mpfi</td>\n",
       "      <td>2.68</td>\n",
       "      <td>3.47</td>\n",
       "      <td>9.0</td>\n",
       "      <td>154</td>\n",
       "      <td>5000</td>\n",
       "      <td>19</td>\n",
       "      <td>26</td>\n",
       "      <td>16500</td>\n",
       "    </tr>\n",
       "    <tr>\n",
       "      <th>2</th>\n",
       "      <td>2</td>\n",
       "      <td>164</td>\n",
       "      <td>audi</td>\n",
       "      <td>gas</td>\n",
       "      <td>std</td>\n",
       "      <td>four</td>\n",
       "      <td>sedan</td>\n",
       "      <td>fwd</td>\n",
       "      <td>front</td>\n",
       "      <td>99.8</td>\n",
       "      <td>176.6</td>\n",
       "      <td>66.2</td>\n",
       "      <td>54.3</td>\n",
       "      <td>2337</td>\n",
       "      <td>ohc</td>\n",
       "      <td>four</td>\n",
       "      <td>109</td>\n",
       "      <td>mpfi</td>\n",
       "      <td>3.19</td>\n",
       "      <td>3.40</td>\n",
       "      <td>10.0</td>\n",
       "      <td>102</td>\n",
       "      <td>5500</td>\n",
       "      <td>24</td>\n",
       "      <td>30</td>\n",
       "      <td>13950</td>\n",
       "    </tr>\n",
       "    <tr>\n",
       "      <th>3</th>\n",
       "      <td>2</td>\n",
       "      <td>164</td>\n",
       "      <td>audi</td>\n",
       "      <td>gas</td>\n",
       "      <td>std</td>\n",
       "      <td>four</td>\n",
       "      <td>sedan</td>\n",
       "      <td>4wd</td>\n",
       "      <td>front</td>\n",
       "      <td>99.4</td>\n",
       "      <td>176.6</td>\n",
       "      <td>66.4</td>\n",
       "      <td>54.3</td>\n",
       "      <td>2824</td>\n",
       "      <td>ohc</td>\n",
       "      <td>five</td>\n",
       "      <td>136</td>\n",
       "      <td>mpfi</td>\n",
       "      <td>3.19</td>\n",
       "      <td>3.40</td>\n",
       "      <td>8.0</td>\n",
       "      <td>115</td>\n",
       "      <td>5500</td>\n",
       "      <td>18</td>\n",
       "      <td>22</td>\n",
       "      <td>17450</td>\n",
       "    </tr>\n",
       "    <tr>\n",
       "      <th>4</th>\n",
       "      <td>2</td>\n",
       "      <td>?</td>\n",
       "      <td>audi</td>\n",
       "      <td>gas</td>\n",
       "      <td>std</td>\n",
       "      <td>two</td>\n",
       "      <td>sedan</td>\n",
       "      <td>fwd</td>\n",
       "      <td>front</td>\n",
       "      <td>99.8</td>\n",
       "      <td>177.3</td>\n",
       "      <td>66.3</td>\n",
       "      <td>53.1</td>\n",
       "      <td>2507</td>\n",
       "      <td>ohc</td>\n",
       "      <td>five</td>\n",
       "      <td>136</td>\n",
       "      <td>mpfi</td>\n",
       "      <td>3.19</td>\n",
       "      <td>3.40</td>\n",
       "      <td>8.5</td>\n",
       "      <td>110</td>\n",
       "      <td>5500</td>\n",
       "      <td>19</td>\n",
       "      <td>25</td>\n",
       "      <td>15250</td>\n",
       "    </tr>\n",
       "  </tbody>\n",
       "</table>\n",
       "</div>"
      ],
      "text/plain": [
       "   symboling normalized_losses         make fuel_type aspiration num_doors  \\\n",
       "0          3                 ?  alfa-romero       gas        std       two   \n",
       "1          1                 ?  alfa-romero       gas        std       two   \n",
       "2          2               164         audi       gas        std      four   \n",
       "3          2               164         audi       gas        std      four   \n",
       "4          2                 ?         audi       gas        std       two   \n",
       "\n",
       "    body_style drive_wheels engine_location  wheel_base  length  width  \\\n",
       "0  convertible          rwd           front        88.6   168.8   64.1   \n",
       "1    hatchback          rwd           front        94.5   171.2   65.5   \n",
       "2        sedan          fwd           front        99.8   176.6   66.2   \n",
       "3        sedan          4wd           front        99.4   176.6   66.4   \n",
       "4        sedan          fwd           front        99.8   177.3   66.3   \n",
       "\n",
       "   height  curb_weight engine_type num_cylinders  engine_size fuel_system  \\\n",
       "0    48.8         2548        dohc          four          130        mpfi   \n",
       "1    52.4         2823        ohcv           six          152        mpfi   \n",
       "2    54.3         2337         ohc          four          109        mpfi   \n",
       "3    54.3         2824         ohc          five          136        mpfi   \n",
       "4    53.1         2507         ohc          five          136        mpfi   \n",
       "\n",
       "   bore stroke  compression_ratio horsepower peak_rpm  city_mpg  highway_mpg  \\\n",
       "0  3.47   2.68                9.0        111     5000        21           27   \n",
       "1  2.68   3.47                9.0        154     5000        19           26   \n",
       "2  3.19   3.40               10.0        102     5500        24           30   \n",
       "3  3.19   3.40                8.0        115     5500        18           22   \n",
       "4  3.19   3.40                8.5        110     5500        19           25   \n",
       "\n",
       "   price  \n",
       "0  16500  \n",
       "1  16500  \n",
       "2  13950  \n",
       "3  17450  \n",
       "4  15250  "
      ]
     },
     "execution_count": 1,
     "metadata": {},
     "output_type": "execute_result"
    }
   ],
   "source": [
    "import pandas as pd\n",
    "import numpy as np\n",
    "pd.set_option(\"display.max_columns\", 99)\n",
    "pd.set_option(\"display.max_rows\", 999)\n",
    "pd.set_option('precision', 3)\n",
    "pd.set_option('mode.chained_assignment', None)\n",
    "\n",
    "file = 'data/imports-85.data'\n",
    "cols = ['symboling', 'normalized_losses', 'make', 'fuel_type', 'aspiration', \n",
    "        'num_doors', 'body_style', 'drive_wheels', 'engine_location', 'wheel_base', \n",
    "        'length', 'width', 'height', 'curb_weight', 'engine_type', 'num_cylinders', \n",
    "        'engine_size', 'fuel_system', 'bore', 'stroke', 'compression_ratio', \n",
    "        'horsepower', 'peak_rpm', 'city_mpg', 'highway_mpg', 'price']\n",
    "cars = pd.read_csv(file)\n",
    "cars.columns = cols\n",
    "cars.head()"
   ]
  },
  {
   "cell_type": "code",
   "execution_count": 2,
   "metadata": {},
   "outputs": [
    {
     "data": {
      "text/plain": [
       "(204, 26)"
      ]
     },
     "execution_count": 2,
     "metadata": {},
     "output_type": "execute_result"
    }
   ],
   "source": [
    "cars.shape"
   ]
  },
  {
   "cell_type": "markdown",
   "metadata": {},
   "source": [
    "## 2. Determining Data Types\n",
    "\n",
    "When trying to determine what type of data we have, it's always a good idea to try `dtypes` and `describe` methods first. And below we find that:\n",
    "- while the `symboling` column is of the `int64` dtype, it is actually a categorical attribute whose categories are expressed numerically with a natural order but where the distances between categories is not known (ordinal data)\n",
    "- the `normalized_losses` should be a numerical attribute but is shown as of the `object` dtype\n",
    "- the `num_cylinders` is a discrete variable and should be `int` type. However, we can put it in the category columns, just like the `num_doors`\n",
    "- the columns from `bore` to `price` should be of `float` since they are continuous (see 'attribute information'). Some cleaning will have to be done.\n",
    "\n",
    "Another layer of information we can use to determine what kind of data we have is looking at the cardinality of each column; that is the number of categories in each column. Continuous data (float) tend to have way more categories than any other type of data."
   ]
  },
  {
   "cell_type": "code",
   "execution_count": 3,
   "metadata": {},
   "outputs": [
    {
     "data": {
      "text/plain": [
       "symboling              int64\n",
       "normalized_losses     object\n",
       "make                  object\n",
       "fuel_type             object\n",
       "aspiration            object\n",
       "num_doors             object\n",
       "body_style            object\n",
       "drive_wheels          object\n",
       "engine_location       object\n",
       "wheel_base           float64\n",
       "length               float64\n",
       "width                float64\n",
       "height               float64\n",
       "curb_weight            int64\n",
       "engine_type           object\n",
       "num_cylinders         object\n",
       "engine_size            int64\n",
       "fuel_system           object\n",
       "bore                  object\n",
       "stroke                object\n",
       "compression_ratio    float64\n",
       "horsepower            object\n",
       "peak_rpm              object\n",
       "city_mpg               int64\n",
       "highway_mpg            int64\n",
       "price                 object\n",
       "dtype: object"
      ]
     },
     "execution_count": 3,
     "metadata": {},
     "output_type": "execute_result"
    }
   ],
   "source": [
    "cars.dtypes"
   ]
  },
  {
   "cell_type": "code",
   "execution_count": 4,
   "metadata": {},
   "outputs": [
    {
     "data": {
      "text/html": [
       "<div>\n",
       "<style scoped>\n",
       "    .dataframe tbody tr th:only-of-type {\n",
       "        vertical-align: middle;\n",
       "    }\n",
       "\n",
       "    .dataframe tbody tr th {\n",
       "        vertical-align: top;\n",
       "    }\n",
       "\n",
       "    .dataframe thead th {\n",
       "        text-align: right;\n",
       "    }\n",
       "</style>\n",
       "<table border=\"1\" class=\"dataframe\">\n",
       "  <thead>\n",
       "    <tr style=\"text-align: right;\">\n",
       "      <th></th>\n",
       "      <th>symboling</th>\n",
       "      <th>wheel_base</th>\n",
       "      <th>length</th>\n",
       "      <th>width</th>\n",
       "      <th>height</th>\n",
       "      <th>curb_weight</th>\n",
       "      <th>engine_size</th>\n",
       "      <th>compression_ratio</th>\n",
       "      <th>city_mpg</th>\n",
       "      <th>highway_mpg</th>\n",
       "    </tr>\n",
       "  </thead>\n",
       "  <tbody>\n",
       "    <tr>\n",
       "      <th>count</th>\n",
       "      <td>204.000</td>\n",
       "      <td>204.000</td>\n",
       "      <td>204.000</td>\n",
       "      <td>204.000</td>\n",
       "      <td>204.000</td>\n",
       "      <td>204.000</td>\n",
       "      <td>204.000</td>\n",
       "      <td>204.000</td>\n",
       "      <td>204.000</td>\n",
       "      <td>204.000</td>\n",
       "    </tr>\n",
       "    <tr>\n",
       "      <th>mean</th>\n",
       "      <td>0.824</td>\n",
       "      <td>98.806</td>\n",
       "      <td>174.075</td>\n",
       "      <td>65.917</td>\n",
       "      <td>53.749</td>\n",
       "      <td>2555.603</td>\n",
       "      <td>126.892</td>\n",
       "      <td>10.148</td>\n",
       "      <td>25.240</td>\n",
       "      <td>30.770</td>\n",
       "    </tr>\n",
       "    <tr>\n",
       "      <th>std</th>\n",
       "      <td>1.239</td>\n",
       "      <td>5.994</td>\n",
       "      <td>12.362</td>\n",
       "      <td>2.147</td>\n",
       "      <td>2.425</td>\n",
       "      <td>521.961</td>\n",
       "      <td>41.745</td>\n",
       "      <td>3.981</td>\n",
       "      <td>6.552</td>\n",
       "      <td>6.898</td>\n",
       "    </tr>\n",
       "    <tr>\n",
       "      <th>min</th>\n",
       "      <td>-2.000</td>\n",
       "      <td>86.600</td>\n",
       "      <td>141.100</td>\n",
       "      <td>60.300</td>\n",
       "      <td>47.800</td>\n",
       "      <td>1488.000</td>\n",
       "      <td>61.000</td>\n",
       "      <td>7.000</td>\n",
       "      <td>13.000</td>\n",
       "      <td>16.000</td>\n",
       "    </tr>\n",
       "    <tr>\n",
       "      <th>25%</th>\n",
       "      <td>0.000</td>\n",
       "      <td>94.500</td>\n",
       "      <td>166.300</td>\n",
       "      <td>64.075</td>\n",
       "      <td>52.000</td>\n",
       "      <td>2145.000</td>\n",
       "      <td>97.000</td>\n",
       "      <td>8.575</td>\n",
       "      <td>19.000</td>\n",
       "      <td>25.000</td>\n",
       "    </tr>\n",
       "    <tr>\n",
       "      <th>50%</th>\n",
       "      <td>1.000</td>\n",
       "      <td>97.000</td>\n",
       "      <td>173.200</td>\n",
       "      <td>65.500</td>\n",
       "      <td>54.100</td>\n",
       "      <td>2414.000</td>\n",
       "      <td>119.500</td>\n",
       "      <td>9.000</td>\n",
       "      <td>24.000</td>\n",
       "      <td>30.000</td>\n",
       "    </tr>\n",
       "    <tr>\n",
       "      <th>75%</th>\n",
       "      <td>2.000</td>\n",
       "      <td>102.400</td>\n",
       "      <td>183.200</td>\n",
       "      <td>66.900</td>\n",
       "      <td>55.500</td>\n",
       "      <td>2939.250</td>\n",
       "      <td>142.000</td>\n",
       "      <td>9.400</td>\n",
       "      <td>30.000</td>\n",
       "      <td>34.500</td>\n",
       "    </tr>\n",
       "    <tr>\n",
       "      <th>max</th>\n",
       "      <td>3.000</td>\n",
       "      <td>120.900</td>\n",
       "      <td>208.100</td>\n",
       "      <td>72.300</td>\n",
       "      <td>59.800</td>\n",
       "      <td>4066.000</td>\n",
       "      <td>326.000</td>\n",
       "      <td>23.000</td>\n",
       "      <td>49.000</td>\n",
       "      <td>54.000</td>\n",
       "    </tr>\n",
       "  </tbody>\n",
       "</table>\n",
       "</div>"
      ],
      "text/plain": [
       "       symboling  wheel_base   length    width   height  curb_weight  \\\n",
       "count    204.000     204.000  204.000  204.000  204.000      204.000   \n",
       "mean       0.824      98.806  174.075   65.917   53.749     2555.603   \n",
       "std        1.239       5.994   12.362    2.147    2.425      521.961   \n",
       "min       -2.000      86.600  141.100   60.300   47.800     1488.000   \n",
       "25%        0.000      94.500  166.300   64.075   52.000     2145.000   \n",
       "50%        1.000      97.000  173.200   65.500   54.100     2414.000   \n",
       "75%        2.000     102.400  183.200   66.900   55.500     2939.250   \n",
       "max        3.000     120.900  208.100   72.300   59.800     4066.000   \n",
       "\n",
       "       engine_size  compression_ratio  city_mpg  highway_mpg  \n",
       "count      204.000            204.000   204.000      204.000  \n",
       "mean       126.892             10.148    25.240       30.770  \n",
       "std         41.745              3.981     6.552        6.898  \n",
       "min         61.000              7.000    13.000       16.000  \n",
       "25%         97.000              8.575    19.000       25.000  \n",
       "50%        119.500              9.000    24.000       30.000  \n",
       "75%        142.000              9.400    30.000       34.500  \n",
       "max        326.000             23.000    49.000       54.000  "
      ]
     },
     "execution_count": 4,
     "metadata": {},
     "output_type": "execute_result"
    }
   ],
   "source": [
    "cars.describe()"
   ]
  },
  {
   "cell_type": "code",
   "execution_count": 5,
   "metadata": {
    "scrolled": false
   },
   "outputs": [
    {
     "data": {
      "text/plain": [
       "symboling              6\n",
       "normalized_losses     52\n",
       "make                  22\n",
       "fuel_type              2\n",
       "aspiration             2\n",
       "num_doors              3\n",
       "body_style             5\n",
       "drive_wheels           3\n",
       "engine_location        2\n",
       "wheel_base            53\n",
       "length                75\n",
       "width                 44\n",
       "height                49\n",
       "curb_weight          171\n",
       "engine_type            7\n",
       "num_cylinders          7\n",
       "engine_size           44\n",
       "fuel_system            8\n",
       "bore                  39\n",
       "stroke                37\n",
       "compression_ratio     32\n",
       "horsepower            60\n",
       "peak_rpm              24\n",
       "city_mpg              29\n",
       "highway_mpg           30\n",
       "price                186\n",
       "dtype: int64"
      ]
     },
     "execution_count": 5,
     "metadata": {},
     "output_type": "execute_result"
    }
   ],
   "source": [
    "cars.nunique()"
   ]
  },
  {
   "cell_type": "code",
   "execution_count": 6,
   "metadata": {},
   "outputs": [],
   "source": [
    "num_cols = ['normalized_losses', 'wheel_base', 'length', 'width', 'height', \n",
    "            'curb_weight', 'engine_size', 'bore', 'stroke', 'compression_ratio', \n",
    "            'horsepower', 'peak_rpm', 'city_mpg', 'highway_mpg']\n",
    "\n",
    "cat_cols = ['symboling', 'make', 'fuel_type', 'aspiration', 'num_doors', \n",
    "            'body_style', 'drive_wheels', 'engine_location', 'engine_type', \n",
    "            'num_cylinders', 'fuel_system']\n",
    "\n",
    "y_col = ['price']"
   ]
  },
  {
   "cell_type": "markdown",
   "metadata": {},
   "source": [
    "## 3. Changing Numerical Data Types \n",
    "\n",
    "We know that there are some entries with `?` representing missing values. In fact, for the `normalized_losses` column, they account for almost `20%` of the entries. \n",
    "- Let's first replace all `?` with `Nan`\n",
    "- Then set dtype of `num_cols` and `price` to `float`"
   ]
  },
  {
   "cell_type": "code",
   "execution_count": 7,
   "metadata": {},
   "outputs": [
    {
     "data": {
      "text/plain": [
       "?      0.196\n",
       "161    0.054\n",
       "91     0.039\n",
       "150    0.034\n",
       "128    0.029\n",
       "Name: normalized_losses, dtype: float64"
      ]
     },
     "execution_count": 7,
     "metadata": {},
     "output_type": "execute_result"
    }
   ],
   "source": [
    "cars['normalized_losses'].value_counts()[:5] / len(cars)"
   ]
  },
  {
   "cell_type": "code",
   "execution_count": 8,
   "metadata": {},
   "outputs": [
    {
     "data": {
      "text/plain": [
       "symboling              int64\n",
       "normalized_losses    float64\n",
       "make                  object\n",
       "fuel_type             object\n",
       "aspiration            object\n",
       "num_doors             object\n",
       "body_style            object\n",
       "drive_wheels          object\n",
       "engine_location       object\n",
       "wheel_base           float64\n",
       "length               float64\n",
       "width                float64\n",
       "height               float64\n",
       "curb_weight          float64\n",
       "engine_type           object\n",
       "num_cylinders         object\n",
       "engine_size          float64\n",
       "fuel_system           object\n",
       "bore                 float64\n",
       "stroke               float64\n",
       "compression_ratio    float64\n",
       "horsepower           float64\n",
       "peak_rpm             float64\n",
       "city_mpg             float64\n",
       "highway_mpg          float64\n",
       "price                float64\n",
       "dtype: object"
      ]
     },
     "execution_count": 8,
     "metadata": {},
     "output_type": "execute_result"
    }
   ],
   "source": [
    "cars = cars.replace('?', np.nan)\n",
    "cars[num_cols] = cars[num_cols].astype('float')\n",
    "cars['price'] = cars['price'].astype('float')\n",
    "cars.dtypes"
   ]
  },
  {
   "cell_type": "markdown",
   "metadata": {},
   "source": [
    "## 4. Exploring Numerical Missing Values"
   ]
  },
  {
   "cell_type": "code",
   "execution_count": 9,
   "metadata": {},
   "outputs": [
    {
     "data": {
      "text/plain": [
       "normalized_losses    0.196\n",
       "wheel_base           0.000\n",
       "length               0.000\n",
       "width                0.000\n",
       "height               0.000\n",
       "curb_weight          0.000\n",
       "engine_size          0.000\n",
       "bore                 0.020\n",
       "stroke               0.020\n",
       "compression_ratio    0.000\n",
       "horsepower           0.010\n",
       "peak_rpm             0.010\n",
       "city_mpg             0.000\n",
       "highway_mpg          0.000\n",
       "dtype: float64"
      ]
     },
     "execution_count": 9,
     "metadata": {},
     "output_type": "execute_result"
    }
   ],
   "source": [
    "num_cars = cars[num_cols]\n",
    "num_cars.isnull().mean()"
   ]
  },
  {
   "cell_type": "code",
   "execution_count": 10,
   "metadata": {},
   "outputs": [
    {
     "data": {
      "text/plain": [
       "Text(0.5, 1.0, 'Quantifying Missing Data')"
      ]
     },
     "execution_count": 10,
     "metadata": {},
     "output_type": "execute_result"
    },
    {
     "data": {
      "image/png": "[encoded data removed]",
      "text/plain": [
       "<Figure size 720x432 with 1 Axes>"
      ]
     },
     "metadata": {
      "needs_background": "light"
     },
     "output_type": "display_data"
    }
   ],
   "source": [
    "import matplotlib.pyplot as plt\n",
    "\n",
    "num_missing = ['normalized_losses', 'bore', 'stroke', \n",
    "               'horsepower', 'peak_rpm']\n",
    "num_cars[num_missing].isnull().mean().plot.bar(figsize=(10,6))\n",
    "plt.ylabel('Percentage of missing values')\n",
    "plt.xlabel('Variables')\n",
    "plt.title('Quantifying Missing Data')"
   ]
  },
  {
   "cell_type": "markdown",
   "metadata": {},
   "source": [
    "Some of the ways to deal with missing values is to:\n",
    "- delete the rows with missing data: this is not an option for us since we already have a small dataset and only one colum has a lot of missing data\n",
    "- delete the column: in this case we would delete `normalized_losses` assuming it is not very important since it's missing almost 20% of the data. \n",
    "- impute the mean or median: this would work well for the other columns with a small percentage of missing values\n",
    "\n",
    "## 5. Dealing with Missing Values in `normalized_losses`\n",
    "A look back in our *Attribute information*, we find that the `normalized_losses` \"value is normalized for all autos within a particular size classification (two-door small, station wagons, sports/speciality, etc...), and represents the average loss per car per year\". This could help us deal better with the missing values. We can group the values by car size and see how much of the missing data is in each class size."
   ]
  },
  {
   "cell_type": "code",
   "execution_count": 11,
   "metadata": {},
   "outputs": [
    {
     "data": {
      "text/plain": [
       "<seaborn.axisgrid.FacetGrid at 0x193019a3648>"
      ]
     },
     "execution_count": 11,
     "metadata": {},
     "output_type": "execute_result"
    },
    {
     "data": {
      "image/png": "[encoded data removed]",
      "text/plain": [
       "<Figure size 452x360 with 1 Axes>"
      ]
     },
     "metadata": {
      "needs_background": "light"
     },
     "output_type": "display_data"
    }
   ],
   "source": [
    "import seaborn as sns\n",
    "\n",
    "sns.catplot(x=\"num_doors\", y=\"normalized_losses\", \n",
    "            hue=\"body_style\", kind=\"bar\", data=cars)"
   ]
  },
  {
   "cell_type": "code",
   "execution_count": 12,
   "metadata": {
    "scrolled": true
   },
   "outputs": [
    {
     "data": {
      "text/plain": [
       "num_doors  body_style  normalized_losses\n",
       "four       hatchback   91.0                 3\n",
       "                       65.0                 2\n",
       "                       74.0                 1\n",
       "                       106.0                1\n",
       "                       115.0                1\n",
       "Name: normalized_losses, dtype: int64"
      ]
     },
     "execution_count": 12,
     "metadata": {},
     "output_type": "execute_result"
    }
   ],
   "source": [
    "cars.groupby(['num_doors', 'body_style'])['normalized_losses'].value_counts(dropna=False).head()"
   ]
  },
  {
   "cell_type": "code",
   "execution_count": 13,
   "metadata": {},
   "outputs": [
    {
     "data": {
      "text/html": [
       "<div>\n",
       "<style scoped>\n",
       "    .dataframe tbody tr th:only-of-type {\n",
       "        vertical-align: middle;\n",
       "    }\n",
       "\n",
       "    .dataframe tbody tr th {\n",
       "        vertical-align: top;\n",
       "    }\n",
       "\n",
       "    .dataframe thead th {\n",
       "        text-align: right;\n",
       "    }\n",
       "</style>\n",
       "<table border=\"1\" class=\"dataframe\">\n",
       "  <thead>\n",
       "    <tr style=\"text-align: right;\">\n",
       "      <th></th>\n",
       "      <th>num_doors</th>\n",
       "      <th>body_style</th>\n",
       "      <th>normalized_losses</th>\n",
       "      <th>normalized_missing</th>\n",
       "    </tr>\n",
       "  </thead>\n",
       "  <tbody>\n",
       "    <tr>\n",
       "      <th>0</th>\n",
       "      <td>two</td>\n",
       "      <td>convertible</td>\n",
       "      <td>NaN</td>\n",
       "      <td>138.000</td>\n",
       "    </tr>\n",
       "    <tr>\n",
       "      <th>1</th>\n",
       "      <td>two</td>\n",
       "      <td>hatchback</td>\n",
       "      <td>NaN</td>\n",
       "      <td>138.500</td>\n",
       "    </tr>\n",
       "    <tr>\n",
       "      <th>2</th>\n",
       "      <td>four</td>\n",
       "      <td>sedan</td>\n",
       "      <td>164.0</td>\n",
       "      <td>164.000</td>\n",
       "    </tr>\n",
       "    <tr>\n",
       "      <th>3</th>\n",
       "      <td>four</td>\n",
       "      <td>sedan</td>\n",
       "      <td>164.0</td>\n",
       "      <td>164.000</td>\n",
       "    </tr>\n",
       "    <tr>\n",
       "      <th>4</th>\n",
       "      <td>two</td>\n",
       "      <td>sedan</td>\n",
       "      <td>NaN</td>\n",
       "      <td>143.545</td>\n",
       "    </tr>\n",
       "  </tbody>\n",
       "</table>\n",
       "</div>"
      ],
      "text/plain": [
       "  num_doors   body_style  normalized_losses  normalized_missing\n",
       "0       two  convertible                NaN             138.000\n",
       "1       two    hatchback                NaN             138.500\n",
       "2      four        sedan              164.0             164.000\n",
       "3      four        sedan              164.0             164.000\n",
       "4       two        sedan                NaN             143.545"
      ]
     },
     "execution_count": 13,
     "metadata": {},
     "output_type": "execute_result"
    }
   ],
   "source": [
    "group_mean_df = pd.DataFrame()\n",
    "group_cols = ['num_doors','body_style', 'normalized_losses']\n",
    "group_mean_df = cars[group_cols].copy()\n",
    "group_mean_df['normalized_missing'] = group_mean_df.groupby(['num_doors','body_style'])\\\n",
    "['normalized_losses'].apply(lambda x:x.fillna(x.mean()))\n",
    "group_mean_df.head()"
   ]
  },
  {
   "cell_type": "code",
   "execution_count": 15,
   "metadata": {},
   "outputs": [
    {
     "data": {
      "text/plain": [
       "<seaborn.axisgrid.FacetGrid at 0x19301bbdbc8>"
      ]
     },
     "execution_count": 15,
     "metadata": {},
     "output_type": "execute_result"
    },
    {
     "data": {
      "image/png": "[encoded data removed]",
      "text/plain": [
       "<Figure size 452x360 with 1 Axes>"
      ]
     },
     "metadata": {
      "needs_background": "light"
     },
     "output_type": "display_data"
    }
   ],
   "source": [
    "sns.catplot(x=\"num_doors\", y=\"normalized_missing\", \n",
    "            hue=\"body_style\", kind=\"bar\", data=group_mean_df)"
   ]
  },
  {
   "cell_type": "markdown",
   "metadata": {},
   "source": [
    "The catplot from `grou_mean_df` dataframe is the same what we created above it but from `cars` dataframe. This was the goal all along. To recreate the same plot but with missing values taken care of. The problem, however, is that we did not get rid of all the missing values in `normalized_losses`. This is due to the fact that we used `num_doors` in our `groupby` method. The `num_doors` column had 2 missing values that were carried over into `normalized_missing`, which is `normalized_losses` with missing data filled in. The better strategy would have been to take care of the missing values in `num_doors`. So, as a rule, we can say that, when taking care of missing values, start with columns with fewest missing values and end with those that have the most missing values."
   ]
  },
  {
   "cell_type": "code",
   "execution_count": 23,
   "metadata": {},
   "outputs": [
    {
     "data": {
      "text/plain": [
       "num_doors              2\n",
       "body_style             0\n",
       "normalized_losses     40\n",
       "normalized_missing     2\n",
       "dtype: int64"
      ]
     },
     "execution_count": 23,
     "metadata": {},
     "output_type": "execute_result"
    }
   ],
   "source": [
    "group_mean_df.isnull().sum()"
   ]
  },
  {
   "cell_type": "code",
   "execution_count": null,
   "metadata": {},
   "outputs": [],
   "source": []
  }
 ],
 "metadata": {
  "kernelspec": {
   "display_name": "Python 3",
   "language": "python",
   "name": "python3"
  },
  "language_info": {
   "codemirror_mode": {
    "name": "ipython",
    "version": 3
   },
   "file_extension": ".py",
   "mimetype": "text/x-python",
   "name": "python",
   "nbconvert_exporter": "python",
   "pygments_lexer": "ipython3",
   "version": "3.7.7"
  }
 },
 "nbformat": 4,
 "nbformat_minor": 4
}
