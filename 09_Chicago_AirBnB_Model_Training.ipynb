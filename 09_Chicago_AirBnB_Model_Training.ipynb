{
 "cells": [
  {
   "cell_type": "markdown",
   "metadata": {},
   "source": [
    "# 9. CHICAGO AIRBNB: MODEL TRAINING\n",
    "---"
   ]
  },
  {
   "cell_type": "markdown",
   "metadata": {},
   "source": [
    "## 1. The Data & Train-Test Split"
   ]
  },
  {
   "cell_type": "code",
   "execution_count": 1,
   "metadata": {},
   "outputs": [
    {
     "data": {
      "text/plain": [
       "((5240, 25), (5240,), (1310, 25), (1310,))"
      ]
     },
     "execution_count": 1,
     "metadata": {},
     "output_type": "execute_result"
    }
   ],
   "source": [
    "import pandas as pd\n",
    "import numpy as np\n",
    "from sklearn.model_selection import train_test_split\n",
    "pd.set_option(\"display.max_columns\", 99)\n",
    "pd.set_option(\"display.max_rows\", 999)\n",
    "pd.set_option('precision', 3)\n",
    "\n",
    "chicago = pd.read_csv('data/chicago_airbnb3')\n",
    "\n",
    "num_cols = ['host_rr', 'host_ar', 'latitude', 'longitude', 'accommodates',\n",
    "            'baths', 'bedrooms', 'beds', 'min_nights', 'max_nights', 'n_reviews', \n",
    "            'rs_rating', 'rs_accuracy', 'rs_cleanliness', 'rs_check_in', \n",
    "            'rs_communication', 'rs_location', 'rs_value', 'reviews_per_month']\n",
    "\n",
    "cat_cols = ['host_rt', 'neighborhood', 'property_type', 'room_type']\n",
    "\n",
    "train, test = train_test_split(chicago, test_size=0.2, random_state=42)\n",
    "\n",
    "X_train = train.drop('price', axis=1)\n",
    "y_train = train['price']\n",
    "\n",
    "X_test = test.drop('price', axis=1)\n",
    "y_test = test['price']\n",
    "\n",
    "X_train.shape, y_train.shape, X_test.shape, y_test.shape"
   ]
  },
  {
   "cell_type": "markdown",
   "metadata": {},
   "source": [
    "## 2. Preprocessing Pipeline"
   ]
  },
  {
   "cell_type": "code",
   "execution_count": 2,
   "metadata": {},
   "outputs": [
    {
     "name": "stdout",
     "output_type": "stream",
     "text": [
      "(5240, 21)\n"
     ]
    }
   ],
   "source": [
    "from sklearn.base import BaseEstimator, TransformerMixin\n",
    "\n",
    "class AttributeAdder(BaseEstimator, TransformerMixin):    \n",
    "    def __init__(self):\n",
    "        self    \n",
    "        \n",
    "    def fit(self, df, y = None):               \n",
    "        return self\n",
    "\n",
    "    def transform(self, df):        \n",
    "        df_ = df.copy()\n",
    "        df_['beds_per_bdrm'] = df_['beds']/df_['bedrooms']\n",
    "        df_['baths_per_bed'] = df_['baths']/df_['beds']\n",
    "        df_.replace(np.inf, 0, inplace=True)\n",
    "        df_.replace(np.nan, 0, inplace=True)\n",
    "        return df_\n",
    "    \n",
    "adder = AttributeAdder()\n",
    "X_train_num = adder.fit_transform(train[num_cols])\n",
    "print(X_train_num.shape)"
   ]
  },
  {
   "cell_type": "code",
   "execution_count": 3,
   "metadata": {},
   "outputs": [
    {
     "data": {
      "text/plain": [
       "<5240x115 sparse matrix of type '<class 'numpy.float64'>'\n",
       "\twith 131000 stored elements in Compressed Sparse Row format>"
      ]
     },
     "execution_count": 3,
     "metadata": {},
     "output_type": "execute_result"
    }
   ],
   "source": [
    "from sklearn.pipeline import Pipeline\n",
    "from sklearn.preprocessing import StandardScaler\n",
    "from sklearn.preprocessing import OneHotEncoder\n",
    "from sklearn.compose import ColumnTransformer\n",
    "\n",
    "num_pipe = Pipeline(steps = [\n",
    "    ('add_features', AttributeAdder()),\n",
    "    ('std_scaling', StandardScaler())\n",
    "])\n",
    "full_pipe = ColumnTransformer(\n",
    "    transformers=[\n",
    "        ('num_prep', num_pipe, num_cols),\n",
    "        ('cat_prep', OneHotEncoder(), cat_cols)\n",
    "    ])\n",
    "\n",
    "X_train = full_pipe.fit_transform(X_train)\n",
    "X_train"
   ]
  },
  {
   "cell_type": "markdown",
   "metadata": {},
   "source": [
    "So we have a sparse matrix (probably due to OneHotEncoding). We also have 115 features which is the same number that we got in the previous part when we used get_dummies. \n",
    "\n",
    "## 3. HTML Representation of Pipeline"
   ]
  },
  {
   "cell_type": "code",
   "execution_count": null,
   "metadata": {},
   "outputs": [],
   "source": []
  }
 ],
 "metadata": {
  "kernelspec": {
   "display_name": "Python 3",
   "language": "python",
   "name": "python3"
  },
  "language_info": {
   "codemirror_mode": {
    "name": "ipython",
    "version": 3
   },
   "file_extension": ".py",
   "mimetype": "text/x-python",
   "name": "python",
   "nbconvert_exporter": "python",
   "pygments_lexer": "ipython3",
   "version": "3.7.7"
  }
 },
 "nbformat": 4,
 "nbformat_minor": 4
}
