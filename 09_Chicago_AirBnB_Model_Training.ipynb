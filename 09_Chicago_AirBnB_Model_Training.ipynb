{
 "cells": [
  {
   "cell_type": "markdown",
   "metadata": {},
   "source": [
    "# 9. CHICAGO AIRBNB: MODEL TRAINING\n",
    "---"
   ]
  },
  {
   "cell_type": "markdown",
   "metadata": {},
   "source": [
    "## 1. The Data & Train-Test Split"
   ]
  },
  {
   "cell_type": "code",
   "execution_count": 1,
   "metadata": {},
   "outputs": [
    {
     "data": {
      "text/plain": [
       "((5240, 25), (5240,), (1310, 25), (1310,))"
      ]
     },
     "execution_count": 1,
     "metadata": {},
     "output_type": "execute_result"
    }
   ],
   "source": [
    "import pandas as pd\n",
    "import numpy as np\n",
    "from sklearn.model_selection import train_test_split\n",
    "pd.set_option(\"display.max_columns\", 99)\n",
    "pd.set_option(\"display.max_rows\", 999)\n",
    "pd.set_option('precision', 3)\n",
    "\n",
    "chicago = pd.read_csv('data/chicago_airbnb3')\n",
    "\n",
    "num_cols = ['host_rr', 'host_ar', 'latitude', 'longitude', 'accommodates',\n",
    "            'baths', 'bedrooms', 'beds', 'min_nights', 'max_nights', 'n_reviews', \n",
    "            'rs_rating', 'rs_accuracy', 'rs_cleanliness', 'rs_check_in', \n",
    "            'rs_communication', 'rs_location', 'rs_value', 'reviews_per_month']\n",
    "\n",
    "cat_cols = ['host_rt', 'neighborhood', 'property_type', 'room_type']\n",
    "\n",
    "train, test = train_test_split(chicago, test_size=0.2, random_state=42)\n",
    "\n",
    "X_train = train.drop('price', axis=1)\n",
    "y_train = train['price']\n",
    "\n",
    "X_test = test.drop('price', axis=1)\n",
    "y_test = test['price']\n",
    "\n",
    "X_train.shape, y_train.shape, X_test.shape, y_test.shape"
   ]
  },
  {
   "cell_type": "markdown",
   "metadata": {},
   "source": [
    "## 2. Preprocessing Pipeline"
   ]
  },
  {
   "cell_type": "code",
   "execution_count": 2,
   "metadata": {},
   "outputs": [
    {
     "name": "stdout",
     "output_type": "stream",
     "text": [
      "(5240, 21)\n"
     ]
    }
   ],
   "source": [
    "from sklearn.base import BaseEstimator, TransformerMixin\n",
    "\n",
    "class AttributeAdder(BaseEstimator, TransformerMixin):    \n",
    "    def __init__(self):\n",
    "        self    \n",
    "        \n",
    "    def fit(self, df, y = None):               \n",
    "        return self\n",
    "\n",
    "    def transform(self, df):        \n",
    "        df_ = df.copy()\n",
    "        df_['beds_per_bdrm'] = df_['beds']/df_['bedrooms']\n",
    "        df_['baths_per_bed'] = df_['baths']/df_['beds']\n",
    "        df_.replace(np.inf, 0, inplace=True)\n",
    "        df_.replace(np.nan, 0, inplace=True)\n",
    "        return df_\n",
    "    \n",
    "adder = AttributeAdder()\n",
    "X_train_num = adder.fit_transform(train[num_cols])\n",
    "print(X_train_num.shape)"
   ]
  },
  {
   "cell_type": "code",
   "execution_count": 3,
   "metadata": {},
   "outputs": [
    {
     "data": {
      "text/plain": [
       "<5240x115 sparse matrix of type '<class 'numpy.float64'>'\n",
       "\twith 131000 stored elements in Compressed Sparse Row format>"
      ]
     },
     "execution_count": 3,
     "metadata": {},
     "output_type": "execute_result"
    }
   ],
   "source": [
    "from sklearn.pipeline import Pipeline\n",
    "from sklearn.preprocessing import StandardScaler\n",
    "from sklearn.preprocessing import OneHotEncoder\n",
    "from sklearn.compose import ColumnTransformer\n",
    "\n",
    "num_pipe = Pipeline(steps = [\n",
    "    ('add_features', AttributeAdder()),\n",
    "    ('std_scaling', StandardScaler())\n",
    "])\n",
    "full_pipe = ColumnTransformer(\n",
    "    transformers=[\n",
    "        ('num_prep', num_pipe, num_cols),\n",
    "        ('cat_prep', OneHotEncoder(), cat_cols)\n",
    "    ])\n",
    "\n",
    "X_train = full_pipe.fit_transform(X_train)\n",
    "X_train"
   ]
  },
  {
   "cell_type": "markdown",
   "metadata": {},
   "source": [
    "So we have a sparse matrix (probably due to OneHotEncoding). We also have 115 features which is the same number that we got in the previous part when we used get_dummies. \n",
    "\n",
    "## 3. HTML Representation of Pipeline"
   ]
  },
  {
   "cell_type": "code",
   "execution_count": 4,
   "metadata": {},
   "outputs": [
    {
     "data": {
      "text/html": [
       "<style>div.sk-top-container {color: black;background-color: white;}div.sk-toggleable {background-color: white;}label.sk-toggleable__label {cursor: pointer;display: block;width: 100%;margin-bottom: 0;padding: 0.2em 0.3em;box-sizing: border-box;text-align: center;}div.sk-toggleable__content {max-height: 0;max-width: 0;overflow: hidden;text-align: left;background-color: #f0f8ff;}div.sk-toggleable__content pre {margin: 0.2em;color: black;border-radius: 0.25em;background-color: #f0f8ff;}input.sk-toggleable__control:checked~div.sk-toggleable__content {max-height: 200px;max-width: 100%;overflow: auto;}div.sk-estimator input.sk-toggleable__control:checked~label.sk-toggleable__label {background-color: #d4ebff;}div.sk-label input.sk-toggleable__control:checked~label.sk-toggleable__label {background-color: #d4ebff;}input.sk-hidden--visually {border: 0;clip: rect(1px 1px 1px 1px);clip: rect(1px, 1px, 1px, 1px);height: 1px;margin: -1px;overflow: hidden;padding: 0;position: absolute;width: 1px;}div.sk-estimator {font-family: monospace;background-color: #f0f8ff;margin: 0.25em 0.25em;border: 1px dotted black;border-radius: 0.25em;box-sizing: border-box;}div.sk-estimator:hover {background-color: #d4ebff;}div.sk-parallel-item::after {content: \"\";width: 100%;border-bottom: 1px solid gray;flex-grow: 1;}div.sk-label:hover label.sk-toggleable__label {background-color: #d4ebff;}div.sk-serial::before {content: \"\";position: absolute;border-left: 1px solid gray;box-sizing: border-box;top: 2em;bottom: 0;left: 50%;}div.sk-serial {display: flex;flex-direction: column;align-items: center;background-color: white;}div.sk-item {z-index: 1;}div.sk-parallel {display: flex;align-items: stretch;justify-content: center;background-color: white;}div.sk-parallel-item {display: flex;flex-direction: column;position: relative;background-color: white;}div.sk-parallel-item:first-child::after {align-self: flex-end;width: 50%;}div.sk-parallel-item:last-child::after {align-self: flex-start;width: 50%;}div.sk-parallel-item:only-child::after {width: 0;}div.sk-dashed-wrapped {border: 1px dashed gray;margin: 0.2em;box-sizing: border-box;padding-bottom: 0.1em;background-color: white;position: relative;}div.sk-label label {font-family: monospace;font-weight: bold;background-color: white;display: inline-block;line-height: 1.2em;}div.sk-label-container {position: relative;z-index: 2;text-align: center;}div.sk-container {display: inline-block;position: relative;}</style><div class=\"sk-top-container\"><div class=\"sk-container\"><div class=\"sk-item sk-dashed-wrapped\"><div class=\"sk-label-container\"><div class=\"sk-label sk-toggleable\"><input class=\"sk-toggleable__control sk-hidden--visually\" id=\"d6dbe600-db08-4b4b-b204-0901679bbd0c\" type=\"checkbox\" ><label class=\"sk-toggleable__label\" for=\"d6dbe600-db08-4b4b-b204-0901679bbd0c\">ColumnTransformer</label><div class=\"sk-toggleable__content\"><pre>ColumnTransformer(transformers=[('num_prep',\n",
       "                                 Pipeline(steps=[('add_features',\n",
       "                                                  AttributeAdder()),\n",
       "                                                 ('std_scaling',\n",
       "                                                  StandardScaler())]),\n",
       "                                 ['host_rr', 'host_ar', 'latitude', 'longitude',\n",
       "                                  'accommodates', 'baths', 'bedrooms', 'beds',\n",
       "                                  'min_nights', 'max_nights', 'n_reviews',\n",
       "                                  'rs_rating', 'rs_accuracy', 'rs_cleanliness',\n",
       "                                  'rs_check_in', 'rs_communication',\n",
       "                                  'rs_location', 'rs_value',\n",
       "                                  'reviews_per_month']),\n",
       "                                ('cat_prep', OneHotEncoder(),\n",
       "                                 ['host_rt', 'neighborhood', 'property_type',\n",
       "                                  'room_type'])])</pre></div></div></div><div class=\"sk-parallel\"><div class=\"sk-parallel-item\"><div class=\"sk-item\"><div class=\"sk-label-container\"><div class=\"sk-label sk-toggleable\"><input class=\"sk-toggleable__control sk-hidden--visually\" id=\"26cc412a-0962-4a87-9fcd-e6dd5ef71e0a\" type=\"checkbox\" ><label class=\"sk-toggleable__label\" for=\"26cc412a-0962-4a87-9fcd-e6dd5ef71e0a\">num_prep</label><div class=\"sk-toggleable__content\"><pre>['host_rr', 'host_ar', 'latitude', 'longitude', 'accommodates', 'baths', 'bedrooms', 'beds', 'min_nights', 'max_nights', 'n_reviews', 'rs_rating', 'rs_accuracy', 'rs_cleanliness', 'rs_check_in', 'rs_communication', 'rs_location', 'rs_value', 'reviews_per_month']</pre></div></div></div><div class=\"sk-serial\"><div class=\"sk-item\"><div class=\"sk-serial\"><div class=\"sk-item\"><div class=\"sk-estimator sk-toggleable\"><input class=\"sk-toggleable__control sk-hidden--visually\" id=\"86fc3517-950a-470a-a48a-9f3723ec05e9\" type=\"checkbox\" ><label class=\"sk-toggleable__label\" for=\"86fc3517-950a-470a-a48a-9f3723ec05e9\">AttributeAdder</label><div class=\"sk-toggleable__content\"><pre>AttributeAdder()</pre></div></div></div><div class=\"sk-item\"><div class=\"sk-estimator sk-toggleable\"><input class=\"sk-toggleable__control sk-hidden--visually\" id=\"8b43a355-303e-432f-a42c-54017ea3edf0\" type=\"checkbox\" ><label class=\"sk-toggleable__label\" for=\"8b43a355-303e-432f-a42c-54017ea3edf0\">StandardScaler</label><div class=\"sk-toggleable__content\"><pre>StandardScaler()</pre></div></div></div></div></div></div></div></div><div class=\"sk-parallel-item\"><div class=\"sk-item\"><div class=\"sk-label-container\"><div class=\"sk-label sk-toggleable\"><input class=\"sk-toggleable__control sk-hidden--visually\" id=\"625506bc-42c7-4eac-b268-246ca67e7cc3\" type=\"checkbox\" ><label class=\"sk-toggleable__label\" for=\"625506bc-42c7-4eac-b268-246ca67e7cc3\">cat_prep</label><div class=\"sk-toggleable__content\"><pre>['host_rt', 'neighborhood', 'property_type', 'room_type']</pre></div></div></div><div class=\"sk-serial\"><div class=\"sk-item\"><div class=\"sk-estimator sk-toggleable\"><input class=\"sk-toggleable__control sk-hidden--visually\" id=\"03632359-84a9-4912-b3b1-9de445ce4d20\" type=\"checkbox\" ><label class=\"sk-toggleable__label\" for=\"03632359-84a9-4912-b3b1-9de445ce4d20\">OneHotEncoder</label><div class=\"sk-toggleable__content\"><pre>OneHotEncoder()</pre></div></div></div></div></div></div></div></div></div></div>"
      ],
      "text/plain": [
       "ColumnTransformer(transformers=[('num_prep',\n",
       "                                 Pipeline(steps=[('add_features',\n",
       "                                                  AttributeAdder()),\n",
       "                                                 ('std_scaling',\n",
       "                                                  StandardScaler())]),\n",
       "                                 ['host_rr', 'host_ar', 'latitude', 'longitude',\n",
       "                                  'accommodates', 'baths', 'bedrooms', 'beds',\n",
       "                                  'min_nights', 'max_nights', 'n_reviews',\n",
       "                                  'rs_rating', 'rs_accuracy', 'rs_cleanliness',\n",
       "                                  'rs_check_in', 'rs_communication',\n",
       "                                  'rs_location', 'rs_value',\n",
       "                                  'reviews_per_month']),\n",
       "                                ('cat_prep', OneHotEncoder(),\n",
       "                                 ['host_rt', 'neighborhood', 'property_type',\n",
       "                                  'room_type'])])"
      ]
     },
     "execution_count": 4,
     "metadata": {},
     "output_type": "execute_result"
    }
   ],
   "source": [
    "from sklearn import set_config\n",
    "set_config(display='diagram')\n",
    "\n",
    "full_pipe"
   ]
  },
  {
   "cell_type": "markdown",
   "metadata": {},
   "source": [
    "## 4. Training a Linear Regression Model"
   ]
  },
  {
   "cell_type": "code",
   "execution_count": 6,
   "metadata": {},
   "outputs": [
    {
     "name": "stdout",
     "output_type": "stream",
     "text": [
      "RMSE: [425.93108859 183.52740766 134.72761984 138.45581251 413.15291056\n",
      " 447.2906282  568.16886068 140.92118982 444.47672801 130.01073927]\n",
      "Avg_RMSE: 302.6662985151705\n",
      "Std_RMSE: 162.55875437222156\n"
     ]
    }
   ],
   "source": [
    "from sklearn.linear_model import LinearRegression\n",
    "from sklearn.model_selection import cross_val_score\n",
    "\n",
    "ols = LinearRegression()\n",
    "ols_mse = cross_val_score(ols, X_train, y_train, cv=10, n_jobs=-1, \n",
    "                             scoring=\"neg_mean_squared_error\") \n",
    "ols_rmse = np.sqrt(np.absolute(ols_mse))\n",
    "print('RMSE:', ols_rmse)\n",
    "print('Avg_RMSE:', ols_rmse.mean())\n",
    "print('Std_RMSE:', ols_rmse.std())"
   ]
  },
  {
   "cell_type": "code",
   "execution_count": 7,
   "metadata": {},
   "outputs": [
    {
     "name": "stdout",
     "output_type": "stream",
     "text": [
      "Price_Mean 156.58548282442754\n",
      "Price_Std 360.2657343128557\n"
     ]
    }
   ],
   "source": [
    "print('Price_Mean', y_train.mean())\n",
    "print('Price_Std', y_train.std())"
   ]
  },
  {
   "cell_type": "markdown",
   "metadata": {},
   "source": [
    "As expected the model performed horrendously as we can see that the actual mean price is almost half of the error. \n",
    "\n",
    "## 5. Tracking Model Performance"
   ]
  },
  {
   "cell_type": "code",
   "execution_count": 14,
   "metadata": {},
   "outputs": [
    {
     "data": {
      "text/html": [
       "<div>\n",
       "<style scoped>\n",
       "    .dataframe tbody tr th:only-of-type {\n",
       "        vertical-align: middle;\n",
       "    }\n",
       "\n",
       "    .dataframe tbody tr th {\n",
       "        vertical-align: top;\n",
       "    }\n",
       "\n",
       "    .dataframe thead th {\n",
       "        text-align: right;\n",
       "    }\n",
       "</style>\n",
       "<table border=\"1\" class=\"dataframe\">\n",
       "  <thead>\n",
       "    <tr style=\"text-align: right;\">\n",
       "      <th></th>\n",
       "      <th>OLS_LR</th>\n",
       "    </tr>\n",
       "  </thead>\n",
       "  <tbody>\n",
       "    <tr>\n",
       "      <th>rmse_1</th>\n",
       "      <td>425.931</td>\n",
       "    </tr>\n",
       "    <tr>\n",
       "      <th>rmse_2</th>\n",
       "      <td>183.527</td>\n",
       "    </tr>\n",
       "    <tr>\n",
       "      <th>rmse_3</th>\n",
       "      <td>134.728</td>\n",
       "    </tr>\n",
       "    <tr>\n",
       "      <th>rmse_4</th>\n",
       "      <td>138.456</td>\n",
       "    </tr>\n",
       "    <tr>\n",
       "      <th>rmse_5</th>\n",
       "      <td>413.153</td>\n",
       "    </tr>\n",
       "    <tr>\n",
       "      <th>rmse_6</th>\n",
       "      <td>447.291</td>\n",
       "    </tr>\n",
       "    <tr>\n",
       "      <th>rmse_7</th>\n",
       "      <td>568.169</td>\n",
       "    </tr>\n",
       "    <tr>\n",
       "      <th>rmse_8</th>\n",
       "      <td>140.921</td>\n",
       "    </tr>\n",
       "    <tr>\n",
       "      <th>rmse_9</th>\n",
       "      <td>444.477</td>\n",
       "    </tr>\n",
       "    <tr>\n",
       "      <th>rmse_10</th>\n",
       "      <td>130.011</td>\n",
       "    </tr>\n",
       "    <tr>\n",
       "      <th>avg_rmse</th>\n",
       "      <td>302.666</td>\n",
       "    </tr>\n",
       "    <tr>\n",
       "      <th>std_rmse</th>\n",
       "      <td>162.559</td>\n",
       "    </tr>\n",
       "  </tbody>\n",
       "</table>\n",
       "</div>"
      ],
      "text/plain": [
       "           OLS_LR\n",
       "rmse_1    425.931\n",
       "rmse_2    183.527\n",
       "rmse_3    134.728\n",
       "rmse_4    138.456\n",
       "rmse_5    413.153\n",
       "rmse_6    447.291\n",
       "rmse_7    568.169\n",
       "rmse_8    140.921\n",
       "rmse_9    444.477\n",
       "rmse_10   130.011\n",
       "avg_rmse  302.666\n",
       "std_rmse  162.559"
      ]
     },
     "execution_count": 14,
     "metadata": {},
     "output_type": "execute_result"
    }
   ],
   "source": [
    "model_index = ['rmse_1','rmse_2', 'rmse_3', 'rmse_4', 'rmse_5', 'rmse_6', 'rmse_7',\n",
    "             'rmse_8', 'rmse_9', 'rmse_10', 'avg_rmse', 'std_rmse']\n",
    "model_df = pd.DataFrame(index=model_index)\n",
    "model_df['OLS_LR'] = [425.93108859, 183.52740766, 134.72761984, 138.45581251, 413.15291056,\n",
    "               447.2906282,  568.16886068, 140.92118982, 444.47672801, 130.01073927, \n",
    "               302.6662985151705, 162.55875437222156]\n",
    "model_df"
   ]
  },
  {
   "cell_type": "code",
   "execution_count": null,
   "metadata": {},
   "outputs": [],
   "source": []
  }
 ],
 "metadata": {
  "kernelspec": {
   "display_name": "Python 3",
   "language": "python",
   "name": "python3"
  },
  "language_info": {
   "codemirror_mode": {
    "name": "ipython",
    "version": 3
   },
   "file_extension": ".py",
   "mimetype": "text/x-python",
   "name": "python",
   "nbconvert_exporter": "python",
   "pygments_lexer": "ipython3",
   "version": "3.7.7"
  }
 },
 "nbformat": 4,
 "nbformat_minor": 4
}
