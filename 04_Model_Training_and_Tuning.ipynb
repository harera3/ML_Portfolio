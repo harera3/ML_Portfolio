{
 "cells": [
  {
   "cell_type": "markdown",
   "metadata": {},
   "source": [
    "# 4. MODEL TRAINING AND TUNING\n",
    "---"
   ]
  },
  {
   "cell_type": "code",
   "execution_count": 1,
   "metadata": {},
   "outputs": [
    {
     "name": "stdout",
     "output_type": "stream",
     "text": [
      "(204, 31)\n"
     ]
    },
    {
     "data": {
      "text/html": [
       "<div>\n",
       "<style scoped>\n",
       "    .dataframe tbody tr th:only-of-type {\n",
       "        vertical-align: middle;\n",
       "    }\n",
       "\n",
       "    .dataframe tbody tr th {\n",
       "        vertical-align: top;\n",
       "    }\n",
       "\n",
       "    .dataframe thead th {\n",
       "        text-align: right;\n",
       "    }\n",
       "</style>\n",
       "<table border=\"1\" class=\"dataframe\">\n",
       "  <thead>\n",
       "    <tr style=\"text-align: right;\">\n",
       "      <th></th>\n",
       "      <th>engine_size</th>\n",
       "      <th>engine_type_dohcv</th>\n",
       "      <th>make_bmw</th>\n",
       "      <th>curb_weight</th>\n",
       "      <th>make_mercedes-benz</th>\n",
       "      <th>width</th>\n",
       "      <th>wheel_base</th>\n",
       "      <th>engine_location_rear</th>\n",
       "      <th>engine_location_front</th>\n",
       "      <th>make_jaguar</th>\n",
       "      <th>make_peugot</th>\n",
       "      <th>engine_type_rotor</th>\n",
       "      <th>horsepower</th>\n",
       "      <th>make_subaru</th>\n",
       "      <th>body_style_convertible</th>\n",
       "      <th>make_porsche</th>\n",
       "      <th>make_mitsubishi</th>\n",
       "      <th>make_plymouth</th>\n",
       "      <th>num_cylinders</th>\n",
       "      <th>make_toyota</th>\n",
       "      <th>make_renault</th>\n",
       "      <th>make_dodge</th>\n",
       "      <th>make_nissan</th>\n",
       "      <th>engine_type_ohcf</th>\n",
       "      <th>symboling_-2</th>\n",
       "      <th>peak_rpm</th>\n",
       "      <th>make_volkswagen</th>\n",
       "      <th>compression_ratio</th>\n",
       "      <th>make_isuzu</th>\n",
       "      <th>bore</th>\n",
       "      <th>price</th>\n",
       "    </tr>\n",
       "  </thead>\n",
       "  <tbody>\n",
       "    <tr>\n",
       "      <th>0</th>\n",
       "      <td>0.260</td>\n",
       "      <td>0</td>\n",
       "      <td>0</td>\n",
       "      <td>0.411</td>\n",
       "      <td>0</td>\n",
       "      <td>0.317</td>\n",
       "      <td>0.058</td>\n",
       "      <td>0</td>\n",
       "      <td>1</td>\n",
       "      <td>0</td>\n",
       "      <td>0</td>\n",
       "      <td>0</td>\n",
       "      <td>0.263</td>\n",
       "      <td>0</td>\n",
       "      <td>1</td>\n",
       "      <td>0</td>\n",
       "      <td>0</td>\n",
       "      <td>0</td>\n",
       "      <td>0.2</td>\n",
       "      <td>0</td>\n",
       "      <td>0</td>\n",
       "      <td>0</td>\n",
       "      <td>0</td>\n",
       "      <td>0</td>\n",
       "      <td>0</td>\n",
       "      <td>0.347</td>\n",
       "      <td>0</td>\n",
       "      <td>0.125</td>\n",
       "      <td>0</td>\n",
       "      <td>0.664</td>\n",
       "      <td>16500.0</td>\n",
       "    </tr>\n",
       "    <tr>\n",
       "      <th>1</th>\n",
       "      <td>0.343</td>\n",
       "      <td>0</td>\n",
       "      <td>0</td>\n",
       "      <td>0.518</td>\n",
       "      <td>0</td>\n",
       "      <td>0.433</td>\n",
       "      <td>0.230</td>\n",
       "      <td>0</td>\n",
       "      <td>1</td>\n",
       "      <td>0</td>\n",
       "      <td>0</td>\n",
       "      <td>0</td>\n",
       "      <td>0.442</td>\n",
       "      <td>0</td>\n",
       "      <td>0</td>\n",
       "      <td>0</td>\n",
       "      <td>0</td>\n",
       "      <td>0</td>\n",
       "      <td>0.4</td>\n",
       "      <td>0</td>\n",
       "      <td>0</td>\n",
       "      <td>0</td>\n",
       "      <td>0</td>\n",
       "      <td>0</td>\n",
       "      <td>0</td>\n",
       "      <td>0.347</td>\n",
       "      <td>0</td>\n",
       "      <td>0.125</td>\n",
       "      <td>0</td>\n",
       "      <td>0.100</td>\n",
       "      <td>16500.0</td>\n",
       "    </tr>\n",
       "    <tr>\n",
       "      <th>2</th>\n",
       "      <td>0.181</td>\n",
       "      <td>0</td>\n",
       "      <td>0</td>\n",
       "      <td>0.329</td>\n",
       "      <td>0</td>\n",
       "      <td>0.492</td>\n",
       "      <td>0.385</td>\n",
       "      <td>0</td>\n",
       "      <td>1</td>\n",
       "      <td>0</td>\n",
       "      <td>0</td>\n",
       "      <td>0</td>\n",
       "      <td>0.225</td>\n",
       "      <td>0</td>\n",
       "      <td>0</td>\n",
       "      <td>0</td>\n",
       "      <td>0</td>\n",
       "      <td>0</td>\n",
       "      <td>0.2</td>\n",
       "      <td>0</td>\n",
       "      <td>0</td>\n",
       "      <td>0</td>\n",
       "      <td>0</td>\n",
       "      <td>0</td>\n",
       "      <td>0</td>\n",
       "      <td>0.551</td>\n",
       "      <td>0</td>\n",
       "      <td>0.188</td>\n",
       "      <td>0</td>\n",
       "      <td>0.464</td>\n",
       "      <td>13950.0</td>\n",
       "    </tr>\n",
       "    <tr>\n",
       "      <th>3</th>\n",
       "      <td>0.283</td>\n",
       "      <td>0</td>\n",
       "      <td>0</td>\n",
       "      <td>0.518</td>\n",
       "      <td>0</td>\n",
       "      <td>0.508</td>\n",
       "      <td>0.373</td>\n",
       "      <td>0</td>\n",
       "      <td>1</td>\n",
       "      <td>0</td>\n",
       "      <td>0</td>\n",
       "      <td>0</td>\n",
       "      <td>0.279</td>\n",
       "      <td>0</td>\n",
       "      <td>0</td>\n",
       "      <td>0</td>\n",
       "      <td>0</td>\n",
       "      <td>0</td>\n",
       "      <td>0.3</td>\n",
       "      <td>0</td>\n",
       "      <td>0</td>\n",
       "      <td>0</td>\n",
       "      <td>0</td>\n",
       "      <td>0</td>\n",
       "      <td>0</td>\n",
       "      <td>0.551</td>\n",
       "      <td>0</td>\n",
       "      <td>0.062</td>\n",
       "      <td>0</td>\n",
       "      <td>0.464</td>\n",
       "      <td>17450.0</td>\n",
       "    </tr>\n",
       "    <tr>\n",
       "      <th>4</th>\n",
       "      <td>0.283</td>\n",
       "      <td>0</td>\n",
       "      <td>0</td>\n",
       "      <td>0.395</td>\n",
       "      <td>0</td>\n",
       "      <td>0.500</td>\n",
       "      <td>0.385</td>\n",
       "      <td>0</td>\n",
       "      <td>1</td>\n",
       "      <td>0</td>\n",
       "      <td>0</td>\n",
       "      <td>0</td>\n",
       "      <td>0.258</td>\n",
       "      <td>0</td>\n",
       "      <td>0</td>\n",
       "      <td>0</td>\n",
       "      <td>0</td>\n",
       "      <td>0</td>\n",
       "      <td>0.3</td>\n",
       "      <td>0</td>\n",
       "      <td>0</td>\n",
       "      <td>0</td>\n",
       "      <td>0</td>\n",
       "      <td>0</td>\n",
       "      <td>0</td>\n",
       "      <td>0.551</td>\n",
       "      <td>0</td>\n",
       "      <td>0.094</td>\n",
       "      <td>0</td>\n",
       "      <td>0.464</td>\n",
       "      <td>15250.0</td>\n",
       "    </tr>\n",
       "  </tbody>\n",
       "</table>\n",
       "</div>"
      ],
      "text/plain": [
       "   engine_size  engine_type_dohcv  make_bmw  curb_weight  make_mercedes-benz  \\\n",
       "0        0.260                  0         0        0.411                   0   \n",
       "1        0.343                  0         0        0.518                   0   \n",
       "2        0.181                  0         0        0.329                   0   \n",
       "3        0.283                  0         0        0.518                   0   \n",
       "4        0.283                  0         0        0.395                   0   \n",
       "\n",
       "   width  wheel_base  engine_location_rear  engine_location_front  \\\n",
       "0  0.317       0.058                     0                      1   \n",
       "1  0.433       0.230                     0                      1   \n",
       "2  0.492       0.385                     0                      1   \n",
       "3  0.508       0.373                     0                      1   \n",
       "4  0.500       0.385                     0                      1   \n",
       "\n",
       "   make_jaguar  make_peugot  engine_type_rotor  horsepower  make_subaru  \\\n",
       "0            0            0                  0       0.263            0   \n",
       "1            0            0                  0       0.442            0   \n",
       "2            0            0                  0       0.225            0   \n",
       "3            0            0                  0       0.279            0   \n",
       "4            0            0                  0       0.258            0   \n",
       "\n",
       "   body_style_convertible  make_porsche  make_mitsubishi  make_plymouth  \\\n",
       "0                       1             0                0              0   \n",
       "1                       0             0                0              0   \n",
       "2                       0             0                0              0   \n",
       "3                       0             0                0              0   \n",
       "4                       0             0                0              0   \n",
       "\n",
       "   num_cylinders  make_toyota  make_renault  make_dodge  make_nissan  \\\n",
       "0            0.2            0             0           0            0   \n",
       "1            0.4            0             0           0            0   \n",
       "2            0.2            0             0           0            0   \n",
       "3            0.3            0             0           0            0   \n",
       "4            0.3            0             0           0            0   \n",
       "\n",
       "   engine_type_ohcf  symboling_-2  peak_rpm  make_volkswagen  \\\n",
       "0                 0             0     0.347                0   \n",
       "1                 0             0     0.347                0   \n",
       "2                 0             0     0.551                0   \n",
       "3                 0             0     0.551                0   \n",
       "4                 0             0     0.551                0   \n",
       "\n",
       "   compression_ratio  make_isuzu   bore    price  \n",
       "0              0.125           0  0.664  16500.0  \n",
       "1              0.125           0  0.100  16500.0  \n",
       "2              0.188           0  0.464  13950.0  \n",
       "3              0.062           0  0.464  17450.0  \n",
       "4              0.094           0  0.464  15250.0  "
      ]
     },
     "execution_count": 1,
     "metadata": {},
     "output_type": "execute_result"
    }
   ],
   "source": [
    "import pandas as pd\n",
    "import numpy as np\n",
    "pd.set_option(\"display.max_columns\", 99)\n",
    "pd.set_option(\"display.max_rows\", 999)\n",
    "pd.set_option('precision', 3)\n",
    "\n",
    "cars = pd.read_csv('data/imports-85.cars3')\n",
    "print(cars.shape)\n",
    "cars.head()"
   ]
  },
  {
   "cell_type": "code",
   "execution_count": 2,
   "metadata": {},
   "outputs": [
    {
     "data": {
      "text/plain": [
       "((204, 30), (204,))"
      ]
     },
     "execution_count": 2,
     "metadata": {},
     "output_type": "execute_result"
    }
   ],
   "source": [
    "np.random.seed(42)\n",
    "cars = cars.loc[np.random.permutation(len(cars))]\n",
    "X_cars = cars.drop('price', axis=1)\n",
    "y_cars = cars['price'].copy()\n",
    "X_cars.shape, y_cars.shape"
   ]
  },
  {
   "cell_type": "markdown",
   "metadata": {},
   "source": [
    "## 1. K-Nearest Neighbor Regression"
   ]
  },
  {
   "cell_type": "code",
   "execution_count": 3,
   "metadata": {},
   "outputs": [
    {
     "name": "stdout",
     "output_type": "stream",
     "text": [
      "Best Parameters: {'algorithm': 'ball_tree', 'n_neighbors': 7, 'p': 1, 'weights': 'distance'}\n",
      "Best Score: 0.9026686890801114\n"
     ]
    }
   ],
   "source": [
    "from sklearn.neighbors import KNeighborsRegressor\n",
    "from sklearn.model_selection import GridSearchCV\n",
    "\n",
    "kpar = {'n_neighbors': np.arange(1, 21, 2),\n",
    "       'weights': ['uniform', 'distance'],\n",
    "       'algorithm': ['ball_tree', 'kd_tree', 'brute'],\n",
    "       'p': [1,2]\n",
    "      }\n",
    "knn = KNeighborsRegressor()\n",
    "kgrid = GridSearchCV(knn, kpar, n_jobs=-1)\n",
    "kgrid.fit(X_cars, y_cars)\n",
    "\n",
    "print('Best Parameters:', kgrid.best_params_)\n",
    "print('Best Score:', kgrid.best_score_)"
   ]
  },
  {
   "cell_type": "code",
   "execution_count": 4,
   "metadata": {},
   "outputs": [
    {
     "name": "stdout",
     "output_type": "stream",
     "text": [
      "RMSE: [3704.30544571 2161.29986198 1889.57343682 2159.55492586 2122.96711104]\n",
      "Avg_RMSE: 2407.540156281768\n",
      "Std_RMSE: 656.2015716948404\n"
     ]
    }
   ],
   "source": [
    "from sklearn.model_selection import cross_val_score\n",
    "\n",
    "knn = KNeighborsRegressor(algorithm='ball_tree', n_neighbors=7, \n",
    "                        p=1, weights='distance')\n",
    "knn_mse = cross_val_score(knn, X_cars, y_cars, cv=5, n_jobs=-1, \n",
    "                             scoring=\"neg_mean_squared_error\") \n",
    "knn_rmse = np.sqrt(np.absolute(knn_mse))\n",
    "print('RMSE:', knn_rmse)\n",
    "print('Avg_RMSE:', knn_rmse.mean())\n",
    "print('Std_RMSE:', knn_rmse.std())"
   ]
  },
  {
   "cell_type": "markdown",
   "metadata": {},
   "source": [
    "The error results above are an improvement from what we got with OLS linear model and ElasticNet model. Hopefully we can keep improving upon it. \n",
    "\n",
    "## 2. Decision Tree Regression"
   ]
  },
  {
   "cell_type": "code",
   "execution_count": 5,
   "metadata": {},
   "outputs": [
    {
     "name": "stdout",
     "output_type": "stream",
     "text": [
      "Best Parameters: {'max_depth': 8, 'max_features': 10, 'min_samples_split': 4}\n",
      "Best Score: 0.8787825023389686\n"
     ]
    }
   ],
   "source": [
    "from sklearn.tree import DecisionTreeRegressor\n",
    "\n",
    "tpar = {'max_depth': [2, 3, 4, 5, 6, 8, 10, 12],\n",
    "       'min_samples_split': [2, 3, 4],\n",
    "       'max_features': [10, 15, 20, 25, 30]\n",
    "       }\n",
    "tree = DecisionTreeRegressor()\n",
    "tgrid = GridSearchCV(tree, tpar, n_jobs=-1)\n",
    "tgrid.fit(X_cars, y_cars)\n",
    "\n",
    "print('Best Parameters:', tgrid.best_params_)\n",
    "print('Best Score:', tgrid.best_score_)"
   ]
  },
  {
   "cell_type": "code",
   "execution_count": 6,
   "metadata": {},
   "outputs": [
    {
     "name": "stdout",
     "output_type": "stream",
     "text": [
      "RMSE: [4286.88135414 1932.12474127 3353.0997326  3155.05409212 3113.81893934]\n",
      "Avg_RMSE: 3168.195771894802\n",
      "Std_RMSE: 750.5528686302293\n"
     ]
    }
   ],
   "source": [
    "tree = DecisionTreeRegressor(max_depth=8, max_features=15,\n",
    "                            min_samples_split=3)\n",
    "tree_mse = cross_val_score(tree, X_cars, y_cars, cv=5, n_jobs=-1, \n",
    "                             scoring=\"neg_mean_squared_error\") \n",
    "tree_rmse = np.sqrt(np.absolute(tree_mse))\n",
    "print('RMSE:', tree_rmse)\n",
    "print('Avg_RMSE:', tree_rmse.mean())\n",
    "print('Std_RMSE:', tree_rmse.std())"
   ]
  },
  {
   "cell_type": "markdown",
   "metadata": {},
   "source": [
    "## 3. Decision Tree with AdaBoost"
   ]
  },
  {
   "cell_type": "code",
   "execution_count": 7,
   "metadata": {},
   "outputs": [
    {
     "name": "stdout",
     "output_type": "stream",
     "text": [
      "RMSE: [5097.45133976 2625.69728628 3245.35531628 3025.43145535 3233.30628865]\n",
      "Avg_RMSE: 3445.4483372622917\n",
      "Std_RMSE: 855.8693069354006\n"
     ]
    }
   ],
   "source": [
    "from sklearn.ensemble import AdaBoostRegressor\n",
    "\n",
    "tada = DecisionTreeRegressor(max_depth=2, max_features=30,\n",
    "                            min_samples_split=3)\n",
    "tada_boost = AdaBoostRegressor(tada, n_estimators=300, random_state=42)\n",
    "\n",
    "tada_mse = cross_val_score(tada_boost, X_cars, y_cars, cv=5, n_jobs=-1, \n",
    "                             scoring=\"neg_mean_squared_error\") \n",
    "tada_rmse = np.sqrt(np.absolute(tada_mse))\n",
    "print('RMSE:', tada_rmse)\n",
    "print('Avg_RMSE:', tada_rmse.mean())\n",
    "print('Std_RMSE:', tada_rmse.std())"
   ]
  },
  {
   "cell_type": "markdown",
   "metadata": {},
   "source": [
    "It looks like `AdaBoost` improves the decision tree a bit better but hopefully random forest will be better.\n",
    "\n",
    "## 4. Random Forest Regressor"
   ]
  },
  {
   "cell_type": "code",
   "execution_count": 8,
   "metadata": {},
   "outputs": [
    {
     "name": "stdout",
     "output_type": "stream",
     "text": [
      "Best Parameters: {'max_depth': 8, 'min_samples_leaf': 2, 'min_samples_split': 2}\n",
      "Best Score: 0.8666232342540672\n"
     ]
    }
   ],
   "source": [
    "from sklearn.ensemble import RandomForestRegressor\n",
    "\n",
    "ranpar = {'max_depth': [2, 4, 6, 8],\n",
    "          'min_samples_leaf': [1, 2, 3, 4],\n",
    "          'min_samples_split':[2, 3, 4, 5]\n",
    "         }\n",
    "ran = RandomForestRegressor()\n",
    "rangrid = GridSearchCV(ran, ranpar, n_jobs=-1)\n",
    "rangrid.fit(X_cars, y_cars)\n",
    "\n",
    "print('Best Parameters:', rangrid.best_params_)\n",
    "print('Best Score:', rangrid.best_score_)"
   ]
  },
  {
   "cell_type": "code",
   "execution_count": 9,
   "metadata": {},
   "outputs": [
    {
     "name": "stdout",
     "output_type": "stream",
     "text": [
      "RMSE: [4760.97771127 1960.20489267 2398.03134068 2352.16046128 2221.62132961]\n",
      "Avg_RMSE: 2738.599147100819\n",
      "Std_RMSE: 1022.5947412950496\n"
     ]
    }
   ],
   "source": [
    "ranfo = RandomForestRegressor(max_depth=6, min_samples_leaf=2,\n",
    "                            min_samples_split=2, random_state=42)\n",
    "ranfo_mse = cross_val_score(ranfo, X_cars, y_cars, cv=5, n_jobs=-1, \n",
    "                             scoring=\"neg_mean_squared_error\") \n",
    "ranfo_rmse = np.sqrt(np.absolute(ranfo_mse))\n",
    "print('RMSE:', ranfo_rmse)\n",
    "print('Avg_RMSE:', ranfo_rmse.mean())\n",
    "print('Std_RMSE:', ranfo_rmse.std())"
   ]
  },
  {
   "cell_type": "markdown",
   "metadata": {},
   "source": [
    "## 5. Feature Importances from Random Forest"
   ]
  },
  {
   "cell_type": "code",
   "execution_count": 10,
   "metadata": {},
   "outputs": [
    {
     "data": {
      "text/plain": [
       "array([6.16673400e-01, 0.00000000e+00, 7.19526856e-03, 2.73963164e-01,\n",
       "       6.70430819e-04, 1.86645393e-02, 1.67461996e-02, 2.84281303e-04,\n",
       "       8.20279306e-05, 1.22423544e-05, 2.03946118e-04, 3.99052377e-05,\n",
       "       2.44001386e-02, 2.24459931e-07, 1.16244079e-03, 0.00000000e+00,\n",
       "       7.37567978e-05, 7.01172619e-06, 2.57849829e-03, 6.32465132e-04,\n",
       "       1.18211570e-06, 2.56959455e-06, 8.40455152e-05, 2.47456759e-06,\n",
       "       3.06614790e-05, 6.69404960e-03, 1.30787186e-04, 2.31619321e-02,\n",
       "       3.00983361e-03, 3.49252296e-03])"
      ]
     },
     "execution_count": 10,
     "metadata": {},
     "output_type": "execute_result"
    }
   ],
   "source": [
    "ranfo = RandomForestRegressor(max_depth=6, min_samples_leaf=2,\n",
    "                            min_samples_split=2)\n",
    "ranfo.fit(X_cars, y_cars)\n",
    "ranfo.feature_importances_"
   ]
  },
  {
   "cell_type": "code",
   "execution_count": 11,
   "metadata": {
    "scrolled": true
   },
   "outputs": [
    {
     "data": {
      "text/html": [
       "<div>\n",
       "<style scoped>\n",
       "    .dataframe tbody tr th:only-of-type {\n",
       "        vertical-align: middle;\n",
       "    }\n",
       "\n",
       "    .dataframe tbody tr th {\n",
       "        vertical-align: top;\n",
       "    }\n",
       "\n",
       "    .dataframe thead th {\n",
       "        text-align: right;\n",
       "    }\n",
       "</style>\n",
       "<table border=\"1\" class=\"dataframe\">\n",
       "  <thead>\n",
       "    <tr style=\"text-align: right;\">\n",
       "      <th></th>\n",
       "      <th>feature</th>\n",
       "      <th>coef</th>\n",
       "    </tr>\n",
       "  </thead>\n",
       "  <tbody>\n",
       "    <tr>\n",
       "      <th>0</th>\n",
       "      <td>engine_size</td>\n",
       "      <td>0.617</td>\n",
       "    </tr>\n",
       "    <tr>\n",
       "      <th>3</th>\n",
       "      <td>curb_weight</td>\n",
       "      <td>0.274</td>\n",
       "    </tr>\n",
       "    <tr>\n",
       "      <th>12</th>\n",
       "      <td>horsepower</td>\n",
       "      <td>0.024</td>\n",
       "    </tr>\n",
       "    <tr>\n",
       "      <th>27</th>\n",
       "      <td>compression_ratio</td>\n",
       "      <td>0.023</td>\n",
       "    </tr>\n",
       "    <tr>\n",
       "      <th>5</th>\n",
       "      <td>width</td>\n",
       "      <td>0.019</td>\n",
       "    </tr>\n",
       "    <tr>\n",
       "      <th>6</th>\n",
       "      <td>wheel_base</td>\n",
       "      <td>0.017</td>\n",
       "    </tr>\n",
       "    <tr>\n",
       "      <th>2</th>\n",
       "      <td>make_bmw</td>\n",
       "      <td>0.007</td>\n",
       "    </tr>\n",
       "    <tr>\n",
       "      <th>25</th>\n",
       "      <td>peak_rpm</td>\n",
       "      <td>0.007</td>\n",
       "    </tr>\n",
       "    <tr>\n",
       "      <th>29</th>\n",
       "      <td>bore</td>\n",
       "      <td>0.003</td>\n",
       "    </tr>\n",
       "    <tr>\n",
       "      <th>28</th>\n",
       "      <td>make_isuzu</td>\n",
       "      <td>0.003</td>\n",
       "    </tr>\n",
       "    <tr>\n",
       "      <th>18</th>\n",
       "      <td>num_cylinders</td>\n",
       "      <td>0.003</td>\n",
       "    </tr>\n",
       "    <tr>\n",
       "      <th>14</th>\n",
       "      <td>body_style_convertible</td>\n",
       "      <td>0.001</td>\n",
       "    </tr>\n",
       "  </tbody>\n",
       "</table>\n",
       "</div>"
      ],
      "text/plain": [
       "                   feature   coef\n",
       "0              engine_size  0.617\n",
       "3              curb_weight  0.274\n",
       "12              horsepower  0.024\n",
       "27       compression_ratio  0.023\n",
       "5                    width  0.019\n",
       "6               wheel_base  0.017\n",
       "2                 make_bmw  0.007\n",
       "25                peak_rpm  0.007\n",
       "29                    bore  0.003\n",
       "28              make_isuzu  0.003\n",
       "18           num_cylinders  0.003\n",
       "14  body_style_convertible  0.001"
      ]
     },
     "execution_count": 11,
     "metadata": {},
     "output_type": "execute_result"
    }
   ],
   "source": [
    "importances = pd.DataFrame()\n",
    "importances['feature'] = list(X_cars.columns)\n",
    "importances['coef'] = ranfo.feature_importances_\n",
    "importances_ = importances.sort_values('coef', ascending=False)\n",
    "importances_.head(12)"
   ]
  },
  {
   "cell_type": "code",
   "execution_count": 12,
   "metadata": {},
   "outputs": [
    {
     "data": {
      "image/png": "[encoded data removed]",
      "text/plain": [
       "<Figure size 864x504 with 1 Axes>"
      ]
     },
     "metadata": {
      "needs_background": "light"
     },
     "output_type": "display_data"
    }
   ],
   "source": [
    "import matplotlib.pyplot as plt\n",
    "import seaborn as sns\n",
    "\n",
    "best12_df = importances_.head(12)\n",
    "plt.figure(figsize=(12,7))\n",
    "ax = sns.barplot(x=\"coef\", y=\"feature\", \n",
    "                 data=best12_df, palette=\"husl\")"
   ]
  },
  {
   "cell_type": "markdown",
   "metadata": {},
   "source": [
    "## 6. Training on the Best Features\n",
    "Let's use the best 6 to retrain the random forest and see if our errors will improve"
   ]
  },
  {
   "cell_type": "code",
   "execution_count": 13,
   "metadata": {},
   "outputs": [
    {
     "name": "stdout",
     "output_type": "stream",
     "text": [
      "RMSE: [4598.62101876 1920.55335957 2524.01268836 2432.37363213 2229.13398363]\n",
      "Avg_RMSE: 2740.938936489487\n",
      "Std_RMSE: 951.6542510365088\n"
     ]
    }
   ],
   "source": [
    "best6_df = importances_.head(6)\n",
    "best6_cols = list(best6_df['feature'])\n",
    "X_cars6 = X_cars[best6_cols].copy()\n",
    "\n",
    "ranfo2 = RandomForestRegressor(max_depth=8, min_samples_leaf=2,\n",
    "                            min_samples_split=2, random_state=42)\n",
    "ranfo2_mse = cross_val_score(ranfo2, X_cars6, y_cars, cv=5, n_jobs=-1, \n",
    "                             scoring=\"neg_mean_squared_error\") \n",
    "ranfo2_rmse = np.sqrt(np.absolute(ranfo2_mse))\n",
    "print('RMSE:', ranfo2_rmse)\n",
    "print('Avg_RMSE:', ranfo2_rmse.mean())\n",
    "print('Std_RMSE:', ranfo2_rmse.std())"
   ]
  },
  {
   "cell_type": "markdown",
   "metadata": {},
   "source": [
    "**KNN with Best 6 Features:**"
   ]
  },
  {
   "cell_type": "code",
   "execution_count": 14,
   "metadata": {},
   "outputs": [
    {
     "name": "stdout",
     "output_type": "stream",
     "text": [
      "RMSE: [5469.2569306  2135.83595475 2625.81571698 2794.73100277 2154.21084636]\n",
      "Avg_RMSE: 3035.970090293444\n",
      "Std_RMSE: 1243.7884531332295\n"
     ]
    }
   ],
   "source": [
    "knn = KNeighborsRegressor(algorithm='ball_tree', n_neighbors=7, \n",
    "                        p=1, weights='distance')\n",
    "knn_mse = cross_val_score(knn, X_cars6, y_cars, cv=5, n_jobs=-1, \n",
    "                             scoring=\"neg_mean_squared_error\") \n",
    "knn_rmse = np.sqrt(np.absolute(knn_mse))\n",
    "print('RMSE:', knn_rmse)\n",
    "print('Avg_RMSE:', knn_rmse.mean())\n",
    "print('Std_RMSE:', knn_rmse.std())"
   ]
  },
  {
   "cell_type": "markdown",
   "metadata": {},
   "source": [
    "So while the best 6 features improved our random forest a bit, the same did not happen for the K-nearest neighbors which is still our best model. This suggests that the best features for one model aren't necessarily going to work on as well on a different model."
   ]
  },
  {
   "cell_type": "markdown",
   "metadata": {},
   "source": [
    "## 7. Tuning the Best Model, KNN\n",
    "Let's see if we can improve this model by changing the number of cross-validation folds."
   ]
  },
  {
   "cell_type": "code",
   "execution_count": 15,
   "metadata": {},
   "outputs": [
    {
     "data": {
      "text/plain": [
       "(204, 30)"
      ]
     },
     "execution_count": 15,
     "metadata": {},
     "output_type": "execute_result"
    }
   ],
   "source": [
    "X_cars.shape"
   ]
  },
  {
   "cell_type": "code",
   "execution_count": 24,
   "metadata": {},
   "outputs": [
    {
     "name": "stdout",
     "output_type": "stream",
     "text": [
      "folds: [ 3  5  7  9 11 13 15 17 19 21 23]\n",
      "Avg_RMSE:  [2704.0474394622643, 2414.5118394837455, 2457.6959861277423, 2314.9282407174064, 2449.7895033174723, 2416.481184352863, 2365.2018492855377, 2338.0232368871825, 2244.813429429664, 2189.9907781325105, 2236.105850193573]\n",
      "Std_RMSE:  [354.15778000993237, 363.5460755746052, 547.7498871328442, 656.3947274476778, 609.5869271425942, 816.3968120468683, 759.6172603815129, 651.5563679565785, 813.2299246936119, 994.9033127510478, 848.9631803835686]\n"
     ]
    }
   ],
   "source": [
    "from sklearn.model_selection import KFold\n",
    "\n",
    "n_folds = np.arange(3,25,2)\n",
    "avg_rmse = []\n",
    "std_rmse = []\n",
    "for fold in n_folds:\n",
    "    kf = KFold(fold, shuffle=True, random_state=42)\n",
    "    knn2 = KNeighborsRegressor(algorithm='ball_tree', n_neighbors=7, \n",
    "                        p=1, weights='distance')\n",
    "    mses = cross_val_score(knn2, X_cars, y_cars, cv=kf, n_jobs=-1,\n",
    "                       scoring=\"neg_mean_squared_error\")\n",
    "    rmses = np.sqrt(np.absolute(mses))\n",
    "    avg_rmse.append(np.mean(rmses))\n",
    "    std_rmse.append(np.std(rmses))\n",
    "print(\"folds:\", n_folds)\n",
    "print(\"Avg_RMSE: \", avg_rmse)\n",
    "print(\"Std_RMSE: \", std_rmse)"
   ]
  },
  {
   "cell_type": "code",
   "execution_count": 22,
   "metadata": {},
   "outputs": [
    {
     "data": {
      "text/plain": [
       "array([ 3,  5,  7,  9, 11, 13, 15, 17, 19, 21, 23])"
      ]
     },
     "execution_count": 22,
     "metadata": {},
     "output_type": "execute_result"
    }
   ],
   "source": [
    "np.arange(3,25,2)"
   ]
  },
  {
   "cell_type": "code",
   "execution_count": null,
   "metadata": {},
   "outputs": [],
   "source": []
  }
 ],
 "metadata": {
  "kernelspec": {
   "display_name": "Python 3",
   "language": "python",
   "name": "python3"
  },
  "language_info": {
   "codemirror_mode": {
    "name": "ipython",
    "version": 3
   },
   "file_extension": ".py",
   "mimetype": "text/x-python",
   "name": "python",
   "nbconvert_exporter": "python",
   "pygments_lexer": "ipython3",
   "version": "3.7.7"
  }
 },
 "nbformat": 4,
 "nbformat_minor": 4
}
