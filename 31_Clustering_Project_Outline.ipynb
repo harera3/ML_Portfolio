{
 "cells": [
  {
   "cell_type": "markdown",
   "metadata": {},
   "source": [
    "# 31. CLUSTERING: PROJECT OUTLINE\n",
    "---"
   ]
  },
  {
   "cell_type": "markdown",
   "metadata": {},
   "source": [
    "## 32. Hepta Cluster: Data Exploration\n",
    "---\n",
    "#### 32.1 Introducing the Data\n",
    "#### 32.2 Understanding Data Types\n",
    "#### 32.3 Looking into Basic Stats\n",
    "#### 32.4 Checking for Outliers\n",
    "#### 32.5 Exploring Correlation\n",
    "#### 32.6 Data Visualization\n",
    "#### 32.7 Visualizing Data in 3D"
   ]
  },
  {
   "cell_type": "markdown",
   "metadata": {},
   "source": [
    "## 33. Hepta Cluster: Model Training\n",
    "---\n",
    "#### 33.1 Introducing the Data\n",
    "#### 33.2 The Elbow Method for Finding Optimal N-Clusters\n",
    "#### 33.3 The Silhouette Score Method for Finding Optimal N_Clusters\n",
    "#### 33.4 Silhouette Analysis for KMeans Clustering\n",
    "#### 33.5 KMeans Clustering at k=7\n",
    "#### 33.6 Evaluating KMeans Performance\n",
    "#### 33.7 Visualizing Predicted Clusters in 3D"
   ]
  },
  {
   "cell_type": "markdown",
   "metadata": {},
   "source": [
    "## 34. TETRA CLUSTER: DATA EXPLORATION\n",
    "---\n",
    "\n",
    "#### 34.1 Introducing the Data\n",
    "#### 34.2 Understanding Data Types\n",
    "#### 34.3 Checking for Outliers\n",
    "#### 34.4 Exploring Correlation\n",
    "#### 34.5 Data Visualization\n",
    "#### 34.6 Visualizing Data in 3D"
   ]
  },
  {
   "cell_type": "code",
   "execution_count": null,
   "metadata": {},
   "outputs": [],
   "source": []
  }
 ],
 "metadata": {
  "kernelspec": {
   "display_name": "Python 3",
   "language": "python",
   "name": "python3"
  },
  "language_info": {
   "codemirror_mode": {
    "name": "ipython",
    "version": 3
   },
   "file_extension": ".py",
   "mimetype": "text/x-python",
   "name": "python",
   "nbconvert_exporter": "python",
   "pygments_lexer": "ipython3",
   "version": "3.7.7"
  }
 },
 "nbformat": 4,
 "nbformat_minor": 4
}
