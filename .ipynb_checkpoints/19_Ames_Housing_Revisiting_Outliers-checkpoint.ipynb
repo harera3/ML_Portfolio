{
 "cells": [
  {
   "cell_type": "markdown",
   "metadata": {},
   "source": [
    "# 19. AMES HOUSING: REVISITING OUTLIERS\n",
    "---"
   ]
  },
  {
   "cell_type": "markdown",
   "metadata": {},
   "source": [
    "## 1. Introducing the Data"
   ]
  },
  {
   "cell_type": "code",
   "execution_count": 1,
   "metadata": {},
   "outputs": [
    {
     "name": "stdout",
     "output_type": "stream",
     "text": [
      "(2344, 14)\n",
      "(586, 14)\n"
     ]
    },
    {
     "data": {
      "text/html": [
       "<div>\n",
       "<style scoped>\n",
       "    .dataframe tbody tr th:only-of-type {\n",
       "        vertical-align: middle;\n",
       "    }\n",
       "\n",
       "    .dataframe tbody tr th {\n",
       "        vertical-align: top;\n",
       "    }\n",
       "\n",
       "    .dataframe thead th {\n",
       "        text-align: right;\n",
       "    }\n",
       "</style>\n",
       "<table border=\"1\" class=\"dataframe\">\n",
       "  <thead>\n",
       "    <tr style=\"text-align: right;\">\n",
       "      <th></th>\n",
       "      <th>Overall Qual</th>\n",
       "      <th>Gr Liv Area</th>\n",
       "      <th>1st Flr SF</th>\n",
       "      <th>2nd Flr SF</th>\n",
       "      <th>BsmtFin SF 1</th>\n",
       "      <th>Garage Cars</th>\n",
       "      <th>Lot Area</th>\n",
       "      <th>Full Bath</th>\n",
       "      <th>Kitchen Qual</th>\n",
       "      <th>Year Built</th>\n",
       "      <th>Year Remod/Add</th>\n",
       "      <th>Bsmt Qual</th>\n",
       "      <th>Lot Frontage</th>\n",
       "      <th>SalePrice</th>\n",
       "    </tr>\n",
       "  </thead>\n",
       "  <tbody>\n",
       "    <tr>\n",
       "      <th>0</th>\n",
       "      <td>7</td>\n",
       "      <td>-0.244</td>\n",
       "      <td>0.559</td>\n",
       "      <td>-0.781</td>\n",
       "      <td>-0.979</td>\n",
       "      <td>2</td>\n",
       "      <td>0.034</td>\n",
       "      <td>2</td>\n",
       "      <td>5</td>\n",
       "      <td>0.181</td>\n",
       "      <td>-0.381</td>\n",
       "      <td>7</td>\n",
       "      <td>0.469</td>\n",
       "      <td>152000.0</td>\n",
       "    </tr>\n",
       "    <tr>\n",
       "      <th>1</th>\n",
       "      <td>5</td>\n",
       "      <td>1.255</td>\n",
       "      <td>0.013</td>\n",
       "      <td>1.481</td>\n",
       "      <td>-0.428</td>\n",
       "      <td>2</td>\n",
       "      <td>2.307</td>\n",
       "      <td>2</td>\n",
       "      <td>5</td>\n",
       "      <td>-0.116</td>\n",
       "      <td>-0.814</td>\n",
       "      <td>5</td>\n",
       "      <td>0.410</td>\n",
       "      <td>185000.0</td>\n",
       "    </tr>\n",
       "    <tr>\n",
       "      <th>2</th>\n",
       "      <td>4</td>\n",
       "      <td>-0.533</td>\n",
       "      <td>0.180</td>\n",
       "      <td>-0.781</td>\n",
       "      <td>-0.979</td>\n",
       "      <td>2</td>\n",
       "      <td>-0.036</td>\n",
       "      <td>2</td>\n",
       "      <td>5</td>\n",
       "      <td>-0.280</td>\n",
       "      <td>-1.055</td>\n",
       "      <td>0</td>\n",
       "      <td>0.014</td>\n",
       "      <td>101800.0</td>\n",
       "    </tr>\n",
       "    <tr>\n",
       "      <th>3</th>\n",
       "      <td>4</td>\n",
       "      <td>-0.898</td>\n",
       "      <td>-0.298</td>\n",
       "      <td>-0.781</td>\n",
       "      <td>-0.979</td>\n",
       "      <td>2</td>\n",
       "      <td>-0.364</td>\n",
       "      <td>2</td>\n",
       "      <td>5</td>\n",
       "      <td>-0.709</td>\n",
       "      <td>-1.632</td>\n",
       "      <td>0</td>\n",
       "      <td>-0.441</td>\n",
       "      <td>90000.0</td>\n",
       "    </tr>\n",
       "    <tr>\n",
       "      <th>4</th>\n",
       "      <td>4</td>\n",
       "      <td>0.413</td>\n",
       "      <td>-0.140</td>\n",
       "      <td>0.624</td>\n",
       "      <td>-0.979</td>\n",
       "      <td>0</td>\n",
       "      <td>-0.311</td>\n",
       "      <td>2</td>\n",
       "      <td>3</td>\n",
       "      <td>-1.665</td>\n",
       "      <td>-1.632</td>\n",
       "      <td>3</td>\n",
       "      <td>-0.305</td>\n",
       "      <td>94550.0</td>\n",
       "    </tr>\n",
       "  </tbody>\n",
       "</table>\n",
       "</div>"
      ],
      "text/plain": [
       "   Overall Qual  Gr Liv Area  1st Flr SF  2nd Flr SF  BsmtFin SF 1  \\\n",
       "0             7       -0.244       0.559      -0.781        -0.979   \n",
       "1             5        1.255       0.013       1.481        -0.428   \n",
       "2             4       -0.533       0.180      -0.781        -0.979   \n",
       "3             4       -0.898      -0.298      -0.781        -0.979   \n",
       "4             4        0.413      -0.140       0.624        -0.979   \n",
       "\n",
       "   Garage Cars  Lot Area  Full Bath  Kitchen Qual  Year Built  Year Remod/Add  \\\n",
       "0            2     0.034          2             5       0.181          -0.381   \n",
       "1            2     2.307          2             5      -0.116          -0.814   \n",
       "2            2    -0.036          2             5      -0.280          -1.055   \n",
       "3            2    -0.364          2             5      -0.709          -1.632   \n",
       "4            0    -0.311          2             3      -1.665          -1.632   \n",
       "\n",
       "   Bsmt Qual  Lot Frontage  SalePrice  \n",
       "0          7         0.469   152000.0  \n",
       "1          5         0.410   185000.0  \n",
       "2          0         0.014   101800.0  \n",
       "3          0        -0.441    90000.0  \n",
       "4          3        -0.305    94550.0  "
      ]
     },
     "execution_count": 1,
     "metadata": {},
     "output_type": "execute_result"
    }
   ],
   "source": [
    "import pandas as pd\n",
    "import numpy as np\n",
    "pd.set_option(\"display.max_columns\", 99)\n",
    "pd.set_option(\"display.max_rows\", 999)\n",
    "pd.set_option('precision', 3)\n",
    "\n",
    "ames = pd.read_csv('data/Ames_Housing2_train14')\n",
    "holdout = pd.read_csv('data/Ames_Housing2_test14')\n",
    "print(ames.shape)\n",
    "print(holdout.shape)\n",
    "ames.head()"
   ]
  },
  {
   "cell_type": "code",
   "execution_count": 2,
   "metadata": {},
   "outputs": [
    {
     "data": {
      "text/plain": [
       "((2344, 13), (586, 13))"
      ]
     },
     "execution_count": 2,
     "metadata": {},
     "output_type": "execute_result"
    }
   ],
   "source": [
    "X_train = ames.drop(['SalePrice'], axis=1)\n",
    "y_train = ames['SalePrice']\n",
    "X_test = holdout.drop(['SalePrice'], axis=1)\n",
    "y_test = holdout['SalePrice']\n",
    "\n",
    "X_train.shape, X_test.shape"
   ]
  },
  {
   "cell_type": "markdown",
   "metadata": {},
   "source": [
    "## 2. Visualizing Outliers in the `X_train`\n",
    "Since data are scaled, it actually makes it easier to visualize the outliers"
   ]
  },
  {
   "cell_type": "code",
   "execution_count": 3,
   "metadata": {},
   "outputs": [
    {
     "data": {
      "image/png": "[encoded data removed]",
      "text/plain": [
       "<Figure size 720x720 with 1 Axes>"
      ]
     },
     "metadata": {
      "needs_background": "light"
     },
     "output_type": "display_data"
    }
   ],
   "source": [
    "import matplotlib.pyplot as plt\n",
    "import seaborn as sns\n",
    "\n",
    "plt.figure(figsize=(10,10))\n",
    "ax = sns.boxplot(data=X_train, orient=\"h\", palette=\"husl\")"
   ]
  },
  {
   "cell_type": "code",
   "execution_count": null,
   "metadata": {},
   "outputs": [],
   "source": [
    "from sklearn.preprocessing import BaseEstimator, TransformerMixin\n",
    "\n",
    "class OutlierCapper(BaseEstimator, TransformerMixin):    \n",
    "    def __init__(self):\n",
    "        self    \n",
    "        \n",
    "    def fit(self, df, y = None):               \n",
    "        return self\n",
    "\n",
    "    def transform(self, df):        \n",
    "        df = df.copy()\n",
    "        cols = df.columns\n",
    "        for col in cols:\n",
    "            Q1 = df[col].quantile(0.25)\n",
    "            Q3 = df[col].quantile(0.75)\n",
    "            IQR = Q3 - Q1\n",
    "            LB = Q1 - (IQR * 1.5)\n",
    "            UB = Q3 + (IQR * 1.5)\n",
    "            df.loc[df[col] > UB, col] = UB\n",
    "            df.loc[df[col] < LB, col] = LB\n",
    "        return df\n",
    "    \n",
    "outliar = "
   ]
  }
 ],
 "metadata": {
  "kernelspec": {
   "display_name": "Python 3",
   "language": "python",
   "name": "python3"
  },
  "language_info": {
   "codemirror_mode": {
    "name": "ipython",
    "version": 3
   },
   "file_extension": ".py",
   "mimetype": "text/x-python",
   "name": "python",
   "nbconvert_exporter": "python",
   "pygments_lexer": "ipython3",
   "version": "3.7.7"
  }
 },
 "nbformat": 4,
 "nbformat_minor": 4
}
