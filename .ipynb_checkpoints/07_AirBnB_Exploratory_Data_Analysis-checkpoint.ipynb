{
 "cells": [
  {
   "cell_type": "markdown",
   "metadata": {},
   "source": [
    "# 7. AIRBNB EXPLORATORY DATA ANALYSIS\n",
    "---"
   ]
  },
  {
   "cell_type": "markdown",
   "metadata": {},
   "source": [
    "## 1. Getting Familiar with the Dataset"
   ]
  },
  {
   "cell_type": "code",
   "execution_count": 1,
   "metadata": {},
   "outputs": [
    {
     "data": {
      "text/html": [
       "<div>\n",
       "<style scoped>\n",
       "    .dataframe tbody tr th:only-of-type {\n",
       "        vertical-align: middle;\n",
       "    }\n",
       "\n",
       "    .dataframe tbody tr th {\n",
       "        vertical-align: top;\n",
       "    }\n",
       "\n",
       "    .dataframe thead th {\n",
       "        text-align: right;\n",
       "    }\n",
       "</style>\n",
       "<table border=\"1\" class=\"dataframe\">\n",
       "  <thead>\n",
       "    <tr style=\"text-align: right;\">\n",
       "      <th></th>\n",
       "      <th>host_rt</th>\n",
       "      <th>host_rr</th>\n",
       "      <th>host_ar</th>\n",
       "      <th>superhost</th>\n",
       "      <th>neighborhood</th>\n",
       "      <th>latitude</th>\n",
       "      <th>longitude</th>\n",
       "      <th>property_type</th>\n",
       "      <th>room_type</th>\n",
       "      <th>accommodates</th>\n",
       "      <th>baths</th>\n",
       "      <th>bedrooms</th>\n",
       "      <th>beds</th>\n",
       "      <th>amenities</th>\n",
       "      <th>min_nights</th>\n",
       "      <th>max_nights</th>\n",
       "      <th>n_reviews</th>\n",
       "      <th>rs_rating</th>\n",
       "      <th>rs_accuracy</th>\n",
       "      <th>rs_cleanliness</th>\n",
       "      <th>rs_check_in</th>\n",
       "      <th>rs_communication</th>\n",
       "      <th>rs_location</th>\n",
       "      <th>rs_value</th>\n",
       "      <th>instant_bookable</th>\n",
       "      <th>reviews_per_month</th>\n",
       "      <th>price</th>\n",
       "    </tr>\n",
       "  </thead>\n",
       "  <tbody>\n",
       "    <tr>\n",
       "      <th>0</th>\n",
       "      <td>3H</td>\n",
       "      <td>100.0</td>\n",
       "      <td>100.0</td>\n",
       "      <td>1</td>\n",
       "      <td>Hyde Park</td>\n",
       "      <td>41.788</td>\n",
       "      <td>-87.588</td>\n",
       "      <td>condomium</td>\n",
       "      <td>Private room</td>\n",
       "      <td>1</td>\n",
       "      <td>0.5</td>\n",
       "      <td>1.0</td>\n",
       "      <td>1.0</td>\n",
       "      <td>[\"Hangers\", \"Extra pillows and blankets\", \"Wif...</td>\n",
       "      <td>2</td>\n",
       "      <td>90</td>\n",
       "      <td>178</td>\n",
       "      <td>100.0</td>\n",
       "      <td>10.0</td>\n",
       "      <td>10.0</td>\n",
       "      <td>10.0</td>\n",
       "      <td>10.0</td>\n",
       "      <td>10.0</td>\n",
       "      <td>10.0</td>\n",
       "      <td>0</td>\n",
       "      <td>2.59</td>\n",
       "      <td>66.0</td>\n",
       "    </tr>\n",
       "    <tr>\n",
       "      <th>1</th>\n",
       "      <td>1H</td>\n",
       "      <td>100.0</td>\n",
       "      <td>96.0</td>\n",
       "      <td>1</td>\n",
       "      <td>South Lawndale</td>\n",
       "      <td>41.855</td>\n",
       "      <td>-87.697</td>\n",
       "      <td>apartment</td>\n",
       "      <td>Entire place</td>\n",
       "      <td>7</td>\n",
       "      <td>1.0</td>\n",
       "      <td>3.0</td>\n",
       "      <td>5.0</td>\n",
       "      <td>[\"Hangers\", \"Extra pillows and blankets\", \"Wif...</td>\n",
       "      <td>2</td>\n",
       "      <td>60</td>\n",
       "      <td>395</td>\n",
       "      <td>96.0</td>\n",
       "      <td>10.0</td>\n",
       "      <td>9.0</td>\n",
       "      <td>10.0</td>\n",
       "      <td>10.0</td>\n",
       "      <td>10.0</td>\n",
       "      <td>9.0</td>\n",
       "      <td>1</td>\n",
       "      <td>2.82</td>\n",
       "      <td>94.0</td>\n",
       "    </tr>\n",
       "    <tr>\n",
       "      <th>2</th>\n",
       "      <td>1H</td>\n",
       "      <td>100.0</td>\n",
       "      <td>98.0</td>\n",
       "      <td>1</td>\n",
       "      <td>West Town</td>\n",
       "      <td>41.903</td>\n",
       "      <td>-87.682</td>\n",
       "      <td>apartment</td>\n",
       "      <td>Entire place</td>\n",
       "      <td>2</td>\n",
       "      <td>1.0</td>\n",
       "      <td>1.0</td>\n",
       "      <td>1.0</td>\n",
       "      <td>[\"Hangers\", \"Bathtub\", \"Wifi\", \"TV\", \"Extra pi...</td>\n",
       "      <td>2</td>\n",
       "      <td>60</td>\n",
       "      <td>384</td>\n",
       "      <td>93.0</td>\n",
       "      <td>10.0</td>\n",
       "      <td>9.0</td>\n",
       "      <td>10.0</td>\n",
       "      <td>10.0</td>\n",
       "      <td>10.0</td>\n",
       "      <td>10.0</td>\n",
       "      <td>0</td>\n",
       "      <td>2.83</td>\n",
       "      <td>61.0</td>\n",
       "    </tr>\n",
       "    <tr>\n",
       "      <th>3</th>\n",
       "      <td>1H</td>\n",
       "      <td>92.0</td>\n",
       "      <td>97.0</td>\n",
       "      <td>1</td>\n",
       "      <td>Lincoln Park</td>\n",
       "      <td>41.918</td>\n",
       "      <td>-87.638</td>\n",
       "      <td>apartment</td>\n",
       "      <td>Entire place</td>\n",
       "      <td>4</td>\n",
       "      <td>1.0</td>\n",
       "      <td>1.0</td>\n",
       "      <td>0.0</td>\n",
       "      <td>[\"Hangers\", \"Wifi\", \"TV\", \"Smoke alarm\", \"Carb...</td>\n",
       "      <td>4</td>\n",
       "      <td>180</td>\n",
       "      <td>49</td>\n",
       "      <td>92.0</td>\n",
       "      <td>10.0</td>\n",
       "      <td>9.0</td>\n",
       "      <td>10.0</td>\n",
       "      <td>9.0</td>\n",
       "      <td>10.0</td>\n",
       "      <td>9.0</td>\n",
       "      <td>1</td>\n",
       "      <td>0.63</td>\n",
       "      <td>67.0</td>\n",
       "    </tr>\n",
       "    <tr>\n",
       "      <th>4</th>\n",
       "      <td>3H</td>\n",
       "      <td>90.0</td>\n",
       "      <td>95.0</td>\n",
       "      <td>0</td>\n",
       "      <td>Hyde Park</td>\n",
       "      <td>41.796</td>\n",
       "      <td>-87.593</td>\n",
       "      <td>apartment</td>\n",
       "      <td>Private room</td>\n",
       "      <td>2</td>\n",
       "      <td>0.5</td>\n",
       "      <td>1.0</td>\n",
       "      <td>1.0</td>\n",
       "      <td>[\"Hangers\", \"Extra pillows and blankets\", \"Wif...</td>\n",
       "      <td>1</td>\n",
       "      <td>1125</td>\n",
       "      <td>44</td>\n",
       "      <td>82.0</td>\n",
       "      <td>8.0</td>\n",
       "      <td>7.0</td>\n",
       "      <td>9.0</td>\n",
       "      <td>9.0</td>\n",
       "      <td>10.0</td>\n",
       "      <td>9.0</td>\n",
       "      <td>0</td>\n",
       "      <td>0.62</td>\n",
       "      <td>22.0</td>\n",
       "    </tr>\n",
       "  </tbody>\n",
       "</table>\n",
       "</div>"
      ],
      "text/plain": [
       "  host_rt  host_rr  host_ar  superhost    neighborhood  latitude  longitude  \\\n",
       "0      3H    100.0    100.0          1       Hyde Park    41.788    -87.588   \n",
       "1      1H    100.0     96.0          1  South Lawndale    41.855    -87.697   \n",
       "2      1H    100.0     98.0          1       West Town    41.903    -87.682   \n",
       "3      1H     92.0     97.0          1    Lincoln Park    41.918    -87.638   \n",
       "4      3H     90.0     95.0          0       Hyde Park    41.796    -87.593   \n",
       "\n",
       "  property_type     room_type  accommodates  baths  bedrooms  beds  \\\n",
       "0     condomium  Private room             1    0.5       1.0   1.0   \n",
       "1     apartment  Entire place             7    1.0       3.0   5.0   \n",
       "2     apartment  Entire place             2    1.0       1.0   1.0   \n",
       "3     apartment  Entire place             4    1.0       1.0   0.0   \n",
       "4     apartment  Private room             2    0.5       1.0   1.0   \n",
       "\n",
       "                                           amenities  min_nights  max_nights  \\\n",
       "0  [\"Hangers\", \"Extra pillows and blankets\", \"Wif...           2          90   \n",
       "1  [\"Hangers\", \"Extra pillows and blankets\", \"Wif...           2          60   \n",
       "2  [\"Hangers\", \"Bathtub\", \"Wifi\", \"TV\", \"Extra pi...           2          60   \n",
       "3  [\"Hangers\", \"Wifi\", \"TV\", \"Smoke alarm\", \"Carb...           4         180   \n",
       "4  [\"Hangers\", \"Extra pillows and blankets\", \"Wif...           1        1125   \n",
       "\n",
       "   n_reviews  rs_rating  rs_accuracy  rs_cleanliness  rs_check_in  \\\n",
       "0        178      100.0         10.0            10.0         10.0   \n",
       "1        395       96.0         10.0             9.0         10.0   \n",
       "2        384       93.0         10.0             9.0         10.0   \n",
       "3         49       92.0         10.0             9.0         10.0   \n",
       "4         44       82.0          8.0             7.0          9.0   \n",
       "\n",
       "   rs_communication  rs_location  rs_value  instant_bookable  \\\n",
       "0              10.0         10.0      10.0                 0   \n",
       "1              10.0         10.0       9.0                 1   \n",
       "2              10.0         10.0      10.0                 0   \n",
       "3               9.0         10.0       9.0                 1   \n",
       "4               9.0         10.0       9.0                 0   \n",
       "\n",
       "   reviews_per_month  price  \n",
       "0               2.59   66.0  \n",
       "1               2.82   94.0  \n",
       "2               2.83   61.0  \n",
       "3               0.63   67.0  \n",
       "4               0.62   22.0  "
      ]
     },
     "execution_count": 1,
     "metadata": {},
     "output_type": "execute_result"
    }
   ],
   "source": [
    "import pandas as pd\n",
    "import numpy as np\n",
    "pd.set_option(\"display.max_columns\", 99)\n",
    "pd.set_option(\"display.max_rows\", 999)\n",
    "pd.set_option('precision', 3)\n",
    "\n",
    "chicago = pd.read_csv('data/chicago_airbnb1')\n",
    "chicago.head()"
   ]
  },
  {
   "cell_type": "code",
   "execution_count": 2,
   "metadata": {},
   "outputs": [
    {
     "data": {
      "text/plain": [
       "(6550, 27)"
      ]
     },
     "execution_count": 2,
     "metadata": {},
     "output_type": "execute_result"
    }
   ],
   "source": [
    "chicago.shape"
   ]
  },
  {
   "cell_type": "code",
   "execution_count": 3,
   "metadata": {},
   "outputs": [
    {
     "name": "stdout",
     "output_type": "stream",
     "text": [
      "<class 'pandas.core.frame.DataFrame'>\n",
      "RangeIndex: 6550 entries, 0 to 6549\n",
      "Data columns (total 27 columns):\n",
      " #   Column             Non-Null Count  Dtype  \n",
      "---  ------             --------------  -----  \n",
      " 0   host_rt            6550 non-null   object \n",
      " 1   host_rr            5166 non-null   float64\n",
      " 2   host_ar            5935 non-null   float64\n",
      " 3   superhost          6550 non-null   int64  \n",
      " 4   neighborhood       6550 non-null   object \n",
      " 5   latitude           6550 non-null   float64\n",
      " 6   longitude          6550 non-null   float64\n",
      " 7   property_type      6550 non-null   object \n",
      " 8   room_type          6550 non-null   object \n",
      " 9   accommodates       6550 non-null   int64  \n",
      " 10  baths              6544 non-null   float64\n",
      " 11  bedrooms           6028 non-null   float64\n",
      " 12  beds               6513 non-null   float64\n",
      " 13  amenities          6550 non-null   object \n",
      " 14  min_nights         6550 non-null   int64  \n",
      " 15  max_nights         6550 non-null   int64  \n",
      " 16  n_reviews          6550 non-null   int64  \n",
      " 17  rs_rating          5350 non-null   float64\n",
      " 18  rs_accuracy        5338 non-null   float64\n",
      " 19  rs_cleanliness     5338 non-null   float64\n",
      " 20  rs_check_in        5337 non-null   float64\n",
      " 21  rs_communication   5336 non-null   float64\n",
      " 22  rs_location        5337 non-null   float64\n",
      " 23  rs_value           5337 non-null   float64\n",
      " 24  instant_bookable   6550 non-null   int64  \n",
      " 25  reviews_per_month  5401 non-null   float64\n",
      " 26  price              6550 non-null   float64\n",
      "dtypes: float64(16), int64(6), object(5)\n",
      "memory usage: 1.3+ MB\n"
     ]
    }
   ],
   "source": [
    "chicago.info()"
   ]
  },
  {
   "cell_type": "markdown",
   "metadata": {},
   "source": [
    "## 2. Separating Categorical from Numerical"
   ]
  },
  {
   "cell_type": "code",
   "execution_count": 4,
   "metadata": {},
   "outputs": [
    {
     "data": {
      "text/plain": [
       "((6550, 19), (6550, 7))"
      ]
     },
     "execution_count": 4,
     "metadata": {},
     "output_type": "execute_result"
    }
   ],
   "source": [
    "num_cols = ['host_rr', 'host_ar', 'latitude', 'longitude', 'accommodates',\n",
    "            'baths', 'bedrooms', 'beds', 'min_nights', 'max_nights', 'n_reviews', \n",
    "            'rs_rating', 'rs_accuracy', 'rs_cleanliness', 'rs_check_in', \n",
    "            'rs_communication', 'rs_location', 'rs_value', 'reviews_per_month']\n",
    "cat_cols = ['host_rt', 'superhost', 'neighborhood', 'property_type', 'room_type', \n",
    "            'amenities', 'instant_bookable']\n",
    "y_col = ['price']\n",
    "chicago_num = chicago[num_cols].copy()\n",
    "chicago_cat = chicago[cat_cols].copy()\n",
    "\n",
    "chicago_num.shape, chicago_cat.shape"
   ]
  },
  {
   "cell_type": "markdown",
   "metadata": {},
   "source": [
    "## 3. Creating a Training and Test Sets"
   ]
  },
  {
   "cell_type": "code",
   "execution_count": 5,
   "metadata": {},
   "outputs": [
    {
     "data": {
      "text/plain": [
       "((5240, 26), (5240,), (1310, 26), (1310,))"
      ]
     },
     "execution_count": 5,
     "metadata": {},
     "output_type": "execute_result"
    }
   ],
   "source": [
    "from sklearn.model_selection import train_test_split\n",
    "\n",
    "train, test = train_test_split(chicago, test_size=0.2, random_state=42)\n",
    "\n",
    "X_train = train.drop('price', axis=1)\n",
    "y_train = train['price']\n",
    "\n",
    "X_test = test.drop('price', axis=1)\n",
    "y_test = test['price']\n",
    "\n",
    "X_train.shape, y_train.shape, X_test.shape, y_test.shape"
   ]
  },
  {
   "cell_type": "markdown",
   "metadata": {},
   "source": [
    "## 4. Exploring the Correlation"
   ]
  },
  {
   "cell_type": "code",
   "execution_count": 6,
   "metadata": {},
   "outputs": [
    {
     "data": {
      "text/plain": [
       "<AxesSubplot:>"
      ]
     },
     "execution_count": 6,
     "metadata": {},
     "output_type": "execute_result"
    },
    {
     "data": {
      "image/png": "[encoded data removed]",
      "text/plain": [
       "<Figure size 1008x1008 with 2 Axes>"
      ]
     },
     "metadata": {
      "needs_background": "light"
     },
     "output_type": "display_data"
    }
   ],
   "source": [
    "import seaborn as sns\n",
    "import matplotlib.pyplot as plt\n",
    "\n",
    "corr_cols = num_cols + ['price']\n",
    "corr = train[corr_cols].corr()\n",
    "mask = np.triu(np.ones_like(corr, dtype=np.bool))\n",
    "color = sns.diverging_palette(10, 220, as_cmap=True)\n",
    "fig, ax = plt.subplots(figsize=(14,14))\n",
    "sns.heatmap(corr, mask=mask, cmap=color, annot=True)"
   ]
  },
  {
   "cell_type": "markdown",
   "metadata": {},
   "source": [
    "There doesn't seem to be strong linear correlation with the `price`. There is, however, a slight positive correlation with `accommodates, baths, bedrooms`, and `beds`.\n",
    "## 5. Basic Stats from Numerical Columns"
   ]
  },
  {
   "cell_type": "code",
   "execution_count": 7,
   "metadata": {},
   "outputs": [
    {
     "data": {
      "text/html": [
       "<div>\n",
       "<style scoped>\n",
       "    .dataframe tbody tr th:only-of-type {\n",
       "        vertical-align: middle;\n",
       "    }\n",
       "\n",
       "    .dataframe tbody tr th {\n",
       "        vertical-align: top;\n",
       "    }\n",
       "\n",
       "    .dataframe thead th {\n",
       "        text-align: right;\n",
       "    }\n",
       "</style>\n",
       "<table border=\"1\" class=\"dataframe\">\n",
       "  <thead>\n",
       "    <tr style=\"text-align: right;\">\n",
       "      <th></th>\n",
       "      <th>count</th>\n",
       "      <th>mean</th>\n",
       "      <th>std</th>\n",
       "      <th>min</th>\n",
       "      <th>25%</th>\n",
       "      <th>50%</th>\n",
       "      <th>75%</th>\n",
       "      <th>max</th>\n",
       "    </tr>\n",
       "  </thead>\n",
       "  <tbody>\n",
       "    <tr>\n",
       "      <th>host_rr</th>\n",
       "      <td>4109.0</td>\n",
       "      <td>93.601</td>\n",
       "      <td>17.442</td>\n",
       "      <td>0.000</td>\n",
       "      <td>97.000</td>\n",
       "      <td>100.000</td>\n",
       "      <td>100.000</td>\n",
       "      <td>100.000</td>\n",
       "    </tr>\n",
       "    <tr>\n",
       "      <th>host_ar</th>\n",
       "      <td>4734.0</td>\n",
       "      <td>88.236</td>\n",
       "      <td>19.536</td>\n",
       "      <td>0.000</td>\n",
       "      <td>86.000</td>\n",
       "      <td>97.000</td>\n",
       "      <td>100.000</td>\n",
       "      <td>100.000</td>\n",
       "    </tr>\n",
       "    <tr>\n",
       "      <th>latitude</th>\n",
       "      <td>5240.0</td>\n",
       "      <td>41.898</td>\n",
       "      <td>0.059</td>\n",
       "      <td>41.647</td>\n",
       "      <td>41.874</td>\n",
       "      <td>41.902</td>\n",
       "      <td>41.939</td>\n",
       "      <td>42.022</td>\n",
       "    </tr>\n",
       "    <tr>\n",
       "      <th>longitude</th>\n",
       "      <td>5240.0</td>\n",
       "      <td>-87.663</td>\n",
       "      <td>0.043</td>\n",
       "      <td>-87.845</td>\n",
       "      <td>-87.687</td>\n",
       "      <td>-87.660</td>\n",
       "      <td>-87.632</td>\n",
       "      <td>-87.538</td>\n",
       "    </tr>\n",
       "    <tr>\n",
       "      <th>accommodates</th>\n",
       "      <td>5240.0</td>\n",
       "      <td>4.153</td>\n",
       "      <td>2.841</td>\n",
       "      <td>0.000</td>\n",
       "      <td>2.000</td>\n",
       "      <td>4.000</td>\n",
       "      <td>6.000</td>\n",
       "      <td>16.000</td>\n",
       "    </tr>\n",
       "    <tr>\n",
       "      <th>baths</th>\n",
       "      <td>5235.0</td>\n",
       "      <td>1.248</td>\n",
       "      <td>0.774</td>\n",
       "      <td>0.000</td>\n",
       "      <td>1.000</td>\n",
       "      <td>1.000</td>\n",
       "      <td>1.500</td>\n",
       "      <td>11.000</td>\n",
       "    </tr>\n",
       "    <tr>\n",
       "      <th>bedrooms</th>\n",
       "      <td>4820.0</td>\n",
       "      <td>1.755</td>\n",
       "      <td>1.074</td>\n",
       "      <td>1.000</td>\n",
       "      <td>1.000</td>\n",
       "      <td>1.000</td>\n",
       "      <td>2.000</td>\n",
       "      <td>12.000</td>\n",
       "    </tr>\n",
       "    <tr>\n",
       "      <th>beds</th>\n",
       "      <td>5209.0</td>\n",
       "      <td>2.132</td>\n",
       "      <td>1.791</td>\n",
       "      <td>0.000</td>\n",
       "      <td>1.000</td>\n",
       "      <td>2.000</td>\n",
       "      <td>3.000</td>\n",
       "      <td>30.000</td>\n",
       "    </tr>\n",
       "    <tr>\n",
       "      <th>min_nights</th>\n",
       "      <td>5240.0</td>\n",
       "      <td>7.900</td>\n",
       "      <td>20.853</td>\n",
       "      <td>1.000</td>\n",
       "      <td>1.000</td>\n",
       "      <td>2.000</td>\n",
       "      <td>3.000</td>\n",
       "      <td>365.000</td>\n",
       "    </tr>\n",
       "    <tr>\n",
       "      <th>max_nights</th>\n",
       "      <td>5240.0</td>\n",
       "      <td>688.861</td>\n",
       "      <td>525.081</td>\n",
       "      <td>1.000</td>\n",
       "      <td>40.000</td>\n",
       "      <td>1125.000</td>\n",
       "      <td>1125.000</td>\n",
       "      <td>9000.000</td>\n",
       "    </tr>\n",
       "    <tr>\n",
       "      <th>n_reviews</th>\n",
       "      <td>5240.0</td>\n",
       "      <td>42.375</td>\n",
       "      <td>66.166</td>\n",
       "      <td>0.000</td>\n",
       "      <td>2.000</td>\n",
       "      <td>15.000</td>\n",
       "      <td>56.000</td>\n",
       "      <td>627.000</td>\n",
       "    </tr>\n",
       "    <tr>\n",
       "      <th>rs_rating</th>\n",
       "      <td>4250.0</td>\n",
       "      <td>95.201</td>\n",
       "      <td>7.574</td>\n",
       "      <td>20.000</td>\n",
       "      <td>94.000</td>\n",
       "      <td>97.000</td>\n",
       "      <td>99.000</td>\n",
       "      <td>100.000</td>\n",
       "    </tr>\n",
       "    <tr>\n",
       "      <th>rs_accuracy</th>\n",
       "      <td>4240.0</td>\n",
       "      <td>9.720</td>\n",
       "      <td>0.756</td>\n",
       "      <td>2.000</td>\n",
       "      <td>10.000</td>\n",
       "      <td>10.000</td>\n",
       "      <td>10.000</td>\n",
       "      <td>10.000</td>\n",
       "    </tr>\n",
       "    <tr>\n",
       "      <th>rs_cleanliness</th>\n",
       "      <td>4240.0</td>\n",
       "      <td>9.564</td>\n",
       "      <td>0.845</td>\n",
       "      <td>2.000</td>\n",
       "      <td>9.000</td>\n",
       "      <td>10.000</td>\n",
       "      <td>10.000</td>\n",
       "      <td>10.000</td>\n",
       "    </tr>\n",
       "    <tr>\n",
       "      <th>rs_check_in</th>\n",
       "      <td>4239.0</td>\n",
       "      <td>9.805</td>\n",
       "      <td>0.667</td>\n",
       "      <td>2.000</td>\n",
       "      <td>10.000</td>\n",
       "      <td>10.000</td>\n",
       "      <td>10.000</td>\n",
       "      <td>10.000</td>\n",
       "    </tr>\n",
       "    <tr>\n",
       "      <th>rs_communication</th>\n",
       "      <td>4238.0</td>\n",
       "      <td>9.788</td>\n",
       "      <td>0.721</td>\n",
       "      <td>2.000</td>\n",
       "      <td>10.000</td>\n",
       "      <td>10.000</td>\n",
       "      <td>10.000</td>\n",
       "      <td>10.000</td>\n",
       "    </tr>\n",
       "    <tr>\n",
       "      <th>rs_location</th>\n",
       "      <td>4239.0</td>\n",
       "      <td>9.715</td>\n",
       "      <td>0.668</td>\n",
       "      <td>2.000</td>\n",
       "      <td>10.000</td>\n",
       "      <td>10.000</td>\n",
       "      <td>10.000</td>\n",
       "      <td>10.000</td>\n",
       "    </tr>\n",
       "    <tr>\n",
       "      <th>rs_value</th>\n",
       "      <td>4239.0</td>\n",
       "      <td>9.517</td>\n",
       "      <td>0.829</td>\n",
       "      <td>2.000</td>\n",
       "      <td>9.000</td>\n",
       "      <td>10.000</td>\n",
       "      <td>10.000</td>\n",
       "      <td>10.000</td>\n",
       "    </tr>\n",
       "    <tr>\n",
       "      <th>reviews_per_month</th>\n",
       "      <td>4296.0</td>\n",
       "      <td>1.751</td>\n",
       "      <td>1.764</td>\n",
       "      <td>0.020</td>\n",
       "      <td>0.450</td>\n",
       "      <td>1.260</td>\n",
       "      <td>2.550</td>\n",
       "      <td>30.100</td>\n",
       "    </tr>\n",
       "  </tbody>\n",
       "</table>\n",
       "</div>"
      ],
      "text/plain": [
       "                    count     mean      std     min     25%       50%  \\\n",
       "host_rr            4109.0   93.601   17.442   0.000  97.000   100.000   \n",
       "host_ar            4734.0   88.236   19.536   0.000  86.000    97.000   \n",
       "latitude           5240.0   41.898    0.059  41.647  41.874    41.902   \n",
       "longitude          5240.0  -87.663    0.043 -87.845 -87.687   -87.660   \n",
       "accommodates       5240.0    4.153    2.841   0.000   2.000     4.000   \n",
       "baths              5235.0    1.248    0.774   0.000   1.000     1.000   \n",
       "bedrooms           4820.0    1.755    1.074   1.000   1.000     1.000   \n",
       "beds               5209.0    2.132    1.791   0.000   1.000     2.000   \n",
       "min_nights         5240.0    7.900   20.853   1.000   1.000     2.000   \n",
       "max_nights         5240.0  688.861  525.081   1.000  40.000  1125.000   \n",
       "n_reviews          5240.0   42.375   66.166   0.000   2.000    15.000   \n",
       "rs_rating          4250.0   95.201    7.574  20.000  94.000    97.000   \n",
       "rs_accuracy        4240.0    9.720    0.756   2.000  10.000    10.000   \n",
       "rs_cleanliness     4240.0    9.564    0.845   2.000   9.000    10.000   \n",
       "rs_check_in        4239.0    9.805    0.667   2.000  10.000    10.000   \n",
       "rs_communication   4238.0    9.788    0.721   2.000  10.000    10.000   \n",
       "rs_location        4239.0    9.715    0.668   2.000  10.000    10.000   \n",
       "rs_value           4239.0    9.517    0.829   2.000   9.000    10.000   \n",
       "reviews_per_month  4296.0    1.751    1.764   0.020   0.450     1.260   \n",
       "\n",
       "                        75%       max  \n",
       "host_rr             100.000   100.000  \n",
       "host_ar             100.000   100.000  \n",
       "latitude             41.939    42.022  \n",
       "longitude           -87.632   -87.538  \n",
       "accommodates          6.000    16.000  \n",
       "baths                 1.500    11.000  \n",
       "bedrooms              2.000    12.000  \n",
       "beds                  3.000    30.000  \n",
       "min_nights            3.000   365.000  \n",
       "max_nights         1125.000  9000.000  \n",
       "n_reviews            56.000   627.000  \n",
       "rs_rating            99.000   100.000  \n",
       "rs_accuracy          10.000    10.000  \n",
       "rs_cleanliness       10.000    10.000  \n",
       "rs_check_in          10.000    10.000  \n",
       "rs_communication     10.000    10.000  \n",
       "rs_location          10.000    10.000  \n",
       "rs_value             10.000    10.000  \n",
       "reviews_per_month     2.550    30.100  "
      ]
     },
     "execution_count": 7,
     "metadata": {},
     "output_type": "execute_result"
    }
   ],
   "source": [
    "train_num = train[num_cols]\n",
    "train_num.describe().T"
   ]
  },
  {
   "cell_type": "code",
   "execution_count": 8,
   "metadata": {},
   "outputs": [
    {
     "data": {
      "text/plain": [
       "host_rr               100.000\n",
       "host_ar               100.000\n",
       "latitude                0.375\n",
       "longitude               0.307\n",
       "accommodates           16.000\n",
       "baths                  11.000\n",
       "bedrooms               11.000\n",
       "beds                   30.000\n",
       "min_nights            364.000\n",
       "max_nights           8999.000\n",
       "n_reviews             627.000\n",
       "rs_rating              80.000\n",
       "rs_accuracy             8.000\n",
       "rs_cleanliness          8.000\n",
       "rs_check_in             8.000\n",
       "rs_communication        8.000\n",
       "rs_location             8.000\n",
       "rs_value                8.000\n",
       "reviews_per_month      30.080\n",
       "dtype: float64"
      ]
     },
     "execution_count": 8,
     "metadata": {},
     "output_type": "execute_result"
    }
   ],
   "source": [
    "train_num.max() - train_num.min()"
   ]
  },
  {
   "cell_type": "markdown",
   "metadata": {},
   "source": [
    "After taking care of missing values, we will have to check for outliers especially for:\n",
    "- min_nights           \n",
    "- max_nights          \n",
    "- n_reviews\n",
    "## 6. Identifying Numerical Missing Data"
   ]
  },
  {
   "cell_type": "code",
   "execution_count": 9,
   "metadata": {},
   "outputs": [
    {
     "data": {
      "text/plain": [
       "host_rr              2.158e-01\n",
       "rs_communication     1.912e-01\n",
       "rs_value             1.910e-01\n",
       "rs_location          1.910e-01\n",
       "rs_check_in          1.910e-01\n",
       "rs_cleanliness       1.908e-01\n",
       "rs_accuracy          1.908e-01\n",
       "rs_rating            1.889e-01\n",
       "reviews_per_month    1.802e-01\n",
       "host_ar              9.656e-02\n",
       "bedrooms             8.015e-02\n",
       "beds                 5.916e-03\n",
       "baths                9.542e-04\n",
       "n_reviews            0.000e+00\n",
       "min_nights           0.000e+00\n",
       "accommodates         0.000e+00\n",
       "longitude            0.000e+00\n",
       "latitude             0.000e+00\n",
       "max_nights           0.000e+00\n",
       "dtype: float64"
      ]
     },
     "execution_count": 9,
     "metadata": {},
     "output_type": "execute_result"
    }
   ],
   "source": [
    "missing_ = train_num.isnull().mean().sort_values(ascending=False)\n",
    "missing_"
   ]
  },
  {
   "cell_type": "code",
   "execution_count": 10,
   "metadata": {},
   "outputs": [
    {
     "data": {
      "text/html": [
       "<div>\n",
       "<style scoped>\n",
       "    .dataframe tbody tr th:only-of-type {\n",
       "        vertical-align: middle;\n",
       "    }\n",
       "\n",
       "    .dataframe tbody tr th {\n",
       "        vertical-align: top;\n",
       "    }\n",
       "\n",
       "    .dataframe thead th {\n",
       "        text-align: right;\n",
       "    }\n",
       "</style>\n",
       "<table border=\"1\" class=\"dataframe\">\n",
       "  <thead>\n",
       "    <tr style=\"text-align: right;\">\n",
       "      <th></th>\n",
       "      <th>0</th>\n",
       "    </tr>\n",
       "  </thead>\n",
       "  <tbody>\n",
       "    <tr>\n",
       "      <th>host_rr</th>\n",
       "      <td>2.158e-01</td>\n",
       "    </tr>\n",
       "    <tr>\n",
       "      <th>rs_communication</th>\n",
       "      <td>1.912e-01</td>\n",
       "    </tr>\n",
       "    <tr>\n",
       "      <th>rs_value</th>\n",
       "      <td>1.910e-01</td>\n",
       "    </tr>\n",
       "    <tr>\n",
       "      <th>rs_location</th>\n",
       "      <td>1.910e-01</td>\n",
       "    </tr>\n",
       "    <tr>\n",
       "      <th>rs_check_in</th>\n",
       "      <td>1.910e-01</td>\n",
       "    </tr>\n",
       "    <tr>\n",
       "      <th>rs_cleanliness</th>\n",
       "      <td>1.908e-01</td>\n",
       "    </tr>\n",
       "    <tr>\n",
       "      <th>rs_accuracy</th>\n",
       "      <td>1.908e-01</td>\n",
       "    </tr>\n",
       "    <tr>\n",
       "      <th>rs_rating</th>\n",
       "      <td>1.889e-01</td>\n",
       "    </tr>\n",
       "    <tr>\n",
       "      <th>reviews_per_month</th>\n",
       "      <td>1.802e-01</td>\n",
       "    </tr>\n",
       "    <tr>\n",
       "      <th>host_ar</th>\n",
       "      <td>9.656e-02</td>\n",
       "    </tr>\n",
       "    <tr>\n",
       "      <th>bedrooms</th>\n",
       "      <td>8.015e-02</td>\n",
       "    </tr>\n",
       "    <tr>\n",
       "      <th>beds</th>\n",
       "      <td>5.916e-03</td>\n",
       "    </tr>\n",
       "    <tr>\n",
       "      <th>baths</th>\n",
       "      <td>9.542e-04</td>\n",
       "    </tr>\n",
       "  </tbody>\n",
       "</table>\n",
       "</div>"
      ],
      "text/plain": [
       "                           0\n",
       "host_rr            2.158e-01\n",
       "rs_communication   1.912e-01\n",
       "rs_value           1.910e-01\n",
       "rs_location        1.910e-01\n",
       "rs_check_in        1.910e-01\n",
       "rs_cleanliness     1.908e-01\n",
       "rs_accuracy        1.908e-01\n",
       "rs_rating          1.889e-01\n",
       "reviews_per_month  1.802e-01\n",
       "host_ar            9.656e-02\n",
       "bedrooms           8.015e-02\n",
       "beds               5.916e-03\n",
       "baths              9.542e-04"
      ]
     },
     "execution_count": 10,
     "metadata": {},
     "output_type": "execute_result"
    }
   ],
   "source": [
    "num_missing = missing_.to_frame()\n",
    "num_missing_ = num_missing.head(13)\n",
    "num_missing_"
   ]
  },
  {
   "cell_type": "code",
   "execution_count": 14,
   "metadata": {},
   "outputs": [
    {
     "data": {
      "image/png": "[encoded data removed]",
      "text/plain": [
       "<Figure size 576x504 with 1 Axes>"
      ]
     },
     "metadata": {
      "needs_background": "light"
     },
     "output_type": "display_data"
    }
   ],
   "source": [
    "plt.figure(figsize=(8,7))\n",
    "ax = sns.barplot(x=0, y=num_missing_.index, data=num_missing_,\n",
    "                palette=\"Reds_d\")"
   ]
  },
  {
   "cell_type": "markdown",
   "metadata": {},
   "source": [
    "## 7. Imputing Missing Values\n",
    "\n",
    "We are going to take care of missing values starting from the column missing the lowest percentage of data to the column missing the most. We are not going to treat all columns with missing data the same.\n",
    "\n",
    "- **Baths**: we want to \n",
    "    - groupby property type and \n",
    "    - then room type and \n",
    "    - calculate the value counts for the `baths` column\n",
    "    - fill in the missing data with most frequent value"
   ]
  },
  {
   "cell_type": "code",
   "execution_count": 16,
   "metadata": {},
   "outputs": [
    {
     "data": {
      "text/plain": [
       "6"
      ]
     },
     "execution_count": 16,
     "metadata": {},
     "output_type": "execute_result"
    }
   ],
   "source": [
    "chicago['baths'].isnull().sum()"
   ]
  },
  {
   "cell_type": "code",
   "execution_count": 18,
   "metadata": {
    "scrolled": false
   },
   "outputs": [
    {
     "data": {
      "text/plain": [
       "property_type  room_type     baths\n",
       "apartment      Entire place  1.0      2307\n",
       "                             2.0       529\n",
       "                             1.5        62\n",
       "                             3.0        44\n",
       "                             2.5        38\n",
       "                             4.0        13\n",
       "                             3.5         5\n",
       "                             6.0         3\n",
       "                             NaN         2\n",
       "                             5.0         2\n",
       "                             0.0         1\n",
       "                             4.5         1\n",
       "Name: baths, dtype: int64"
      ]
     },
     "execution_count": 18,
     "metadata": {},
     "output_type": "execute_result"
    }
   ],
   "source": [
    "chicago.groupby(['property_type', 'room_type'])['baths'].value_counts(dropna=False).head(12)"
   ]
  },
  {
   "cell_type": "code",
   "execution_count": 34,
   "metadata": {},
   "outputs": [
    {
     "data": {
      "text/plain": [
       "0"
      ]
     },
     "execution_count": 34,
     "metadata": {},
     "output_type": "execute_result"
    }
   ],
   "source": [
    "mode = chicago['baths'].mode()[0]\n",
    "chicago['baths_c'] = chicago.groupby(['property_type', 'room_type'])['baths'].\\\n",
    "apply(lambda x:x.fillna(x.value_counts().idxmax() \n",
    "                        if x.value_counts().max() >=1\n",
    "                       else mode , inplace = False\n",
    "                       )\n",
    "     )\n",
    "chicago['baths'] = chicago['baths_c']\n",
    "chicago['baths'].isnull().sum()"
   ]
  },
  {
   "cell_type": "code",
   "execution_count": null,
   "metadata": {},
   "outputs": [],
   "source": []
  }
 ],
 "metadata": {
  "kernelspec": {
   "display_name": "Python 3",
   "language": "python",
   "name": "python3"
  },
  "language_info": {
   "codemirror_mode": {
    "name": "ipython",
    "version": 3
   },
   "file_extension": ".py",
   "mimetype": "text/x-python",
   "name": "python",
   "nbconvert_exporter": "python",
   "pygments_lexer": "ipython3",
   "version": "3.7.7"
  }
 },
 "nbformat": 4,
 "nbformat_minor": 4
}
