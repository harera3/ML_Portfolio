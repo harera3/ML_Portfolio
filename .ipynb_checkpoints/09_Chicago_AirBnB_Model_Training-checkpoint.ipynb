{
 "cells": [
  {
   "cell_type": "markdown",
   "metadata": {},
   "source": [
    "# 9. CHICAGO AIRBNB: MODEL TRAINING\n",
    "---"
   ]
  },
  {
   "cell_type": "markdown",
   "metadata": {},
   "source": [
    "## 1. The Data & Train-Test Split"
   ]
  },
  {
   "cell_type": "code",
   "execution_count": 1,
   "metadata": {},
   "outputs": [
    {
     "data": {
      "text/plain": [
       "((5240, 25), (5240,), (1310, 25), (1310,))"
      ]
     },
     "execution_count": 1,
     "metadata": {},
     "output_type": "execute_result"
    }
   ],
   "source": [
    "import pandas as pd\n",
    "import numpy as np\n",
    "from sklearn.model_selection import train_test_split\n",
    "pd.set_option(\"display.max_columns\", 99)\n",
    "pd.set_option(\"display.max_rows\", 999)\n",
    "pd.set_option('precision', 3)\n",
    "\n",
    "chicago = pd.read_csv('data/chicago_airbnb3')\n",
    "\n",
    "num_cols = ['host_rr', 'host_ar', 'latitude', 'longitude', 'accommodates',\n",
    "            'baths', 'bedrooms', 'beds', 'min_nights', 'max_nights', 'n_reviews', \n",
    "            'rs_rating', 'rs_accuracy', 'rs_cleanliness', 'rs_check_in', \n",
    "            'rs_communication', 'rs_location', 'rs_value', 'reviews_per_month']\n",
    "\n",
    "cat_cols = ['host_rt', 'neighborhood', 'property_type', 'room_type']\n",
    "\n",
    "train, test = train_test_split(chicago, test_size=0.2, random_state=42)\n",
    "\n",
    "X_train = train.drop('price', axis=1)\n",
    "y_train = train['price']\n",
    "\n",
    "X_test = test.drop('price', axis=1)\n",
    "y_test = test['price']\n",
    "\n",
    "X_train.shape, y_train.shape, X_test.shape, y_test.shape"
   ]
  },
  {
   "cell_type": "markdown",
   "metadata": {},
   "source": [
    "## 2. Preprocessing Pipeline"
   ]
  },
  {
   "cell_type": "code",
   "execution_count": 2,
   "metadata": {},
   "outputs": [
    {
     "name": "stdout",
     "output_type": "stream",
     "text": [
      "(5240, 21)\n"
     ]
    }
   ],
   "source": [
    "from sklearn.base import BaseEstimator, TransformerMixin\n",
    "\n",
    "class AttributeAdder(BaseEstimator, TransformerMixin):    \n",
    "    def __init__(self):\n",
    "        self    \n",
    "        \n",
    "    def fit(self, df, y = None):               \n",
    "        return self\n",
    "\n",
    "    def transform(self, df):        \n",
    "        df_ = df.copy()\n",
    "        df_['beds_per_bdrm'] = df_['beds']/df_['bedrooms']\n",
    "        df_['baths_per_bed'] = df_['baths']/df_['beds']\n",
    "        df_.replace(np.inf, 0, inplace=True)\n",
    "        df_.replace(np.nan, 0, inplace=True)\n",
    "        return df_\n",
    "    \n",
    "adder = AttributeAdder()\n",
    "X_train_num = adder.fit_transform(train[num_cols])\n",
    "print(X_train_num.shape)"
   ]
  },
  {
   "cell_type": "code",
   "execution_count": 3,
   "metadata": {},
   "outputs": [
    {
     "data": {
      "text/plain": [
       "<5240x115 sparse matrix of type '<class 'numpy.float64'>'\n",
       "\twith 131000 stored elements in Compressed Sparse Row format>"
      ]
     },
     "execution_count": 3,
     "metadata": {},
     "output_type": "execute_result"
    }
   ],
   "source": [
    "from sklearn.pipeline import Pipeline\n",
    "from sklearn.preprocessing import StandardScaler\n",
    "from sklearn.preprocessing import OneHotEncoder\n",
    "from sklearn.compose import ColumnTransformer\n",
    "\n",
    "num_pipe = Pipeline(steps = [\n",
    "    ('add_features', AttributeAdder()),\n",
    "    ('std_scaling', StandardScaler())\n",
    "])\n",
    "full_pipe = ColumnTransformer(\n",
    "    transformers=[\n",
    "        ('num_prep', num_pipe, num_cols),\n",
    "        ('cat_prep', OneHotEncoder(), cat_cols)\n",
    "    ])\n",
    "\n",
    "X_train = full_pipe.fit_transform(X_train)\n",
    "X_train"
   ]
  },
  {
   "cell_type": "markdown",
   "metadata": {},
   "source": [
    "So we have a sparse matrix (probably due to OneHotEncoding). We also have 115 features which is the same number that we got in the previous part when we used get_dummies. \n",
    "\n",
    "## 3. HTML Representation of Pipeline"
   ]
  },
  {
   "cell_type": "code",
   "execution_count": 4,
   "metadata": {},
   "outputs": [
    {
     "data": {
      "text/html": [
       "<style>div.sk-top-container {color: black;background-color: white;}div.sk-toggleable {background-color: white;}label.sk-toggleable__label {cursor: pointer;display: block;width: 100%;margin-bottom: 0;padding: 0.2em 0.3em;box-sizing: border-box;text-align: center;}div.sk-toggleable__content {max-height: 0;max-width: 0;overflow: hidden;text-align: left;background-color: #f0f8ff;}div.sk-toggleable__content pre {margin: 0.2em;color: black;border-radius: 0.25em;background-color: #f0f8ff;}input.sk-toggleable__control:checked~div.sk-toggleable__content {max-height: 200px;max-width: 100%;overflow: auto;}div.sk-estimator input.sk-toggleable__control:checked~label.sk-toggleable__label {background-color: #d4ebff;}div.sk-label input.sk-toggleable__control:checked~label.sk-toggleable__label {background-color: #d4ebff;}input.sk-hidden--visually {border: 0;clip: rect(1px 1px 1px 1px);clip: rect(1px, 1px, 1px, 1px);height: 1px;margin: -1px;overflow: hidden;padding: 0;position: absolute;width: 1px;}div.sk-estimator {font-family: monospace;background-color: #f0f8ff;margin: 0.25em 0.25em;border: 1px dotted black;border-radius: 0.25em;box-sizing: border-box;}div.sk-estimator:hover {background-color: #d4ebff;}div.sk-parallel-item::after {content: \"\";width: 100%;border-bottom: 1px solid gray;flex-grow: 1;}div.sk-label:hover label.sk-toggleable__label {background-color: #d4ebff;}div.sk-serial::before {content: \"\";position: absolute;border-left: 1px solid gray;box-sizing: border-box;top: 2em;bottom: 0;left: 50%;}div.sk-serial {display: flex;flex-direction: column;align-items: center;background-color: white;}div.sk-item {z-index: 1;}div.sk-parallel {display: flex;align-items: stretch;justify-content: center;background-color: white;}div.sk-parallel-item {display: flex;flex-direction: column;position: relative;background-color: white;}div.sk-parallel-item:first-child::after {align-self: flex-end;width: 50%;}div.sk-parallel-item:last-child::after {align-self: flex-start;width: 50%;}div.sk-parallel-item:only-child::after {width: 0;}div.sk-dashed-wrapped {border: 1px dashed gray;margin: 0.2em;box-sizing: border-box;padding-bottom: 0.1em;background-color: white;position: relative;}div.sk-label label {font-family: monospace;font-weight: bold;background-color: white;display: inline-block;line-height: 1.2em;}div.sk-label-container {position: relative;z-index: 2;text-align: center;}div.sk-container {display: inline-block;position: relative;}</style><div class=\"sk-top-container\"><div class=\"sk-container\"><div class=\"sk-item sk-dashed-wrapped\"><div class=\"sk-label-container\"><div class=\"sk-label sk-toggleable\"><input class=\"sk-toggleable__control sk-hidden--visually\" id=\"93dbd699-8e09-4ed2-a4e8-713d50243e6c\" type=\"checkbox\" ><label class=\"sk-toggleable__label\" for=\"93dbd699-8e09-4ed2-a4e8-713d50243e6c\">ColumnTransformer</label><div class=\"sk-toggleable__content\"><pre>ColumnTransformer(transformers=[('num_prep',\n",
       "                                 Pipeline(steps=[('add_features',\n",
       "                                                  AttributeAdder()),\n",
       "                                                 ('std_scaling',\n",
       "                                                  StandardScaler())]),\n",
       "                                 ['host_rr', 'host_ar', 'latitude', 'longitude',\n",
       "                                  'accommodates', 'baths', 'bedrooms', 'beds',\n",
       "                                  'min_nights', 'max_nights', 'n_reviews',\n",
       "                                  'rs_rating', 'rs_accuracy', 'rs_cleanliness',\n",
       "                                  'rs_check_in', 'rs_communication',\n",
       "                                  'rs_location', 'rs_value',\n",
       "                                  'reviews_per_month']),\n",
       "                                ('cat_prep', OneHotEncoder(),\n",
       "                                 ['host_rt', 'neighborhood', 'property_type',\n",
       "                                  'room_type'])])</pre></div></div></div><div class=\"sk-parallel\"><div class=\"sk-parallel-item\"><div class=\"sk-item\"><div class=\"sk-label-container\"><div class=\"sk-label sk-toggleable\"><input class=\"sk-toggleable__control sk-hidden--visually\" id=\"45cfe4fb-0f8a-4610-a65b-f31bd0b13835\" type=\"checkbox\" ><label class=\"sk-toggleable__label\" for=\"45cfe4fb-0f8a-4610-a65b-f31bd0b13835\">num_prep</label><div class=\"sk-toggleable__content\"><pre>['host_rr', 'host_ar', 'latitude', 'longitude', 'accommodates', 'baths', 'bedrooms', 'beds', 'min_nights', 'max_nights', 'n_reviews', 'rs_rating', 'rs_accuracy', 'rs_cleanliness', 'rs_check_in', 'rs_communication', 'rs_location', 'rs_value', 'reviews_per_month']</pre></div></div></div><div class=\"sk-serial\"><div class=\"sk-item\"><div class=\"sk-serial\"><div class=\"sk-item\"><div class=\"sk-estimator sk-toggleable\"><input class=\"sk-toggleable__control sk-hidden--visually\" id=\"6e01ff30-a9c7-404f-90e8-c29c2bae69fd\" type=\"checkbox\" ><label class=\"sk-toggleable__label\" for=\"6e01ff30-a9c7-404f-90e8-c29c2bae69fd\">AttributeAdder</label><div class=\"sk-toggleable__content\"><pre>AttributeAdder()</pre></div></div></div><div class=\"sk-item\"><div class=\"sk-estimator sk-toggleable\"><input class=\"sk-toggleable__control sk-hidden--visually\" id=\"4db8a657-2a66-4b16-a87e-0efea468add2\" type=\"checkbox\" ><label class=\"sk-toggleable__label\" for=\"4db8a657-2a66-4b16-a87e-0efea468add2\">StandardScaler</label><div class=\"sk-toggleable__content\"><pre>StandardScaler()</pre></div></div></div></div></div></div></div></div><div class=\"sk-parallel-item\"><div class=\"sk-item\"><div class=\"sk-label-container\"><div class=\"sk-label sk-toggleable\"><input class=\"sk-toggleable__control sk-hidden--visually\" id=\"617d0e38-3e06-4300-8e73-196eeeabdb8f\" type=\"checkbox\" ><label class=\"sk-toggleable__label\" for=\"617d0e38-3e06-4300-8e73-196eeeabdb8f\">cat_prep</label><div class=\"sk-toggleable__content\"><pre>['host_rt', 'neighborhood', 'property_type', 'room_type']</pre></div></div></div><div class=\"sk-serial\"><div class=\"sk-item\"><div class=\"sk-estimator sk-toggleable\"><input class=\"sk-toggleable__control sk-hidden--visually\" id=\"31e95476-59c2-454f-a0eb-dd8457ce06e4\" type=\"checkbox\" ><label class=\"sk-toggleable__label\" for=\"31e95476-59c2-454f-a0eb-dd8457ce06e4\">OneHotEncoder</label><div class=\"sk-toggleable__content\"><pre>OneHotEncoder()</pre></div></div></div></div></div></div></div></div></div></div>"
      ],
      "text/plain": [
       "ColumnTransformer(transformers=[('num_prep',\n",
       "                                 Pipeline(steps=[('add_features',\n",
       "                                                  AttributeAdder()),\n",
       "                                                 ('std_scaling',\n",
       "                                                  StandardScaler())]),\n",
       "                                 ['host_rr', 'host_ar', 'latitude', 'longitude',\n",
       "                                  'accommodates', 'baths', 'bedrooms', 'beds',\n",
       "                                  'min_nights', 'max_nights', 'n_reviews',\n",
       "                                  'rs_rating', 'rs_accuracy', 'rs_cleanliness',\n",
       "                                  'rs_check_in', 'rs_communication',\n",
       "                                  'rs_location', 'rs_value',\n",
       "                                  'reviews_per_month']),\n",
       "                                ('cat_prep', OneHotEncoder(),\n",
       "                                 ['host_rt', 'neighborhood', 'property_type',\n",
       "                                  'room_type'])])"
      ]
     },
     "execution_count": 4,
     "metadata": {},
     "output_type": "execute_result"
    }
   ],
   "source": [
    "from sklearn import set_config\n",
    "set_config(display='diagram')\n",
    "\n",
    "full_pipe"
   ]
  },
  {
   "cell_type": "markdown",
   "metadata": {},
   "source": [
    "## 4. Training a Linear Regression Model"
   ]
  },
  {
   "cell_type": "code",
   "execution_count": 5,
   "metadata": {},
   "outputs": [
    {
     "name": "stdout",
     "output_type": "stream",
     "text": [
      "RMSE: [425.93108859 183.52740766 134.72761984 138.45581251 413.15291056\n",
      " 447.2906282  568.16886068 140.92118982 444.47672801 130.01073927]\n",
      "Avg_RMSE: 302.6662985151705\n",
      "Std_RMSE: 162.55875437222156\n"
     ]
    }
   ],
   "source": [
    "from sklearn.linear_model import LinearRegression\n",
    "from sklearn.model_selection import cross_val_score\n",
    "\n",
    "ols = LinearRegression()\n",
    "ols_mse = cross_val_score(ols, X_train, y_train, cv=10, n_jobs=-1, \n",
    "                             scoring=\"neg_mean_squared_error\") \n",
    "ols_rmse = np.sqrt(np.absolute(ols_mse))\n",
    "print('RMSE:', ols_rmse)\n",
    "print('Avg_RMSE:', ols_rmse.mean())\n",
    "print('Std_RMSE:', ols_rmse.std())"
   ]
  },
  {
   "cell_type": "code",
   "execution_count": 6,
   "metadata": {},
   "outputs": [
    {
     "name": "stdout",
     "output_type": "stream",
     "text": [
      "Price_Mean 156.58548282442754\n",
      "Price_Std 360.2657343128557\n"
     ]
    }
   ],
   "source": [
    "print('Price_Mean', y_train.mean())\n",
    "print('Price_Std', y_train.std())"
   ]
  },
  {
   "cell_type": "markdown",
   "metadata": {},
   "source": [
    "As expected the model performed horrendously as we can see that the actual mean price is almost half of the error. \n",
    "\n",
    "## 5. Tracking Model Performance"
   ]
  },
  {
   "cell_type": "code",
   "execution_count": 7,
   "metadata": {},
   "outputs": [
    {
     "data": {
      "text/html": [
       "<div>\n",
       "<style scoped>\n",
       "    .dataframe tbody tr th:only-of-type {\n",
       "        vertical-align: middle;\n",
       "    }\n",
       "\n",
       "    .dataframe tbody tr th {\n",
       "        vertical-align: top;\n",
       "    }\n",
       "\n",
       "    .dataframe thead th {\n",
       "        text-align: right;\n",
       "    }\n",
       "</style>\n",
       "<table border=\"1\" class=\"dataframe\">\n",
       "  <thead>\n",
       "    <tr style=\"text-align: right;\">\n",
       "      <th></th>\n",
       "      <th>OLS_LR_all</th>\n",
       "    </tr>\n",
       "  </thead>\n",
       "  <tbody>\n",
       "    <tr>\n",
       "      <th>rmse_1</th>\n",
       "      <td>425.931</td>\n",
       "    </tr>\n",
       "    <tr>\n",
       "      <th>rmse_2</th>\n",
       "      <td>183.527</td>\n",
       "    </tr>\n",
       "    <tr>\n",
       "      <th>rmse_3</th>\n",
       "      <td>134.728</td>\n",
       "    </tr>\n",
       "    <tr>\n",
       "      <th>rmse_4</th>\n",
       "      <td>138.456</td>\n",
       "    </tr>\n",
       "    <tr>\n",
       "      <th>rmse_5</th>\n",
       "      <td>413.153</td>\n",
       "    </tr>\n",
       "    <tr>\n",
       "      <th>rmse_6</th>\n",
       "      <td>447.291</td>\n",
       "    </tr>\n",
       "    <tr>\n",
       "      <th>rmse_7</th>\n",
       "      <td>568.169</td>\n",
       "    </tr>\n",
       "    <tr>\n",
       "      <th>rmse_8</th>\n",
       "      <td>140.921</td>\n",
       "    </tr>\n",
       "    <tr>\n",
       "      <th>rmse_9</th>\n",
       "      <td>444.477</td>\n",
       "    </tr>\n",
       "    <tr>\n",
       "      <th>rmse_10</th>\n",
       "      <td>130.011</td>\n",
       "    </tr>\n",
       "    <tr>\n",
       "      <th>avg_rmse</th>\n",
       "      <td>302.666</td>\n",
       "    </tr>\n",
       "    <tr>\n",
       "      <th>std_rmse</th>\n",
       "      <td>162.559</td>\n",
       "    </tr>\n",
       "  </tbody>\n",
       "</table>\n",
       "</div>"
      ],
      "text/plain": [
       "          OLS_LR_all\n",
       "rmse_1       425.931\n",
       "rmse_2       183.527\n",
       "rmse_3       134.728\n",
       "rmse_4       138.456\n",
       "rmse_5       413.153\n",
       "rmse_6       447.291\n",
       "rmse_7       568.169\n",
       "rmse_8       140.921\n",
       "rmse_9       444.477\n",
       "rmse_10      130.011\n",
       "avg_rmse     302.666\n",
       "std_rmse     162.559"
      ]
     },
     "execution_count": 7,
     "metadata": {},
     "output_type": "execute_result"
    }
   ],
   "source": [
    "model_index = ['rmse_1','rmse_2', 'rmse_3', 'rmse_4', 'rmse_5', 'rmse_6', 'rmse_7',\n",
    "             'rmse_8', 'rmse_9', 'rmse_10', 'avg_rmse', 'std_rmse']\n",
    "model_df = pd.DataFrame(index=model_index)\n",
    "model_df['OLS_LR_all'] = [425.93108859, 183.52740766, 134.72761984, 138.45581251, 413.15291056,\n",
    "               447.2906282,  568.16886068, 140.92118982, 444.47672801, 130.01073927, \n",
    "               302.6662985151705, 162.55875437222156]\n",
    "model_df"
   ]
  },
  {
   "cell_type": "markdown",
   "metadata": {},
   "source": [
    "## 6. Training an ElasticNetCV Model"
   ]
  },
  {
   "cell_type": "code",
   "execution_count": 8,
   "metadata": {},
   "outputs": [
    {
     "name": "stdout",
     "output_type": "stream",
     "text": [
      "ElasticNet_n_iter: 47\n",
      "ElasticNet_l1_ratio: 0.7\n",
      "ElasticNet_alpha: 0.1\n"
     ]
    }
   ],
   "source": [
    "from sklearn.linear_model import ElasticNetCV\n",
    "\n",
    "ratio = [.1, .5, .7, .8, .9, .95, .99, 1]\n",
    "alpha = np.logspace(-1, .5, 8)\n",
    "elast_cv = ElasticNetCV(l1_ratio=ratio, alphas=alpha, \n",
    "                        cv=10, n_jobs=-1, max_iter=10000)\n",
    "elast_cv.fit(X_train, y_train)\n",
    "print('ElasticNet_n_iter:', elast_cv.n_iter_)\n",
    "print('ElasticNet_l1_ratio:', elast_cv.l1_ratio_)\n",
    "print('ElasticNet_alpha:', elast_cv.alpha_)"
   ]
  },
  {
   "cell_type": "code",
   "execution_count": 9,
   "metadata": {},
   "outputs": [
    {
     "data": {
      "text/plain": [
       "array([0.1       , 0.16378937, 0.26826958, 0.43939706, 0.71968567,\n",
       "       1.17876863, 1.93069773, 3.16227766])"
      ]
     },
     "execution_count": 9,
     "metadata": {},
     "output_type": "execute_result"
    }
   ],
   "source": [
    "np.logspace(-1, .5, 8)"
   ]
  },
  {
   "cell_type": "code",
   "execution_count": 10,
   "metadata": {},
   "outputs": [
    {
     "data": {
      "text/plain": [
       "array([-1.71326058e+01, -2.16210072e-01,  1.96262475e+01,  2.15549730e+01,\n",
       "        3.15793436e+01,  4.81762340e+01,  6.37835054e+00,  4.39066486e+01,\n",
       "        5.01914805e+00,  9.27186782e-01, -4.58491269e+00,  3.87285865e+00,\n",
       "        4.53349910e+00,  9.50461158e+00, -3.20578882e+00, -1.41250668e+00,\n",
       "        8.38220044e+00, -1.05682700e+01, -1.13967469e+01, -3.25833597e+01,\n",
       "       -9.25599142e+00, -1.61033032e+01,  6.30409660e+00,  5.96354769e+00,\n",
       "       -2.12855464e+01,  2.27874830e+01, -8.61618481e+00,  0.00000000e+00,\n",
       "       -4.19989937e+00,  0.00000000e+00,  0.00000000e+00,  0.00000000e+00,\n",
       "       -7.95465513e-02, -3.89152726e+00,  0.00000000e+00,  0.00000000e+00,\n",
       "       -1.26193164e+01,  0.00000000e+00, -0.00000000e+00, -3.18694458e+00,\n",
       "       -1.85927691e-01,  0.00000000e+00,  0.00000000e+00, -2.76051982e+00,\n",
       "        0.00000000e+00, -2.12010979e-01, -1.81361673e+01, -0.00000000e+00,\n",
       "        0.00000000e+00, -0.00000000e+00, -0.00000000e+00,  0.00000000e+00,\n",
       "        0.00000000e+00, -1.89165337e+00, -2.41823185e-01,  0.00000000e+00,\n",
       "       -0.00000000e+00, -1.81192336e+00, -3.90483192e-01,  0.00000000e+00,\n",
       "       -0.00000000e+00, -2.89749945e+00,  4.85344342e+01,  6.86089726e+00,\n",
       "       -6.90414332e+00,  1.62995803e+00,  4.24299960e+01, -2.50004094e+00,\n",
       "       -0.00000000e+00,  1.06220568e+00,  0.00000000e+00, -0.00000000e+00,\n",
       "        3.77660685e+01, -2.94439153e-02,  8.81226480e+00, -2.28634087e+00,\n",
       "       -2.65479368e-01, -3.02700289e+00, -4.58060222e+00,  0.00000000e+00,\n",
       "        5.09398874e+00,  0.00000000e+00,  0.00000000e+00, -0.00000000e+00,\n",
       "       -0.00000000e+00, -2.08217771e+01,  0.00000000e+00,  2.41027976e-01,\n",
       "       -0.00000000e+00,  0.00000000e+00, -1.02337462e+01, -2.30852380e+00,\n",
       "       -0.00000000e+00, -0.00000000e+00,  0.00000000e+00,  6.28625427e+00,\n",
       "       -4.76454019e-01,  0.00000000e+00, -0.00000000e+00, -1.50698383e+01,\n",
       "        2.76720948e+01, -2.02258097e+01, -2.45708444e+01, -5.05527289e+00,\n",
       "       -2.89857304e+01,  6.81595003e+01,  1.11939113e+01,  1.57217913e+01,\n",
       "       -2.55351835e+00, -1.30163356e+01, -1.38933347e+01, -1.45091300e+01,\n",
       "        1.97148752e+01,  3.57251627e+00, -8.77855727e+00])"
      ]
     },
     "execution_count": 10,
     "metadata": {},
     "output_type": "execute_result"
    }
   ],
   "source": [
    "elast_cv.coef_"
   ]
  },
  {
   "cell_type": "markdown",
   "metadata": {},
   "source": [
    "## 7. ElasticNet Feature Importances\n",
    "Let's get the names of the columns from previous chapter when we used `get_dummies`"
   ]
  },
  {
   "cell_type": "code",
   "execution_count": 11,
   "metadata": {},
   "outputs": [
    {
     "data": {
      "text/plain": [
       "Index(['host_rr', 'host_ar', 'superhost', 'latitude', 'longitude',\n",
       "       'accommodates', 'baths', 'bedrooms', 'beds', 'min_nights',\n",
       "       ...\n",
       "       'property_type_hotel', 'property_type_house', 'property_type_loft',\n",
       "       'property_type_other', 'property_type_suite', 'property_type_townhouse',\n",
       "       'room_type_Entire place', 'room_type_Hotel room',\n",
       "       'room_type_Private room', 'room_type_Shared room'],\n",
       "      dtype='object', length=115)"
      ]
     },
     "execution_count": 11,
     "metadata": {},
     "output_type": "execute_result"
    }
   ],
   "source": [
    "chic_115cols = pd.read_csv('data/chicago_airbnb4')\n",
    "X_train_cols = chic_115cols.columns\n",
    "X_train_cols"
   ]
  },
  {
   "cell_type": "code",
   "execution_count": 12,
   "metadata": {},
   "outputs": [
    {
     "name": "stdout",
     "output_type": "stream",
     "text": [
      "(115, 3)\n"
     ]
    },
    {
     "data": {
      "text/html": [
       "<div>\n",
       "<style scoped>\n",
       "    .dataframe tbody tr th:only-of-type {\n",
       "        vertical-align: middle;\n",
       "    }\n",
       "\n",
       "    .dataframe tbody tr th {\n",
       "        vertical-align: top;\n",
       "    }\n",
       "\n",
       "    .dataframe thead th {\n",
       "        text-align: right;\n",
       "    }\n",
       "</style>\n",
       "<table border=\"1\" class=\"dataframe\">\n",
       "  <thead>\n",
       "    <tr style=\"text-align: right;\">\n",
       "      <th></th>\n",
       "      <th>feature</th>\n",
       "      <th>coef</th>\n",
       "      <th>abs_coef</th>\n",
       "    </tr>\n",
       "  </thead>\n",
       "  <tbody>\n",
       "    <tr>\n",
       "      <th>105</th>\n",
       "      <td>property_type_hotel</td>\n",
       "      <td>68.160</td>\n",
       "      <td>68.160</td>\n",
       "    </tr>\n",
       "    <tr>\n",
       "      <th>62</th>\n",
       "      <td>neighborhood_Lake View</td>\n",
       "      <td>48.534</td>\n",
       "      <td>48.534</td>\n",
       "    </tr>\n",
       "    <tr>\n",
       "      <th>5</th>\n",
       "      <td>accommodates</td>\n",
       "      <td>48.176</td>\n",
       "      <td>48.176</td>\n",
       "    </tr>\n",
       "    <tr>\n",
       "      <th>7</th>\n",
       "      <td>bedrooms</td>\n",
       "      <td>43.907</td>\n",
       "      <td>43.907</td>\n",
       "    </tr>\n",
       "    <tr>\n",
       "      <th>66</th>\n",
       "      <td>neighborhood_Loop</td>\n",
       "      <td>42.430</td>\n",
       "      <td>42.430</td>\n",
       "    </tr>\n",
       "    <tr>\n",
       "      <th>72</th>\n",
       "      <td>neighborhood_Near North Side</td>\n",
       "      <td>37.766</td>\n",
       "      <td>37.766</td>\n",
       "    </tr>\n",
       "    <tr>\n",
       "      <th>19</th>\n",
       "      <td>instant_bookable</td>\n",
       "      <td>-32.583</td>\n",
       "      <td>32.583</td>\n",
       "    </tr>\n",
       "    <tr>\n",
       "      <th>4</th>\n",
       "      <td>longitude</td>\n",
       "      <td>31.579</td>\n",
       "      <td>31.579</td>\n",
       "    </tr>\n",
       "    <tr>\n",
       "      <th>104</th>\n",
       "      <td>property_type_condomium</td>\n",
       "      <td>-28.986</td>\n",
       "      <td>28.986</td>\n",
       "    </tr>\n",
       "    <tr>\n",
       "      <th>100</th>\n",
       "      <td>neighborhood_West Town</td>\n",
       "      <td>27.672</td>\n",
       "      <td>27.672</td>\n",
       "    </tr>\n",
       "    <tr>\n",
       "      <th>102</th>\n",
       "      <td>property_type_apartment</td>\n",
       "      <td>-24.571</td>\n",
       "      <td>24.571</td>\n",
       "    </tr>\n",
       "    <tr>\n",
       "      <th>25</th>\n",
       "      <td>host_rt_Missing</td>\n",
       "      <td>22.787</td>\n",
       "      <td>22.787</td>\n",
       "    </tr>\n",
       "    <tr>\n",
       "      <th>3</th>\n",
       "      <td>latitude</td>\n",
       "      <td>21.555</td>\n",
       "      <td>21.555</td>\n",
       "    </tr>\n",
       "    <tr>\n",
       "      <th>24</th>\n",
       "      <td>host_rt_72H</td>\n",
       "      <td>-21.286</td>\n",
       "      <td>21.286</td>\n",
       "    </tr>\n",
       "    <tr>\n",
       "      <th>85</th>\n",
       "      <td>neighborhood_Rogers Park</td>\n",
       "      <td>-20.822</td>\n",
       "      <td>20.822</td>\n",
       "    </tr>\n",
       "    <tr>\n",
       "      <th>101</th>\n",
       "      <td>neighborhood_Woodlawn</td>\n",
       "      <td>-20.226</td>\n",
       "      <td>20.226</td>\n",
       "    </tr>\n",
       "    <tr>\n",
       "      <th>112</th>\n",
       "      <td>room_type_Hotel room</td>\n",
       "      <td>19.715</td>\n",
       "      <td>19.715</td>\n",
       "    </tr>\n",
       "    <tr>\n",
       "      <th>2</th>\n",
       "      <td>superhost</td>\n",
       "      <td>19.626</td>\n",
       "      <td>19.626</td>\n",
       "    </tr>\n",
       "    <tr>\n",
       "      <th>46</th>\n",
       "      <td>neighborhood_Edgewater</td>\n",
       "      <td>-18.136</td>\n",
       "      <td>18.136</td>\n",
       "    </tr>\n",
       "    <tr>\n",
       "      <th>0</th>\n",
       "      <td>host_rr</td>\n",
       "      <td>-17.133</td>\n",
       "      <td>17.133</td>\n",
       "    </tr>\n",
       "  </tbody>\n",
       "</table>\n",
       "</div>"
      ],
      "text/plain": [
       "                          feature    coef  abs_coef\n",
       "105           property_type_hotel  68.160    68.160\n",
       "62         neighborhood_Lake View  48.534    48.534\n",
       "5                    accommodates  48.176    48.176\n",
       "7                        bedrooms  43.907    43.907\n",
       "66              neighborhood_Loop  42.430    42.430\n",
       "72   neighborhood_Near North Side  37.766    37.766\n",
       "19               instant_bookable -32.583    32.583\n",
       "4                       longitude  31.579    31.579\n",
       "104       property_type_condomium -28.986    28.986\n",
       "100        neighborhood_West Town  27.672    27.672\n",
       "102       property_type_apartment -24.571    24.571\n",
       "25                host_rt_Missing  22.787    22.787\n",
       "3                        latitude  21.555    21.555\n",
       "24                    host_rt_72H -21.286    21.286\n",
       "85       neighborhood_Rogers Park -20.822    20.822\n",
       "101         neighborhood_Woodlawn -20.226    20.226\n",
       "112          room_type_Hotel room  19.715    19.715\n",
       "2                       superhost  19.626    19.626\n",
       "46         neighborhood_Edgewater -18.136    18.136\n",
       "0                         host_rr -17.133    17.133"
      ]
     },
     "execution_count": 12,
     "metadata": {},
     "output_type": "execute_result"
    }
   ],
   "source": [
    "features_df = pd.DataFrame()\n",
    "features_df['feature'] = X_train_cols\n",
    "features_df['coef'] = elast_cv.coef_\n",
    "features_df['abs_coef'] = features_df['coef'].abs()\n",
    "features_df = features_df.sort_values('abs_coef', \n",
    "                                      ascending=False)\n",
    "print(features_df.shape)\n",
    "non_zero_features = features_df[features_df['coef']!=0]\n",
    "non_zero_features.head(20)"
   ]
  },
  {
   "cell_type": "markdown",
   "metadata": {},
   "source": [
    "## 8. Visualizing Feature Importances\n",
    "\n",
    "Let's plot the coefficients from `ElasticNetCV` to better see which ones to choose for turning our algorithms"
   ]
  },
  {
   "cell_type": "code",
   "execution_count": 13,
   "metadata": {},
   "outputs": [
    {
     "data": {
      "image/png": "[encoded data removed]",
      "text/plain": [
       "<Figure size 864x1152 with 1 Axes>"
      ]
     },
     "metadata": {
      "needs_background": "light"
     },
     "output_type": "display_data"
    }
   ],
   "source": [
    "import matplotlib.pyplot as plt\n",
    "import seaborn as sns\n",
    "\n",
    "plt.figure(figsize=(12,16))\n",
    "ax = sns.barplot(x=\"coef\", y=\"feature\", data=non_zero_features)"
   ]
  },
  {
   "cell_type": "markdown",
   "metadata": {},
   "source": [
    "## 9. Retraining OLS-Linear Model Using Best 36 Features"
   ]
  },
  {
   "cell_type": "code",
   "execution_count": 14,
   "metadata": {},
   "outputs": [
    {
     "name": "stdout",
     "output_type": "stream",
     "text": [
      "(5240, 36)\n"
     ]
    },
    {
     "data": {
      "text/html": [
       "<div>\n",
       "<style scoped>\n",
       "    .dataframe tbody tr th:only-of-type {\n",
       "        vertical-align: middle;\n",
       "    }\n",
       "\n",
       "    .dataframe tbody tr th {\n",
       "        vertical-align: top;\n",
       "    }\n",
       "\n",
       "    .dataframe thead th {\n",
       "        text-align: right;\n",
       "    }\n",
       "</style>\n",
       "<table border=\"1\" class=\"dataframe\">\n",
       "  <thead>\n",
       "    <tr style=\"text-align: right;\">\n",
       "      <th></th>\n",
       "      <th>property_type_hotel</th>\n",
       "      <th>neighborhood_Lake View</th>\n",
       "      <th>accommodates</th>\n",
       "      <th>bedrooms</th>\n",
       "      <th>neighborhood_Loop</th>\n",
       "      <th>neighborhood_Near North Side</th>\n",
       "      <th>instant_bookable</th>\n",
       "      <th>longitude</th>\n",
       "      <th>property_type_condomium</th>\n",
       "      <th>neighborhood_West Town</th>\n",
       "      <th>property_type_apartment</th>\n",
       "      <th>host_rt_Missing</th>\n",
       "      <th>latitude</th>\n",
       "      <th>host_rt_72H</th>\n",
       "      <th>neighborhood_Rogers Park</th>\n",
       "      <th>neighborhood_Woodlawn</th>\n",
       "      <th>room_type_Hotel room</th>\n",
       "      <th>superhost</th>\n",
       "      <th>neighborhood_Edgewater</th>\n",
       "      <th>host_rr</th>\n",
       "      <th>host_rt_1H</th>\n",
       "      <th>property_type_loft</th>\n",
       "      <th>neighborhood_West Ridge</th>\n",
       "      <th>room_type_Entire place</th>\n",
       "      <th>property_type_townhouse</th>\n",
       "      <th>property_type_suite</th>\n",
       "      <th>neighborhood_Bridgeport</th>\n",
       "      <th>rs_value</th>\n",
       "      <th>property_type_house</th>\n",
       "      <th>rs_location</th>\n",
       "      <th>neighborhood_South Shore</th>\n",
       "      <th>rs_accuracy</th>\n",
       "      <th>reviews_per_month</th>\n",
       "      <th>neighborhood_Near West Side</th>\n",
       "      <th>room_type_Shared room</th>\n",
       "      <th>neighborhood_Albany Park</th>\n",
       "    </tr>\n",
       "  </thead>\n",
       "  <tbody>\n",
       "    <tr>\n",
       "      <th>0</th>\n",
       "      <td>0.0</td>\n",
       "      <td>1.0</td>\n",
       "      <td>-0.320</td>\n",
       "      <td>1.049</td>\n",
       "      <td>0.0</td>\n",
       "      <td>0.0</td>\n",
       "      <td>-0.374</td>\n",
       "      <td>1.354</td>\n",
       "      <td>0.0</td>\n",
       "      <td>0.0</td>\n",
       "      <td>1.0</td>\n",
       "      <td>0.0</td>\n",
       "      <td>-0.075</td>\n",
       "      <td>0.0</td>\n",
       "      <td>0.0</td>\n",
       "      <td>0.0</td>\n",
       "      <td>0.0</td>\n",
       "      <td>0.967</td>\n",
       "      <td>0.0</td>\n",
       "      <td>0.325</td>\n",
       "      <td>1.0</td>\n",
       "      <td>0.0</td>\n",
       "      <td>0.0</td>\n",
       "      <td>1.0</td>\n",
       "      <td>0.0</td>\n",
       "      <td>0.0</td>\n",
       "      <td>0.0</td>\n",
       "      <td>1.875</td>\n",
       "      <td>0.0</td>\n",
       "      <td>-0.771</td>\n",
       "      <td>0.0</td>\n",
       "      <td>-0.822</td>\n",
       "      <td>-1.167</td>\n",
       "      <td>0.0</td>\n",
       "      <td>0.0</td>\n",
       "      <td>0.0</td>\n",
       "    </tr>\n",
       "    <tr>\n",
       "      <th>1</th>\n",
       "      <td>0.0</td>\n",
       "      <td>0.0</td>\n",
       "      <td>-0.320</td>\n",
       "      <td>0.489</td>\n",
       "      <td>0.0</td>\n",
       "      <td>0.0</td>\n",
       "      <td>0.451</td>\n",
       "      <td>0.650</td>\n",
       "      <td>0.0</td>\n",
       "      <td>0.0</td>\n",
       "      <td>0.0</td>\n",
       "      <td>0.0</td>\n",
       "      <td>-0.623</td>\n",
       "      <td>0.0</td>\n",
       "      <td>0.0</td>\n",
       "      <td>0.0</td>\n",
       "      <td>0.0</td>\n",
       "      <td>0.343</td>\n",
       "      <td>0.0</td>\n",
       "      <td>0.325</td>\n",
       "      <td>0.0</td>\n",
       "      <td>0.0</td>\n",
       "      <td>0.0</td>\n",
       "      <td>1.0</td>\n",
       "      <td>0.0</td>\n",
       "      <td>0.0</td>\n",
       "      <td>0.0</td>\n",
       "      <td>2.158</td>\n",
       "      <td>1.0</td>\n",
       "      <td>0.526</td>\n",
       "      <td>0.0</td>\n",
       "      <td>0.461</td>\n",
       "      <td>-0.943</td>\n",
       "      <td>0.0</td>\n",
       "      <td>0.0</td>\n",
       "      <td>0.0</td>\n",
       "    </tr>\n",
       "    <tr>\n",
       "      <th>2</th>\n",
       "      <td>0.0</td>\n",
       "      <td>0.0</td>\n",
       "      <td>-0.320</td>\n",
       "      <td>-0.629</td>\n",
       "      <td>0.0</td>\n",
       "      <td>0.0</td>\n",
       "      <td>-0.374</td>\n",
       "      <td>-0.758</td>\n",
       "      <td>0.0</td>\n",
       "      <td>0.0</td>\n",
       "      <td>1.0</td>\n",
       "      <td>1.0</td>\n",
       "      <td>-2.329</td>\n",
       "      <td>0.0</td>\n",
       "      <td>0.0</td>\n",
       "      <td>0.0</td>\n",
       "      <td>0.0</td>\n",
       "      <td>0.868</td>\n",
       "      <td>0.0</td>\n",
       "      <td>0.325</td>\n",
       "      <td>0.0</td>\n",
       "      <td>0.0</td>\n",
       "      <td>0.0</td>\n",
       "      <td>1.0</td>\n",
       "      <td>0.0</td>\n",
       "      <td>0.0</td>\n",
       "      <td>0.0</td>\n",
       "      <td>0.129</td>\n",
       "      <td>0.0</td>\n",
       "      <td>0.526</td>\n",
       "      <td>0.0</td>\n",
       "      <td>0.461</td>\n",
       "      <td>0.845</td>\n",
       "      <td>0.0</td>\n",
       "      <td>0.0</td>\n",
       "      <td>0.0</td>\n",
       "    </tr>\n",
       "    <tr>\n",
       "      <th>3</th>\n",
       "      <td>0.0</td>\n",
       "      <td>0.0</td>\n",
       "      <td>-0.643</td>\n",
       "      <td>-0.070</td>\n",
       "      <td>0.0</td>\n",
       "      <td>0.0</td>\n",
       "      <td>1.275</td>\n",
       "      <td>-0.758</td>\n",
       "      <td>0.0</td>\n",
       "      <td>0.0</td>\n",
       "      <td>0.0</td>\n",
       "      <td>0.0</td>\n",
       "      <td>-0.087</td>\n",
       "      <td>0.0</td>\n",
       "      <td>1.0</td>\n",
       "      <td>0.0</td>\n",
       "      <td>0.0</td>\n",
       "      <td>1.794</td>\n",
       "      <td>0.0</td>\n",
       "      <td>0.325</td>\n",
       "      <td>0.0</td>\n",
       "      <td>0.0</td>\n",
       "      <td>0.0</td>\n",
       "      <td>0.0</td>\n",
       "      <td>0.0</td>\n",
       "      <td>0.0</td>\n",
       "      <td>0.0</td>\n",
       "      <td>0.573</td>\n",
       "      <td>1.0</td>\n",
       "      <td>0.526</td>\n",
       "      <td>0.0</td>\n",
       "      <td>0.461</td>\n",
       "      <td>-0.831</td>\n",
       "      <td>0.0</td>\n",
       "      <td>0.0</td>\n",
       "      <td>0.0</td>\n",
       "    </tr>\n",
       "    <tr>\n",
       "      <th>4</th>\n",
       "      <td>0.0</td>\n",
       "      <td>0.0</td>\n",
       "      <td>-0.320</td>\n",
       "      <td>-0.629</td>\n",
       "      <td>0.0</td>\n",
       "      <td>0.0</td>\n",
       "      <td>-0.374</td>\n",
       "      <td>-0.406</td>\n",
       "      <td>0.0</td>\n",
       "      <td>0.0</td>\n",
       "      <td>1.0</td>\n",
       "      <td>0.0</td>\n",
       "      <td>1.275</td>\n",
       "      <td>0.0</td>\n",
       "      <td>0.0</td>\n",
       "      <td>0.0</td>\n",
       "      <td>0.0</td>\n",
       "      <td>-3.565</td>\n",
       "      <td>0.0</td>\n",
       "      <td>0.325</td>\n",
       "      <td>0.0</td>\n",
       "      <td>0.0</td>\n",
       "      <td>0.0</td>\n",
       "      <td>1.0</td>\n",
       "      <td>0.0</td>\n",
       "      <td>0.0</td>\n",
       "      <td>0.0</td>\n",
       "      <td>0.493</td>\n",
       "      <td>0.0</td>\n",
       "      <td>0.526</td>\n",
       "      <td>0.0</td>\n",
       "      <td>0.461</td>\n",
       "      <td>0.845</td>\n",
       "      <td>0.0</td>\n",
       "      <td>0.0</td>\n",
       "      <td>0.0</td>\n",
       "    </tr>\n",
       "  </tbody>\n",
       "</table>\n",
       "</div>"
      ],
      "text/plain": [
       "   property_type_hotel  neighborhood_Lake View  accommodates  bedrooms  \\\n",
       "0                  0.0                     1.0        -0.320     1.049   \n",
       "1                  0.0                     0.0        -0.320     0.489   \n",
       "2                  0.0                     0.0        -0.320    -0.629   \n",
       "3                  0.0                     0.0        -0.643    -0.070   \n",
       "4                  0.0                     0.0        -0.320    -0.629   \n",
       "\n",
       "   neighborhood_Loop  neighborhood_Near North Side  instant_bookable  \\\n",
       "0                0.0                           0.0            -0.374   \n",
       "1                0.0                           0.0             0.451   \n",
       "2                0.0                           0.0            -0.374   \n",
       "3                0.0                           0.0             1.275   \n",
       "4                0.0                           0.0            -0.374   \n",
       "\n",
       "   longitude  property_type_condomium  neighborhood_West Town  \\\n",
       "0      1.354                      0.0                     0.0   \n",
       "1      0.650                      0.0                     0.0   \n",
       "2     -0.758                      0.0                     0.0   \n",
       "3     -0.758                      0.0                     0.0   \n",
       "4     -0.406                      0.0                     0.0   \n",
       "\n",
       "   property_type_apartment  host_rt_Missing  latitude  host_rt_72H  \\\n",
       "0                      1.0              0.0    -0.075          0.0   \n",
       "1                      0.0              0.0    -0.623          0.0   \n",
       "2                      1.0              1.0    -2.329          0.0   \n",
       "3                      0.0              0.0    -0.087          0.0   \n",
       "4                      1.0              0.0     1.275          0.0   \n",
       "\n",
       "   neighborhood_Rogers Park  neighborhood_Woodlawn  room_type_Hotel room  \\\n",
       "0                       0.0                    0.0                   0.0   \n",
       "1                       0.0                    0.0                   0.0   \n",
       "2                       0.0                    0.0                   0.0   \n",
       "3                       1.0                    0.0                   0.0   \n",
       "4                       0.0                    0.0                   0.0   \n",
       "\n",
       "   superhost  neighborhood_Edgewater  host_rr  host_rt_1H  property_type_loft  \\\n",
       "0      0.967                     0.0    0.325         1.0                 0.0   \n",
       "1      0.343                     0.0    0.325         0.0                 0.0   \n",
       "2      0.868                     0.0    0.325         0.0                 0.0   \n",
       "3      1.794                     0.0    0.325         0.0                 0.0   \n",
       "4     -3.565                     0.0    0.325         0.0                 0.0   \n",
       "\n",
       "   neighborhood_West Ridge  room_type_Entire place  property_type_townhouse  \\\n",
       "0                      0.0                     1.0                      0.0   \n",
       "1                      0.0                     1.0                      0.0   \n",
       "2                      0.0                     1.0                      0.0   \n",
       "3                      0.0                     0.0                      0.0   \n",
       "4                      0.0                     1.0                      0.0   \n",
       "\n",
       "   property_type_suite  neighborhood_Bridgeport  rs_value  \\\n",
       "0                  0.0                      0.0     1.875   \n",
       "1                  0.0                      0.0     2.158   \n",
       "2                  0.0                      0.0     0.129   \n",
       "3                  0.0                      0.0     0.573   \n",
       "4                  0.0                      0.0     0.493   \n",
       "\n",
       "   property_type_house  rs_location  neighborhood_South Shore  rs_accuracy  \\\n",
       "0                  0.0       -0.771                       0.0       -0.822   \n",
       "1                  1.0        0.526                       0.0        0.461   \n",
       "2                  0.0        0.526                       0.0        0.461   \n",
       "3                  1.0        0.526                       0.0        0.461   \n",
       "4                  0.0        0.526                       0.0        0.461   \n",
       "\n",
       "   reviews_per_month  neighborhood_Near West Side  room_type_Shared room  \\\n",
       "0             -1.167                          0.0                    0.0   \n",
       "1             -0.943                          0.0                    0.0   \n",
       "2              0.845                          0.0                    0.0   \n",
       "3             -0.831                          0.0                    0.0   \n",
       "4              0.845                          0.0                    0.0   \n",
       "\n",
       "   neighborhood_Albany Park  \n",
       "0                       0.0  \n",
       "1                       0.0  \n",
       "2                       0.0  \n",
       "3                       0.0  \n",
       "4                       0.0  "
      ]
     },
     "execution_count": 14,
     "metadata": {},
     "output_type": "execute_result"
    }
   ],
   "source": [
    "cols_36 = list(non_zero_features['feature'].head(36))\n",
    "X_train_dense = X_train.toarray()\n",
    "X_train_dense = pd.DataFrame(X_train_dense, columns=X_train_cols)\n",
    "X_train_36 = X_train_dense[cols_36].copy()\n",
    "print(X_train_36.shape)\n",
    "X_train_36.head()"
   ]
  },
  {
   "cell_type": "code",
   "execution_count": 15,
   "metadata": {},
   "outputs": [
    {
     "name": "stdout",
     "output_type": "stream",
     "text": [
      "RMSE: [552.85926868 210.80167345 123.6281426  128.24445457 590.70288076\n",
      " 463.42082567 143.51566033 123.25094313 129.99480711 412.47683308]\n",
      "Avg_RMSE: 287.88954893941775\n",
      "Std_RMSE: 184.2632445272487\n"
     ]
    }
   ],
   "source": [
    "from sklearn.model_selection import KFold\n",
    "\n",
    "ols = LinearRegression()\n",
    "kf = KFold(n_splits=10, random_state=42, shuffle=True)\n",
    "ols_mse = cross_val_score(ols, X_train_36, y_train, cv=kf, n_jobs=-1, \n",
    "                          scoring=\"neg_mean_squared_error\") \n",
    "ols_rmse = np.sqrt(np.absolute(ols_mse))\n",
    "print('RMSE:', ols_rmse)\n",
    "print('Avg_RMSE:', ols_rmse.mean())\n",
    "print('Std_RMSE:', ols_rmse.std())"
   ]
  },
  {
   "cell_type": "markdown",
   "metadata": {},
   "source": [
    "## 10. Retraining ElasticNet Using Best 36"
   ]
  },
  {
   "cell_type": "code",
   "execution_count": 16,
   "metadata": {},
   "outputs": [
    {
     "name": "stdout",
     "output_type": "stream",
     "text": [
      "RMSE: [552.81914494 210.35895428 118.10562924 123.10313937 590.50079696\n",
      " 461.62975661 138.46093959 119.28411103 123.14145802 412.35020263]\n",
      "Avg_RMSE: 284.9754132666877\n",
      "Std_RMSE: 186.34463238734193\n"
     ]
    }
   ],
   "source": [
    "from sklearn.linear_model import ElasticNet\n",
    "\n",
    "elas_net = ElasticNet(alpha=0.1, l1_ratio=0.7)\n",
    "elas_mse = cross_val_score(elas_net, X_train_36, y_train, cv=kf, n_jobs=-1, \n",
    "                             scoring=\"neg_mean_squared_error\") \n",
    "elas_rmse = np.sqrt(np.absolute(elas_mse))\n",
    "print('RMSE:', elas_rmse)\n",
    "print('Avg_RMSE:', elas_rmse.mean())\n",
    "print('Std_RMSE:', elas_rmse.std())"
   ]
  },
  {
   "cell_type": "markdown",
   "metadata": {},
   "source": [
    "The ordinary least squares linear and the regularized elastic net models don't seem to yield good results. This is somewhat not surprising because  we did not find strong linear relationship between features and target. We will keep looking for better models.\n",
    "\n",
    "Let's now update or model performance tracker"
   ]
  },
  {
   "cell_type": "code",
   "execution_count": 17,
   "metadata": {},
   "outputs": [
    {
     "data": {
      "text/html": [
       "<div>\n",
       "<style scoped>\n",
       "    .dataframe tbody tr th:only-of-type {\n",
       "        vertical-align: middle;\n",
       "    }\n",
       "\n",
       "    .dataframe tbody tr th {\n",
       "        vertical-align: top;\n",
       "    }\n",
       "\n",
       "    .dataframe thead th {\n",
       "        text-align: right;\n",
       "    }\n",
       "</style>\n",
       "<table border=\"1\" class=\"dataframe\">\n",
       "  <thead>\n",
       "    <tr style=\"text-align: right;\">\n",
       "      <th></th>\n",
       "      <th>OLS_LR_all</th>\n",
       "      <th>OLS_LR_36</th>\n",
       "      <th>ElasNet_36</th>\n",
       "    </tr>\n",
       "  </thead>\n",
       "  <tbody>\n",
       "    <tr>\n",
       "      <th>rmse_1</th>\n",
       "      <td>425.931</td>\n",
       "      <td>552.859</td>\n",
       "      <td>552.819</td>\n",
       "    </tr>\n",
       "    <tr>\n",
       "      <th>rmse_2</th>\n",
       "      <td>183.527</td>\n",
       "      <td>210.802</td>\n",
       "      <td>210.359</td>\n",
       "    </tr>\n",
       "    <tr>\n",
       "      <th>rmse_3</th>\n",
       "      <td>134.728</td>\n",
       "      <td>123.628</td>\n",
       "      <td>118.106</td>\n",
       "    </tr>\n",
       "    <tr>\n",
       "      <th>rmse_4</th>\n",
       "      <td>138.456</td>\n",
       "      <td>128.244</td>\n",
       "      <td>123.103</td>\n",
       "    </tr>\n",
       "    <tr>\n",
       "      <th>rmse_5</th>\n",
       "      <td>413.153</td>\n",
       "      <td>590.703</td>\n",
       "      <td>590.501</td>\n",
       "    </tr>\n",
       "    <tr>\n",
       "      <th>rmse_6</th>\n",
       "      <td>447.291</td>\n",
       "      <td>463.421</td>\n",
       "      <td>461.630</td>\n",
       "    </tr>\n",
       "    <tr>\n",
       "      <th>rmse_7</th>\n",
       "      <td>568.169</td>\n",
       "      <td>143.516</td>\n",
       "      <td>138.461</td>\n",
       "    </tr>\n",
       "    <tr>\n",
       "      <th>rmse_8</th>\n",
       "      <td>140.921</td>\n",
       "      <td>123.251</td>\n",
       "      <td>119.284</td>\n",
       "    </tr>\n",
       "    <tr>\n",
       "      <th>rmse_9</th>\n",
       "      <td>444.477</td>\n",
       "      <td>129.995</td>\n",
       "      <td>123.141</td>\n",
       "    </tr>\n",
       "    <tr>\n",
       "      <th>rmse_10</th>\n",
       "      <td>130.011</td>\n",
       "      <td>412.477</td>\n",
       "      <td>412.350</td>\n",
       "    </tr>\n",
       "    <tr>\n",
       "      <th>avg_rmse</th>\n",
       "      <td>302.666</td>\n",
       "      <td>287.890</td>\n",
       "      <td>284.975</td>\n",
       "    </tr>\n",
       "    <tr>\n",
       "      <th>std_rmse</th>\n",
       "      <td>162.559</td>\n",
       "      <td>184.263</td>\n",
       "      <td>186.345</td>\n",
       "    </tr>\n",
       "  </tbody>\n",
       "</table>\n",
       "</div>"
      ],
      "text/plain": [
       "          OLS_LR_all  OLS_LR_36  ElasNet_36\n",
       "rmse_1       425.931    552.859     552.819\n",
       "rmse_2       183.527    210.802     210.359\n",
       "rmse_3       134.728    123.628     118.106\n",
       "rmse_4       138.456    128.244     123.103\n",
       "rmse_5       413.153    590.703     590.501\n",
       "rmse_6       447.291    463.421     461.630\n",
       "rmse_7       568.169    143.516     138.461\n",
       "rmse_8       140.921    123.251     119.284\n",
       "rmse_9       444.477    129.995     123.141\n",
       "rmse_10      130.011    412.477     412.350\n",
       "avg_rmse     302.666    287.890     284.975\n",
       "std_rmse     162.559    184.263     186.345"
      ]
     },
     "execution_count": 17,
     "metadata": {},
     "output_type": "execute_result"
    }
   ],
   "source": [
    "model_df['OLS_LR_36'] = [552.85926868, 210.80167345, 123.6281426,  128.24445457, 590.70288076,\n",
    "                      463.42082567, 143.51566033, 123.25094313, 129.99480711, 412.47683308,\n",
    "                      287.88954893941775, 184.2632445272487]\n",
    "model_df['ElasNet_36'] = [552.81914494, 210.35895428, 118.10562924, 123.10313937, 590.50079696,\n",
    "                          461.62975661, 138.46093959, 119.28411103, 123.14145802, 412.35020263,\n",
    "                          284.9754132666877, 186.34463238734193]\n",
    "model_df"
   ]
  },
  {
   "cell_type": "markdown",
   "metadata": {},
   "source": [
    "## 11. Training K-Nearest Neighbor Regression"
   ]
  },
  {
   "cell_type": "code",
   "execution_count": 18,
   "metadata": {},
   "outputs": [
    {
     "name": "stdout",
     "output_type": "stream",
     "text": [
      "Best Parameters: {'algorithm': 'ball_tree', 'n_neighbors': 19, 'p': 1, 'weights': 'uniform'}\n",
      "Best Score: 0.11631657498150494\n"
     ]
    }
   ],
   "source": [
    "from sklearn.neighbors import KNeighborsRegressor\n",
    "from sklearn.model_selection import GridSearchCV\n",
    "\n",
    "kpar = {'n_neighbors': np.arange(1, 21, 2),\n",
    "       'weights': ['uniform', 'distance'],\n",
    "       'algorithm': ['ball_tree', 'kd_tree', 'brute'],\n",
    "       'p': [1,2]\n",
    "      }\n",
    "knn = KNeighborsRegressor()\n",
    "kgrid = GridSearchCV(knn, kpar, n_jobs=-1)\n",
    "kgrid.fit(X_train_dense, y_train)\n",
    "\n",
    "print('Best Parameters:', kgrid.best_params_)\n",
    "print('Best Score:', kgrid.best_score_)"
   ]
  },
  {
   "cell_type": "code",
   "execution_count": 19,
   "metadata": {
    "scrolled": true
   },
   "outputs": [
    {
     "name": "stdout",
     "output_type": "stream",
     "text": [
      "RMSE: [417.2192649  185.51412781 123.41564852 135.15090507 419.74317281\n",
      " 450.73621762 566.42378049 134.05568276 442.4125294  113.69091099]\n",
      "Avg_RMSE: 298.8362240368504\n",
      "Std_RMSE: 166.060974249007\n"
     ]
    }
   ],
   "source": [
    "knn = KNeighborsRegressor(algorithm='ball_tree', n_neighbors=19, \n",
    "                        p=1, weights='uniform')\n",
    "knn_mse = cross_val_score(knn, X_train_dense, y_train, cv=10, n_jobs=-1, \n",
    "                             scoring=\"neg_mean_squared_error\") \n",
    "knn_rmse = np.sqrt(np.absolute(knn_mse))\n",
    "print('RMSE:', knn_rmse)\n",
    "print('Avg_RMSE:', knn_rmse.mean())\n",
    "print('Std_RMSE:', knn_rmse.std())"
   ]
  },
  {
   "cell_type": "markdown",
   "metadata": {},
   "source": [
    "It looks like we are going to have a hard time finding a decent model for all of these useless features. Let's train random forest before deciding on anything different\n",
    "\n",
    "## 12. Training Random Forest Regressor"
   ]
  },
  {
   "cell_type": "code",
   "execution_count": 20,
   "metadata": {},
   "outputs": [
    {
     "name": "stdout",
     "output_type": "stream",
     "text": [
      "Best Parameters: {'max_depth': 4, 'min_samples_leaf': 4, 'min_samples_split': 5}\n",
      "Best Score: 0.09940749034071887\n"
     ]
    }
   ],
   "source": [
    "from sklearn.ensemble import RandomForestRegressor\n",
    "\n",
    "ranpar = {'max_depth': [2, 4, 6, 8],\n",
    "          'min_samples_leaf': [1, 2, 3, 4],\n",
    "          'min_samples_split':[2, 3, 4, 5]\n",
    "         }\n",
    "ran = RandomForestRegressor()\n",
    "rangrid = GridSearchCV(ran, ranpar, n_jobs=-1)\n",
    "rangrid.fit(X_train_dense, y_train)\n",
    "\n",
    "print('Best Parameters:', rangrid.best_params_)\n",
    "print('Best Score:', rangrid.best_score_)"
   ]
  },
  {
   "cell_type": "code",
   "execution_count": 21,
   "metadata": {},
   "outputs": [
    {
     "name": "stdout",
     "output_type": "stream",
     "text": [
      "RMSE: [422.30621467 184.97934005 134.96087479 136.02076044 421.21129004\n",
      " 449.10284586 572.34843496 150.10579094 447.13622224 114.37442543]\n",
      "Avg_RMSE: 303.2546199416678\n",
      "Std_RMSE: 164.88827791922378\n"
     ]
    }
   ],
   "source": [
    "ranfo = RandomForestRegressor(max_depth=4, min_samples_leaf=4,\n",
    "                            min_samples_split=5, random_state=42)\n",
    "ranfo_mse = cross_val_score(ranfo, X_train_dense, y_train, cv=10, n_jobs=-1, \n",
    "                             scoring=\"neg_mean_squared_error\") \n",
    "ranfo_rmse = np.sqrt(np.absolute(ranfo_mse))\n",
    "print('RMSE:', ranfo_rmse)\n",
    "print('Avg_RMSE:', ranfo_rmse.mean())\n",
    "print('Std_RMSE:', ranfo_rmse.std())"
   ]
  },
  {
   "cell_type": "code",
   "execution_count": 22,
   "metadata": {},
   "outputs": [
    {
     "data": {
      "text/html": [
       "<div>\n",
       "<style scoped>\n",
       "    .dataframe tbody tr th:only-of-type {\n",
       "        vertical-align: middle;\n",
       "    }\n",
       "\n",
       "    .dataframe tbody tr th {\n",
       "        vertical-align: top;\n",
       "    }\n",
       "\n",
       "    .dataframe thead th {\n",
       "        text-align: right;\n",
       "    }\n",
       "</style>\n",
       "<table border=\"1\" class=\"dataframe\">\n",
       "  <thead>\n",
       "    <tr style=\"text-align: right;\">\n",
       "      <th></th>\n",
       "      <th>OLS_LR_all</th>\n",
       "      <th>OLS_LR_36</th>\n",
       "      <th>ElasNet_36</th>\n",
       "      <th>KNN_all</th>\n",
       "      <th>RandFor_all</th>\n",
       "    </tr>\n",
       "  </thead>\n",
       "  <tbody>\n",
       "    <tr>\n",
       "      <th>rmse_1</th>\n",
       "      <td>425.931</td>\n",
       "      <td>552.859</td>\n",
       "      <td>552.819</td>\n",
       "      <td>417.219</td>\n",
       "      <td>422.306</td>\n",
       "    </tr>\n",
       "    <tr>\n",
       "      <th>rmse_2</th>\n",
       "      <td>183.527</td>\n",
       "      <td>210.802</td>\n",
       "      <td>210.359</td>\n",
       "      <td>185.514</td>\n",
       "      <td>184.979</td>\n",
       "    </tr>\n",
       "    <tr>\n",
       "      <th>rmse_3</th>\n",
       "      <td>134.728</td>\n",
       "      <td>123.628</td>\n",
       "      <td>118.106</td>\n",
       "      <td>123.416</td>\n",
       "      <td>134.961</td>\n",
       "    </tr>\n",
       "    <tr>\n",
       "      <th>rmse_4</th>\n",
       "      <td>138.456</td>\n",
       "      <td>128.244</td>\n",
       "      <td>123.103</td>\n",
       "      <td>135.151</td>\n",
       "      <td>136.021</td>\n",
       "    </tr>\n",
       "    <tr>\n",
       "      <th>rmse_5</th>\n",
       "      <td>413.153</td>\n",
       "      <td>590.703</td>\n",
       "      <td>590.501</td>\n",
       "      <td>419.743</td>\n",
       "      <td>421.211</td>\n",
       "    </tr>\n",
       "    <tr>\n",
       "      <th>rmse_6</th>\n",
       "      <td>447.291</td>\n",
       "      <td>463.421</td>\n",
       "      <td>461.630</td>\n",
       "      <td>450.736</td>\n",
       "      <td>449.103</td>\n",
       "    </tr>\n",
       "    <tr>\n",
       "      <th>rmse_7</th>\n",
       "      <td>568.169</td>\n",
       "      <td>143.516</td>\n",
       "      <td>138.461</td>\n",
       "      <td>566.424</td>\n",
       "      <td>572.348</td>\n",
       "    </tr>\n",
       "    <tr>\n",
       "      <th>rmse_8</th>\n",
       "      <td>140.921</td>\n",
       "      <td>123.251</td>\n",
       "      <td>119.284</td>\n",
       "      <td>134.056</td>\n",
       "      <td>150.106</td>\n",
       "    </tr>\n",
       "    <tr>\n",
       "      <th>rmse_9</th>\n",
       "      <td>444.477</td>\n",
       "      <td>129.995</td>\n",
       "      <td>123.141</td>\n",
       "      <td>442.413</td>\n",
       "      <td>447.136</td>\n",
       "    </tr>\n",
       "    <tr>\n",
       "      <th>rmse_10</th>\n",
       "      <td>130.011</td>\n",
       "      <td>412.477</td>\n",
       "      <td>412.350</td>\n",
       "      <td>113.691</td>\n",
       "      <td>114.374</td>\n",
       "    </tr>\n",
       "    <tr>\n",
       "      <th>avg_rmse</th>\n",
       "      <td>302.666</td>\n",
       "      <td>287.890</td>\n",
       "      <td>284.975</td>\n",
       "      <td>298.836</td>\n",
       "      <td>303.255</td>\n",
       "    </tr>\n",
       "    <tr>\n",
       "      <th>std_rmse</th>\n",
       "      <td>162.559</td>\n",
       "      <td>184.263</td>\n",
       "      <td>186.345</td>\n",
       "      <td>166.061</td>\n",
       "      <td>164.888</td>\n",
       "    </tr>\n",
       "  </tbody>\n",
       "</table>\n",
       "</div>"
      ],
      "text/plain": [
       "          OLS_LR_all  OLS_LR_36  ElasNet_36  KNN_all  RandFor_all\n",
       "rmse_1       425.931    552.859     552.819  417.219      422.306\n",
       "rmse_2       183.527    210.802     210.359  185.514      184.979\n",
       "rmse_3       134.728    123.628     118.106  123.416      134.961\n",
       "rmse_4       138.456    128.244     123.103  135.151      136.021\n",
       "rmse_5       413.153    590.703     590.501  419.743      421.211\n",
       "rmse_6       447.291    463.421     461.630  450.736      449.103\n",
       "rmse_7       568.169    143.516     138.461  566.424      572.348\n",
       "rmse_8       140.921    123.251     119.284  134.056      150.106\n",
       "rmse_9       444.477    129.995     123.141  442.413      447.136\n",
       "rmse_10      130.011    412.477     412.350  113.691      114.374\n",
       "avg_rmse     302.666    287.890     284.975  298.836      303.255\n",
       "std_rmse     162.559    184.263     186.345  166.061      164.888"
      ]
     },
     "execution_count": 22,
     "metadata": {},
     "output_type": "execute_result"
    }
   ],
   "source": [
    "model_df['KNN_all'] = [417.2192649, 185.51412781, 123.41564852, 135.15090507,\n",
    "                       419.74317281, 450.73621762, 566.42378049, 134.05568276,\n",
    "                       442.4125294, 113.69091099, 298.8362240368504, 166.060974249007]\n",
    "model_df['RandFor_all'] = [422.30621467, 184.97934005, 134.96087479, 136.02076044,\n",
    "                           421.21129004, 449.10284586, 572.34843496, 150.10579094,\n",
    "                           447.13622224, 114.37442543, 303.2546199416678, 164.88827791922378]\n",
    "model_df"
   ]
  },
  {
   "cell_type": "markdown",
   "metadata": {},
   "source": [
    "It looks like we have too many features that can't agree on a good model. In the next chapter we will apply some dimensionality reduction and see if we make progress. "
   ]
  },
  {
   "cell_type": "code",
   "execution_count": 23,
   "metadata": {},
   "outputs": [],
   "source": [
    "X_train_dense.to_csv('data/chicago_airbnb5_Xtd', index=False)\n",
    "model_df.to_csv('data/chicago_airbnb5_models', index=False)"
   ]
  }
 ],
 "metadata": {
  "kernelspec": {
   "display_name": "Python 3",
   "language": "python",
   "name": "python3"
  },
  "language_info": {
   "codemirror_mode": {
    "name": "ipython",
    "version": 3
   },
   "file_extension": ".py",
   "mimetype": "text/x-python",
   "name": "python",
   "nbconvert_exporter": "python",
   "pygments_lexer": "ipython3",
   "version": "3.7.7"
  }
 },
 "nbformat": 4,
 "nbformat_minor": 4
}
