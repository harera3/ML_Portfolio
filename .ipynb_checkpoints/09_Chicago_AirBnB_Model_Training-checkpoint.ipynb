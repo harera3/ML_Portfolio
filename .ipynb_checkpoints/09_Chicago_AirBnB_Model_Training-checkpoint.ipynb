{
 "cells": [
  {
   "cell_type": "markdown",
   "metadata": {},
   "source": [
    "# 9. CHICAGO AIRBNB: MODEL TRAINING\n",
    "---"
   ]
  },
  {
   "cell_type": "markdown",
   "metadata": {},
   "source": [
    "## 1. The Data & Train-Test Split"
   ]
  },
  {
   "cell_type": "code",
   "execution_count": 1,
   "metadata": {},
   "outputs": [
    {
     "data": {
      "text/plain": [
       "((5240, 25), (5240,), (1310, 25), (1310,))"
      ]
     },
     "execution_count": 1,
     "metadata": {},
     "output_type": "execute_result"
    }
   ],
   "source": [
    "import pandas as pd\n",
    "import numpy as np\n",
    "from sklearn.model_selection import train_test_split\n",
    "pd.set_option(\"display.max_columns\", 99)\n",
    "pd.set_option(\"display.max_rows\", 999)\n",
    "pd.set_option('precision', 3)\n",
    "\n",
    "chicago = pd.read_csv('data/chicago_airbnb3')\n",
    "\n",
    "num_cols = ['host_rr', 'host_ar', 'latitude', 'longitude', 'accommodates',\n",
    "            'baths', 'bedrooms', 'beds', 'min_nights', 'max_nights', 'n_reviews', \n",
    "            'rs_rating', 'rs_accuracy', 'rs_cleanliness', 'rs_check_in', \n",
    "            'rs_communication', 'rs_location', 'rs_value', 'reviews_per_month']\n",
    "\n",
    "cat_cols = ['host_rt', 'neighborhood', 'property_type', 'room_type']\n",
    "\n",
    "train, test = train_test_split(chicago, test_size=0.2, random_state=42)\n",
    "\n",
    "X_train = train.drop('price', axis=1)\n",
    "y_train = train['price']\n",
    "\n",
    "X_test = test.drop('price', axis=1)\n",
    "y_test = test['price']\n",
    "\n",
    "X_train.shape, y_train.shape, X_test.shape, y_test.shape"
   ]
  },
  {
   "cell_type": "markdown",
   "metadata": {},
   "source": [
    "## 2. Preprocessing Pipeline"
   ]
  },
  {
   "cell_type": "code",
   "execution_count": 2,
   "metadata": {},
   "outputs": [
    {
     "name": "stdout",
     "output_type": "stream",
     "text": [
      "(5240, 21)\n"
     ]
    }
   ],
   "source": [
    "from sklearn.base import BaseEstimator, TransformerMixin\n",
    "\n",
    "class AttributeAdder(BaseEstimator, TransformerMixin):    \n",
    "    def __init__(self):\n",
    "        self    \n",
    "        \n",
    "    def fit(self, df, y = None):               \n",
    "        return self\n",
    "\n",
    "    def transform(self, df):        \n",
    "        df_ = df.copy()\n",
    "        df_['beds_per_bdrm'] = df_['beds']/df_['bedrooms']\n",
    "        df_['baths_per_bed'] = df_['baths']/df_['beds']\n",
    "        df_.replace(np.inf, 0, inplace=True)\n",
    "        df_.replace(np.nan, 0, inplace=True)\n",
    "        return df_\n",
    "    \n",
    "adder = AttributeAdder()\n",
    "X_train_num = adder.fit_transform(train[num_cols])\n",
    "print(X_train_num.shape)"
   ]
  },
  {
   "cell_type": "code",
   "execution_count": 3,
   "metadata": {},
   "outputs": [
    {
     "data": {
      "text/plain": [
       "<5240x93 sparse matrix of type '<class 'numpy.float64'>'\n",
       "\twith 131000 stored elements in Compressed Sparse Row format>"
      ]
     },
     "execution_count": 3,
     "metadata": {},
     "output_type": "execute_result"
    }
   ],
   "source": [
    "from sklearn.pipeline import Pipeline\n",
    "from sklearn.preprocessing import StandardScaler\n",
    "from sklearn.preprocessing import OneHotEncoder\n",
    "from sklearn.compose import ColumnTransformer\n",
    "\n",
    "num_pipe = Pipeline(steps = [\n",
    "    ('add_features', AttributeAdder()),\n",
    "    ('std_scaling', StandardScaler())\n",
    "])\n",
    "full_pipe = ColumnTransformer(\n",
    "    transformers=[\n",
    "        ('num_prep', num_pipe, num_cols),\n",
    "        ('cat_prep', OneHotEncoder(), cat_cols)\n",
    "    ])\n",
    "\n",
    "X_train = full_pipe.fit_transform(X_train)\n",
    "X_train"
   ]
  },
  {
   "cell_type": "markdown",
   "metadata": {},
   "source": [
    "So we have a sparse matrix (due to OneHotEncoding). We also have 93 features which is the same number that we got in the previous chapter when we used `get_dummies`. \n",
    "\n",
    "## 3. HTML Representation of Pipeline"
   ]
  },
  {
   "cell_type": "code",
   "execution_count": 4,
   "metadata": {},
   "outputs": [
    {
     "data": {
      "text/html": [
       "<style>div.sk-top-container {color: black;background-color: white;}div.sk-toggleable {background-color: white;}label.sk-toggleable__label {cursor: pointer;display: block;width: 100%;margin-bottom: 0;padding: 0.2em 0.3em;box-sizing: border-box;text-align: center;}div.sk-toggleable__content {max-height: 0;max-width: 0;overflow: hidden;text-align: left;background-color: #f0f8ff;}div.sk-toggleable__content pre {margin: 0.2em;color: black;border-radius: 0.25em;background-color: #f0f8ff;}input.sk-toggleable__control:checked~div.sk-toggleable__content {max-height: 200px;max-width: 100%;overflow: auto;}div.sk-estimator input.sk-toggleable__control:checked~label.sk-toggleable__label {background-color: #d4ebff;}div.sk-label input.sk-toggleable__control:checked~label.sk-toggleable__label {background-color: #d4ebff;}input.sk-hidden--visually {border: 0;clip: rect(1px 1px 1px 1px);clip: rect(1px, 1px, 1px, 1px);height: 1px;margin: -1px;overflow: hidden;padding: 0;position: absolute;width: 1px;}div.sk-estimator {font-family: monospace;background-color: #f0f8ff;margin: 0.25em 0.25em;border: 1px dotted black;border-radius: 0.25em;box-sizing: border-box;}div.sk-estimator:hover {background-color: #d4ebff;}div.sk-parallel-item::after {content: \"\";width: 100%;border-bottom: 1px solid gray;flex-grow: 1;}div.sk-label:hover label.sk-toggleable__label {background-color: #d4ebff;}div.sk-serial::before {content: \"\";position: absolute;border-left: 1px solid gray;box-sizing: border-box;top: 2em;bottom: 0;left: 50%;}div.sk-serial {display: flex;flex-direction: column;align-items: center;background-color: white;}div.sk-item {z-index: 1;}div.sk-parallel {display: flex;align-items: stretch;justify-content: center;background-color: white;}div.sk-parallel-item {display: flex;flex-direction: column;position: relative;background-color: white;}div.sk-parallel-item:first-child::after {align-self: flex-end;width: 50%;}div.sk-parallel-item:last-child::after {align-self: flex-start;width: 50%;}div.sk-parallel-item:only-child::after {width: 0;}div.sk-dashed-wrapped {border: 1px dashed gray;margin: 0.2em;box-sizing: border-box;padding-bottom: 0.1em;background-color: white;position: relative;}div.sk-label label {font-family: monospace;font-weight: bold;background-color: white;display: inline-block;line-height: 1.2em;}div.sk-label-container {position: relative;z-index: 2;text-align: center;}div.sk-container {display: inline-block;position: relative;}</style><div class=\"sk-top-container\"><div class=\"sk-container\"><div class=\"sk-item sk-dashed-wrapped\"><div class=\"sk-label-container\"><div class=\"sk-label sk-toggleable\"><input class=\"sk-toggleable__control sk-hidden--visually\" id=\"b5759cec-1cd2-4386-b0f7-d597b16b4e18\" type=\"checkbox\" ><label class=\"sk-toggleable__label\" for=\"b5759cec-1cd2-4386-b0f7-d597b16b4e18\">ColumnTransformer</label><div class=\"sk-toggleable__content\"><pre>ColumnTransformer(transformers=[('num_prep',\n",
       "                                 Pipeline(steps=[('add_features',\n",
       "                                                  AttributeAdder()),\n",
       "                                                 ('std_scaling',\n",
       "                                                  StandardScaler())]),\n",
       "                                 ['host_rr', 'host_ar', 'latitude', 'longitude',\n",
       "                                  'accommodates', 'baths', 'bedrooms', 'beds',\n",
       "                                  'min_nights', 'max_nights', 'n_reviews',\n",
       "                                  'rs_rating', 'rs_accuracy', 'rs_cleanliness',\n",
       "                                  'rs_check_in', 'rs_communication',\n",
       "                                  'rs_location', 'rs_value',\n",
       "                                  'reviews_per_month']),\n",
       "                                ('cat_prep', OneHotEncoder(),\n",
       "                                 ['host_rt', 'neighborhood', 'property_type',\n",
       "                                  'room_type'])])</pre></div></div></div><div class=\"sk-parallel\"><div class=\"sk-parallel-item\"><div class=\"sk-item\"><div class=\"sk-label-container\"><div class=\"sk-label sk-toggleable\"><input class=\"sk-toggleable__control sk-hidden--visually\" id=\"994cedc3-1a76-4950-94c1-d79280c515c4\" type=\"checkbox\" ><label class=\"sk-toggleable__label\" for=\"994cedc3-1a76-4950-94c1-d79280c515c4\">num_prep</label><div class=\"sk-toggleable__content\"><pre>['host_rr', 'host_ar', 'latitude', 'longitude', 'accommodates', 'baths', 'bedrooms', 'beds', 'min_nights', 'max_nights', 'n_reviews', 'rs_rating', 'rs_accuracy', 'rs_cleanliness', 'rs_check_in', 'rs_communication', 'rs_location', 'rs_value', 'reviews_per_month']</pre></div></div></div><div class=\"sk-serial\"><div class=\"sk-item\"><div class=\"sk-serial\"><div class=\"sk-item\"><div class=\"sk-estimator sk-toggleable\"><input class=\"sk-toggleable__control sk-hidden--visually\" id=\"93de8960-d63d-4aee-bdc5-62631b3ba3fc\" type=\"checkbox\" ><label class=\"sk-toggleable__label\" for=\"93de8960-d63d-4aee-bdc5-62631b3ba3fc\">AttributeAdder</label><div class=\"sk-toggleable__content\"><pre>AttributeAdder()</pre></div></div></div><div class=\"sk-item\"><div class=\"sk-estimator sk-toggleable\"><input class=\"sk-toggleable__control sk-hidden--visually\" id=\"e43d4ee5-8f0b-4a81-941f-57e81b45e851\" type=\"checkbox\" ><label class=\"sk-toggleable__label\" for=\"e43d4ee5-8f0b-4a81-941f-57e81b45e851\">StandardScaler</label><div class=\"sk-toggleable__content\"><pre>StandardScaler()</pre></div></div></div></div></div></div></div></div><div class=\"sk-parallel-item\"><div class=\"sk-item\"><div class=\"sk-label-container\"><div class=\"sk-label sk-toggleable\"><input class=\"sk-toggleable__control sk-hidden--visually\" id=\"ccbf97a7-d89a-4e76-b1ff-635687cd5b39\" type=\"checkbox\" ><label class=\"sk-toggleable__label\" for=\"ccbf97a7-d89a-4e76-b1ff-635687cd5b39\">cat_prep</label><div class=\"sk-toggleable__content\"><pre>['host_rt', 'neighborhood', 'property_type', 'room_type']</pre></div></div></div><div class=\"sk-serial\"><div class=\"sk-item\"><div class=\"sk-estimator sk-toggleable\"><input class=\"sk-toggleable__control sk-hidden--visually\" id=\"9719e8cd-e8be-490b-a24a-e9865c06a741\" type=\"checkbox\" ><label class=\"sk-toggleable__label\" for=\"9719e8cd-e8be-490b-a24a-e9865c06a741\">OneHotEncoder</label><div class=\"sk-toggleable__content\"><pre>OneHotEncoder()</pre></div></div></div></div></div></div></div></div></div></div>"
      ],
      "text/plain": [
       "ColumnTransformer(transformers=[('num_prep',\n",
       "                                 Pipeline(steps=[('add_features',\n",
       "                                                  AttributeAdder()),\n",
       "                                                 ('std_scaling',\n",
       "                                                  StandardScaler())]),\n",
       "                                 ['host_rr', 'host_ar', 'latitude', 'longitude',\n",
       "                                  'accommodates', 'baths', 'bedrooms', 'beds',\n",
       "                                  'min_nights', 'max_nights', 'n_reviews',\n",
       "                                  'rs_rating', 'rs_accuracy', 'rs_cleanliness',\n",
       "                                  'rs_check_in', 'rs_communication',\n",
       "                                  'rs_location', 'rs_value',\n",
       "                                  'reviews_per_month']),\n",
       "                                ('cat_prep', OneHotEncoder(),\n",
       "                                 ['host_rt', 'neighborhood', 'property_type',\n",
       "                                  'room_type'])])"
      ]
     },
     "execution_count": 4,
     "metadata": {},
     "output_type": "execute_result"
    }
   ],
   "source": [
    "from sklearn import set_config\n",
    "set_config(display='diagram')\n",
    "\n",
    "full_pipe"
   ]
  },
  {
   "cell_type": "markdown",
   "metadata": {},
   "source": [
    "## 4. Training a Linear Regression Model"
   ]
  },
  {
   "cell_type": "code",
   "execution_count": 5,
   "metadata": {},
   "outputs": [
    {
     "name": "stdout",
     "output_type": "stream",
     "text": [
      "RMSE: [425.90985564 183.13416217 132.82286709 138.04809005 413.16002808\n",
      " 447.29563164 568.07607338 140.83416837 444.52095323 114.44626957]\n",
      "Avg_RMSE: 300.8248099205346\n",
      "Std_RMSE: 164.52870829133312\n"
     ]
    }
   ],
   "source": [
    "from sklearn.linear_model import LinearRegression\n",
    "from sklearn.model_selection import cross_val_score\n",
    "\n",
    "ols = LinearRegression()\n",
    "ols_mse = cross_val_score(ols, X_train, y_train, cv=10, n_jobs=-1, \n",
    "                             scoring=\"neg_mean_squared_error\") \n",
    "ols_rmse = np.sqrt(np.absolute(ols_mse))\n",
    "print('RMSE:', ols_rmse)\n",
    "print('Avg_RMSE:', ols_rmse.mean())\n",
    "print('Std_RMSE:', ols_rmse.std())"
   ]
  },
  {
   "cell_type": "code",
   "execution_count": 6,
   "metadata": {},
   "outputs": [
    {
     "name": "stdout",
     "output_type": "stream",
     "text": [
      "Price_Mean 156.58548282442754\n",
      "Price_Std 360.2657343128557\n"
     ]
    }
   ],
   "source": [
    "print('Price_Mean', y_train.mean())\n",
    "print('Price_Std', y_train.std())"
   ]
  },
  {
   "cell_type": "markdown",
   "metadata": {},
   "source": [
    "As expected the model performed horrendously as we can see that the actual mean price is almost half of the error. \n",
    "\n",
    "## 5. Tracking Model Performance"
   ]
  },
  {
   "cell_type": "code",
   "execution_count": 7,
   "metadata": {},
   "outputs": [
    {
     "data": {
      "text/html": [
       "<div>\n",
       "<style scoped>\n",
       "    .dataframe tbody tr th:only-of-type {\n",
       "        vertical-align: middle;\n",
       "    }\n",
       "\n",
       "    .dataframe tbody tr th {\n",
       "        vertical-align: top;\n",
       "    }\n",
       "\n",
       "    .dataframe thead th {\n",
       "        text-align: right;\n",
       "    }\n",
       "</style>\n",
       "<table border=\"1\" class=\"dataframe\">\n",
       "  <thead>\n",
       "    <tr style=\"text-align: right;\">\n",
       "      <th></th>\n",
       "      <th>OLS_LR_all</th>\n",
       "    </tr>\n",
       "  </thead>\n",
       "  <tbody>\n",
       "    <tr>\n",
       "      <th>rmse_1</th>\n",
       "      <td>425.931</td>\n",
       "    </tr>\n",
       "    <tr>\n",
       "      <th>rmse_2</th>\n",
       "      <td>183.527</td>\n",
       "    </tr>\n",
       "    <tr>\n",
       "      <th>rmse_3</th>\n",
       "      <td>134.728</td>\n",
       "    </tr>\n",
       "    <tr>\n",
       "      <th>rmse_4</th>\n",
       "      <td>138.456</td>\n",
       "    </tr>\n",
       "    <tr>\n",
       "      <th>rmse_5</th>\n",
       "      <td>413.153</td>\n",
       "    </tr>\n",
       "    <tr>\n",
       "      <th>rmse_6</th>\n",
       "      <td>447.291</td>\n",
       "    </tr>\n",
       "    <tr>\n",
       "      <th>rmse_7</th>\n",
       "      <td>568.169</td>\n",
       "    </tr>\n",
       "    <tr>\n",
       "      <th>rmse_8</th>\n",
       "      <td>140.921</td>\n",
       "    </tr>\n",
       "    <tr>\n",
       "      <th>rmse_9</th>\n",
       "      <td>444.477</td>\n",
       "    </tr>\n",
       "    <tr>\n",
       "      <th>rmse_10</th>\n",
       "      <td>130.011</td>\n",
       "    </tr>\n",
       "    <tr>\n",
       "      <th>avg_rmse</th>\n",
       "      <td>302.666</td>\n",
       "    </tr>\n",
       "    <tr>\n",
       "      <th>std_rmse</th>\n",
       "      <td>162.559</td>\n",
       "    </tr>\n",
       "  </tbody>\n",
       "</table>\n",
       "</div>"
      ],
      "text/plain": [
       "          OLS_LR_all\n",
       "rmse_1       425.931\n",
       "rmse_2       183.527\n",
       "rmse_3       134.728\n",
       "rmse_4       138.456\n",
       "rmse_5       413.153\n",
       "rmse_6       447.291\n",
       "rmse_7       568.169\n",
       "rmse_8       140.921\n",
       "rmse_9       444.477\n",
       "rmse_10      130.011\n",
       "avg_rmse     302.666\n",
       "std_rmse     162.559"
      ]
     },
     "execution_count": 7,
     "metadata": {},
     "output_type": "execute_result"
    }
   ],
   "source": [
    "model_index = ['rmse_1','rmse_2', 'rmse_3', 'rmse_4', 'rmse_5', 'rmse_6', 'rmse_7',\n",
    "             'rmse_8', 'rmse_9', 'rmse_10', 'avg_rmse', 'std_rmse']\n",
    "model_df = pd.DataFrame(index=model_index)\n",
    "model_df['OLS_LR_all'] = [425.93108859, 183.52740766, 134.72761984, 138.45581251, 413.15291056,\n",
    "               447.2906282,  568.16886068, 140.92118982, 444.47672801, 130.01073927, \n",
    "               302.6662985151705, 162.55875437222156]\n",
    "model_df"
   ]
  },
  {
   "cell_type": "markdown",
   "metadata": {},
   "source": [
    "## 6. Training an ElasticNetCV Model"
   ]
  },
  {
   "cell_type": "code",
   "execution_count": 8,
   "metadata": {},
   "outputs": [
    {
     "name": "stdout",
     "output_type": "stream",
     "text": [
      "ElasticNet_n_iter: 47\n",
      "ElasticNet_l1_ratio: 0.7\n",
      "ElasticNet_alpha: 0.1\n"
     ]
    }
   ],
   "source": [
    "from sklearn.linear_model import ElasticNetCV\n",
    "\n",
    "ratio = [.1, .5, .7, .8, .9, .95, .99, 1]\n",
    "alpha = np.logspace(-1, .5, 8)\n",
    "elast_cv = ElasticNetCV(l1_ratio=ratio, alphas=alpha, \n",
    "                        cv=10, n_jobs=-1, max_iter=10000)\n",
    "elast_cv.fit(X_train, y_train)\n",
    "print('ElasticNet_n_iter:', elast_cv.n_iter_)\n",
    "print('ElasticNet_l1_ratio:', elast_cv.l1_ratio_)\n",
    "print('ElasticNet_alpha:', elast_cv.alpha_)"
   ]
  },
  {
   "cell_type": "code",
   "execution_count": 9,
   "metadata": {},
   "outputs": [
    {
     "data": {
      "text/plain": [
       "array([0.1       , 0.16378937, 0.26826958, 0.43939706, 0.71968567,\n",
       "       1.17876863, 1.93069773, 3.16227766])"
      ]
     },
     "execution_count": 9,
     "metadata": {},
     "output_type": "execute_result"
    }
   ],
   "source": [
    "np.logspace(-1, .5, 8)"
   ]
  },
  {
   "cell_type": "code",
   "execution_count": 10,
   "metadata": {},
   "outputs": [
    {
     "data": {
      "text/plain": [
       "array([-17.12231026,  -0.20179018,  19.98699879,  21.76772285,\n",
       "        31.55973695,  48.16892368,   6.39289556,  43.93935529,\n",
       "         5.03037282,   0.93000469,  -4.58594982,   3.87142609,\n",
       "         4.5215717 ,   9.49681535,  -3.19122725,  -1.41433975,\n",
       "         8.33176623, -10.55544843, -11.39481826, -32.58763622,\n",
       "        -9.25227934, -16.07564945,   6.30660271,   5.9967645 ,\n",
       "       -21.30164234,  22.74019748,  -8.62751487,  -4.14619317,\n",
       "         0.        ,   0.        ,  -3.83488467,   0.        ,\n",
       "       -12.47996237,   0.        ,  -3.12060644,  -0.13432356,\n",
       "        -2.69603494,   0.        ,  -0.10290957, -18.33660506,\n",
       "         0.        ,  -0.        ,   0.        ,  -1.7584151 ,\n",
       "        -0.15589987,  -0.        ,  -1.73694986,  -0.26953454,\n",
       "         0.        ,  -0.        ,  -2.83536451,  48.3854423 ,\n",
       "         6.79810096,  -6.96642694,   1.7403675 ,  42.4509659 ,\n",
       "        -2.32110919,  -0.        ,  37.72315766,  -0.        ,\n",
       "         8.94642573,  -2.22379356,  -0.30234367,  -2.95628478,\n",
       "        -4.59209937,   0.        ,   5.11487668,   6.0190922 ,\n",
       "         0.08691848,  -0.        , -21.02716454,   0.28420501,\n",
       "         0.        , -10.10084283,  -2.44793636,  -0.        ,\n",
       "        -0.44744808, -15.17757782,  27.79506507, -20.07918423,\n",
       "       -24.53359313,  -5.10148257, -28.97075204,  68.15194695,\n",
       "        11.11301269,  15.72706682,  -2.53768379, -12.99710979,\n",
       "       -13.85124479, -14.54793175,  19.71019198,   3.57152325,\n",
       "        -8.73407651])"
      ]
     },
     "execution_count": 10,
     "metadata": {},
     "output_type": "execute_result"
    }
   ],
   "source": [
    "elast_cv.coef_"
   ]
  },
  {
   "cell_type": "markdown",
   "metadata": {},
   "source": [
    "## 7. ElasticNet Feature Importances\n",
    "Let's get the names of the columns from previous chapter when we used `get_dummies`"
   ]
  },
  {
   "cell_type": "code",
   "execution_count": 11,
   "metadata": {},
   "outputs": [
    {
     "data": {
      "text/plain": [
       "93"
      ]
     },
     "execution_count": 11,
     "metadata": {},
     "output_type": "execute_result"
    }
   ],
   "source": [
    "chic_cols = pd.read_csv('data/chicago_airbnb3_Xtd')\n",
    "X_train_cols = chic_cols.columns\n",
    "len(X_train_cols)"
   ]
  },
  {
   "cell_type": "code",
   "execution_count": 12,
   "metadata": {},
   "outputs": [
    {
     "name": "stdout",
     "output_type": "stream",
     "text": [
      "(93, 3)\n"
     ]
    },
    {
     "data": {
      "text/html": [
       "<div>\n",
       "<style scoped>\n",
       "    .dataframe tbody tr th:only-of-type {\n",
       "        vertical-align: middle;\n",
       "    }\n",
       "\n",
       "    .dataframe tbody tr th {\n",
       "        vertical-align: top;\n",
       "    }\n",
       "\n",
       "    .dataframe thead th {\n",
       "        text-align: right;\n",
       "    }\n",
       "</style>\n",
       "<table border=\"1\" class=\"dataframe\">\n",
       "  <thead>\n",
       "    <tr style=\"text-align: right;\">\n",
       "      <th></th>\n",
       "      <th>feature</th>\n",
       "      <th>coef</th>\n",
       "      <th>abs_coef</th>\n",
       "    </tr>\n",
       "  </thead>\n",
       "  <tbody>\n",
       "    <tr>\n",
       "      <th>83</th>\n",
       "      <td>property_type_hotel</td>\n",
       "      <td>68.152</td>\n",
       "      <td>68.152</td>\n",
       "    </tr>\n",
       "    <tr>\n",
       "      <th>51</th>\n",
       "      <td>neighborhood_Lake View</td>\n",
       "      <td>48.385</td>\n",
       "      <td>48.385</td>\n",
       "    </tr>\n",
       "    <tr>\n",
       "      <th>5</th>\n",
       "      <td>accommodates</td>\n",
       "      <td>48.169</td>\n",
       "      <td>48.169</td>\n",
       "    </tr>\n",
       "    <tr>\n",
       "      <th>7</th>\n",
       "      <td>bedrooms</td>\n",
       "      <td>43.939</td>\n",
       "      <td>43.939</td>\n",
       "    </tr>\n",
       "    <tr>\n",
       "      <th>55</th>\n",
       "      <td>neighborhood_Loop</td>\n",
       "      <td>42.451</td>\n",
       "      <td>42.451</td>\n",
       "    </tr>\n",
       "    <tr>\n",
       "      <th>58</th>\n",
       "      <td>neighborhood_Near North Side</td>\n",
       "      <td>37.723</td>\n",
       "      <td>37.723</td>\n",
       "    </tr>\n",
       "    <tr>\n",
       "      <th>19</th>\n",
       "      <td>instant_bookable</td>\n",
       "      <td>-32.588</td>\n",
       "      <td>32.588</td>\n",
       "    </tr>\n",
       "    <tr>\n",
       "      <th>4</th>\n",
       "      <td>longitude</td>\n",
       "      <td>31.560</td>\n",
       "      <td>31.560</td>\n",
       "    </tr>\n",
       "    <tr>\n",
       "      <th>82</th>\n",
       "      <td>property_type_condomium</td>\n",
       "      <td>-28.971</td>\n",
       "      <td>28.971</td>\n",
       "    </tr>\n",
       "    <tr>\n",
       "      <th>78</th>\n",
       "      <td>neighborhood_West Town</td>\n",
       "      <td>27.795</td>\n",
       "      <td>27.795</td>\n",
       "    </tr>\n",
       "    <tr>\n",
       "      <th>80</th>\n",
       "      <td>property_type_apartment</td>\n",
       "      <td>-24.534</td>\n",
       "      <td>24.534</td>\n",
       "    </tr>\n",
       "    <tr>\n",
       "      <th>25</th>\n",
       "      <td>host_rt_Missing</td>\n",
       "      <td>22.740</td>\n",
       "      <td>22.740</td>\n",
       "    </tr>\n",
       "    <tr>\n",
       "      <th>3</th>\n",
       "      <td>latitude</td>\n",
       "      <td>21.768</td>\n",
       "      <td>21.768</td>\n",
       "    </tr>\n",
       "    <tr>\n",
       "      <th>24</th>\n",
       "      <td>host_rt_72H</td>\n",
       "      <td>-21.302</td>\n",
       "      <td>21.302</td>\n",
       "    </tr>\n",
       "    <tr>\n",
       "      <th>70</th>\n",
       "      <td>neighborhood_Rogers Park</td>\n",
       "      <td>-21.027</td>\n",
       "      <td>21.027</td>\n",
       "    </tr>\n",
       "    <tr>\n",
       "      <th>79</th>\n",
       "      <td>neighborhood_Woodlawn</td>\n",
       "      <td>-20.079</td>\n",
       "      <td>20.079</td>\n",
       "    </tr>\n",
       "    <tr>\n",
       "      <th>2</th>\n",
       "      <td>superhost</td>\n",
       "      <td>19.987</td>\n",
       "      <td>19.987</td>\n",
       "    </tr>\n",
       "    <tr>\n",
       "      <th>90</th>\n",
       "      <td>room_type_Hotel room</td>\n",
       "      <td>19.710</td>\n",
       "      <td>19.710</td>\n",
       "    </tr>\n",
       "    <tr>\n",
       "      <th>39</th>\n",
       "      <td>neighborhood_Edgewater</td>\n",
       "      <td>-18.337</td>\n",
       "      <td>18.337</td>\n",
       "    </tr>\n",
       "    <tr>\n",
       "      <th>0</th>\n",
       "      <td>host_rr</td>\n",
       "      <td>-17.122</td>\n",
       "      <td>17.122</td>\n",
       "    </tr>\n",
       "  </tbody>\n",
       "</table>\n",
       "</div>"
      ],
      "text/plain": [
       "                         feature    coef  abs_coef\n",
       "83           property_type_hotel  68.152    68.152\n",
       "51        neighborhood_Lake View  48.385    48.385\n",
       "5                   accommodates  48.169    48.169\n",
       "7                       bedrooms  43.939    43.939\n",
       "55             neighborhood_Loop  42.451    42.451\n",
       "58  neighborhood_Near North Side  37.723    37.723\n",
       "19              instant_bookable -32.588    32.588\n",
       "4                      longitude  31.560    31.560\n",
       "82       property_type_condomium -28.971    28.971\n",
       "78        neighborhood_West Town  27.795    27.795\n",
       "80       property_type_apartment -24.534    24.534\n",
       "25               host_rt_Missing  22.740    22.740\n",
       "3                       latitude  21.768    21.768\n",
       "24                   host_rt_72H -21.302    21.302\n",
       "70      neighborhood_Rogers Park -21.027    21.027\n",
       "79         neighborhood_Woodlawn -20.079    20.079\n",
       "2                      superhost  19.987    19.987\n",
       "90          room_type_Hotel room  19.710    19.710\n",
       "39        neighborhood_Edgewater -18.337    18.337\n",
       "0                        host_rr -17.122    17.122"
      ]
     },
     "execution_count": 12,
     "metadata": {},
     "output_type": "execute_result"
    }
   ],
   "source": [
    "features_df = pd.DataFrame()\n",
    "features_df['feature'] = X_train_cols\n",
    "features_df['coef'] = elast_cv.coef_\n",
    "features_df['abs_coef'] = features_df['coef'].abs()\n",
    "features_df = features_df.sort_values('abs_coef', \n",
    "                                      ascending=False)\n",
    "print(features_df.shape)\n",
    "non_zero_features = features_df[features_df['coef']!=0]\n",
    "non_zero_features.head(20)"
   ]
  },
  {
   "cell_type": "markdown",
   "metadata": {},
   "source": [
    "## 8. Visualizing Feature Importances\n",
    "\n",
    "Let's plot the coefficients from `ElasticNetCV` to better see which ones to choose for turning our algorithms"
   ]
  },
  {
   "cell_type": "code",
   "execution_count": 13,
   "metadata": {},
   "outputs": [
    {
     "data": {
      "image/png": "[encoded data removed]",
      "text/plain": [
       "<Figure size 864x1152 with 1 Axes>"
      ]
     },
     "metadata": {
      "needs_background": "light"
     },
     "output_type": "display_data"
    }
   ],
   "source": [
    "import matplotlib.pyplot as plt\n",
    "import seaborn as sns\n",
    "\n",
    "plt.figure(figsize=(12,16))\n",
    "ax = sns.barplot(x=\"coef\", y=\"feature\", data=non_zero_features)"
   ]
  },
  {
   "cell_type": "markdown",
   "metadata": {},
   "source": [
    "## 9. Retraining OLS-Linear Model Using Best 36 Features"
   ]
  },
  {
   "cell_type": "code",
   "execution_count": 14,
   "metadata": {},
   "outputs": [
    {
     "name": "stdout",
     "output_type": "stream",
     "text": [
      "(5240, 36)\n"
     ]
    },
    {
     "data": {
      "text/html": [
       "<div>\n",
       "<style scoped>\n",
       "    .dataframe tbody tr th:only-of-type {\n",
       "        vertical-align: middle;\n",
       "    }\n",
       "\n",
       "    .dataframe tbody tr th {\n",
       "        vertical-align: top;\n",
       "    }\n",
       "\n",
       "    .dataframe thead th {\n",
       "        text-align: right;\n",
       "    }\n",
       "</style>\n",
       "<table border=\"1\" class=\"dataframe\">\n",
       "  <thead>\n",
       "    <tr style=\"text-align: right;\">\n",
       "      <th></th>\n",
       "      <th>property_type_hotel</th>\n",
       "      <th>neighborhood_Lake View</th>\n",
       "      <th>accommodates</th>\n",
       "      <th>bedrooms</th>\n",
       "      <th>neighborhood_Loop</th>\n",
       "      <th>neighborhood_Near North Side</th>\n",
       "      <th>instant_bookable</th>\n",
       "      <th>longitude</th>\n",
       "      <th>property_type_condomium</th>\n",
       "      <th>neighborhood_West Town</th>\n",
       "      <th>property_type_apartment</th>\n",
       "      <th>host_rt_Missing</th>\n",
       "      <th>latitude</th>\n",
       "      <th>host_rt_72H</th>\n",
       "      <th>neighborhood_Rogers Park</th>\n",
       "      <th>neighborhood_Woodlawn</th>\n",
       "      <th>superhost</th>\n",
       "      <th>room_type_Hotel room</th>\n",
       "      <th>neighborhood_Edgewater</th>\n",
       "      <th>host_rr</th>\n",
       "      <th>host_rt_1H</th>\n",
       "      <th>property_type_loft</th>\n",
       "      <th>neighborhood_West Ridge</th>\n",
       "      <th>room_type_Entire place</th>\n",
       "      <th>property_type_townhouse</th>\n",
       "      <th>property_type_suite</th>\n",
       "      <th>neighborhood_Bridgeport</th>\n",
       "      <th>rs_value</th>\n",
       "      <th>property_type_house</th>\n",
       "      <th>rs_location</th>\n",
       "      <th>neighborhood_South Shore</th>\n",
       "      <th>rs_accuracy</th>\n",
       "      <th>reviews_per_month</th>\n",
       "      <th>neighborhood_Near West Side</th>\n",
       "      <th>room_type_Shared room</th>\n",
       "      <th>neighborhood_Albany Park</th>\n",
       "    </tr>\n",
       "  </thead>\n",
       "  <tbody>\n",
       "    <tr>\n",
       "      <th>0</th>\n",
       "      <td>0.0</td>\n",
       "      <td>1.0</td>\n",
       "      <td>-0.320</td>\n",
       "      <td>1.049</td>\n",
       "      <td>0.0</td>\n",
       "      <td>0.0</td>\n",
       "      <td>-0.374</td>\n",
       "      <td>1.354</td>\n",
       "      <td>0.0</td>\n",
       "      <td>0.0</td>\n",
       "      <td>1.0</td>\n",
       "      <td>0.0</td>\n",
       "      <td>-0.075</td>\n",
       "      <td>0.0</td>\n",
       "      <td>0.0</td>\n",
       "      <td>0.0</td>\n",
       "      <td>0.967</td>\n",
       "      <td>0.0</td>\n",
       "      <td>0.0</td>\n",
       "      <td>0.325</td>\n",
       "      <td>1.0</td>\n",
       "      <td>0.0</td>\n",
       "      <td>0.0</td>\n",
       "      <td>1.0</td>\n",
       "      <td>0.0</td>\n",
       "      <td>0.0</td>\n",
       "      <td>0.0</td>\n",
       "      <td>1.875</td>\n",
       "      <td>0.0</td>\n",
       "      <td>-0.771</td>\n",
       "      <td>0.0</td>\n",
       "      <td>-0.822</td>\n",
       "      <td>-1.167</td>\n",
       "      <td>0.0</td>\n",
       "      <td>0.0</td>\n",
       "      <td>0.0</td>\n",
       "    </tr>\n",
       "    <tr>\n",
       "      <th>1</th>\n",
       "      <td>0.0</td>\n",
       "      <td>0.0</td>\n",
       "      <td>-0.320</td>\n",
       "      <td>0.489</td>\n",
       "      <td>0.0</td>\n",
       "      <td>0.0</td>\n",
       "      <td>0.451</td>\n",
       "      <td>0.650</td>\n",
       "      <td>0.0</td>\n",
       "      <td>0.0</td>\n",
       "      <td>0.0</td>\n",
       "      <td>0.0</td>\n",
       "      <td>-0.623</td>\n",
       "      <td>0.0</td>\n",
       "      <td>0.0</td>\n",
       "      <td>0.0</td>\n",
       "      <td>0.343</td>\n",
       "      <td>0.0</td>\n",
       "      <td>0.0</td>\n",
       "      <td>0.325</td>\n",
       "      <td>0.0</td>\n",
       "      <td>0.0</td>\n",
       "      <td>0.0</td>\n",
       "      <td>1.0</td>\n",
       "      <td>0.0</td>\n",
       "      <td>0.0</td>\n",
       "      <td>0.0</td>\n",
       "      <td>2.158</td>\n",
       "      <td>1.0</td>\n",
       "      <td>0.526</td>\n",
       "      <td>0.0</td>\n",
       "      <td>0.461</td>\n",
       "      <td>-0.943</td>\n",
       "      <td>0.0</td>\n",
       "      <td>0.0</td>\n",
       "      <td>0.0</td>\n",
       "    </tr>\n",
       "    <tr>\n",
       "      <th>2</th>\n",
       "      <td>0.0</td>\n",
       "      <td>0.0</td>\n",
       "      <td>-0.320</td>\n",
       "      <td>-0.629</td>\n",
       "      <td>0.0</td>\n",
       "      <td>0.0</td>\n",
       "      <td>-0.374</td>\n",
       "      <td>-0.758</td>\n",
       "      <td>0.0</td>\n",
       "      <td>0.0</td>\n",
       "      <td>1.0</td>\n",
       "      <td>1.0</td>\n",
       "      <td>-2.329</td>\n",
       "      <td>0.0</td>\n",
       "      <td>0.0</td>\n",
       "      <td>0.0</td>\n",
       "      <td>0.868</td>\n",
       "      <td>0.0</td>\n",
       "      <td>0.0</td>\n",
       "      <td>0.325</td>\n",
       "      <td>0.0</td>\n",
       "      <td>0.0</td>\n",
       "      <td>0.0</td>\n",
       "      <td>1.0</td>\n",
       "      <td>0.0</td>\n",
       "      <td>0.0</td>\n",
       "      <td>0.0</td>\n",
       "      <td>0.129</td>\n",
       "      <td>0.0</td>\n",
       "      <td>0.526</td>\n",
       "      <td>0.0</td>\n",
       "      <td>0.461</td>\n",
       "      <td>0.845</td>\n",
       "      <td>0.0</td>\n",
       "      <td>0.0</td>\n",
       "      <td>0.0</td>\n",
       "    </tr>\n",
       "    <tr>\n",
       "      <th>3</th>\n",
       "      <td>0.0</td>\n",
       "      <td>0.0</td>\n",
       "      <td>-0.643</td>\n",
       "      <td>-0.070</td>\n",
       "      <td>0.0</td>\n",
       "      <td>0.0</td>\n",
       "      <td>1.275</td>\n",
       "      <td>-0.758</td>\n",
       "      <td>0.0</td>\n",
       "      <td>0.0</td>\n",
       "      <td>0.0</td>\n",
       "      <td>0.0</td>\n",
       "      <td>-0.087</td>\n",
       "      <td>0.0</td>\n",
       "      <td>1.0</td>\n",
       "      <td>0.0</td>\n",
       "      <td>1.794</td>\n",
       "      <td>0.0</td>\n",
       "      <td>0.0</td>\n",
       "      <td>0.325</td>\n",
       "      <td>0.0</td>\n",
       "      <td>0.0</td>\n",
       "      <td>0.0</td>\n",
       "      <td>0.0</td>\n",
       "      <td>0.0</td>\n",
       "      <td>0.0</td>\n",
       "      <td>0.0</td>\n",
       "      <td>0.573</td>\n",
       "      <td>1.0</td>\n",
       "      <td>0.526</td>\n",
       "      <td>0.0</td>\n",
       "      <td>0.461</td>\n",
       "      <td>-0.831</td>\n",
       "      <td>0.0</td>\n",
       "      <td>0.0</td>\n",
       "      <td>0.0</td>\n",
       "    </tr>\n",
       "    <tr>\n",
       "      <th>4</th>\n",
       "      <td>0.0</td>\n",
       "      <td>0.0</td>\n",
       "      <td>-0.320</td>\n",
       "      <td>-0.629</td>\n",
       "      <td>0.0</td>\n",
       "      <td>0.0</td>\n",
       "      <td>-0.374</td>\n",
       "      <td>-0.406</td>\n",
       "      <td>0.0</td>\n",
       "      <td>0.0</td>\n",
       "      <td>1.0</td>\n",
       "      <td>0.0</td>\n",
       "      <td>1.275</td>\n",
       "      <td>0.0</td>\n",
       "      <td>0.0</td>\n",
       "      <td>0.0</td>\n",
       "      <td>-3.565</td>\n",
       "      <td>0.0</td>\n",
       "      <td>0.0</td>\n",
       "      <td>0.325</td>\n",
       "      <td>0.0</td>\n",
       "      <td>0.0</td>\n",
       "      <td>0.0</td>\n",
       "      <td>1.0</td>\n",
       "      <td>0.0</td>\n",
       "      <td>0.0</td>\n",
       "      <td>0.0</td>\n",
       "      <td>0.493</td>\n",
       "      <td>0.0</td>\n",
       "      <td>0.526</td>\n",
       "      <td>0.0</td>\n",
       "      <td>0.461</td>\n",
       "      <td>0.845</td>\n",
       "      <td>0.0</td>\n",
       "      <td>0.0</td>\n",
       "      <td>0.0</td>\n",
       "    </tr>\n",
       "  </tbody>\n",
       "</table>\n",
       "</div>"
      ],
      "text/plain": [
       "   property_type_hotel  neighborhood_Lake View  accommodates  bedrooms  \\\n",
       "0                  0.0                     1.0        -0.320     1.049   \n",
       "1                  0.0                     0.0        -0.320     0.489   \n",
       "2                  0.0                     0.0        -0.320    -0.629   \n",
       "3                  0.0                     0.0        -0.643    -0.070   \n",
       "4                  0.0                     0.0        -0.320    -0.629   \n",
       "\n",
       "   neighborhood_Loop  neighborhood_Near North Side  instant_bookable  \\\n",
       "0                0.0                           0.0            -0.374   \n",
       "1                0.0                           0.0             0.451   \n",
       "2                0.0                           0.0            -0.374   \n",
       "3                0.0                           0.0             1.275   \n",
       "4                0.0                           0.0            -0.374   \n",
       "\n",
       "   longitude  property_type_condomium  neighborhood_West Town  \\\n",
       "0      1.354                      0.0                     0.0   \n",
       "1      0.650                      0.0                     0.0   \n",
       "2     -0.758                      0.0                     0.0   \n",
       "3     -0.758                      0.0                     0.0   \n",
       "4     -0.406                      0.0                     0.0   \n",
       "\n",
       "   property_type_apartment  host_rt_Missing  latitude  host_rt_72H  \\\n",
       "0                      1.0              0.0    -0.075          0.0   \n",
       "1                      0.0              0.0    -0.623          0.0   \n",
       "2                      1.0              1.0    -2.329          0.0   \n",
       "3                      0.0              0.0    -0.087          0.0   \n",
       "4                      1.0              0.0     1.275          0.0   \n",
       "\n",
       "   neighborhood_Rogers Park  neighborhood_Woodlawn  superhost  \\\n",
       "0                       0.0                    0.0      0.967   \n",
       "1                       0.0                    0.0      0.343   \n",
       "2                       0.0                    0.0      0.868   \n",
       "3                       1.0                    0.0      1.794   \n",
       "4                       0.0                    0.0     -3.565   \n",
       "\n",
       "   room_type_Hotel room  neighborhood_Edgewater  host_rr  host_rt_1H  \\\n",
       "0                   0.0                     0.0    0.325         1.0   \n",
       "1                   0.0                     0.0    0.325         0.0   \n",
       "2                   0.0                     0.0    0.325         0.0   \n",
       "3                   0.0                     0.0    0.325         0.0   \n",
       "4                   0.0                     0.0    0.325         0.0   \n",
       "\n",
       "   property_type_loft  neighborhood_West Ridge  room_type_Entire place  \\\n",
       "0                 0.0                      0.0                     1.0   \n",
       "1                 0.0                      0.0                     1.0   \n",
       "2                 0.0                      0.0                     1.0   \n",
       "3                 0.0                      0.0                     0.0   \n",
       "4                 0.0                      0.0                     1.0   \n",
       "\n",
       "   property_type_townhouse  property_type_suite  neighborhood_Bridgeport  \\\n",
       "0                      0.0                  0.0                      0.0   \n",
       "1                      0.0                  0.0                      0.0   \n",
       "2                      0.0                  0.0                      0.0   \n",
       "3                      0.0                  0.0                      0.0   \n",
       "4                      0.0                  0.0                      0.0   \n",
       "\n",
       "   rs_value  property_type_house  rs_location  neighborhood_South Shore  \\\n",
       "0     1.875                  0.0       -0.771                       0.0   \n",
       "1     2.158                  1.0        0.526                       0.0   \n",
       "2     0.129                  0.0        0.526                       0.0   \n",
       "3     0.573                  1.0        0.526                       0.0   \n",
       "4     0.493                  0.0        0.526                       0.0   \n",
       "\n",
       "   rs_accuracy  reviews_per_month  neighborhood_Near West Side  \\\n",
       "0       -0.822             -1.167                          0.0   \n",
       "1        0.461             -0.943                          0.0   \n",
       "2        0.461              0.845                          0.0   \n",
       "3        0.461             -0.831                          0.0   \n",
       "4        0.461              0.845                          0.0   \n",
       "\n",
       "   room_type_Shared room  neighborhood_Albany Park  \n",
       "0                    0.0                       0.0  \n",
       "1                    0.0                       0.0  \n",
       "2                    0.0                       0.0  \n",
       "3                    0.0                       0.0  \n",
       "4                    0.0                       0.0  "
      ]
     },
     "execution_count": 14,
     "metadata": {},
     "output_type": "execute_result"
    }
   ],
   "source": [
    "cols_36 = list(non_zero_features['feature'].head(36))\n",
    "X_train_dense = X_train.toarray()\n",
    "X_train_dense = pd.DataFrame(X_train_dense, columns=X_train_cols)\n",
    "X_train_36 = X_train_dense[cols_36].copy()\n",
    "print(X_train_36.shape)\n",
    "X_train_36.head()"
   ]
  },
  {
   "cell_type": "code",
   "execution_count": 15,
   "metadata": {},
   "outputs": [
    {
     "name": "stdout",
     "output_type": "stream",
     "text": [
      "RMSE: [552.85926868 210.80167345 123.6281426  128.24445457 590.70288076\n",
      " 463.42082567 143.51566033 123.25094313 129.99480711 412.47683308]\n",
      "Avg_RMSE: 287.88954893941775\n",
      "Std_RMSE: 184.2632445272487\n"
     ]
    }
   ],
   "source": [
    "from sklearn.model_selection import KFold\n",
    "\n",
    "ols = LinearRegression()\n",
    "kf = KFold(n_splits=10, random_state=42, shuffle=True)\n",
    "ols_mse = cross_val_score(ols, X_train_36, y_train, cv=kf, n_jobs=-1, \n",
    "                          scoring=\"neg_mean_squared_error\") \n",
    "ols_rmse = np.sqrt(np.absolute(ols_mse))\n",
    "print('RMSE:', ols_rmse)\n",
    "print('Avg_RMSE:', ols_rmse.mean())\n",
    "print('Std_RMSE:', ols_rmse.std())"
   ]
  },
  {
   "cell_type": "markdown",
   "metadata": {},
   "source": [
    "## 10. Retraining ElasticNet Using Best 36"
   ]
  },
  {
   "cell_type": "code",
   "execution_count": 16,
   "metadata": {},
   "outputs": [
    {
     "name": "stdout",
     "output_type": "stream",
     "text": [
      "RMSE: [552.81914496 210.35895429 118.10562923 123.10313941 590.50079697\n",
      " 461.62975661 138.46093959 119.28411103 123.141458   412.3502026 ]\n",
      "Avg_RMSE: 284.97541327009156\n",
      "Std_RMSE: 186.3446323894298\n"
     ]
    }
   ],
   "source": [
    "from sklearn.linear_model import ElasticNet\n",
    "\n",
    "elas_net = ElasticNet(alpha=0.1, l1_ratio=0.7)\n",
    "elas_mse = cross_val_score(elas_net, X_train_36, y_train, cv=kf, n_jobs=-1, \n",
    "                             scoring=\"neg_mean_squared_error\") \n",
    "elas_rmse = np.sqrt(np.absolute(elas_mse))\n",
    "print('RMSE:', elas_rmse)\n",
    "print('Avg_RMSE:', elas_rmse.mean())\n",
    "print('Std_RMSE:', elas_rmse.std())"
   ]
  },
  {
   "cell_type": "markdown",
   "metadata": {},
   "source": [
    "The ordinary least squares linear and the regularized elastic net models don't seem to yield good results. This is somewhat not surprising because  we did not find strong linear relationship between features and target. We will keep looking for better models.\n",
    "\n",
    "Let's now update or model performance tracker"
   ]
  },
  {
   "cell_type": "code",
   "execution_count": 17,
   "metadata": {},
   "outputs": [
    {
     "data": {
      "text/html": [
       "<div>\n",
       "<style scoped>\n",
       "    .dataframe tbody tr th:only-of-type {\n",
       "        vertical-align: middle;\n",
       "    }\n",
       "\n",
       "    .dataframe tbody tr th {\n",
       "        vertical-align: top;\n",
       "    }\n",
       "\n",
       "    .dataframe thead th {\n",
       "        text-align: right;\n",
       "    }\n",
       "</style>\n",
       "<table border=\"1\" class=\"dataframe\">\n",
       "  <thead>\n",
       "    <tr style=\"text-align: right;\">\n",
       "      <th></th>\n",
       "      <th>OLS_LR_all</th>\n",
       "      <th>OLS_LR_36</th>\n",
       "      <th>ElasNet_36</th>\n",
       "    </tr>\n",
       "  </thead>\n",
       "  <tbody>\n",
       "    <tr>\n",
       "      <th>rmse_1</th>\n",
       "      <td>425.931</td>\n",
       "      <td>552.859</td>\n",
       "      <td>552.819</td>\n",
       "    </tr>\n",
       "    <tr>\n",
       "      <th>rmse_2</th>\n",
       "      <td>183.527</td>\n",
       "      <td>210.802</td>\n",
       "      <td>210.359</td>\n",
       "    </tr>\n",
       "    <tr>\n",
       "      <th>rmse_3</th>\n",
       "      <td>134.728</td>\n",
       "      <td>123.628</td>\n",
       "      <td>118.106</td>\n",
       "    </tr>\n",
       "    <tr>\n",
       "      <th>rmse_4</th>\n",
       "      <td>138.456</td>\n",
       "      <td>128.244</td>\n",
       "      <td>123.103</td>\n",
       "    </tr>\n",
       "    <tr>\n",
       "      <th>rmse_5</th>\n",
       "      <td>413.153</td>\n",
       "      <td>590.703</td>\n",
       "      <td>590.501</td>\n",
       "    </tr>\n",
       "    <tr>\n",
       "      <th>rmse_6</th>\n",
       "      <td>447.291</td>\n",
       "      <td>463.421</td>\n",
       "      <td>461.630</td>\n",
       "    </tr>\n",
       "    <tr>\n",
       "      <th>rmse_7</th>\n",
       "      <td>568.169</td>\n",
       "      <td>143.516</td>\n",
       "      <td>138.461</td>\n",
       "    </tr>\n",
       "    <tr>\n",
       "      <th>rmse_8</th>\n",
       "      <td>140.921</td>\n",
       "      <td>123.251</td>\n",
       "      <td>119.284</td>\n",
       "    </tr>\n",
       "    <tr>\n",
       "      <th>rmse_9</th>\n",
       "      <td>444.477</td>\n",
       "      <td>129.995</td>\n",
       "      <td>123.141</td>\n",
       "    </tr>\n",
       "    <tr>\n",
       "      <th>rmse_10</th>\n",
       "      <td>130.011</td>\n",
       "      <td>412.477</td>\n",
       "      <td>412.350</td>\n",
       "    </tr>\n",
       "    <tr>\n",
       "      <th>avg_rmse</th>\n",
       "      <td>302.666</td>\n",
       "      <td>287.890</td>\n",
       "      <td>284.975</td>\n",
       "    </tr>\n",
       "    <tr>\n",
       "      <th>std_rmse</th>\n",
       "      <td>162.559</td>\n",
       "      <td>184.263</td>\n",
       "      <td>186.345</td>\n",
       "    </tr>\n",
       "  </tbody>\n",
       "</table>\n",
       "</div>"
      ],
      "text/plain": [
       "          OLS_LR_all  OLS_LR_36  ElasNet_36\n",
       "rmse_1       425.931    552.859     552.819\n",
       "rmse_2       183.527    210.802     210.359\n",
       "rmse_3       134.728    123.628     118.106\n",
       "rmse_4       138.456    128.244     123.103\n",
       "rmse_5       413.153    590.703     590.501\n",
       "rmse_6       447.291    463.421     461.630\n",
       "rmse_7       568.169    143.516     138.461\n",
       "rmse_8       140.921    123.251     119.284\n",
       "rmse_9       444.477    129.995     123.141\n",
       "rmse_10      130.011    412.477     412.350\n",
       "avg_rmse     302.666    287.890     284.975\n",
       "std_rmse     162.559    184.263     186.345"
      ]
     },
     "execution_count": 17,
     "metadata": {},
     "output_type": "execute_result"
    }
   ],
   "source": [
    "model_df['OLS_LR_36'] = [552.85926868, 210.80167345, 123.6281426,  128.24445457, 590.70288076,\n",
    "                      463.42082567, 143.51566033, 123.25094313, 129.99480711, 412.47683308,\n",
    "                      287.88954893941775, 184.2632445272487]\n",
    "model_df['ElasNet_36'] = [552.81914494, 210.35895428, 118.10562924, 123.10313937, 590.50079696,\n",
    "                          461.62975661, 138.46093959, 119.28411103, 123.14145802, 412.35020263,\n",
    "                          284.9754132666877, 186.34463238734193]\n",
    "model_df"
   ]
  },
  {
   "cell_type": "markdown",
   "metadata": {},
   "source": [
    "## 11. Training K-Nearest Neighbor Regression"
   ]
  },
  {
   "cell_type": "code",
   "execution_count": 18,
   "metadata": {},
   "outputs": [
    {
     "name": "stdout",
     "output_type": "stream",
     "text": [
      "Best Parameters: {'algorithm': 'ball_tree', 'n_neighbors': 19, 'p': 1, 'weights': 'uniform'}\n",
      "Best Score: 0.11583613139636617\n"
     ]
    }
   ],
   "source": [
    "from sklearn.neighbors import KNeighborsRegressor\n",
    "from sklearn.model_selection import GridSearchCV\n",
    "\n",
    "kpar = {'n_neighbors': np.arange(1, 21, 2),\n",
    "       'weights': ['uniform', 'distance'],\n",
    "       'algorithm': ['ball_tree', 'kd_tree', 'brute'],\n",
    "       'p': [1,2]\n",
    "      }\n",
    "knn = KNeighborsRegressor()\n",
    "kgrid = GridSearchCV(knn, kpar, n_jobs=-1)\n",
    "kgrid.fit(X_train_dense, y_train)\n",
    "\n",
    "print('Best Parameters:', kgrid.best_params_)\n",
    "print('Best Score:', kgrid.best_score_)"
   ]
  },
  {
   "cell_type": "code",
   "execution_count": 19,
   "metadata": {
    "scrolled": true
   },
   "outputs": [
    {
     "name": "stdout",
     "output_type": "stream",
     "text": [
      "RMSE: [417.25249144 185.50490141 123.7321359  135.22824726 419.73676003\n",
      " 450.7853883  566.46183639 134.02544269 442.38847569 113.30493489]\n",
      "Avg_RMSE: 298.84206139782276\n",
      "Std_RMSE: 166.07711186276907\n"
     ]
    }
   ],
   "source": [
    "knn = KNeighborsRegressor(algorithm='ball_tree', n_neighbors=19, \n",
    "                        p=1, weights='uniform')\n",
    "knn_mse = cross_val_score(knn, X_train_dense, y_train, cv=10, n_jobs=-1, \n",
    "                             scoring=\"neg_mean_squared_error\") \n",
    "knn_rmse = np.sqrt(np.absolute(knn_mse))\n",
    "print('RMSE:', knn_rmse)\n",
    "print('Avg_RMSE:', knn_rmse.mean())\n",
    "print('Std_RMSE:', knn_rmse.std())"
   ]
  },
  {
   "cell_type": "markdown",
   "metadata": {},
   "source": [
    "It looks like we are going to have a hard time finding a decent model for all of these useless features. Let's train random forest before deciding on anything different\n",
    "\n",
    "## 12. Training Random Forest Regressor"
   ]
  },
  {
   "cell_type": "code",
   "execution_count": 20,
   "metadata": {},
   "outputs": [
    {
     "name": "stdout",
     "output_type": "stream",
     "text": [
      "Best Parameters: {'max_depth': 4, 'min_samples_leaf': 4, 'min_samples_split': 4}\n",
      "Best Score: 0.09278853692793236\n"
     ]
    }
   ],
   "source": [
    "from sklearn.ensemble import RandomForestRegressor\n",
    "\n",
    "ranpar = {'max_depth': [2, 4, 6, 8],\n",
    "          'min_samples_leaf': [1, 2, 3, 4],\n",
    "          'min_samples_split':[2, 3, 4, 5]\n",
    "         }\n",
    "ran = RandomForestRegressor()\n",
    "rangrid = GridSearchCV(ran, ranpar, n_jobs=-1)\n",
    "rangrid.fit(X_train_dense, y_train)\n",
    "\n",
    "print('Best Parameters:', rangrid.best_params_)\n",
    "print('Best Score:', rangrid.best_score_)"
   ]
  },
  {
   "cell_type": "code",
   "execution_count": 21,
   "metadata": {},
   "outputs": [
    {
     "name": "stdout",
     "output_type": "stream",
     "text": [
      "RMSE: [422.30773462 185.04611899 134.34227576 136.02076044 421.043545\n",
      " 449.11527051 572.28124866 150.02600229 447.20422024 114.63613634]\n",
      "Avg_RMSE: 303.2023312847892\n",
      "Std_RMSE: 164.90837653570088\n"
     ]
    }
   ],
   "source": [
    "ranfo = RandomForestRegressor(max_depth=4, min_samples_leaf=4,\n",
    "                            min_samples_split=5, random_state=42)\n",
    "ranfo_mse = cross_val_score(ranfo, X_train_dense, y_train, cv=10, n_jobs=-1, \n",
    "                             scoring=\"neg_mean_squared_error\") \n",
    "ranfo_rmse = np.sqrt(np.absolute(ranfo_mse))\n",
    "print('RMSE:', ranfo_rmse)\n",
    "print('Avg_RMSE:', ranfo_rmse.mean())\n",
    "print('Std_RMSE:', ranfo_rmse.std())"
   ]
  },
  {
   "cell_type": "code",
   "execution_count": 22,
   "metadata": {},
   "outputs": [
    {
     "data": {
      "text/html": [
       "<div>\n",
       "<style scoped>\n",
       "    .dataframe tbody tr th:only-of-type {\n",
       "        vertical-align: middle;\n",
       "    }\n",
       "\n",
       "    .dataframe tbody tr th {\n",
       "        vertical-align: top;\n",
       "    }\n",
       "\n",
       "    .dataframe thead th {\n",
       "        text-align: right;\n",
       "    }\n",
       "</style>\n",
       "<table border=\"1\" class=\"dataframe\">\n",
       "  <thead>\n",
       "    <tr style=\"text-align: right;\">\n",
       "      <th></th>\n",
       "      <th>OLS_LR_all</th>\n",
       "      <th>OLS_LR_36</th>\n",
       "      <th>ElasNet_36</th>\n",
       "      <th>KNN_all</th>\n",
       "      <th>RandFor_all</th>\n",
       "    </tr>\n",
       "  </thead>\n",
       "  <tbody>\n",
       "    <tr>\n",
       "      <th>rmse_1</th>\n",
       "      <td>425.931</td>\n",
       "      <td>552.859</td>\n",
       "      <td>552.819</td>\n",
       "      <td>417.219</td>\n",
       "      <td>422.306</td>\n",
       "    </tr>\n",
       "    <tr>\n",
       "      <th>rmse_2</th>\n",
       "      <td>183.527</td>\n",
       "      <td>210.802</td>\n",
       "      <td>210.359</td>\n",
       "      <td>185.514</td>\n",
       "      <td>184.979</td>\n",
       "    </tr>\n",
       "    <tr>\n",
       "      <th>rmse_3</th>\n",
       "      <td>134.728</td>\n",
       "      <td>123.628</td>\n",
       "      <td>118.106</td>\n",
       "      <td>123.416</td>\n",
       "      <td>134.961</td>\n",
       "    </tr>\n",
       "    <tr>\n",
       "      <th>rmse_4</th>\n",
       "      <td>138.456</td>\n",
       "      <td>128.244</td>\n",
       "      <td>123.103</td>\n",
       "      <td>135.151</td>\n",
       "      <td>136.021</td>\n",
       "    </tr>\n",
       "    <tr>\n",
       "      <th>rmse_5</th>\n",
       "      <td>413.153</td>\n",
       "      <td>590.703</td>\n",
       "      <td>590.501</td>\n",
       "      <td>419.743</td>\n",
       "      <td>421.211</td>\n",
       "    </tr>\n",
       "    <tr>\n",
       "      <th>rmse_6</th>\n",
       "      <td>447.291</td>\n",
       "      <td>463.421</td>\n",
       "      <td>461.630</td>\n",
       "      <td>450.736</td>\n",
       "      <td>449.103</td>\n",
       "    </tr>\n",
       "    <tr>\n",
       "      <th>rmse_7</th>\n",
       "      <td>568.169</td>\n",
       "      <td>143.516</td>\n",
       "      <td>138.461</td>\n",
       "      <td>566.424</td>\n",
       "      <td>572.348</td>\n",
       "    </tr>\n",
       "    <tr>\n",
       "      <th>rmse_8</th>\n",
       "      <td>140.921</td>\n",
       "      <td>123.251</td>\n",
       "      <td>119.284</td>\n",
       "      <td>134.056</td>\n",
       "      <td>150.106</td>\n",
       "    </tr>\n",
       "    <tr>\n",
       "      <th>rmse_9</th>\n",
       "      <td>444.477</td>\n",
       "      <td>129.995</td>\n",
       "      <td>123.141</td>\n",
       "      <td>442.413</td>\n",
       "      <td>447.136</td>\n",
       "    </tr>\n",
       "    <tr>\n",
       "      <th>rmse_10</th>\n",
       "      <td>130.011</td>\n",
       "      <td>412.477</td>\n",
       "      <td>412.350</td>\n",
       "      <td>113.691</td>\n",
       "      <td>114.374</td>\n",
       "    </tr>\n",
       "    <tr>\n",
       "      <th>avg_rmse</th>\n",
       "      <td>302.666</td>\n",
       "      <td>287.890</td>\n",
       "      <td>284.975</td>\n",
       "      <td>298.836</td>\n",
       "      <td>303.255</td>\n",
       "    </tr>\n",
       "    <tr>\n",
       "      <th>std_rmse</th>\n",
       "      <td>162.559</td>\n",
       "      <td>184.263</td>\n",
       "      <td>186.345</td>\n",
       "      <td>166.061</td>\n",
       "      <td>164.888</td>\n",
       "    </tr>\n",
       "  </tbody>\n",
       "</table>\n",
       "</div>"
      ],
      "text/plain": [
       "          OLS_LR_all  OLS_LR_36  ElasNet_36  KNN_all  RandFor_all\n",
       "rmse_1       425.931    552.859     552.819  417.219      422.306\n",
       "rmse_2       183.527    210.802     210.359  185.514      184.979\n",
       "rmse_3       134.728    123.628     118.106  123.416      134.961\n",
       "rmse_4       138.456    128.244     123.103  135.151      136.021\n",
       "rmse_5       413.153    590.703     590.501  419.743      421.211\n",
       "rmse_6       447.291    463.421     461.630  450.736      449.103\n",
       "rmse_7       568.169    143.516     138.461  566.424      572.348\n",
       "rmse_8       140.921    123.251     119.284  134.056      150.106\n",
       "rmse_9       444.477    129.995     123.141  442.413      447.136\n",
       "rmse_10      130.011    412.477     412.350  113.691      114.374\n",
       "avg_rmse     302.666    287.890     284.975  298.836      303.255\n",
       "std_rmse     162.559    184.263     186.345  166.061      164.888"
      ]
     },
     "execution_count": 22,
     "metadata": {},
     "output_type": "execute_result"
    }
   ],
   "source": [
    "model_df['KNN_all'] = [417.2192649, 185.51412781, 123.41564852, 135.15090507,\n",
    "                       419.74317281, 450.73621762, 566.42378049, 134.05568276,\n",
    "                       442.4125294, 113.69091099, 298.8362240368504, 166.060974249007]\n",
    "model_df['RandFor_all'] = [422.30621467, 184.97934005, 134.96087479, 136.02076044,\n",
    "                           421.21129004, 449.10284586, 572.34843496, 150.10579094,\n",
    "                           447.13622224, 114.37442543, 303.2546199416678, 164.88827791922378]\n",
    "model_df"
   ]
  },
  {
   "cell_type": "markdown",
   "metadata": {},
   "source": [
    "It looks like we have too many features that can't agree on a good model. In the next chapter we will apply some dimensionality reduction and see if we make progress. Before we get there, let's first save the files we will be using"
   ]
  },
  {
   "cell_type": "code",
   "execution_count": 23,
   "metadata": {},
   "outputs": [
    {
     "name": "stdout",
     "output_type": "stream",
     "text": [
      "(5240, 94)\n",
      "(1310, 94)\n"
     ]
    }
   ],
   "source": [
    "train = X_train_dense\n",
    "train['price'] = y_train\n",
    "print(train.shape)\n",
    "\n",
    "X_test = full_pipe.transform(X_test)\n",
    "X_test_dense = X_test.toarray()\n",
    "test = pd.DataFrame(X_test_dense, columns=X_train_cols)\n",
    "test['price'] = y_test\n",
    "print(test.shape)"
   ]
  },
  {
   "cell_type": "code",
   "execution_count": 29,
   "metadata": {},
   "outputs": [],
   "source": [
    "train.to_csv('data/chicago_airbnb4_train', index=False)\n",
    "test.to_csv('data/chicago_airbnb4_test', index=False)\n",
    "model_df.to_csv('data/chicago_airbnb4_models')"
   ]
  }
 ],
 "metadata": {
  "kernelspec": {
   "display_name": "Python 3",
   "language": "python",
   "name": "python3"
  },
  "language_info": {
   "codemirror_mode": {
    "name": "ipython",
    "version": 3
   },
   "file_extension": ".py",
   "mimetype": "text/x-python",
   "name": "python",
   "nbconvert_exporter": "python",
   "pygments_lexer": "ipython3",
   "version": "3.7.7"
  }
 },
 "nbformat": 4,
 "nbformat_minor": 4
}
