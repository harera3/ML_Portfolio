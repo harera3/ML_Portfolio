{
 "cells": [
  {
   "cell_type": "markdown",
   "metadata": {},
   "source": [
    "# 23. GRADUATE ADMISSION: MODEL TRAINING 1\n",
    "---"
   ]
  },
  {
   "cell_type": "markdown",
   "metadata": {},
   "source": [
    "## 1. Presenting Our Objectives\n",
    "\n",
    "- We will training 4 different models to find the best:\n",
    "    - OLS Linear Regression\n",
    "    - ElasticNet Linear Regression\n",
    "    - K-Nearest Neighbors Regression\n",
    "    - Random Forest Regression\n",
    "    \n",
    "- We will build prediction models in 2 different ways:\n",
    "    - Manual: design one feature that will be used for a univariate model\n",
    "    - Traditional: design models as it is usually done (train all features and see the results)\n",
    "    \n",
    "- We will work on 4 different variations of our data\n",
    "    - Data 1: No changes to the dataset\n",
    "    - Data 2: Continuous features are discretized (binned)\n",
    "    - Data 3: Remove target outliers and \n",
    "        - bin continous features if `Data 2` were better than `Data 1`, \n",
    "        - no binning if `Data 2` were worse than `Data 1`\n",
    "    - Data 4: change the objective into a multiple-classification problem by changing our target\n",
    "        - `1=admit` right away\n",
    "        - `2=waitlist`, the applicant is told to wait for spot to open\n",
    "        - `3=no chance`, tell the applicant \"good luck in your future endeavors\"\n",
    "        \n",
    "- We could end up training 4x2x4=`32 variations of models` if we did everything mentioned above and that would be time consuming. Instead let's work on regular data and manually design a feature that would predict well. We can then do the same with all the features!\n",
    "\n",
    "## 2. Introducing Data 1\n",
    "#### `No changes to the dataset`"
   ]
  },
  {
   "cell_type": "code",
   "execution_count": 1,
   "metadata": {},
   "outputs": [
    {
     "name": "stdout",
     "output_type": "stream",
     "text": [
      "(500, 8)\n",
      "Index(['GRE Score', 'TOEFL Score', 'University Rating', 'SOP', 'CGPA',\n",
      "       'Research', 'LOR', 'Chance of Admit'],\n",
      "      dtype='object')\n"
     ]
    },
    {
     "data": {
      "text/html": [
       "<div>\n",
       "<style scoped>\n",
       "    .dataframe tbody tr th:only-of-type {\n",
       "        vertical-align: middle;\n",
       "    }\n",
       "\n",
       "    .dataframe tbody tr th {\n",
       "        vertical-align: top;\n",
       "    }\n",
       "\n",
       "    .dataframe thead th {\n",
       "        text-align: right;\n",
       "    }\n",
       "</style>\n",
       "<table border=\"1\" class=\"dataframe\">\n",
       "  <thead>\n",
       "    <tr style=\"text-align: right;\">\n",
       "      <th></th>\n",
       "      <th>Serial No.</th>\n",
       "      <th>GRE Score</th>\n",
       "      <th>TOEFL Score</th>\n",
       "      <th>University Rating</th>\n",
       "      <th>SOP</th>\n",
       "      <th>LOR</th>\n",
       "      <th>CGPA</th>\n",
       "      <th>Research</th>\n",
       "      <th>Chance of Admit</th>\n",
       "      <th>LOR</th>\n",
       "      <th>Chance of Admit</th>\n",
       "    </tr>\n",
       "  </thead>\n",
       "  <tbody>\n",
       "    <tr>\n",
       "      <th>0</th>\n",
       "      <td>1</td>\n",
       "      <td>337</td>\n",
       "      <td>118</td>\n",
       "      <td>4</td>\n",
       "      <td>4.5</td>\n",
       "      <td>4.5</td>\n",
       "      <td>9.65</td>\n",
       "      <td>1</td>\n",
       "      <td>0.92</td>\n",
       "      <td>4.5</td>\n",
       "      <td>0.92</td>\n",
       "    </tr>\n",
       "    <tr>\n",
       "      <th>1</th>\n",
       "      <td>2</td>\n",
       "      <td>324</td>\n",
       "      <td>107</td>\n",
       "      <td>4</td>\n",
       "      <td>4.0</td>\n",
       "      <td>4.5</td>\n",
       "      <td>8.87</td>\n",
       "      <td>1</td>\n",
       "      <td>0.76</td>\n",
       "      <td>4.5</td>\n",
       "      <td>0.76</td>\n",
       "    </tr>\n",
       "    <tr>\n",
       "      <th>2</th>\n",
       "      <td>3</td>\n",
       "      <td>316</td>\n",
       "      <td>104</td>\n",
       "      <td>3</td>\n",
       "      <td>3.0</td>\n",
       "      <td>3.5</td>\n",
       "      <td>8.00</td>\n",
       "      <td>1</td>\n",
       "      <td>0.72</td>\n",
       "      <td>3.5</td>\n",
       "      <td>0.72</td>\n",
       "    </tr>\n",
       "    <tr>\n",
       "      <th>3</th>\n",
       "      <td>4</td>\n",
       "      <td>322</td>\n",
       "      <td>110</td>\n",
       "      <td>3</td>\n",
       "      <td>3.5</td>\n",
       "      <td>2.5</td>\n",
       "      <td>8.67</td>\n",
       "      <td>1</td>\n",
       "      <td>0.80</td>\n",
       "      <td>2.5</td>\n",
       "      <td>0.80</td>\n",
       "    </tr>\n",
       "    <tr>\n",
       "      <th>4</th>\n",
       "      <td>5</td>\n",
       "      <td>314</td>\n",
       "      <td>103</td>\n",
       "      <td>2</td>\n",
       "      <td>2.0</td>\n",
       "      <td>3.0</td>\n",
       "      <td>8.21</td>\n",
       "      <td>0</td>\n",
       "      <td>0.65</td>\n",
       "      <td>3.0</td>\n",
       "      <td>0.65</td>\n",
       "    </tr>\n",
       "  </tbody>\n",
       "</table>\n",
       "</div>"
      ],
      "text/plain": [
       "   Serial No.  GRE Score  TOEFL Score  University Rating  SOP  LOR   CGPA  \\\n",
       "0           1        337          118                  4  4.5   4.5  9.65   \n",
       "1           2        324          107                  4  4.0   4.5  8.87   \n",
       "2           3        316          104                  3  3.0   3.5  8.00   \n",
       "3           4        322          110                  3  3.5   2.5  8.67   \n",
       "4           5        314          103                  2  2.0   3.0  8.21   \n",
       "\n",
       "   Research  Chance of Admit   LOR  Chance of Admit  \n",
       "0         1              0.92  4.5             0.92  \n",
       "1         1              0.76  4.5             0.76  \n",
       "2         1              0.72  3.5             0.72  \n",
       "3         1              0.80  2.5             0.80  \n",
       "4         0              0.65  3.0             0.65  "
      ]
     },
     "execution_count": 1,
     "metadata": {},
     "output_type": "execute_result"
    }
   ],
   "source": [
    "import pandas as pd\n",
    "import numpy as np\n",
    "pd.set_option(\"display.max_columns\", 99)\n",
    "pd.set_option(\"display.max_rows\", 999)\n",
    "pd.set_option('precision', 3)\n",
    "\n",
    "admission = pd.read_csv('data/Admission_1.1.csv')\n",
    "admission['LOR'] = admission['LOR ']\n",
    "admission['Chance of Admit'] = admission['Chance of Admit ']\n",
    "admission_1 = admission.drop(['Serial No.', 'LOR ', 'Chance of Admit '], axis=1)\n",
    "print(admission_1.shape)\n",
    "print(admission_1.columns)\n",
    "admission.head()"
   ]
  },
  {
   "cell_type": "code",
   "execution_count": 2,
   "metadata": {},
   "outputs": [
    {
     "name": "stdout",
     "output_type": "stream",
     "text": [
      "Train: (400, 8) \n",
      " Test: (100, 8)\n"
     ]
    }
   ],
   "source": [
    "from sklearn.model_selection import train_test_split\n",
    "\n",
    "train_1, test_1 = train_test_split(admission_1, test_size=0.2, random_state=42)\n",
    "print('Train:', train_1.shape, '\\n', 'Test:', test_1.shape)"
   ]
  },
  {
   "cell_type": "markdown",
   "metadata": {},
   "source": [
    "## 3. Manual Model: Feature Engineering"
   ]
  },
  {
   "cell_type": "code",
   "execution_count": 3,
   "metadata": {},
   "outputs": [
    {
     "data": {
      "text/html": [
       "<div>\n",
       "<style scoped>\n",
       "    .dataframe tbody tr th:only-of-type {\n",
       "        vertical-align: middle;\n",
       "    }\n",
       "\n",
       "    .dataframe tbody tr th {\n",
       "        vertical-align: top;\n",
       "    }\n",
       "\n",
       "    .dataframe thead th {\n",
       "        text-align: right;\n",
       "    }\n",
       "</style>\n",
       "<table border=\"1\" class=\"dataframe\">\n",
       "  <thead>\n",
       "    <tr style=\"text-align: right;\">\n",
       "      <th></th>\n",
       "      <th>GRE Score</th>\n",
       "      <th>TOEFL Score</th>\n",
       "      <th>University Rating</th>\n",
       "      <th>SOP</th>\n",
       "      <th>CGPA</th>\n",
       "      <th>Research</th>\n",
       "      <th>LOR</th>\n",
       "      <th>Chance of Admit</th>\n",
       "    </tr>\n",
       "  </thead>\n",
       "  <tbody>\n",
       "    <tr>\n",
       "      <th>0</th>\n",
       "      <td>0.94</td>\n",
       "      <td>0.929</td>\n",
       "      <td>0.75</td>\n",
       "      <td>0.875</td>\n",
       "      <td>0.913</td>\n",
       "      <td>1.0</td>\n",
       "      <td>0.875</td>\n",
       "      <td>0.921</td>\n",
       "    </tr>\n",
       "    <tr>\n",
       "      <th>1</th>\n",
       "      <td>0.68</td>\n",
       "      <td>0.536</td>\n",
       "      <td>0.75</td>\n",
       "      <td>0.750</td>\n",
       "      <td>0.663</td>\n",
       "      <td>1.0</td>\n",
       "      <td>0.875</td>\n",
       "      <td>0.667</td>\n",
       "    </tr>\n",
       "    <tr>\n",
       "      <th>2</th>\n",
       "      <td>0.52</td>\n",
       "      <td>0.429</td>\n",
       "      <td>0.50</td>\n",
       "      <td>0.500</td>\n",
       "      <td>0.385</td>\n",
       "      <td>1.0</td>\n",
       "      <td>0.625</td>\n",
       "      <td>0.603</td>\n",
       "    </tr>\n",
       "    <tr>\n",
       "      <th>3</th>\n",
       "      <td>0.64</td>\n",
       "      <td>0.643</td>\n",
       "      <td>0.50</td>\n",
       "      <td>0.625</td>\n",
       "      <td>0.599</td>\n",
       "      <td>1.0</td>\n",
       "      <td>0.375</td>\n",
       "      <td>0.730</td>\n",
       "    </tr>\n",
       "    <tr>\n",
       "      <th>4</th>\n",
       "      <td>0.48</td>\n",
       "      <td>0.393</td>\n",
       "      <td>0.25</td>\n",
       "      <td>0.250</td>\n",
       "      <td>0.452</td>\n",
       "      <td>0.0</td>\n",
       "      <td>0.500</td>\n",
       "      <td>0.492</td>\n",
       "    </tr>\n",
       "  </tbody>\n",
       "</table>\n",
       "</div>"
      ],
      "text/plain": [
       "   GRE Score  TOEFL Score  University Rating    SOP   CGPA  Research    LOR  \\\n",
       "0       0.94        0.929               0.75  0.875  0.913       1.0  0.875   \n",
       "1       0.68        0.536               0.75  0.750  0.663       1.0  0.875   \n",
       "2       0.52        0.429               0.50  0.500  0.385       1.0  0.625   \n",
       "3       0.64        0.643               0.50  0.625  0.599       1.0  0.375   \n",
       "4       0.48        0.393               0.25  0.250  0.452       0.0  0.500   \n",
       "\n",
       "   Chance of Admit  \n",
       "0            0.921  \n",
       "1            0.667  \n",
       "2            0.603  \n",
       "3            0.730  \n",
       "4            0.492  "
      ]
     },
     "execution_count": 3,
     "metadata": {},
     "output_type": "execute_result"
    }
   ],
   "source": [
    "from sklearn.preprocessing import MinMaxScaler\n",
    "\n",
    "scaler = MinMaxScaler()\n",
    "manual_cols = admission_1.columns\n",
    "manual_df1_ = admission_1.copy()\n",
    "manual_df1_[manual_cols] = scaler.fit_transform(admission_1)\n",
    "manual_df1_.head()"
   ]
  },
  {
   "cell_type": "code",
   "execution_count": 4,
   "metadata": {},
   "outputs": [
    {
     "data": {
      "text/plain": [
       "Chance of Admit      1.000\n",
       "CGPA                 0.882\n",
       "GRE Score            0.810\n",
       "TOEFL Score          0.792\n",
       "University Rating    0.690\n",
       "SOP                  0.684\n",
       "LOR                  0.645\n",
       "Research             0.546\n",
       "Name: Chance of Admit, dtype: float64"
      ]
     },
     "execution_count": 4,
     "metadata": {},
     "output_type": "execute_result"
    }
   ],
   "source": [
    "corr_matrix = admission_1.corr()\n",
    "sorted_corr = corr_matrix['Chance of Admit'].sort_values(ascending=False)\n",
    "sorted_corr"
   ]
  },
  {
   "cell_type": "code",
   "execution_count": 5,
   "metadata": {},
   "outputs": [
    {
     "data": {
      "text/html": [
       "<div>\n",
       "<style scoped>\n",
       "    .dataframe tbody tr th:only-of-type {\n",
       "        vertical-align: middle;\n",
       "    }\n",
       "\n",
       "    .dataframe tbody tr th {\n",
       "        vertical-align: top;\n",
       "    }\n",
       "\n",
       "    .dataframe thead th {\n",
       "        text-align: right;\n",
       "    }\n",
       "</style>\n",
       "<table border=\"1\" class=\"dataframe\">\n",
       "  <thead>\n",
       "    <tr style=\"text-align: right;\">\n",
       "      <th></th>\n",
       "      <th>CGPA</th>\n",
       "      <th>GRE Score</th>\n",
       "      <th>TOEFL Score</th>\n",
       "      <th>U Rating</th>\n",
       "      <th>SOP</th>\n",
       "      <th>LOR</th>\n",
       "      <th>Research</th>\n",
       "    </tr>\n",
       "  </thead>\n",
       "  <tbody>\n",
       "    <tr>\n",
       "      <th>0</th>\n",
       "      <td>0.806</td>\n",
       "      <td>0.761</td>\n",
       "      <td>0.735</td>\n",
       "      <td>0.517</td>\n",
       "      <td>0.599</td>\n",
       "      <td>0.564</td>\n",
       "      <td>0.546</td>\n",
       "    </tr>\n",
       "    <tr>\n",
       "      <th>1</th>\n",
       "      <td>0.585</td>\n",
       "      <td>0.551</td>\n",
       "      <td>0.424</td>\n",
       "      <td>0.517</td>\n",
       "      <td>0.513</td>\n",
       "      <td>0.564</td>\n",
       "      <td>0.546</td>\n",
       "    </tr>\n",
       "    <tr>\n",
       "      <th>2</th>\n",
       "      <td>0.339</td>\n",
       "      <td>0.421</td>\n",
       "      <td>0.339</td>\n",
       "      <td>0.345</td>\n",
       "      <td>0.342</td>\n",
       "      <td>0.403</td>\n",
       "      <td>0.546</td>\n",
       "    </tr>\n",
       "    <tr>\n",
       "      <th>3</th>\n",
       "      <td>0.529</td>\n",
       "      <td>0.518</td>\n",
       "      <td>0.509</td>\n",
       "      <td>0.345</td>\n",
       "      <td>0.428</td>\n",
       "      <td>0.242</td>\n",
       "      <td>0.546</td>\n",
       "    </tr>\n",
       "    <tr>\n",
       "      <th>4</th>\n",
       "      <td>0.399</td>\n",
       "      <td>0.389</td>\n",
       "      <td>0.311</td>\n",
       "      <td>0.172</td>\n",
       "      <td>0.171</td>\n",
       "      <td>0.323</td>\n",
       "      <td>0.000</td>\n",
       "    </tr>\n",
       "  </tbody>\n",
       "</table>\n",
       "</div>"
      ],
      "text/plain": [
       "    CGPA  GRE Score  TOEFL Score  U Rating    SOP    LOR  Research\n",
       "0  0.806      0.761        0.735     0.517  0.599  0.564     0.546\n",
       "1  0.585      0.551        0.424     0.517  0.513  0.564     0.546\n",
       "2  0.339      0.421        0.339     0.345  0.342  0.403     0.546\n",
       "3  0.529      0.518        0.509     0.345  0.428  0.242     0.546\n",
       "4  0.399      0.389        0.311     0.172  0.171  0.323     0.000"
      ]
     },
     "execution_count": 5,
     "metadata": {},
     "output_type": "execute_result"
    }
   ],
   "source": [
    "manual_df1 = pd.DataFrame()\n",
    "manual_df1['CGPA'] = manual_df1_['CGPA']*0.882\n",
    "manual_df1['GRE Score'] = manual_df1_['GRE Score']*0.810\n",
    "manual_df1['TOEFL Score'] = manual_df1_['TOEFL Score']*0.792\n",
    "manual_df1['U Rating'] = manual_df1_['University Rating']*0.690\n",
    "manual_df1['SOP'] = manual_df1_['SOP']*0.684\n",
    "manual_df1['LOR'] = manual_df1_['LOR']*0.645\n",
    "manual_df1['Research'] = manual_df1_['Research']*0.546\n",
    "manual_df1.head()"
   ]
  },
  {
   "cell_type": "code",
   "execution_count": 6,
   "metadata": {},
   "outputs": [
    {
     "data": {
      "text/html": [
       "<div>\n",
       "<style scoped>\n",
       "    .dataframe tbody tr th:only-of-type {\n",
       "        vertical-align: middle;\n",
       "    }\n",
       "\n",
       "    .dataframe tbody tr th {\n",
       "        vertical-align: top;\n",
       "    }\n",
       "\n",
       "    .dataframe thead th {\n",
       "        text-align: right;\n",
       "    }\n",
       "</style>\n",
       "<table border=\"1\" class=\"dataframe\">\n",
       "  <thead>\n",
       "    <tr style=\"text-align: right;\">\n",
       "      <th></th>\n",
       "      <th>CGPA</th>\n",
       "      <th>GRE Score</th>\n",
       "      <th>TOEFL Score</th>\n",
       "      <th>U Rating</th>\n",
       "      <th>SOP</th>\n",
       "      <th>LOR</th>\n",
       "      <th>Research</th>\n",
       "      <th>sum_all</th>\n",
       "      <th>Admit</th>\n",
       "    </tr>\n",
       "  </thead>\n",
       "  <tbody>\n",
       "    <tr>\n",
       "      <th>0</th>\n",
       "      <td>0.806</td>\n",
       "      <td>0.761</td>\n",
       "      <td>0.735</td>\n",
       "      <td>0.517</td>\n",
       "      <td>0.599</td>\n",
       "      <td>0.564</td>\n",
       "      <td>0.546</td>\n",
       "      <td>4.529</td>\n",
       "      <td>0.92</td>\n",
       "    </tr>\n",
       "    <tr>\n",
       "      <th>1</th>\n",
       "      <td>0.585</td>\n",
       "      <td>0.551</td>\n",
       "      <td>0.424</td>\n",
       "      <td>0.517</td>\n",
       "      <td>0.513</td>\n",
       "      <td>0.564</td>\n",
       "      <td>0.546</td>\n",
       "      <td>3.701</td>\n",
       "      <td>0.76</td>\n",
       "    </tr>\n",
       "    <tr>\n",
       "      <th>2</th>\n",
       "      <td>0.339</td>\n",
       "      <td>0.421</td>\n",
       "      <td>0.339</td>\n",
       "      <td>0.345</td>\n",
       "      <td>0.342</td>\n",
       "      <td>0.403</td>\n",
       "      <td>0.546</td>\n",
       "      <td>2.736</td>\n",
       "      <td>0.72</td>\n",
       "    </tr>\n",
       "    <tr>\n",
       "      <th>3</th>\n",
       "      <td>0.529</td>\n",
       "      <td>0.518</td>\n",
       "      <td>0.509</td>\n",
       "      <td>0.345</td>\n",
       "      <td>0.428</td>\n",
       "      <td>0.242</td>\n",
       "      <td>0.546</td>\n",
       "      <td>3.117</td>\n",
       "      <td>0.80</td>\n",
       "    </tr>\n",
       "    <tr>\n",
       "      <th>4</th>\n",
       "      <td>0.399</td>\n",
       "      <td>0.389</td>\n",
       "      <td>0.311</td>\n",
       "      <td>0.172</td>\n",
       "      <td>0.171</td>\n",
       "      <td>0.323</td>\n",
       "      <td>0.000</td>\n",
       "      <td>1.765</td>\n",
       "      <td>0.65</td>\n",
       "    </tr>\n",
       "  </tbody>\n",
       "</table>\n",
       "</div>"
      ],
      "text/plain": [
       "    CGPA  GRE Score  TOEFL Score  U Rating    SOP    LOR  Research  sum_all  \\\n",
       "0  0.806      0.761        0.735     0.517  0.599  0.564     0.546    4.529   \n",
       "1  0.585      0.551        0.424     0.517  0.513  0.564     0.546    3.701   \n",
       "2  0.339      0.421        0.339     0.345  0.342  0.403     0.546    2.736   \n",
       "3  0.529      0.518        0.509     0.345  0.428  0.242     0.546    3.117   \n",
       "4  0.399      0.389        0.311     0.172  0.171  0.323     0.000    1.765   \n",
       "\n",
       "   Admit  \n",
       "0   0.92  \n",
       "1   0.76  \n",
       "2   0.72  \n",
       "3   0.80  \n",
       "4   0.65  "
      ]
     },
     "execution_count": 6,
     "metadata": {},
     "output_type": "execute_result"
    }
   ],
   "source": [
    "manual_df1['sum_all'] = manual_df1.sum(axis=1)\n",
    "manual_df1['Admit'] = admission_1['Chance of Admit']\n",
    "manual_df1.head()"
   ]
  },
  {
   "cell_type": "markdown",
   "metadata": {},
   "source": [
    "## 4. Manual Model Training"
   ]
  },
  {
   "cell_type": "code",
   "execution_count": 7,
   "metadata": {},
   "outputs": [],
   "source": [
    "manual_train, manual_test = train_test_split(manual_df1[['sum_all', 'Admit']], \n",
    "                                             test_size=0.2, random_state=42)\n",
    "X_train_m = np.array(manual_train['sum_all']).reshape(-1,1)\n",
    "y_train_m = np.array(manual_train['Admit']).reshape(-1,1)\n",
    "X_test_m = np.array(manual_test['sum_all']).reshape(-1,1)\n",
    "y_test_m = np.array(manual_test['Admit']).reshape(-1,1)"
   ]
  },
  {
   "cell_type": "markdown",
   "metadata": {},
   "source": [
    "### 4.i. Ordinary Least Square (OLS) Linear Regression"
   ]
  },
  {
   "cell_type": "code",
   "execution_count": 8,
   "metadata": {},
   "outputs": [
    {
     "name": "stdout",
     "output_type": "stream",
     "text": [
      "RMSE: [0.06864894 0.06767559 0.0728208  0.06286173]\n",
      "Avg_RMSE: 0.06800176808065761\n",
      "Std_RMSE: 0.003541478727803767\n"
     ]
    }
   ],
   "source": [
    "from sklearn.linear_model import LinearRegression\n",
    "from sklearn.model_selection import cross_val_score\n",
    "\n",
    "ols = LinearRegression()\n",
    "ols_mse = cross_val_score(ols, X_train_m, y_train_m, cv=4, n_jobs=-1, \n",
    "                             scoring=\"neg_mean_squared_error\") \n",
    "ols_rmse = np.sqrt(np.absolute(ols_mse))\n",
    "print('RMSE:', ols_rmse)\n",
    "print('Avg_RMSE:', ols_rmse.mean())\n",
    "print('Std_RMSE:', ols_rmse.std())"
   ]
  },
  {
   "cell_type": "markdown",
   "metadata": {},
   "source": [
    "### 4.ii. K-Nearest Neighbor Regression"
   ]
  },
  {
   "cell_type": "code",
   "execution_count": 9,
   "metadata": {},
   "outputs": [
    {
     "name": "stdout",
     "output_type": "stream",
     "text": [
      "RMSE: [0.06913591 0.07703129 0.07785775 0.06781602]\n",
      "Avg_RMSE: 0.07296024087187286\n",
      "Std_RMSE: 0.004517952449207948\n"
     ]
    }
   ],
   "source": [
    "from sklearn.neighbors import KNeighborsRegressor\n",
    "\n",
    "knn = KNeighborsRegressor(algorithm='ball_tree', n_neighbors=7, \n",
    "                        p=1, weights='distance')\n",
    "knn_mse = cross_val_score(knn, X_train_m, y_train_m, cv=4, n_jobs=-1, \n",
    "                             scoring=\"neg_mean_squared_error\") \n",
    "knn_rmse = np.sqrt(np.absolute(knn_mse))\n",
    "print('RMSE:', knn_rmse)\n",
    "print('Avg_RMSE:', knn_rmse.mean())\n",
    "print('Std_RMSE:', knn_rmse.std())"
   ]
  },
  {
   "cell_type": "markdown",
   "metadata": {},
   "source": [
    "### 4.iii. Random Forest Regressor"
   ]
  },
  {
   "cell_type": "code",
   "execution_count": 10,
   "metadata": {},
   "outputs": [
    {
     "name": "stdout",
     "output_type": "stream",
     "text": [
      "RMSE: [0.06734248 0.07700776 0.07338614 0.06147664]\n",
      "Avg_RMSE: 0.06980325514633862\n",
      "Std_RMSE: 0.005918824332469005\n"
     ]
    }
   ],
   "source": [
    "from sklearn.ensemble import RandomForestRegressor\n",
    "\n",
    "ranfo = RandomForestRegressor(max_depth=6, min_samples_leaf=2,\n",
    "                            min_samples_split=2, random_state=42)\n",
    "ranfo_mse = cross_val_score(ranfo, X_train_m, y_train_m, cv=4, n_jobs=-1, \n",
    "                             scoring=\"neg_mean_squared_error\") \n",
    "ranfo_rmse = np.sqrt(np.absolute(ranfo_mse))\n",
    "print('RMSE:', ranfo_rmse)\n",
    "print('Avg_RMSE:', ranfo_rmse.mean())\n",
    "print('Std_RMSE:', ranfo_rmse.std())"
   ]
  },
  {
   "cell_type": "markdown",
   "metadata": {},
   "source": [
    "It looks like simple linear regression is the best model, which should not be too surprising considering that our one feature was built based on correlation coefficients. \n",
    "\n",
    "## 5. Manual Model Testing"
   ]
  },
  {
   "cell_type": "code",
   "execution_count": 12,
   "metadata": {},
   "outputs": [
    {
     "name": "stdout",
     "output_type": "stream",
     "text": [
      "MSE_test: 0.004449119841371931\n",
      "RMSE_test: 0.06670172292656264\n"
     ]
    }
   ],
   "source": [
    "from sklearn.metrics import mean_squared_error\n",
    "\n",
    "ols = LinearRegression()\n",
    "ols.fit(X_train_m, y_train_m)\n",
    "y_pred_m = ols.predict(X_test_m)\n",
    "mse_t = mean_squared_error(y_test_m, y_pred_m)\n",
    "rmse_t = np.sqrt(mse_t)\n",
    "print('MSE_test:', mse_t)\n",
    "print('RMSE_test:', rmse_t)"
   ]
  },
  {
   "cell_type": "code",
   "execution_count": 13,
   "metadata": {},
   "outputs": [
    {
     "data": {
      "text/plain": [
       "Text(0, 0.5, 'Actual')"
      ]
     },
     "execution_count": 13,
     "metadata": {},
     "output_type": "execute_result"
    },
    {
     "data": {
      "image/png": "[encoded data removed]",
      "text/plain": [
       "<Figure size 432x288 with 1 Axes>"
      ]
     },
     "metadata": {
      "needs_background": "light"
     },
     "output_type": "display_data"
    }
   ],
   "source": [
    "import matplotlib.pyplot as plt\n",
    "plt.plot(y_pred_m, y_test_m, marker='o',linestyle='')\n",
    "plt.xlabel('Predictions')\n",
    "plt.ylabel('Actual')"
   ]
  },
  {
   "cell_type": "code",
   "execution_count": null,
   "metadata": {},
   "outputs": [],
   "source": []
  }
 ],
 "metadata": {
  "kernelspec": {
   "display_name": "Python 3",
   "language": "python",
   "name": "python3"
  },
  "language_info": {
   "codemirror_mode": {
    "name": "ipython",
    "version": 3
   },
   "file_extension": ".py",
   "mimetype": "text/x-python",
   "name": "python",
   "nbconvert_exporter": "python",
   "pygments_lexer": "ipython3",
   "version": "3.7.7"
  }
 },
 "nbformat": 4,
 "nbformat_minor": 4
}
