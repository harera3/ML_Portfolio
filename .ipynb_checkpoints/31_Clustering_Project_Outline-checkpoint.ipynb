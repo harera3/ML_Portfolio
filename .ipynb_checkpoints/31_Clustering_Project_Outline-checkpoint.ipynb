{
 "cells": [
  {
   "cell_type": "markdown",
   "metadata": {},
   "source": [
    "# 31. CLUSTERING: PROJECT OUTLINE\n",
    "---"
   ]
  },
  {
   "cell_type": "markdown",
   "metadata": {},
   "source": [
    "## 27. Hepta Cluster: Data Exploration\n",
    "---\n",
    " ### 27.1 Introducing the Data\n",
    "### 27.2 Understanding Data Types\n",
    "### 27.3 Looking into Basic Stats\n",
    "### 27.4 Checking for Outliers\n",
    "### 27.5 Exploring Correlation\n",
    "### 27.6 Data Visualization\n",
    "### 27.7 Visualizing Data in 3D"
   ]
  },
  {
   "cell_type": "code",
   "execution_count": null,
   "metadata": {},
   "outputs": [],
   "source": []
  }
 ],
 "metadata": {
  "kernelspec": {
   "display_name": "Python 3",
   "language": "python",
   "name": "python3"
  },
  "language_info": {
   "codemirror_mode": {
    "name": "ipython",
    "version": 3
   },
   "file_extension": ".py",
   "mimetype": "text/x-python",
   "name": "python",
   "nbconvert_exporter": "python",
   "pygments_lexer": "ipython3",
   "version": "3.7.7"
  }
 },
 "nbformat": 4,
 "nbformat_minor": 4
}
