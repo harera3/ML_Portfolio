{
 "cells": [
  {
   "cell_type": "markdown",
   "metadata": {},
   "source": [
    "# 27. HEPTA CLUSTER: DATA EXPLORATION\n",
    "---"
   ]
  },
  {
   "cell_type": "markdown",
   "metadata": {},
   "source": [
    "## 1. Introducing the Data\n",
    "- **Source**: Ultsch, A.: Clustering with SOM: U*C,\n",
    "    - In Proc. Workshop on Self-Organizing Maps, Paris, France, 2005, 75-82.\n",
    "\n",
    "    - Web: https://www.uni-marburg.de/fb12/arbeitsgruppen/datenbionik/data\n",
    "\n",
    "    - One of the datasets in the Fundamental Clustering Problems Suite (FCPS).\n",
    "\n",
    "    - `labels0` come from the Author. `0` denotes the noise class (if present).\n",
    "- **Downloaded from:** https://github.com/gagolews/clustering_benchmarks_v1/tree/master/fcps"
   ]
  },
  {
   "cell_type": "code",
   "execution_count": 1,
   "metadata": {},
   "outputs": [
    {
     "name": "stdout",
     "output_type": "stream",
     "text": [
      "(212, 4)\n"
     ]
    },
    {
     "data": {
      "text/html": [
       "<div>\n",
       "<style scoped>\n",
       "    .dataframe tbody tr th:only-of-type {\n",
       "        vertical-align: middle;\n",
       "    }\n",
       "\n",
       "    .dataframe tbody tr th {\n",
       "        vertical-align: top;\n",
       "    }\n",
       "\n",
       "    .dataframe thead th {\n",
       "        text-align: right;\n",
       "    }\n",
       "</style>\n",
       "<table border=\"1\" class=\"dataframe\">\n",
       "  <thead>\n",
       "    <tr style=\"text-align: right;\">\n",
       "      <th></th>\n",
       "      <th>col1</th>\n",
       "      <th>col2</th>\n",
       "      <th>col3</th>\n",
       "      <th>labels</th>\n",
       "    </tr>\n",
       "  </thead>\n",
       "  <tbody>\n",
       "    <tr>\n",
       "      <th>0</th>\n",
       "      <td>-6.327e-02</td>\n",
       "      <td>0.028</td>\n",
       "      <td>0.023</td>\n",
       "      <td>1</td>\n",
       "    </tr>\n",
       "    <tr>\n",
       "      <th>1</th>\n",
       "      <td>-7.310e-04</td>\n",
       "      <td>0.048</td>\n",
       "      <td>0.069</td>\n",
       "      <td>1</td>\n",
       "    </tr>\n",
       "    <tr>\n",
       "      <th>2</th>\n",
       "      <td>-6.077e-02</td>\n",
       "      <td>-0.009</td>\n",
       "      <td>0.053</td>\n",
       "      <td>1</td>\n",
       "    </tr>\n",
       "    <tr>\n",
       "      <th>3</th>\n",
       "      <td>1.325e-02</td>\n",
       "      <td>-0.012</td>\n",
       "      <td>0.055</td>\n",
       "      <td>1</td>\n",
       "    </tr>\n",
       "    <tr>\n",
       "      <th>4</th>\n",
       "      <td>-5.451e-02</td>\n",
       "      <td>-0.004</td>\n",
       "      <td>0.002</td>\n",
       "      <td>1</td>\n",
       "    </tr>\n",
       "  </tbody>\n",
       "</table>\n",
       "</div>"
      ],
      "text/plain": [
       "        col1   col2   col3  labels\n",
       "0 -6.327e-02  0.028  0.023       1\n",
       "1 -7.310e-04  0.048  0.069       1\n",
       "2 -6.077e-02 -0.009  0.053       1\n",
       "3  1.325e-02 -0.012  0.055       1\n",
       "4 -5.451e-02 -0.004  0.002       1"
      ]
     },
     "execution_count": 1,
     "metadata": {},
     "output_type": "execute_result"
    }
   ],
   "source": [
    "import pandas as pd\n",
    "import numpy as np\n",
    "pd.set_option(\"display.max_columns\", 99)\n",
    "pd.set_option(\"display.max_rows\", 999)\n",
    "pd.set_option('precision', 3)\n",
    "\n",
    "hepta_cols = ['col1', 'col2', 'col3']\n",
    "hepta = pd.read_csv('data/hepta.data.gz', \n",
    "                    delimiter=\"\\t\", header=None)\n",
    "noise = pd.read_csv('data/hepta.labels0.gz', \n",
    "                    delimiter=\"\\t\", header=None)\n",
    "hepta.columns = hepta_cols\n",
    "hepta['labels'] = noise\n",
    "print(hepta.shape)\n",
    "hepta.head()"
   ]
  },
  {
   "cell_type": "markdown",
   "metadata": {},
   "source": [
    "## 2. Understanding Data Types"
   ]
  },
  {
   "cell_type": "code",
   "execution_count": 3,
   "metadata": {},
   "outputs": [
    {
     "data": {
      "text/plain": [
       "col1      0\n",
       "col2      0\n",
       "col3      0\n",
       "labels    0\n",
       "dtype: int64"
      ]
     },
     "execution_count": 3,
     "metadata": {},
     "output_type": "execute_result"
    }
   ],
   "source": [
    "hepta.isnull().sum()"
   ]
  },
  {
   "cell_type": "code",
   "execution_count": 4,
   "metadata": {
    "scrolled": false
   },
   "outputs": [
    {
     "data": {
      "text/plain": [
       "float64    3\n",
       "int64      1\n",
       "dtype: int64"
      ]
     },
     "execution_count": 4,
     "metadata": {},
     "output_type": "execute_result"
    }
   ],
   "source": [
    "hepta.dtypes.value_counts()"
   ]
  },
  {
   "cell_type": "code",
   "execution_count": 6,
   "metadata": {},
   "outputs": [
    {
     "data": {
      "image/png": "[encoded data removed]",
      "text/plain": [
       "<Figure size 864x576 with 4 Axes>"
      ]
     },
     "metadata": {
      "needs_background": "light"
     },
     "output_type": "display_data"
    }
   ],
   "source": [
    "import matplotlib.pyplot as plt\n",
    "\n",
    "hepta.hist(bins=30, figsize=(12,8))\n",
    "plt.show()"
   ]
  },
  {
   "cell_type": "markdown",
   "metadata": {},
   "source": [
    "So the first 3 columns seem to be very simillar, with minor virations:\n",
    "- There are centered at around zero,\n",
    "- They seem to be almost symmetrical\n",
    "- There two empty spaces roughly between -2 and -1 and between 1 and 2\n",
    "\n",
    "The first 3 columns are continuous, while our label column is nominal. \n",
    "- The categories in the label column seem to have the same number of entries except for category 1, which presumably has 32 entries while others have 30 each\n",
    "\n",
    "## 3. Looking into the Basic Stats"
   ]
  },
  {
   "cell_type": "code",
   "execution_count": 12,
   "metadata": {},
   "outputs": [
    {
     "data": {
      "text/html": [
       "<div>\n",
       "<style scoped>\n",
       "    .dataframe tbody tr th:only-of-type {\n",
       "        vertical-align: middle;\n",
       "    }\n",
       "\n",
       "    .dataframe tbody tr th {\n",
       "        vertical-align: top;\n",
       "    }\n",
       "\n",
       "    .dataframe thead th {\n",
       "        text-align: right;\n",
       "    }\n",
       "</style>\n",
       "<table border=\"1\" class=\"dataframe\">\n",
       "  <thead>\n",
       "    <tr style=\"text-align: right;\">\n",
       "      <th></th>\n",
       "      <th>count</th>\n",
       "      <th>mean</th>\n",
       "      <th>std</th>\n",
       "      <th>min</th>\n",
       "      <th>25%</th>\n",
       "      <th>50%</th>\n",
       "      <th>75%</th>\n",
       "      <th>max</th>\n",
       "      <th>max-min</th>\n",
       "    </tr>\n",
       "  </thead>\n",
       "  <tbody>\n",
       "    <tr>\n",
       "      <th>col1</th>\n",
       "      <td>212.0</td>\n",
       "      <td>0.015</td>\n",
       "      <td>1.648</td>\n",
       "      <td>-3.970</td>\n",
       "      <td>-0.407</td>\n",
       "      <td>-0.004</td>\n",
       "      <td>0.439</td>\n",
       "      <td>3.748</td>\n",
       "      <td>7.718</td>\n",
       "    </tr>\n",
       "    <tr>\n",
       "      <th>col2</th>\n",
       "      <td>212.0</td>\n",
       "      <td>0.034</td>\n",
       "      <td>1.671</td>\n",
       "      <td>-3.881</td>\n",
       "      <td>-0.477</td>\n",
       "      <td>-0.005</td>\n",
       "      <td>0.501</td>\n",
       "      <td>3.774</td>\n",
       "      <td>7.656</td>\n",
       "    </tr>\n",
       "    <tr>\n",
       "      <th>col3</th>\n",
       "      <td>212.0</td>\n",
       "      <td>-0.036</td>\n",
       "      <td>1.629</td>\n",
       "      <td>-3.909</td>\n",
       "      <td>-0.423</td>\n",
       "      <td>0.021</td>\n",
       "      <td>0.384</td>\n",
       "      <td>3.899</td>\n",
       "      <td>7.809</td>\n",
       "    </tr>\n",
       "    <tr>\n",
       "      <th>labels</th>\n",
       "      <td>212.0</td>\n",
       "      <td>3.972</td>\n",
       "      <td>2.016</td>\n",
       "      <td>1.000</td>\n",
       "      <td>2.000</td>\n",
       "      <td>4.000</td>\n",
       "      <td>6.000</td>\n",
       "      <td>7.000</td>\n",
       "      <td>6.000</td>\n",
       "    </tr>\n",
       "  </tbody>\n",
       "</table>\n",
       "</div>"
      ],
      "text/plain": [
       "        count   mean    std    min    25%    50%    75%    max  max-min\n",
       "col1    212.0  0.015  1.648 -3.970 -0.407 -0.004  0.439  3.748    7.718\n",
       "col2    212.0  0.034  1.671 -3.881 -0.477 -0.005  0.501  3.774    7.656\n",
       "col3    212.0 -0.036  1.629 -3.909 -0.423  0.021  0.384  3.899    7.809\n",
       "labels  212.0  3.972  2.016  1.000  2.000  4.000  6.000  7.000    6.000"
      ]
     },
     "execution_count": 12,
     "metadata": {},
     "output_type": "execute_result"
    }
   ],
   "source": [
    "hepta_stats = hepta.describe().T\n",
    "hepta_stats['max-min'] = hepta.max()-hepta.min()\n",
    "hepta_stats"
   ]
  },
  {
   "cell_type": "markdown",
   "metadata": {},
   "source": [
    "It looks like our feature columns seem to have their data in similar ranges. They also seem to show the symmetry mentioned above.\n",
    "## 4. Checking for Outliers"
   ]
  },
  {
   "cell_type": "code",
   "execution_count": 17,
   "metadata": {},
   "outputs": [
    {
     "data": {
      "image/png": "[encoded data removed]",
      "text/plain": [
       "<Figure size 864x432 with 1 Axes>"
      ]
     },
     "metadata": {
      "needs_background": "light"
     },
     "output_type": "display_data"
    }
   ],
   "source": [
    "import seaborn as sns\n",
    "\n",
    "hepta_n = hepta.drop('labels', axis=1)\n",
    "plt.figure(figsize=(12,6))\n",
    "ax = sns.boxplot(data=hepta_n, orient=\"h\", palette=\"husl\")"
   ]
  },
  {
   "cell_type": "markdown",
   "metadata": {},
   "source": [
    "There are a lot of outliers but that might not be an issue since our main goal is to cluster the data into simillar groups. The symmetry is still observable even in the plot above. \n",
    "\n",
    "## 5. Exploring Correlation"
   ]
  },
  {
   "cell_type": "code",
   "execution_count": 21,
   "metadata": {},
   "outputs": [
    {
     "data": {
      "text/plain": [
       "<AxesSubplot:>"
      ]
     },
     "execution_count": 21,
     "metadata": {},
     "output_type": "execute_result"
    },
    {
     "data": {
      "image/png": "[encoded data removed]",
      "text/plain": [
       "<Figure size 504x360 with 2 Axes>"
      ]
     },
     "metadata": {
      "needs_background": "light"
     },
     "output_type": "display_data"
    }
   ],
   "source": [
    "corr_mx = hepta.corr()\n",
    "mask = np.triu(np.ones_like(corr_mx, dtype=np.bool))\n",
    "color = sns.diverging_palette(10, 220, as_cmap=True)\n",
    "fig, ax = plt.subplots(figsize=(7,5))\n",
    "sns.heatmap(corr_mx, mask=mask, cmap=color, annot=True, \n",
    "            fmt=\".3f\", annot_kws={\"size\": 10})"
   ]
  },
  {
   "cell_type": "markdown",
   "metadata": {},
   "source": [
    "There is no correlation whatsoever!\n",
    "## 6. Data Visualization"
   ]
  },
  {
   "cell_type": "code",
   "execution_count": 33,
   "metadata": {},
   "outputs": [
    {
     "data": {
      "text/plain": [
       "<AxesSubplot:xlabel='col1', ylabel='col2'>"
      ]
     },
     "execution_count": 33,
     "metadata": {},
     "output_type": "execute_result"
    },
    {
     "data": {
      "image/png": "[encoded data removed]",
      "text/plain": [
       "<Figure size 432x288 with 1 Axes>"
      ]
     },
     "metadata": {
      "needs_background": "light"
     },
     "output_type": "display_data"
    }
   ],
   "source": [
    "sns.scatterplot(data=hepta, x=\"col1\", y=\"col2\")"
   ]
  },
  {
   "cell_type": "code",
   "execution_count": 27,
   "metadata": {},
   "outputs": [
    {
     "data": {
      "text/plain": [
       "<AxesSubplot:xlabel='col1', ylabel='col3'>"
      ]
     },
     "execution_count": 27,
     "metadata": {},
     "output_type": "execute_result"
    },
    {
     "data": {
      "image/png": "[encoded data removed]",
      "text/plain": [
       "<Figure size 432x288 with 1 Axes>"
      ]
     },
     "metadata": {
      "needs_background": "light"
     },
     "output_type": "display_data"
    }
   ],
   "source": [
    "sns.scatterplot(data=hepta, x=\"col1\", y=\"col3\")"
   ]
  },
  {
   "cell_type": "code",
   "execution_count": 28,
   "metadata": {},
   "outputs": [
    {
     "data": {
      "text/plain": [
       "<AxesSubplot:xlabel='col3', ylabel='col2'>"
      ]
     },
     "execution_count": 28,
     "metadata": {},
     "output_type": "execute_result"
    },
    {
     "data": {
      "image/png": "[encoded data removed]",
      "text/plain": [
       "<Figure size 432x288 with 1 Axes>"
      ]
     },
     "metadata": {
      "needs_background": "light"
     },
     "output_type": "display_data"
    }
   ],
   "source": [
    "sns.scatterplot(data=hepta, x=\"col3\", y=\"col2\")"
   ]
  },
  {
   "cell_type": "markdown",
   "metadata": {},
   "source": [
    "The scatterplots are showing 5 clusters. "
   ]
  },
  {
   "cell_type": "code",
   "execution_count": null,
   "metadata": {},
   "outputs": [],
   "source": []
  }
 ],
 "metadata": {
  "kernelspec": {
   "display_name": "Python 3",
   "language": "python",
   "name": "python3"
  },
  "language_info": {
   "codemirror_mode": {
    "name": "ipython",
    "version": 3
   },
   "file_extension": ".py",
   "mimetype": "text/x-python",
   "name": "python",
   "nbconvert_exporter": "python",
   "pygments_lexer": "ipython3",
   "version": "3.7.7"
  }
 },
 "nbformat": 4,
 "nbformat_minor": 4
}
