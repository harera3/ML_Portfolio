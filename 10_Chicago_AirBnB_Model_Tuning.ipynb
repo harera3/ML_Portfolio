{
 "cells": [
  {
   "cell_type": "markdown",
   "metadata": {},
   "source": [
    "# 10. CHICAGO AIRBNB: MODEL TUNING"
   ]
  },
  {
   "cell_type": "markdown",
   "metadata": {},
   "source": [
    "## 1. Recap"
   ]
  },
  {
   "cell_type": "code",
   "execution_count": 1,
   "metadata": {},
   "outputs": [
    {
     "data": {
      "text/plain": [
       "((5240, 94), (5240, 93))"
      ]
     },
     "execution_count": 1,
     "metadata": {},
     "output_type": "execute_result"
    }
   ],
   "source": [
    "import pandas as pd\n",
    "import numpy as np\n",
    "pd.set_option(\"display.max_columns\", 99)\n",
    "pd.set_option(\"display.max_rows\", 999)\n",
    "pd.set_option('precision', 3)\n",
    "\n",
    "train = pd.read_csv('data/chicago_airbnb4_train')\n",
    "X_train = train.drop('price', axis=1)\n",
    "\n",
    "train.shape, X_train.shape"
   ]
  },
  {
   "cell_type": "code",
   "execution_count": 2,
   "metadata": {},
   "outputs": [
    {
     "data": {
      "text/html": [
       "<div>\n",
       "<style scoped>\n",
       "    .dataframe tbody tr th:only-of-type {\n",
       "        vertical-align: middle;\n",
       "    }\n",
       "\n",
       "    .dataframe tbody tr th {\n",
       "        vertical-align: top;\n",
       "    }\n",
       "\n",
       "    .dataframe thead th {\n",
       "        text-align: right;\n",
       "    }\n",
       "</style>\n",
       "<table border=\"1\" class=\"dataframe\">\n",
       "  <thead>\n",
       "    <tr style=\"text-align: right;\">\n",
       "      <th></th>\n",
       "      <th>RMSE</th>\n",
       "      <th>OLS_LR_all</th>\n",
       "      <th>OLS_LR_36</th>\n",
       "      <th>ElasNet_36</th>\n",
       "      <th>KNN_all</th>\n",
       "      <th>RandFor_all</th>\n",
       "    </tr>\n",
       "  </thead>\n",
       "  <tbody>\n",
       "    <tr>\n",
       "      <th>0</th>\n",
       "      <td>rmse_1</td>\n",
       "      <td>425.931</td>\n",
       "      <td>552.859</td>\n",
       "      <td>552.819</td>\n",
       "      <td>417.219</td>\n",
       "      <td>422.306</td>\n",
       "    </tr>\n",
       "    <tr>\n",
       "      <th>1</th>\n",
       "      <td>rmse_2</td>\n",
       "      <td>183.527</td>\n",
       "      <td>210.802</td>\n",
       "      <td>210.359</td>\n",
       "      <td>185.514</td>\n",
       "      <td>184.979</td>\n",
       "    </tr>\n",
       "    <tr>\n",
       "      <th>2</th>\n",
       "      <td>rmse_3</td>\n",
       "      <td>134.728</td>\n",
       "      <td>123.628</td>\n",
       "      <td>118.106</td>\n",
       "      <td>123.416</td>\n",
       "      <td>134.961</td>\n",
       "    </tr>\n",
       "    <tr>\n",
       "      <th>3</th>\n",
       "      <td>rmse_4</td>\n",
       "      <td>138.456</td>\n",
       "      <td>128.244</td>\n",
       "      <td>123.103</td>\n",
       "      <td>135.151</td>\n",
       "      <td>136.021</td>\n",
       "    </tr>\n",
       "    <tr>\n",
       "      <th>4</th>\n",
       "      <td>rmse_5</td>\n",
       "      <td>413.153</td>\n",
       "      <td>590.703</td>\n",
       "      <td>590.501</td>\n",
       "      <td>419.743</td>\n",
       "      <td>421.211</td>\n",
       "    </tr>\n",
       "    <tr>\n",
       "      <th>5</th>\n",
       "      <td>rmse_6</td>\n",
       "      <td>447.291</td>\n",
       "      <td>463.421</td>\n",
       "      <td>461.630</td>\n",
       "      <td>450.736</td>\n",
       "      <td>449.103</td>\n",
       "    </tr>\n",
       "    <tr>\n",
       "      <th>6</th>\n",
       "      <td>rmse_7</td>\n",
       "      <td>568.169</td>\n",
       "      <td>143.516</td>\n",
       "      <td>138.461</td>\n",
       "      <td>566.424</td>\n",
       "      <td>572.348</td>\n",
       "    </tr>\n",
       "    <tr>\n",
       "      <th>7</th>\n",
       "      <td>rmse_8</td>\n",
       "      <td>140.921</td>\n",
       "      <td>123.251</td>\n",
       "      <td>119.284</td>\n",
       "      <td>134.056</td>\n",
       "      <td>150.106</td>\n",
       "    </tr>\n",
       "    <tr>\n",
       "      <th>8</th>\n",
       "      <td>rmse_9</td>\n",
       "      <td>444.477</td>\n",
       "      <td>129.995</td>\n",
       "      <td>123.141</td>\n",
       "      <td>442.413</td>\n",
       "      <td>447.136</td>\n",
       "    </tr>\n",
       "    <tr>\n",
       "      <th>9</th>\n",
       "      <td>rmse_10</td>\n",
       "      <td>130.011</td>\n",
       "      <td>412.477</td>\n",
       "      <td>412.350</td>\n",
       "      <td>113.691</td>\n",
       "      <td>114.374</td>\n",
       "    </tr>\n",
       "    <tr>\n",
       "      <th>10</th>\n",
       "      <td>avg_rmse</td>\n",
       "      <td>302.666</td>\n",
       "      <td>287.890</td>\n",
       "      <td>284.975</td>\n",
       "      <td>298.836</td>\n",
       "      <td>303.255</td>\n",
       "    </tr>\n",
       "    <tr>\n",
       "      <th>11</th>\n",
       "      <td>std_rmse</td>\n",
       "      <td>162.559</td>\n",
       "      <td>184.263</td>\n",
       "      <td>186.345</td>\n",
       "      <td>166.061</td>\n",
       "      <td>164.888</td>\n",
       "    </tr>\n",
       "  </tbody>\n",
       "</table>\n",
       "</div>"
      ],
      "text/plain": [
       "        RMSE  OLS_LR_all  OLS_LR_36  ElasNet_36  KNN_all  RandFor_all\n",
       "0     rmse_1     425.931    552.859     552.819  417.219      422.306\n",
       "1     rmse_2     183.527    210.802     210.359  185.514      184.979\n",
       "2     rmse_3     134.728    123.628     118.106  123.416      134.961\n",
       "3     rmse_4     138.456    128.244     123.103  135.151      136.021\n",
       "4     rmse_5     413.153    590.703     590.501  419.743      421.211\n",
       "5     rmse_6     447.291    463.421     461.630  450.736      449.103\n",
       "6     rmse_7     568.169    143.516     138.461  566.424      572.348\n",
       "7     rmse_8     140.921    123.251     119.284  134.056      150.106\n",
       "8     rmse_9     444.477    129.995     123.141  442.413      447.136\n",
       "9    rmse_10     130.011    412.477     412.350  113.691      114.374\n",
       "10  avg_rmse     302.666    287.890     284.975  298.836      303.255\n",
       "11  std_rmse     162.559    184.263     186.345  166.061      164.888"
      ]
     },
     "execution_count": 2,
     "metadata": {},
     "output_type": "execute_result"
    }
   ],
   "source": [
    "model_df = pd.read_csv('data/chicago_airbnb4_models')\n",
    "model_df.columns = ['RMSE', 'OLS_LR_all', 'OLS_LR_36', 'ElasNet_36', \n",
    "                    'KNN_all', 'RandFor_all']\n",
    "model_df"
   ]
  },
  {
   "cell_type": "markdown",
   "metadata": {},
   "source": [
    "## 2. Reducing Features Using Principal Components\n",
    "We want to reduce the number of features while retaining the variance in the data"
   ]
  },
  {
   "cell_type": "code",
   "execution_count": 17,
   "metadata": {},
   "outputs": [
    {
     "name": "stdout",
     "output_type": "stream",
     "text": [
      "Original number of features: 93\n",
      "Reduced number of features: 26\n"
     ]
    }
   ],
   "source": [
    "from sklearn.decomposition import PCA\n",
    "\n",
    "pca = PCA(n_components=0.95, whiten=True)\n",
    "X_train_pca = pca.fit_transform(X_train)\n",
    "\n",
    "print(\"Original number of features:\", X_train.shape[1])\n",
    "print(\"Reduced number of features:\", X_train_pca.shape[1])"
   ]
  },
  {
   "cell_type": "markdown",
   "metadata": {},
   "source": [
    "The output of our solution shows that PCA let us reduce our dimensionality by a wopping 67 (72%) features while still retaining 95% of the information (variance) in the feature matrix."
   ]
  },
  {
   "cell_type": "code",
   "execution_count": 18,
   "metadata": {},
   "outputs": [
    {
     "data": {
      "text/plain": [
       "array([4.64938613, 3.48702325, 2.07064037, 1.51684252, 1.34904604,\n",
       "       1.15115221, 1.09107001, 0.91861542, 0.84215224, 0.75376112,\n",
       "       0.71785418, 0.56043914, 0.43234613, 0.38420376, 0.3724925 ,\n",
       "       0.31875881, 0.3071287 , 0.28155298, 0.26640015, 0.22223678,\n",
       "       0.1734344 , 0.16193853, 0.14135618, 0.13142378, 0.12928797,\n",
       "       0.09760897])"
      ]
     },
     "execution_count": 18,
     "metadata": {},
     "output_type": "execute_result"
    }
   ],
   "source": [
    "pca.explained_variance_"
   ]
  },
  {
   "cell_type": "code",
   "execution_count": 19,
   "metadata": {},
   "outputs": [
    {
     "data": {
      "text/plain": [
       "array([-6.25724132e-02, -8.39135910e-03, -7.87018314e-02,  4.79114077e-02,\n",
       "       -5.89016256e-03, -1.30598361e-02, -6.52554379e-03, -1.65706434e-02,\n",
       "       -2.91231825e-02,  2.57873318e-02, -3.68486711e-02, -4.24146329e-01,\n",
       "       -3.97299963e-01, -3.59766074e-01, -3.61086371e-01, -3.90431761e-01,\n",
       "       -2.88881380e-01, -3.83826243e-01, -4.75716506e-02, -1.02182087e-02,\n",
       "        4.71940084e-03,  6.20788223e-03, -4.80824010e-04, -5.60364982e-04,\n",
       "        8.01026700e-03, -1.31769602e-02, -8.92779869e-04,  8.59998029e-04,\n",
       "       -1.72023244e-05,  1.02576610e-03, -2.20237371e-03, -2.72141174e-04,\n",
       "       -1.26641820e-05,  4.87969532e-04,  5.53800280e-04,  5.01081817e-04,\n",
       "        8.58444755e-04, -5.83797417e-04,  3.98290062e-03, -2.47193334e-03,\n",
       "        1.74901836e-03, -2.42509565e-04, -2.57787305e-04,  1.51764201e-03,\n",
       "        1.04677855e-03, -2.81725195e-04,  2.36307312e-04,  1.73591188e-03,\n",
       "       -3.79143355e-03, -7.40026966e-04,  3.18999459e-04, -4.74928780e-03,\n",
       "       -1.58432367e-03, -1.44390916e-03, -6.93863502e-03,  1.74815221e-03,\n",
       "        1.75447313e-03,  4.32871641e-04,  1.58786106e-03,  3.73778244e-03,\n",
       "        4.01540988e-03,  4.68706284e-04, -3.41193159e-03,  2.06026819e-03,\n",
       "       -6.68992983e-04,  4.43773966e-04,  8.21920338e-04,  1.25755197e-04,\n",
       "       -8.28632863e-04, -2.74319994e-06, -2.22722267e-03,  1.85668982e-04,\n",
       "        1.25796448e-03,  3.35068086e-03, -1.19462737e-03,  2.14021050e-03,\n",
       "        7.27380978e-04, -6.08986042e-04, -6.48035293e-03,  2.17252106e-03,\n",
       "        3.30095335e-03,  5.42246301e-04, -3.73499057e-03,  4.02316920e-03,\n",
       "       -3.19635552e-03, -2.90891242e-04,  8.81865986e-04, -2.39969096e-03,\n",
       "        8.73693454e-04, -1.49849396e-02,  1.26192970e-03,  1.19251876e-02,\n",
       "        1.79782225e-03])"
      ]
     },
     "execution_count": 19,
     "metadata": {},
     "output_type": "execute_result"
    }
   ],
   "source": [
    "pca.components_.T[:, 0]"
   ]
  },
  {
   "cell_type": "code",
   "execution_count": 15,
   "metadata": {},
   "outputs": [
    {
     "data": {
      "text/plain": [
       "93"
      ]
     },
     "execution_count": 15,
     "metadata": {},
     "output_type": "execute_result"
    }
   ],
   "source": [
    "len(pca.components_.T[:, 0])"
   ]
  },
  {
   "cell_type": "code",
   "execution_count": 20,
   "metadata": {},
   "outputs": [
    {
     "data": {
      "text/plain": [
       "<function numpy.cumsum(a, axis=None, dtype=None, out=None)>"
      ]
     },
     "execution_count": 20,
     "metadata": {},
     "output_type": "execute_result"
    }
   ],
   "source": [
    "np.cumsum"
   ]
  },
  {
   "cell_type": "code",
   "execution_count": null,
   "metadata": {},
   "outputs": [],
   "source": []
  }
 ],
 "metadata": {
  "kernelspec": {
   "display_name": "Python 3",
   "language": "python",
   "name": "python3"
  },
  "language_info": {
   "codemirror_mode": {
    "name": "ipython",
    "version": 3
   },
   "file_extension": ".py",
   "mimetype": "text/x-python",
   "name": "python",
   "nbconvert_exporter": "python",
   "pygments_lexer": "ipython3",
   "version": "3.7.7"
  }
 },
 "nbformat": 4,
 "nbformat_minor": 4
}
