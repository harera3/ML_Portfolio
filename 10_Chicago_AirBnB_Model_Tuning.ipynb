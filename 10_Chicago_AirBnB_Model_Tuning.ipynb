{
 "cells": [
  {
   "cell_type": "markdown",
   "metadata": {},
   "source": [
    "# 10. CHICAGO AIRBNB: MODEL TUNING"
   ]
  },
  {
   "cell_type": "markdown",
   "metadata": {},
   "source": [
    "## 1. Recap"
   ]
  },
  {
   "cell_type": "code",
   "execution_count": 1,
   "metadata": {},
   "outputs": [
    {
     "data": {
      "text/plain": [
       "((5240, 25), (5240,), (1310, 25), (1310,))"
      ]
     },
     "execution_count": 1,
     "metadata": {},
     "output_type": "execute_result"
    }
   ],
   "source": [
    "import pandas as pd\n",
    "import numpy as np\n",
    "from sklearn.model_selection import train_test_split\n",
    "pd.set_option(\"display.max_columns\", 99)\n",
    "pd.set_option(\"display.max_rows\", 999)\n",
    "pd.set_option('precision', 3)\n",
    "\n",
    "chicago = pd.read_csv('data/chicago_airbnb3')\n",
    "\n",
    "num_cols = ['host_rr', 'host_ar', 'latitude', 'longitude', 'accommodates',\n",
    "            'baths', 'bedrooms', 'beds', 'min_nights', 'max_nights', 'n_reviews', \n",
    "            'rs_rating', 'rs_accuracy', 'rs_cleanliness', 'rs_check_in', \n",
    "            'rs_communication', 'rs_location', 'rs_value', 'reviews_per_month']\n",
    "\n",
    "cat_cols = ['host_rt', 'neighborhood', 'property_type', 'room_type']\n",
    "\n",
    "train, test = train_test_split(chicago, test_size=0.2, random_state=42)\n",
    "\n",
    "X_train = train.drop('price', axis=1)\n",
    "y_train = train['price']\n",
    "\n",
    "X_test = test.drop('price', axis=1)\n",
    "y_test = test['price']\n",
    "\n",
    "X_train.shape, y_train.shape, X_test.shape, y_test.shape"
   ]
  },
  {
   "cell_type": "code",
   "execution_count": 2,
   "metadata": {},
   "outputs": [
    {
     "data": {
      "text/plain": [
       "((5240, 93), (1310, 93))"
      ]
     },
     "execution_count": 2,
     "metadata": {},
     "output_type": "execute_result"
    }
   ],
   "source": [
    "from sklearn.base import BaseEstimator, TransformerMixin\n",
    "from sklearn.pipeline import Pipeline\n",
    "from sklearn.preprocessing import StandardScaler\n",
    "from sklearn.preprocessing import OneHotEncoder\n",
    "from sklearn.compose import ColumnTransformer\n",
    "\n",
    "class AttributeAdder(BaseEstimator, TransformerMixin):    \n",
    "    def __init__(self):\n",
    "        self    \n",
    "        \n",
    "    def fit(self, df, y = None):               \n",
    "        return self\n",
    "\n",
    "    def transform(self, df):        \n",
    "        df_ = df.copy()\n",
    "        df_['beds_per_bdrm'] = df_['beds']/df_['bedrooms']\n",
    "        df_['baths_per_bed'] = df_['baths']/df_['beds']\n",
    "        df_.replace(np.inf, 0, inplace=True)\n",
    "        df_.replace(np.nan, 0, inplace=True)\n",
    "        return df_\n",
    "    \n",
    "num_pipe = Pipeline(steps = [\n",
    "    ('add_features', AttributeAdder()),\n",
    "    ('std_scaling', StandardScaler())\n",
    "])\n",
    "full_pipe = ColumnTransformer(\n",
    "    transformers=[\n",
    "        ('num_prep', num_pipe, num_cols),\n",
    "        ('cat_prep', OneHotEncoder(sparse=False), cat_cols)\n",
    "    ])\n",
    "\n",
    "X_train = full_pipe.fit_transform(X_train)\n",
    "X_test = full_pipe.transform(X_test)\n",
    "\n",
    "X_train.shape, X_test.shape"
   ]
  },
  {
   "cell_type": "code",
   "execution_count": 3,
   "metadata": {},
   "outputs": [
    {
     "data": {
      "text/html": [
       "<div>\n",
       "<style scoped>\n",
       "    .dataframe tbody tr th:only-of-type {\n",
       "        vertical-align: middle;\n",
       "    }\n",
       "\n",
       "    .dataframe tbody tr th {\n",
       "        vertical-align: top;\n",
       "    }\n",
       "\n",
       "    .dataframe thead th {\n",
       "        text-align: right;\n",
       "    }\n",
       "</style>\n",
       "<table border=\"1\" class=\"dataframe\">\n",
       "  <thead>\n",
       "    <tr style=\"text-align: right;\">\n",
       "      <th></th>\n",
       "      <th>RMSE</th>\n",
       "      <th>OLS_LR_all</th>\n",
       "      <th>OLS_LR_36</th>\n",
       "      <th>ElasNet_36</th>\n",
       "      <th>KNN_all</th>\n",
       "      <th>RandFor_all</th>\n",
       "    </tr>\n",
       "  </thead>\n",
       "  <tbody>\n",
       "    <tr>\n",
       "      <th>0</th>\n",
       "      <td>rmse_1</td>\n",
       "      <td>425.931</td>\n",
       "      <td>552.859</td>\n",
       "      <td>552.819</td>\n",
       "      <td>417.219</td>\n",
       "      <td>422.306</td>\n",
       "    </tr>\n",
       "    <tr>\n",
       "      <th>1</th>\n",
       "      <td>rmse_2</td>\n",
       "      <td>183.527</td>\n",
       "      <td>210.802</td>\n",
       "      <td>210.359</td>\n",
       "      <td>185.514</td>\n",
       "      <td>184.979</td>\n",
       "    </tr>\n",
       "    <tr>\n",
       "      <th>2</th>\n",
       "      <td>rmse_3</td>\n",
       "      <td>134.728</td>\n",
       "      <td>123.628</td>\n",
       "      <td>118.106</td>\n",
       "      <td>123.416</td>\n",
       "      <td>134.961</td>\n",
       "    </tr>\n",
       "    <tr>\n",
       "      <th>3</th>\n",
       "      <td>rmse_4</td>\n",
       "      <td>138.456</td>\n",
       "      <td>128.244</td>\n",
       "      <td>123.103</td>\n",
       "      <td>135.151</td>\n",
       "      <td>136.021</td>\n",
       "    </tr>\n",
       "    <tr>\n",
       "      <th>4</th>\n",
       "      <td>rmse_5</td>\n",
       "      <td>413.153</td>\n",
       "      <td>590.703</td>\n",
       "      <td>590.501</td>\n",
       "      <td>419.743</td>\n",
       "      <td>421.211</td>\n",
       "    </tr>\n",
       "    <tr>\n",
       "      <th>5</th>\n",
       "      <td>rmse_6</td>\n",
       "      <td>447.291</td>\n",
       "      <td>463.421</td>\n",
       "      <td>461.630</td>\n",
       "      <td>450.736</td>\n",
       "      <td>449.103</td>\n",
       "    </tr>\n",
       "    <tr>\n",
       "      <th>6</th>\n",
       "      <td>rmse_7</td>\n",
       "      <td>568.169</td>\n",
       "      <td>143.516</td>\n",
       "      <td>138.461</td>\n",
       "      <td>566.424</td>\n",
       "      <td>572.348</td>\n",
       "    </tr>\n",
       "    <tr>\n",
       "      <th>7</th>\n",
       "      <td>rmse_8</td>\n",
       "      <td>140.921</td>\n",
       "      <td>123.251</td>\n",
       "      <td>119.284</td>\n",
       "      <td>134.056</td>\n",
       "      <td>150.106</td>\n",
       "    </tr>\n",
       "    <tr>\n",
       "      <th>8</th>\n",
       "      <td>rmse_9</td>\n",
       "      <td>444.477</td>\n",
       "      <td>129.995</td>\n",
       "      <td>123.141</td>\n",
       "      <td>442.413</td>\n",
       "      <td>447.136</td>\n",
       "    </tr>\n",
       "    <tr>\n",
       "      <th>9</th>\n",
       "      <td>rmse_10</td>\n",
       "      <td>130.011</td>\n",
       "      <td>412.477</td>\n",
       "      <td>412.350</td>\n",
       "      <td>113.691</td>\n",
       "      <td>114.374</td>\n",
       "    </tr>\n",
       "    <tr>\n",
       "      <th>10</th>\n",
       "      <td>avg_rmse</td>\n",
       "      <td>302.666</td>\n",
       "      <td>287.890</td>\n",
       "      <td>284.975</td>\n",
       "      <td>298.836</td>\n",
       "      <td>303.255</td>\n",
       "    </tr>\n",
       "    <tr>\n",
       "      <th>11</th>\n",
       "      <td>std_rmse</td>\n",
       "      <td>162.559</td>\n",
       "      <td>184.263</td>\n",
       "      <td>186.345</td>\n",
       "      <td>166.061</td>\n",
       "      <td>164.888</td>\n",
       "    </tr>\n",
       "  </tbody>\n",
       "</table>\n",
       "</div>"
      ],
      "text/plain": [
       "        RMSE  OLS_LR_all  OLS_LR_36  ElasNet_36  KNN_all  RandFor_all\n",
       "0     rmse_1     425.931    552.859     552.819  417.219      422.306\n",
       "1     rmse_2     183.527    210.802     210.359  185.514      184.979\n",
       "2     rmse_3     134.728    123.628     118.106  123.416      134.961\n",
       "3     rmse_4     138.456    128.244     123.103  135.151      136.021\n",
       "4     rmse_5     413.153    590.703     590.501  419.743      421.211\n",
       "5     rmse_6     447.291    463.421     461.630  450.736      449.103\n",
       "6     rmse_7     568.169    143.516     138.461  566.424      572.348\n",
       "7     rmse_8     140.921    123.251     119.284  134.056      150.106\n",
       "8     rmse_9     444.477    129.995     123.141  442.413      447.136\n",
       "9    rmse_10     130.011    412.477     412.350  113.691      114.374\n",
       "10  avg_rmse     302.666    287.890     284.975  298.836      303.255\n",
       "11  std_rmse     162.559    184.263     186.345  166.061      164.888"
      ]
     },
     "execution_count": 3,
     "metadata": {},
     "output_type": "execute_result"
    }
   ],
   "source": [
    "model_df = pd.read_csv('data/chicago_airbnb4_models')\n",
    "model_df.columns = ['RMSE', 'OLS_LR_all', 'OLS_LR_36', 'ElasNet_36', \n",
    "                    'KNN_all', 'RandFor_all']\n",
    "model_df"
   ]
  },
  {
   "cell_type": "markdown",
   "metadata": {},
   "source": [
    "## 2. Reducing Features Using Principal Components\n",
    "We want to reduce the number of features while retaining the variance in the data"
   ]
  },
  {
   "cell_type": "code",
   "execution_count": 4,
   "metadata": {},
   "outputs": [
    {
     "name": "stdout",
     "output_type": "stream",
     "text": [
      "Original number of features: 93\n",
      "Reduced number of features: 26\n"
     ]
    }
   ],
   "source": [
    "from sklearn.decomposition import PCA\n",
    "\n",
    "pca = PCA(n_components=0.95, whiten=True)\n",
    "X_train_pca = pca.fit_transform(X_train)\n",
    "\n",
    "print(\"Original number of features:\", X_train.shape[1])\n",
    "print(\"Reduced number of features:\", X_train_pca.shape[1])"
   ]
  },
  {
   "cell_type": "markdown",
   "metadata": {},
   "source": [
    "The output of our solution shows that PCA let us reduce our dimensionality by a wopping 67 (72%) features while still retaining 95% of the information (variance) in the feature matrix."
   ]
  },
  {
   "cell_type": "code",
   "execution_count": 5,
   "metadata": {},
   "outputs": [
    {
     "data": {
      "text/plain": [
       "array([4.64938613, 3.48702325, 2.07064037, 1.51684252, 1.34904604,\n",
       "       1.15115221, 1.09107001, 0.91861542, 0.84215224, 0.75376112,\n",
       "       0.71785418, 0.56043914, 0.43234613, 0.38420376, 0.3724925 ,\n",
       "       0.31875881, 0.3071287 , 0.28155298, 0.26640015, 0.22223678,\n",
       "       0.1734344 , 0.16193853, 0.14135618, 0.13142378, 0.12928797,\n",
       "       0.09760897])"
      ]
     },
     "execution_count": 5,
     "metadata": {},
     "output_type": "execute_result"
    }
   ],
   "source": [
    "pca.explained_variance_"
   ]
  },
  {
   "cell_type": "markdown",
   "metadata": {},
   "source": [
    "## 3. Plotting PCA's Explained Variance"
   ]
  },
  {
   "cell_type": "code",
   "execution_count": 6,
   "metadata": {},
   "outputs": [
    {
     "data": {
      "image/png": "[encoded data removed]",
      "text/plain": [
       "<Figure size 720x504 with 1 Axes>"
      ]
     },
     "metadata": {
      "needs_background": "light"
     },
     "output_type": "display_data"
    }
   ],
   "source": [
    "import matplotlib.pyplot as plt\n",
    "\n",
    "pca_1 = PCA()\n",
    "pca_1.fit(X_train)\n",
    "cumsum = np.cumsum(pca_1.explained_variance_ratio_)\n",
    "d = np.argmax(cumsum >= 0.95) + 1\n",
    "\n",
    "plt.figure(figsize=(10,7))\n",
    "plt.plot(cumsum, linewidth=3)\n",
    "plt.axis([0, 100, 0, 1])\n",
    "plt.xlabel(\"Dimensions\")\n",
    "plt.ylabel(\"Explained Variance\")\n",
    "plt.plot([d, d], [0, 0.95], \"k:\")\n",
    "plt.plot([0, d], [0.95, 0.95], \"k:\")\n",
    "plt.plot(d, 0.95, \"ko\")\n",
    "plt.annotate(\"Elbow\", xy=(17, 0.85), xytext=(15, 0.7),\n",
    "             arrowprops=dict(arrowstyle=\"->\"), fontsize=16)\n",
    "plt.grid(True)\n",
    "plt.show()"
   ]
  },
  {
   "cell_type": "markdown",
   "metadata": {},
   "source": [
    "## 4. Training Models after PCA"
   ]
  },
  {
   "cell_type": "code",
   "execution_count": 8,
   "metadata": {},
   "outputs": [
    {
     "name": "stdout",
     "output_type": "stream",
     "text": [
      "Best Parameters: {'knn__algorithm': 'ball_tree', 'knn__n_neighbors': 19, 'knn__p': 1, 'knn__weights': 'uniform'}\n",
      "Best Score: 0.1285674892499459\n"
     ]
    }
   ],
   "source": [
    "from sklearn.neighbors import KNeighborsRegressor\n",
    "from sklearn.model_selection import GridSearchCV\n",
    "\n",
    "knn_model = Pipeline([\n",
    "    ('pca', PCA(n_components=0.95, whiten=True)),\n",
    "    ('knn', KNeighborsRegressor())\n",
    "])\n",
    "kpar = {'knn__n_neighbors': np.arange(1, 21, 2),\n",
    "       'knn__weights': ['uniform', 'distance'],\n",
    "       'knn__algorithm': ['ball_tree', 'kd_tree', 'brute'],\n",
    "       'knn__p': [1,2]\n",
    "      }\n",
    "kgrid = GridSearchCV(knn_model, kpar, n_jobs=-1, cv=10)\n",
    "kgrid.fit(X_train, y_train)     \n",
    "\n",
    "print('Best Parameters:', kgrid.best_params_)\n",
    "print('Best Score:', kgrid.best_score_)"
   ]
  },
  {
   "cell_type": "code",
   "execution_count": 10,
   "metadata": {},
   "outputs": [
    {
     "name": "stdout",
     "output_type": "stream",
     "text": [
      "RMSE: [438.55526927 188.60044533 127.74280555 146.01301654 420.36460747\n",
      " 446.4599752  568.93278988 143.56518896 444.51846024 124.2923112 ]\n",
      "Avg_RMSE: 304.904486963505\n",
      "Std_RMSE: 164.08688293576697\n"
     ]
    }
   ],
   "source": [
    "from sklearn.model_selection import cross_val_score\n",
    "\n",
    "knn_model = Pipeline([\n",
    "    ('pca', PCA(n_components=0.95, whiten=True)),\n",
    "    ('knn', KNeighborsRegressor(algorithm='ball_tree', \n",
    "                                n_neighbors=19,\n",
    "                                p=1, \n",
    "                                weights='uniform'))\n",
    "])\n",
    "knn_mse = cross_val_score(knn_model, X_train, y_train, cv=10, n_jobs=-1, \n",
    "                             scoring=\"neg_mean_squared_error\") \n",
    "knn_rmse = np.sqrt(np.absolute(knn_mse))\n",
    "print('RMSE:', knn_rmse)\n",
    "print('Avg_RMSE:', knn_rmse.mean())\n",
    "print('Std_RMSE:', knn_rmse.std())"
   ]
  },
  {
   "cell_type": "code",
   "execution_count": null,
   "metadata": {},
   "outputs": [],
   "source": []
  }
 ],
 "metadata": {
  "kernelspec": {
   "display_name": "Python 3",
   "language": "python",
   "name": "python3"
  },
  "language_info": {
   "codemirror_mode": {
    "name": "ipython",
    "version": 3
   },
   "file_extension": ".py",
   "mimetype": "text/x-python",
   "name": "python",
   "nbconvert_exporter": "python",
   "pygments_lexer": "ipython3",
   "version": "3.7.7"
  }
 },
 "nbformat": 4,
 "nbformat_minor": 4
}
